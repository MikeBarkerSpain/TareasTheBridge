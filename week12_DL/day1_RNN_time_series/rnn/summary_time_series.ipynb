{
 "metadata": {
  "language_info": {
   "codemirror_mode": {
    "name": "ipython",
    "version": 3
   },
   "file_extension": ".py",
   "mimetype": "text/x-python",
   "name": "python",
   "nbconvert_exporter": "python",
   "pygments_lexer": "ipython3",
   "version": 3
  },
  "orig_nbformat": 4
 },
 "nbformat": 4,
 "nbformat_minor": 2,
 "cells": [
  {
   "source": [
    "## RNN en series temporales\n",
    "\n",
    "1.- Analizamos los datos y vemos si se repiten comportamientos a lo largo del tiempo.\n",
    "\n",
    "2.- Definimos el tipo de entrenamiento que vamos  a utilizar:\n",
    "\n",
    "2.1.- si los datos se repiten a lo largo del tiempo (estacionalidad) --> entrenamos el modelo dándole como dato de entrenamiento una parte bien representativa de todo el conjunto de datos\n",
    "\n",
    "2.2.- Si los datos no se reptien a lo largo del tiempo --> tenemos que entrenar dandole poco a poco todo el conjunto de datos. \n",
    "\n",
    "3.- Repetimos los step últimos valores del conjunto de entrenamiento y de test.\n",
    "\n",
    "4.- Redimensionamos los datos de entrenamiento y de test para que tengan la forma de (nº batches, 1, step -step=embedding-).TimeoutError\n",
    "\n",
    "5.- ENtrenamos el modelo utilizando RNN, simpleRN, LSTM, except\n",
    "\n",
    "6. Dependiendo del resultado probamos diferentes arquitecturas, tamaño de ventana (step), batch size, epoch, etc \n",
    "\n",
    "7.- Nos quedamos con el mejor resultado"
   ],
   "cell_type": "markdown",
   "metadata": {}
  }
 ]
}