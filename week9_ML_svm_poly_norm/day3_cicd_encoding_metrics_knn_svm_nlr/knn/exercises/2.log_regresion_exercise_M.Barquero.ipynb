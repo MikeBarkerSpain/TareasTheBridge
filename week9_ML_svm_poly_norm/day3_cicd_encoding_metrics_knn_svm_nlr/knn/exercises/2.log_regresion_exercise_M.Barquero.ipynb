{
 "metadata": {
  "language_info": {
   "codemirror_mode": {
    "name": "ipython",
    "version": 3
   },
   "file_extension": ".py",
   "mimetype": "text/x-python",
   "name": "python",
   "nbconvert_exporter": "python",
   "pygments_lexer": "ipython3",
   "version": "3.7.4"
  },
  "orig_nbformat": 2,
  "kernelspec": {
   "name": "python374jvsc74a57bd093959734c7fb7f2dc7760fccbd71d0356ba421f29bb59ffa607c9608db7abb2a",
   "display_name": "Python 3.7.4 64-bit"
  },
  "metadata": {
   "interpreter": {
    "hash": "93959734c7fb7f2dc7760fccbd71d0356ba421f29bb59ffa607c9608db7abb2a"
   }
  }
 },
 "nbformat": 4,
 "nbformat_minor": 2,
 "cells": [
  {
   "cell_type": "markdown",
   "metadata": {},
   "source": [
    "1. \n",
    "\n",
    "(X_train=80%)\n",
    "(X_test=20%)\n",
    "\n",
    "A partir del archivo \"iris.csv\" que se corresponde con datos relacionados con tres tipos de plantas (el target es el tipo de planta):\n",
    "\n",
    "- Mediante regresión logística, predice qué planta se corresponde con los ejemplos: [[15.7,2.8,9.5,0.1]] y [[1.7,3.8,4.5,11.3]]\n",
    "- ¿Qué acierto tiene tu modelo? (score)\n",
    "- Utiliza un conjunto de test con el 40% de los datos: ¿cambian los resultados anteriores? ¿por qué?\n",
    "- Elimina la clase \"Virginica\" de tus datos. Repite el proceso anterior, ¿cambian los resultados?\n",
    "- ¿Consideras la regresión logística un buen algoritmo para estos datos? ¿por qué?"
   ]
  },
  {
   "cell_type": "code",
   "execution_count": 1,
   "metadata": {},
   "outputs": [],
   "source": [
    "import numpy as np \n",
    "import pandas as pd \n",
    "from sklearn import preprocessing\n",
    "from sklearn import metrics\n",
    "from sklearn.model_selection import train_test_split\n",
    "from sklearn.linear_model import LogisticRegression\n",
    "\n"
   ]
  },
  {
   "cell_type": "code",
   "execution_count": 11,
   "metadata": {},
   "outputs": [
    {
     "output_type": "stream",
     "name": "stdout",
     "text": [
      "['Virginica']\n['Virginica']\nScore: 0.9266666666666666\nAccuracy: 0.9666666666666667\n"
     ]
    }
   ],
   "source": [
    "# se leen los datos del archivo\n",
    "df = pd.read_csv('..\\data\\iris.csv', sep=',')\n",
    "\n",
    "X = np.array(df.drop(['variety'], axis=1))\n",
    "y_coded = np.array(df['variety'])\n",
    "\n",
    "# se genera el objeto de codificación y se codifica la variable target\n",
    "le = preprocessing.LabelEncoder()\n",
    "y = le.fit_transform(y_coded)\n",
    "\n",
    "# se distribuyen los valores en conjuntos de entrenamiento y de test\n",
    "X_train, X_test, y_train, y_test = train_test_split(X, y, test_size=0.20)\n",
    "\n",
    "# Se genera la instancia de modelo y se entrena\n",
    "LogReg = LogisticRegression(max_iter=10000, tol=1e-10, C=0.1)\n",
    "LogReg.fit(X_train, y_train)\n",
    "\n",
    "# predicción puntual para dos valores [15.7,2.8,9.5,0.1] y [1.7,3.8,4.5,11.3]\n",
    "y_pred1 = LogReg.predict([[15.7,2.8,9.5,0.1]])\n",
    "y_pred2 = LogReg.predict([[1.7,3.8,4.5,11.3]])\n",
    "print(le.inverse_transform(y_pred1))\n",
    "print(le.inverse_transform(y_pred2))\n",
    "\n",
    "# evaluación del modelo LogReg\n",
    "print(\"Score:\", LogReg.score(X, y))\n",
    "y_pred3 = LogReg.predict(X_test)\n",
    "print(\"Accuracy:\", metrics.accuracy_score(y_test, y_pred3))"
   ]
  },
  {
   "source": [
    "Utiliza un conjunto de test con el 40% de los datos: ¿cambian los resultados anteriores? ¿por qué?\n",
    "\n",
    "-> los resultados anteriores no cambian, esto puede deberse a que la cantidad de datos sea suficiente para entrenar el modelo de forma correcta, o que los argumentos utilizados lleguen al máximo del entrenamiento del modelo."
   ],
   "cell_type": "markdown",
   "metadata": {}
  },
  {
   "cell_type": "code",
   "execution_count": 12,
   "metadata": {},
   "outputs": [
    {
     "output_type": "stream",
     "name": "stdout",
     "text": [
      "['Virginica']\n['Virginica']\nScore: 0.9266666666666666\nAccuracy: 0.8833333333333333\n"
     ]
    }
   ],
   "source": [
    "# se distribuyen los valores en conjuntos de entrenamiento y de test\n",
    "X40_train, X40_test, y40_train, y40_test = train_test_split(X, y, test_size=0.40)\n",
    "\n",
    "# Se genera la instancia de modelo y se entrena\n",
    "LogReg40 = LogisticRegression(max_iter=10000, tol=1e-10, C=0.1)\n",
    "LogReg40.fit(X40_train, y40_train)\n",
    "\n",
    "# predicción puntual para dos valores [15.7,2.8,9.5,0.1] y [1.7,3.8,4.5,11.3]\n",
    "y40_pred1 = LogReg40.predict([[15.7,2.8,9.5,0.1]])\n",
    "y40_pred2 = LogReg40.predict([[1.7,3.8,4.5,11.3]])\n",
    "print(le.inverse_transform(y40_pred1))\n",
    "print(le.inverse_transform(y40_pred2))\n",
    "\n",
    "# evaluación del modelo LogReg\n",
    "print(\"Score:\", LogReg.score(X, y))\n",
    "y_pred40 = LogReg.predict(X40_test)\n",
    "print(\"Accuracy:\", metrics.accuracy_score(y40_test, y_pred40))"
   ]
  },
  {
   "source": [
    "Elimina la clase \"Virginica\" de tus datos. Repite el proceso anterior, ¿cambian los resultados?\n",
    "-> si, los resultados cambian de tal modo que el modelo devuelve una clase distinta a los dos casios anteriores"
   ],
   "cell_type": "markdown",
   "metadata": {}
  },
  {
   "cell_type": "code",
   "execution_count": 24,
   "metadata": {},
   "outputs": [
    {
     "output_type": "stream",
     "name": "stdout",
     "text": [
      "['Versicolor']\n['Versicolor']\nScore: 1.0\nAccuracy: 1.0\n"
     ]
    }
   ],
   "source": [
    "df2 = df[df['variety'] != 'Virginica']\n",
    "X2 = np.array(df2.drop(['variety'], axis=1))\n",
    "y2_coded = np.array(df2['variety'])\n",
    "y2 = le.fit_transform(y2_coded)\n",
    "\n",
    "# se distribuyen los valores en conjuntos de entrenamiento y de test\n",
    "X402_train, X402_test, y402_train, y402_test = train_test_split(X2, y2, test_size=0.402)\n",
    "\n",
    "# Se genera la instancia de modelo y se entrena\n",
    "LogReg402 = LogisticRegression(max_iter=10000, tol=1e-10, C=0.1)\n",
    "LogReg402.fit(X402_train, y402_train)\n",
    "\n",
    "# predicción puntual para dos valores [15.7,2.8,9.5,0.1] y [1.7,3.8,4.5,11.3]\n",
    "y402_pred1 = LogReg402.predict([[15.7,2.8,9.5,0.1]])\n",
    "y402_pred2 = LogReg402.predict([[1.7,3.8,4.5,11.3]])\n",
    "print(le.inverse_transform(y402_pred1))\n",
    "print(le.inverse_transform(y402_pred2))\n",
    "\n",
    "# evaluación del modelo LogReg\n",
    "print(\"Score:\", LogReg402.score(X2, y2))\n",
    "y_pred402 = LogReg402.predict(X402_test)\n",
    "print(\"Accuracy:\", metrics.accuracy_score(y402_test, y_pred402))"
   ]
  },
  {
   "source": [
    "¿Consideras la regresión logística un buen algoritmo para estos datos? ¿por qué?\n",
    "-> la regresión logística no puede ser un buen método para este caso ya que devuelve una clase distinta a la predicha en los dos casos anteriores. \n",
    "-> es un método que devuelve una de las clases disponibles (incluso si el resultado no es congruente con resultados anteriores)"
   ],
   "cell_type": "markdown",
   "metadata": {}
  }
 ]
}