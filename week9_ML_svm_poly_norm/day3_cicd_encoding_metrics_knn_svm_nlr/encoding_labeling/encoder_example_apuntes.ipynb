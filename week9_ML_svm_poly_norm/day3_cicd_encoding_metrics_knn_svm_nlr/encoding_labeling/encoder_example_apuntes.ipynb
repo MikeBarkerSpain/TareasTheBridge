{
 "metadata": {
  "language_info": {
   "codemirror_mode": {
    "name": "ipython",
    "version": 3
   },
   "file_extension": ".py",
   "mimetype": "text/x-python",
   "name": "python",
   "nbconvert_exporter": "python",
   "pygments_lexer": "ipython3",
   "version": "3.7.4"
  },
  "orig_nbformat": 2,
  "kernelspec": {
   "name": "python374jvsc74a57bd093959734c7fb7f2dc7760fccbd71d0356ba421f29bb59ffa607c9608db7abb2a",
   "display_name": "Python 3.7.4 64-bit"
  },
  "metadata": {
   "interpreter": {
    "hash": "93959734c7fb7f2dc7760fccbd71d0356ba421f29bb59ffa607c9608db7abb2a"
   }
  }
 },
 "nbformat": 4,
 "nbformat_minor": 2,
 "cells": [
  {
   "source": [
    "#### Por cada una de las columnas categóricas, tenemos que utilizar un label encoder diferente\n",
    "\n",
    "- Hay que tener cuidado al entrenar los valores numéricos que representan valores categóricos. Un algoritmo puede entender que \"tokio\" es más que \"paris\" porque su valor es mayor al relacionarlos con las demás variables. "
   ],
   "cell_type": "markdown",
   "metadata": {}
  },
  {
   "cell_type": "code",
   "execution_count": 11,
   "metadata": {},
   "outputs": [],
   "source": [
    "from sklearn import preprocessing\n",
    "le = preprocessing.LabelEncoder()"
   ]
  },
  {
   "cell_type": "code",
   "execution_count": 12,
   "metadata": {},
   "outputs": [
    {
     "output_type": "execute_result",
     "data": {
      "text/plain": [
       "LabelEncoder()"
      ]
     },
     "metadata": {},
     "execution_count": 12
    }
   ],
   "source": [
    "data = [\"paris\", \"paris\", \"tokyo\", \"amsterdam\"]\n",
    "le.fit(data)"
   ]
  },
  {
   "cell_type": "code",
   "execution_count": 13,
   "metadata": {},
   "outputs": [
    {
     "output_type": "execute_result",
     "data": {
      "text/plain": [
       "array([1, 1, 2, 0])"
      ]
     },
     "metadata": {},
     "execution_count": 13
    }
   ],
   "source": [
    "le.transform(data)"
   ]
  },
  {
   "cell_type": "code",
   "execution_count": 14,
   "metadata": {},
   "outputs": [
    {
     "output_type": "execute_result",
     "data": {
      "text/plain": [
       "['amsterdam', 'paris', 'tokyo']"
      ]
     },
     "metadata": {},
     "execution_count": 14
    }
   ],
   "source": [
    "list(le.classes_)"
   ]
  },
  {
   "cell_type": "code",
   "execution_count": 15,
   "metadata": {},
   "outputs": [
    {
     "output_type": "execute_result",
     "data": {
      "text/plain": [
       "array([1, 1, 2, 0])"
      ]
     },
     "metadata": {},
     "execution_count": 15
    }
   ],
   "source": [
    "le.transform(data)"
   ]
  },
  {
   "cell_type": "code",
   "execution_count": 16,
   "metadata": {},
   "outputs": [
    {
     "output_type": "execute_result",
     "data": {
      "text/plain": [
       "array([2, 2, 1])"
      ]
     },
     "metadata": {},
     "execution_count": 16
    }
   ],
   "source": [
    "le.transform([\"tokyo\", \"tokyo\", \"paris\"])"
   ]
  },
  {
   "cell_type": "code",
   "execution_count": 17,
   "metadata": {},
   "outputs": [
    {
     "output_type": "execute_result",
     "data": {
      "text/plain": [
       "['tokyo', 'tokyo', 'paris']"
      ]
     },
     "metadata": {},
     "execution_count": 17
    }
   ],
   "source": [
    "list(le.inverse_transform([2, 2, 1]))"
   ]
  },
  {
   "source": [
    "# Ejemplo 2\n"
   ],
   "cell_type": "markdown",
   "metadata": {}
  },
  {
   "cell_type": "code",
   "execution_count": 18,
   "metadata": {},
   "outputs": [
    {
     "output_type": "execute_result",
     "data": {
      "text/plain": [
       "array([2, 1, 0, 3])"
      ]
     },
     "metadata": {},
     "execution_count": 18
    }
   ],
   "source": [
    "le2 = preprocessing.LabelEncoder()\n",
    "data2 = [\"1 semana\", \"1 mes\", \"1 año\", \"más de un año\"]\n",
    "\n",
    "data_fail = [\"1 semana\", \"1 mes\", \"1 año\", \"1 Año\",\"1 anno\",\"más de un año\"] # hay que hacer un preprocesado de las cadenas ya que pueden \n",
    "\n",
    "# se genera el label encoder con el fit\n",
    "le2.fit(data2)\n",
    "\n",
    "# interpreta los datos de la serie para filtrarlos si hay repetidos y categorizarlos en números para procesarlos más fácilmente\n",
    "le2.transform(data2)"
   ]
  },
  {
   "cell_type": "code",
   "execution_count": null,
   "metadata": {},
   "outputs": [],
   "source": []
  }
 ]
}