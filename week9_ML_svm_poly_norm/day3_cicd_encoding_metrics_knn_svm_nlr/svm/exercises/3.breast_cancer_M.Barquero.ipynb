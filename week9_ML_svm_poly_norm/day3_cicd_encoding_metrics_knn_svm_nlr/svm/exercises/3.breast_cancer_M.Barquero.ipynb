{
 "metadata": {
  "language_info": {
   "codemirror_mode": {
    "name": "ipython",
    "version": 3
   },
   "file_extension": ".py",
   "mimetype": "text/x-python",
   "name": "python",
   "nbconvert_exporter": "python",
   "pygments_lexer": "ipython3",
   "version": "3.7.4"
  },
  "orig_nbformat": 2,
  "kernelspec": {
   "name": "python3",
   "display_name": "Python 3.7.4 64-bit"
  },
  "interpreter": {
   "hash": "93959734c7fb7f2dc7760fccbd71d0356ba421f29bb59ffa607c9608db7abb2a"
  }
 },
 "nbformat": 4,
 "nbformat_minor": 2,
 "cells": [
  {
   "cell_type": "markdown",
   "metadata": {},
   "source": [
    "En el apartado \"Loading Data\" de esta URL:\n",
    "\n",
    "https://www.datacamp.com/community/tutorials/svm-classification-scikit-learn-python\n",
    "\n",
    "Se explica cómo se cargan una serie de datos: \n",
    "\n",
    "1. Utiliza esa misma forma para cargar los datos.\n",
    "2. Limpia los datos si es necesario\n",
    "3. Utiliza los métodos de clasificación vistos hasta ahora para clasificar el target de los datos, ¿cuál da mejores resultados? \n",
    "\n",
    "El modelo que mejor predice los datos a priori es el SVC\n",
    "\n",
    "4. Intenta superarte en el score cambiando las features de los algoritmos.\n",
    "\n",
    "Subiendo el parámetro C a 100 se obtiene una mejora de 2 décimas en el score."
   ]
  },
  {
   "cell_type": "code",
   "execution_count": 2,
   "metadata": {},
   "outputs": [],
   "source": [
    "#Import scikit-learn dataset library\n",
    "from sklearn import datasets\n",
    "\n",
    "import pandas as pd\n",
    "import numpy as np\n",
    "from sklearn import linear_model\n",
    "from sklearn import model_selection\n",
    "from sklearn.metrics import classification_report\n",
    "from sklearn.metrics import confusion_matrix\n",
    "from sklearn.metrics import accuracy_score\n",
    "import matplotlib.pyplot as plt\n",
    "import seaborn as sb\n",
    "\n",
    "#se carga el dataset y se asignan los valores del dataset a las variables con las que se va a trabajar con el modelo\n",
    "cancer = datasets.load_breast_cancer()\n",
    "X = cancer.data\n",
    "y = cancer.target"
   ]
  },
  {
   "cell_type": "code",
   "execution_count": 3,
   "metadata": {},
   "outputs": [
    {
     "output_type": "stream",
     "name": "stdout",
     "text": [
      "0.9578207381370826\n[[197  15]\n [  9 348]]\n"
     ]
    }
   ],
   "source": [
    "# Análisis de rendimiento del modelo de regresión logística\n",
    "model_LogReg = linear_model.LogisticRegression(max_iter=5000, tol=1e-6) # Máximo número de operaciones =500 -> comprobar el éxito de entrenamiento con score\n",
    "model_LogReg.fit(X,y)\n",
    "predictions_LogReg = model_LogReg.predict(X)\n",
    "print(model_LogReg.score(X,y))\n",
    "print(confusion_matrix(y, predictions_LogReg))"
   ]
  },
  {
   "cell_type": "code",
   "execution_count": 4,
   "metadata": {},
   "outputs": [
    {
     "output_type": "stream",
     "name": "stdout",
     "text": [
      "0.9367311072056239\n[[186  26]\n [ 10 347]]\n"
     ]
    }
   ],
   "source": [
    "# Análisis de rendimiento del modelo Knn\n",
    "from sklearn.neighbors import KNeighborsClassifier\n",
    "model_knn = KNeighborsClassifier(n_neighbors=20)\n",
    "model_knn.fit(X, y)\n",
    "predictions_knn = model_knn.predict(X)\n",
    "print(model_knn.score(X,y))\n",
    "print(confusion_matrix(y, predictions_knn))"
   ]
  },
  {
   "cell_type": "code",
   "execution_count": 5,
   "metadata": {},
   "outputs": [
    {
     "output_type": "stream",
     "name": "stdout",
     "text": [
      "0.9666080843585237\n",
      "[[207   5]\n",
      " [ 14 343]]\n",
      "C:\\Users\\barke\\AppData\\Local\\Programs\\Python\\Python37\\lib\\site-packages\\sklearn\\svm\\_base.py:986: ConvergenceWarning: Liblinear failed to converge, increase the number of iterations.\n",
      "  \"the number of iterations.\", ConvergenceWarning)\n"
     ]
    }
   ],
   "source": [
    "# Análisis de rendimiento del modelo support vector machine - linear SVC\n",
    "from sklearn import svm\n",
    "\n",
    "model_linSVC = svm.LinearSVC(max_iter=1000000, C=1)\n",
    "model_linSVC.fit(X, y)\n",
    "predictions_linSVC = model_linSVC.predict(X)\n",
    "print(model_linSVC.score(X,y))\n",
    "print(confusion_matrix(y, predictions_linSVC))\n"
   ]
  },
  {
   "cell_type": "code",
   "execution_count": 8,
   "metadata": {},
   "outputs": [
    {
     "output_type": "stream",
     "name": "stdout",
     "text": [
      "0.9666080843585237\n[[201  11]\n [  8 349]]\n"
     ]
    }
   ],
   "source": [
    "# Análisis de rendimiento del modelo support vector machine - linear SVC\n",
    "from sklearn import svm\n",
    "\n",
    "model_SVC = svm.SVC(kernel='linear', max_iter=10000000, C=1)\n",
    "model_SVC.fit(X, y)\n",
    "predictions_SVC = model_SVC.predict(X)\n",
    "print(model_SVC.score(X,y))\n",
    "print(confusion_matrix(y, predictions_SVC))"
   ]
  },
  {
   "cell_type": "code",
   "execution_count": 10,
   "metadata": {},
   "outputs": [
    {
     "output_type": "stream",
     "name": "stdout",
     "text": [
      "0.9138840070298769\n[[171  41]\n [  8 349]]\n"
     ]
    }
   ],
   "source": [
    "# Análisis de rendimiento del modelo support vector machine - poly SVC\n",
    "from sklearn import svm\n",
    "\n",
    "model_SVC = svm.SVC(kernel='poly', max_iter=10000000, C=1)\n",
    "model_SVC.fit(X, y)\n",
    "predictions_SVC = model_SVC.predict(X)\n",
    "print(model_SVC.score(X,y))\n",
    "print(confusion_matrix(y, predictions_SVC))"
   ]
  },
  {
   "cell_type": "code",
   "execution_count": 11,
   "metadata": {},
   "outputs": [
    {
     "output_type": "stream",
     "name": "stdout",
     "text": [
      "0.4446397188049209\n[[ 35 177]\n [139 218]]\n"
     ]
    }
   ],
   "source": [
    "# Análisis de rendimiento del modelo support vector machine - sigmoid SVC\n",
    "from sklearn import svm\n",
    "\n",
    "model_SVC = svm.SVC(kernel='sigmoid', max_iter=10000000, C=1)\n",
    "model_SVC.fit(X, y)\n",
    "predictions_SVC = model_SVC.predict(X)\n",
    "print(model_SVC.score(X,y))\n",
    "print(confusion_matrix(y, predictions_SVC))"
   ]
  },
  {
   "cell_type": "code",
   "execution_count": 16,
   "metadata": {},
   "outputs": [
    {
     "output_type": "stream",
     "name": "stdout",
     "text": [
      "0.968365553602812\n",
      "[[209   3]\n",
      " [ 15 342]]\n",
      "C:\\Users\\barke\\AppData\\Local\\Programs\\Python\\Python37\\lib\\site-packages\\sklearn\\svm\\_base.py:258: ConvergenceWarning: Solver terminated early (max_iter=10000000).  Consider pre-processing your data with StandardScaler or MinMaxScaler.\n",
      "  % self.max_iter, ConvergenceWarning)\n"
     ]
    }
   ],
   "source": [
    "# Análisis de rendimiento del modelo support vector machine - poly SVC\n",
    "from sklearn import svm\n",
    "\n",
    "model_SVC = svm.SVC(kernel='linear', max_iter=10000000, C=100, tol=1e-6)\n",
    "model_SVC.fit(X, y)\n",
    "predictions_SVC = model_SVC.predict(X)\n",
    "print(model_SVC.score(X,y))\n",
    "print(confusion_matrix(y, predictions_SVC))"
   ]
  },
  {
   "cell_type": "code",
   "execution_count": 15,
   "metadata": {},
   "outputs": [
    {
     "output_type": "stream",
     "name": "stdout",
     "text": [
      "0.9507908611599297\n",
      "[[189  23]\n",
      " [  5 352]]\n",
      "C:\\Users\\barke\\AppData\\Local\\Programs\\Python\\Python37\\lib\\site-packages\\sklearn\\svm\\_base.py:258: ConvergenceWarning: Solver terminated early (max_iter=10000000).  Consider pre-processing your data with StandardScaler or MinMaxScaler.\n",
      "  % self.max_iter, ConvergenceWarning)\n"
     ]
    }
   ],
   "source": [
    "# Análisis de rendimiento del modelo support vector machine - poly SVC\n",
    "from sklearn import svm\n",
    "\n",
    "model_SVC = svm.SVC(kernel='linear', max_iter=10000000, C=10000)\n",
    "model_SVC.fit(X, y)\n",
    "predictions_SVC = model_SVC.predict(X)\n",
    "print(model_SVC.score(X,y))\n",
    "print(confusion_matrix(y, predictions_SVC))"
   ]
  },
  {
   "cell_type": "code",
   "execution_count": null,
   "metadata": {},
   "outputs": [],
   "source": []
  }
 ]
}