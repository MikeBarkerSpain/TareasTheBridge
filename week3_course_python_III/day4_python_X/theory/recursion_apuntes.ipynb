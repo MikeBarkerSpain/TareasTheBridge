{
 "metadata": {
  "language_info": {
   "codemirror_mode": {
    "name": "ipython",
    "version": 3
   },
   "file_extension": ".py",
   "mimetype": "text/x-python",
   "name": "python",
   "nbconvert_exporter": "python",
   "pygments_lexer": "ipython3",
   "version": "3.7.4"
  },
  "orig_nbformat": 2,
  "kernelspec": {
   "name": "python374jvsc74a57bd05e19f5f9047d686051a4ffff3c57b5ca676552393775b324a4200bbd1a7317fa",
   "display_name": "Python 3.7.4 64-bit"
  },
  "metadata": {
   "interpreter": {
    "hash": "5e19f5f9047d686051a4ffff3c57b5ca676552393775b324a4200bbd1a7317fa"
   }
  }
 },
 "nbformat": 4,
 "nbformat_minor": 2,
 "cells": [
  {
   "cell_type": "code",
   "execution_count": 1,
   "metadata": {},
   "outputs": [
    {
     "output_type": "stream",
     "name": "stdout",
     "text": [
      "1\n1\n1\n1\n1\n1\n1\n1\n1\n1\nNone\n"
     ]
    }
   ],
   "source": [
    "def f1(cont=0):\n",
    "    if cont == 10:   # Caso base: lugar donde la recursividad para\n",
    "        return cont\n",
    "    print (1)\n",
    "    f1(cont=cont+1)\n",
    "\n",
    "x = f1()\n",
    "print(x)"
   ]
  },
  {
   "cell_type": "code",
   "execution_count": 2,
   "metadata": {},
   "outputs": [
    {
     "output_type": "stream",
     "name": "stdout",
     "text": [
      "1\n1\n1\n1\n1\n1\n1\n1\n1\n1\n10\n"
     ]
    }
   ],
   "source": [
    "def f1(cont=0):\n",
    "    if cont == 10:   # Caso base: lugar donde la recursividad para\n",
    "        return cont\n",
    "    print (1)\n",
    "    return f1(cont=cont+1)\n",
    "\n",
    "x = f1()\n",
    "print(x)"
   ]
  },
  {
   "cell_type": "code",
   "execution_count": 1,
   "metadata": {},
   "outputs": [
    {
     "output_type": "stream",
     "name": "stdout",
     "text": [
      "1\n------\n"
     ]
    },
    {
     "output_type": "error",
     "ename": "TypeError",
     "evalue": "recur() missing 1 required positional argument: 'a'",
     "traceback": [
      "\u001b[1;31m---------------------------------------------------------------------------\u001b[0m",
      "\u001b[1;31mTypeError\u001b[0m                                 Traceback (most recent call last)",
      "\u001b[1;32m<ipython-input-1-9c0ed0add3f3>\u001b[0m in \u001b[0;36m<module>\u001b[1;34m\u001b[0m\n\u001b[0;32m      8\u001b[0m     \u001b[0mprint\u001b[0m\u001b[1;33m(\u001b[0m\u001b[1;34m\"------\"\u001b[0m\u001b[1;33m)\u001b[0m\u001b[1;33m\u001b[0m\u001b[1;33m\u001b[0m\u001b[0m\n\u001b[0;32m      9\u001b[0m     \u001b[1;32mreturn\u001b[0m \u001b[0mrecur\u001b[0m\u001b[1;33m(\u001b[0m\u001b[0mcont\u001b[0m\u001b[1;33m=\u001b[0m\u001b[0mcont\u001b[0m\u001b[1;33m+\u001b[0m\u001b[1;36m1\u001b[0m\u001b[1;33m)\u001b[0m\u001b[1;33m\u001b[0m\u001b[1;33m\u001b[0m\u001b[0m\n\u001b[1;32m---> 10\u001b[1;33m \u001b[0mrecur\u001b[0m \u001b[1;33m(\u001b[0m\u001b[1;36m5\u001b[0m\u001b[1;33m)\u001b[0m\u001b[1;33m\u001b[0m\u001b[1;33m\u001b[0m\u001b[0m\n\u001b[0m",
      "\u001b[1;32m<ipython-input-1-9c0ed0add3f3>\u001b[0m in \u001b[0;36mrecur\u001b[1;34m(a, cont, acum)\u001b[0m\n\u001b[0;32m      7\u001b[0m     \u001b[0mprint\u001b[0m\u001b[1;33m(\u001b[0m\u001b[0macum\u001b[0m\u001b[1;33m)\u001b[0m\u001b[1;33m\u001b[0m\u001b[1;33m\u001b[0m\u001b[0m\n\u001b[0;32m      8\u001b[0m     \u001b[0mprint\u001b[0m\u001b[1;33m(\u001b[0m\u001b[1;34m\"------\"\u001b[0m\u001b[1;33m)\u001b[0m\u001b[1;33m\u001b[0m\u001b[1;33m\u001b[0m\u001b[0m\n\u001b[1;32m----> 9\u001b[1;33m     \u001b[1;32mreturn\u001b[0m \u001b[0mrecur\u001b[0m\u001b[1;33m(\u001b[0m\u001b[0mcont\u001b[0m\u001b[1;33m=\u001b[0m\u001b[0mcont\u001b[0m\u001b[1;33m+\u001b[0m\u001b[1;36m1\u001b[0m\u001b[1;33m)\u001b[0m\u001b[1;33m\u001b[0m\u001b[1;33m\u001b[0m\u001b[0m\n\u001b[0m\u001b[0;32m     10\u001b[0m \u001b[0mrecur\u001b[0m \u001b[1;33m(\u001b[0m\u001b[1;36m5\u001b[0m\u001b[1;33m)\u001b[0m\u001b[1;33m\u001b[0m\u001b[1;33m\u001b[0m\u001b[0m\n",
      "\u001b[1;31mTypeError\u001b[0m: recur() missing 1 required positional argument: 'a'"
     ]
    }
   ],
   "source": [
    "# función factorial: 5! = 5*4*3*2*1\n",
    "def recur(a, cont=1, acum = 1):\n",
    "    if cont == a:\n",
    "        return acum\n",
    "    acum = acum*cont\n",
    "    cont += 1\n",
    "    print(acum)\n",
    "    print(\"------\")\n",
    "    return recur(cont=cont+1)\n",
    "recur (5)"
   ]
  },
  {
   "cell_type": "code",
   "execution_count": 5,
   "metadata": {},
   "outputs": [
    {
     "output_type": "execute_result",
     "data": {
      "text/plain": [
       "120"
      ]
     },
     "metadata": {},
     "execution_count": 5
    }
   ],
   "source": [
    "# función factorial: 5! = 5*4*3*2*1\n",
    "def factorial_con_contador(n, cont=1):\n",
    "    if n == 1:  #Condición base: se plantea ir descontando \n",
    "        return cont\n",
    "    cont = cont * (n)\n",
    "    return factorial_con_contador(n = n-1, cont= cont)\n",
    "factorial_con_contador (5)"
   ]
  },
  {
   "cell_type": "code",
   "execution_count": 3,
   "metadata": {},
   "outputs": [
    {
     "output_type": "execute_result",
     "data": {
      "text/plain": [
       "120"
      ]
     },
     "metadata": {},
     "execution_count": 3
    }
   ],
   "source": [
    "def factorial_sin_contador (n):\n",
    "    if n==1:\n",
    "        return n\n",
    "    return n*factorial_sin_contador(n=n-1)\n",
    "\n",
    "factorial_sin_contador(n=5)"
   ]
  },
  {
   "cell_type": "code",
   "execution_count": null,
   "metadata": {},
   "outputs": [],
   "source": []
  }
 ]
}