{
 "cells": [
  {
   "cell_type": "markdown",
   "metadata": {},
   "source": [
    "# Python | try&except"
   ]
  },
  {
   "cell_type": "markdown",
   "metadata": {},
   "source": [
    "Python uses try and except to handle errors gracefully. A graceful exit (or graceful handling) of errors is a simple programming idiom - a program detects a serious error condition and \"exits gracefully\", in a controlled manner as a result. Often the program prints a descriptive error message to a terminal or log as part of the graceful exit, this makes our application more robust. The cause of an exception is often external to the program itself. An example of exceptions could be an incorrect input, wrong file name, unable to find a file, a malfunctioning IO device. Graceful handling of errors prevents our applications from crashing."
   ]
  },
  {
   "cell_type": "markdown",
   "metadata": {},
   "source": [
    "```python\n",
    "try:\n",
    "    code in this block if things go well\n",
    "except:\n",
    "    code in this block run if things go wrong\n",
    "```"
   ]
  },
  {
   "cell_type": "markdown",
   "metadata": {},
   "source": [
    "### Exercise 1. \n"
   ]
  },
  {
   "cell_type": "markdown",
   "metadata": {},
   "source": [
    "1. In the 4 cells below, modify the code to catch the error and print a meaningful message that will alert the user what went wrong. You may catch the error using a general except or a specific except for the error caused by the code."
   ]
  },
  {
   "cell_type": "code",
   "execution_count": 1,
   "metadata": {},
   "outputs": [
    {
     "output_type": "stream",
     "name": "stdout",
     "text": [
      "name 'some_string' is not defined, define it now.\n",
      "lñ\n"
     ]
    }
   ],
   "source": [
    "# Modify the code below:\n",
    "try:\n",
    "    print(some_string)\n",
    "except NameError:\n",
    "    print(\"name 'some_string' is not defined, define it now.\")\n",
    "    some_string = input(\"Please enter 'some_string':\")\n",
    "    print(some_string)"
   ]
  },
  {
   "cell_type": "code",
   "execution_count": 4,
   "metadata": {},
   "outputs": [
    {
     "output_type": "stream",
     "name": "stdout",
     "text": [
      "unsupported operand type(s) for ** or pow(): 'str' and 'int',\n the type has automatically been modified.\ninvalid literal for int() with base 10,\n the output is the original input.\na\n"
     ]
    }
   ],
   "source": [
    "# Modify the code below:\n",
    "try:\n",
    "    for i in ['a','b','c']:\n",
    "        print (i**2)    \n",
    "except TypeError:\n",
    "    try:\n",
    "        print(\"unsupported operand type(s) for ** or pow(): 'str' and 'int',\\n the type has automatically been modified.\")\n",
    "        print (int(i)**2)    \n",
    "    except ValueError:\n",
    "        print(\"invalid literal for int() with base 10,\\n the output is the original input.\")\n",
    "        print (i)\n"
   ]
  },
  {
   "cell_type": "code",
   "execution_count": 5,
   "metadata": {},
   "outputs": [
    {
     "output_type": "stream",
     "name": "stdout",
     "text": [
      "Division impossible to accomplish, divisior is 0.\n"
     ]
    }
   ],
   "source": [
    "# Modify the code below:\n",
    "try:\n",
    "    x = 5\n",
    "    y = 0\n",
    "\n",
    "    z = x/y\n",
    "except ZeroDivisionError:\n",
    "    print(\"Division impossible to accomplish, divisior is 0.\")"
   ]
  },
  {
   "cell_type": "code",
   "execution_count": 6,
   "metadata": {},
   "outputs": [
    {
     "output_type": "stream",
     "name": "stdout",
     "text": [
      "list index out of range, returning last item: 20\n"
     ]
    }
   ],
   "source": [
    "# Modify the code below:\n",
    "try:\n",
    "    abc=[10,20,20]\n",
    "    print(abc[3])\n",
    "except IndexError:\n",
    "    print(f\"list index out of range, returning last item: {abc[-1]}\")"
   ]
  },
  {
   "cell_type": "markdown",
   "metadata": {},
   "source": [
    "### Exercise 2. "
   ]
  },
  {
   "cell_type": "markdown",
   "metadata": {},
   "source": [
    "In the 3 cells below, add an if statment that will handle both types of input allowed in the functions."
   ]
  },
  {
   "cell_type": "code",
   "execution_count": 10,
   "metadata": {},
   "outputs": [
    {
     "output_type": "execute_result",
     "data": {
      "text/plain": [
       "10.0"
      ]
     },
     "metadata": {},
     "execution_count": 10
    }
   ],
   "source": [
    "import math # import a library called math with functions, like sqrt() \n",
    "# Modify the code below to handle positive and negative numbers by adding an if statement and performing a transformation:\n",
    "\n",
    "def sqrt_for_all(x):\n",
    "    # This function will take any real number and return the square root of its magnitude\n",
    "    # Input: real number\n",
    "    # Output: real number\n",
    "    \n",
    "    # Sample Input: -4\n",
    "    # Sample Output: 2.0\n",
    "    try:\n",
    "        return math.sqrt(x)\n",
    "    except ValueError:\n",
    "        return math.sqrt(-x)\n",
    "\n",
    "sqrt_for_all(-100)"
   ]
  },
  {
   "cell_type": "code",
   "execution_count": 14,
   "metadata": {},
   "outputs": [
    {
     "output_type": "execute_result",
     "data": {
      "text/plain": [
       "0"
      ]
     },
     "metadata": {},
     "execution_count": 14
    }
   ],
   "source": [
    "# Modify the code below to handle zero as well. In the case of zero, return zero\n",
    "\n",
    "def divide(x, y):\n",
    "    # This function will take any two real numbers and return their quotient. If the denominator is zero, we return zero\n",
    "    # Input: real number\n",
    "    # Output: real number\n",
    "    \n",
    "    # Sample Input: 5, 1\n",
    "    # Sample Output: 5.0\n",
    "    try:\n",
    "        return x / y\n",
    "    except ZeroDivisionError:\n",
    "        return 0\n",
    "\n",
    "divide(5, 0)"
   ]
  },
  {
   "cell_type": "code",
   "execution_count": 24,
   "metadata": {},
   "outputs": [
    {
     "output_type": "execute_result",
     "data": {
      "text/plain": [
       "[11, 17, 138, 47]"
      ]
     },
     "metadata": {},
     "execution_count": 24
    }
   ],
   "source": [
    "# Modify the function below that it will take either an number and a list or two numbers. \n",
    "# If we take two numbers, add them together and return a list of length 1. \n",
    "# Otherwise, add the number to every element of the list and return the resulting list\n",
    "\n",
    "def add_elements(a, l):\n",
    "    # This function takes either two numbers or a list and a number and adds the number to all elements of the list\n",
    "    # If the function only takes two numbers, it returns a list of length one that is the sum of the numbers\n",
    "    \n",
    "    # Input: number and list or two numbers\n",
    "    # Output: list\n",
    "    \n",
    "    # Sample Input: 5, 6\n",
    "    # Sample Output: [11]\n",
    "    if type(l) == list:\n",
    "        try:\n",
    "            return [a + element for element in l]\n",
    "        except TypeError:\n",
    "            print(\"unsupported operand type(s) for +: 'int' and 'str',\\n the list contains at least one string.\")\n",
    "    else:\n",
    "        try:\n",
    "            return [a + l]\n",
    "        except TypeError:\n",
    "            print(\"unsupported operand type(s) for +: 'int' and 'str',\\nat least one argument is a string.\")\n",
    "        \n",
    "        \n",
    "add_elements(5, [6, 12, 133 , 42])"
   ]
  },
  {
   "cell_type": "markdown",
   "metadata": {},
   "source": [
    "### Exercise 3. \n",
    "\n",
    "Write a function that asks for an integer and prints the square of it. Keep checking while the function gets an integer.\n",
    "\n",
    "Use a `while` loop with a `try/except` block to account for incorrect inputs."
   ]
  },
  {
   "cell_type": "code",
   "execution_count": 26,
   "metadata": {},
   "outputs": [
    {
     "output_type": "stream",
     "name": "stdout",
     "text": [
      "225\n",
      "144\n",
      "400\n",
      "That number was incorrect, please try again\n",
      "That number was incorrect, please try again\n",
      "That number was incorrect, please try again\n",
      "That number was incorrect, please try again\n",
      "That number was incorrect, please try again\n",
      "Error overflow\n"
     ]
    }
   ],
   "source": [
    "cont_error = 0\n",
    "while True:\n",
    "    try:\n",
    "        input_num = int(input(\"Please enter a number:\"))\n",
    "        square = input_num **2\n",
    "        print(square)\n",
    "        cont_error = 0\n",
    "    except ValueError:\n",
    "        if cont_error < 5:\n",
    "            print(\"That number was incorrect, please try again\")\n",
    "            cont_error += 1\n",
    "        else:\n",
    "            print(\"Error overflow\")\n",
    "            break\n"
   ]
  },
  {
   "cell_type": "markdown",
   "metadata": {},
   "source": [
    "### Bonus track.\n",
    "\n",
    "1. Solve this kata in **codewars**.\n",
    "\n",
    "https://www.codewars.com/kata/560fbc2d636966b21e00009e"
   ]
  },
  {
   "cell_type": "code",
   "execution_count": 33,
   "metadata": {},
   "outputs": [
    {
     "output_type": "stream",
     "name": "stdout",
     "text": [
      "<class 'function'>\n"
     ]
    },
    {
     "output_type": "execute_result",
     "data": {
      "text/plain": [
       "True"
      ]
     },
     "metadata": {},
     "execution_count": 33
    }
   ],
   "source": [
    "import types\n",
    "def functi ():\n",
    "    print(\"ws\")\n",
    "print (type(functi)) \n",
    "isinstance(functi, types.FunctionType)  "
   ]
  },
  {
   "cell_type": "code",
   "execution_count": 38,
   "metadata": {},
   "outputs": [
    {
     "output_type": "execute_result",
     "data": {
      "text/plain": [
       "[False, True, False, True]"
      ]
     },
     "metadata": {},
     "execution_count": 38
    }
   ],
   "source": [
    "import types\n",
    "\n",
    "def func(n):\n",
    "    #your code here\n",
    "    if n % 2 == 0:\n",
    "        return True\n",
    "    else:\n",
    "        return False\n",
    "\n",
    "def map(arr, somefunction):\n",
    "    #your code here\n",
    "    #note: Python already supports all this, we are just rewriting our own\n",
    "    #map() function with some quirk and error message\n",
    "    if isinstance(somefunction, types.FunctionType) :\n",
    "        output = []\n",
    "        for i in arr:\n",
    "            try:\n",
    "                output.append(func(int(i)))\n",
    "            except Exception:\n",
    "                return 'array should contain only numbers'\n",
    "        return output\n",
    "    else:\n",
    "        return 'given argument is not a function'\n",
    "\n",
    "map([1,2,3,'8'],func)\n"
   ]
  },
  {
   "cell_type": "markdown",
   "metadata": {},
   "source": [
    "2. Make a program using `while` that generates a **deck of cards** of 4 different suits. The deck must have 40 cards.\n",
    "\n",
    "   Develop the program in a `.py` file that will be run through the terminal. \n",
    "   \n",
    "   Then, import the module to this notebook and show the deck you've generated below."
   ]
  },
  {
   "cell_type": "code",
   "execution_count": 2,
   "metadata": {},
   "outputs": [
    {
     "output_type": "stream",
     "name": "stdout",
     "text": [
      "['As de Bastos', '2 de Bastos', '3 de Bastos', '4 de Bastos', '5 de Bastos', '6 de Bastos', '7 de Bastos', 'Sota de Bastos', 'Caballo de Bastos', 'Rey de Bastos', 'As de Oros', '2 de Oros', '3 de Oros', '4 de Oros', '5 de Oros', '6 de Oros', '7 de Oros', 'Sota de Oros', 'Caballo de Oros', 'Rey de Oros', 'As de Espadas', '2 de Espadas', '3 de Espadas', '4 de Espadas', '5 de Espadas', '6 de Espadas', '7 de Espadas', 'Sota de Espadas', 'Caballo de Espadas', 'Rey de Espadas']\n"
     ]
    }
   ],
   "source": [
    "import deck_gen \n",
    "\n",
    "deck = deck_gen.deck_generator()\n",
    "print(deck)"
   ]
  },
  {
   "cell_type": "markdown",
   "metadata": {},
   "source": [
    "![\"lol\"](https://i.pinimg.com/originals/34/b2/ad/34b2ad1c370539fba5ed9422711cad7b.png)"
   ]
  }
 ],
 "metadata": {
  "kernelspec": {
   "name": "python374jvsc74a57bd05e19f5f9047d686051a4ffff3c57b5ca676552393775b324a4200bbd1a7317fa",
   "display_name": "Python 3.7.4 64-bit"
  },
  "language_info": {
   "codemirror_mode": {
    "name": "ipython",
    "version": 3
   },
   "file_extension": ".py",
   "mimetype": "text/x-python",
   "name": "python",
   "nbconvert_exporter": "python",
   "pygments_lexer": "ipython3",
   "version": "3.7.4"
  },
  "metadata": {
   "interpreter": {
    "hash": "5e19f5f9047d686051a4ffff3c57b5ca676552393775b324a4200bbd1a7317fa"
   }
  }
 },
 "nbformat": 4,
 "nbformat_minor": 4
}