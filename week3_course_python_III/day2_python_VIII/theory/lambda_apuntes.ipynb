{
 "metadata": {
  "language_info": {
   "codemirror_mode": {
    "name": "ipython",
    "version": 3
   },
   "file_extension": ".py",
   "mimetype": "text/x-python",
   "name": "python",
   "nbconvert_exporter": "python",
   "pygments_lexer": "ipython3",
   "version": "3.7.4"
  },
  "orig_nbformat": 2,
  "kernelspec": {
   "name": "python374jvsc74a57bd05e19f5f9047d686051a4ffff3c57b5ca676552393775b324a4200bbd1a7317fa",
   "display_name": "Python 3.7.4 64-bit"
  },
  "metadata": {
   "interpreter": {
    "hash": "5e19f5f9047d686051a4ffff3c57b5ca676552393775b324a4200bbd1a7317fa"
   }
  }
 },
 "nbformat": 4,
 "nbformat_minor": 2,
 "cells": [
  {
   "cell_type": "code",
   "execution_count": null,
   "metadata": {},
   "outputs": [],
   "source": [
    "f1 = lambda x : str(x+2)\n",
    "\n",
    "# Es equivalente a:\n",
    "\n",
    "def f1 (x):\n",
    "    return str(x+2)"
   ]
  },
  {
   "cell_type": "code",
   "execution_count": 1,
   "metadata": {},
   "outputs": [
    {
     "output_type": "execute_result",
     "data": {
      "text/plain": [
       "[1, 2, 3, 4]"
      ]
     },
     "metadata": {},
     "execution_count": 1
    }
   ],
   "source": [
    "l = [2, 4, 6, 8]\n",
    "\n",
    "f2 = lambda elem: elem//2\n",
    "\n",
    "lista = [f2(elem) for elem in l]\n",
    "lista"
   ]
  },
  {
   "cell_type": "code",
   "execution_count": 2,
   "metadata": {},
   "outputs": [
    {
     "output_type": "execute_result",
     "data": {
      "text/plain": [
       "[2, 4, 2.5, 6, 8]"
      ]
     },
     "metadata": {},
     "execution_count": 2
    }
   ],
   "source": [
    "l = [2, 4, 5, 6, 8]\n",
    "f3 = lambda x: x if x % 2 == 0 else x/2 # en las funciones lambda es obligatorio tener el else en el if.\n",
    "\n",
    "lista = [f3(x=elem) for elem in l]\n",
    "lista"
   ]
  },
  {
   "cell_type": "code",
   "execution_count": null,
   "metadata": {},
   "outputs": [],
   "source": []
  }
 ]
}