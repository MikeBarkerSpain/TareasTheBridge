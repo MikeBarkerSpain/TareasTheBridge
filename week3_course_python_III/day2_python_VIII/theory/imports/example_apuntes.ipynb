{
 "metadata": {
  "language_info": {
   "codemirror_mode": {
    "name": "ipython",
    "version": 3
   },
   "file_extension": ".py",
   "mimetype": "text/x-python",
   "name": "python",
   "nbconvert_exporter": "python",
   "pygments_lexer": "ipython3",
   "version": "3.7.4"
  },
  "orig_nbformat": 2,
  "kernelspec": {
   "name": "python374jvsc74a57bd05e19f5f9047d686051a4ffff3c57b5ca676552393775b324a4200bbd1a7317fa",
   "display_name": "Python 3.7.4 64-bit"
  },
  "metadata": {
   "interpreter": {
    "hash": "5e19f5f9047d686051a4ffff3c57b5ca676552393775b324a4200bbd1a7317fa"
   }
  }
 },
 "nbformat": 4,
 "nbformat_minor": 2,
 "cells": [
  {
   "cell_type": "code",
   "execution_count": 1,
   "metadata": {},
   "outputs": [
    {
     "output_type": "execute_result",
     "data": {
      "text/plain": [
       "7"
      ]
     },
     "metadata": {},
     "execution_count": 1
    }
   ],
   "source": [
    "# importando un módulo/librería/fichero 'mi_modulo' con un alias 'mm'\n",
    "import mi_modulo as mm\n",
    "\n",
    "mm.suma_2(a=2, b=5)"
   ]
  },
  {
   "cell_type": "code",
   "execution_count": 2,
   "metadata": {},
   "outputs": [
    {
     "output_type": "execute_result",
     "data": {
      "text/plain": [
       "-66"
      ]
     },
     "metadata": {},
     "execution_count": 2
    }
   ],
   "source": [
    "# importo solo una función 'suma_2'\n",
    "from mi_modulo import suma_2\n",
    "\n",
    "suma_2(a=1, b=-67)"
   ]
  },
  {
   "cell_type": "code",
   "execution_count": null,
   "metadata": {},
   "outputs": [],
   "source": [
    "# importo solo una función 'suma_2' & 'resta_2'\n",
    "from mi_modulo import suma_2, resta_2\n",
    "\n",
    "suma_2(a=1, b=-67)"
   ]
  },
  {
   "cell_type": "code",
   "execution_count": 3,
   "metadata": {},
   "outputs": [
    {
     "output_type": "error",
     "ename": "NameError",
     "evalue": "name 'x' is not defined",
     "traceback": [
      "\u001b[1;31m---------------------------------------------------------------------------\u001b[0m",
      "\u001b[1;31mNameError\u001b[0m                                 Traceback (most recent call last)",
      "\u001b[1;32m<ipython-input-3-fc17d851ef81>\u001b[0m in \u001b[0;36m<module>\u001b[1;34m\u001b[0m\n\u001b[1;32m----> 1\u001b[1;33m \u001b[0mprint\u001b[0m\u001b[1;33m(\u001b[0m\u001b[0mx\u001b[0m\u001b[1;33m)\u001b[0m\u001b[1;33m\u001b[0m\u001b[0m\n\u001b[0m",
      "\u001b[1;31mNameError\u001b[0m: name 'x' is not defined"
     ]
    }
   ],
   "source": [
    "print(x)  # --> x aún no ha sido importada, por eso da error"
   ]
  },
  {
   "cell_type": "code",
   "execution_count": 5,
   "metadata": {},
   "outputs": [
    {
     "output_type": "stream",
     "name": "stdout",
     "text": [
      "2\n"
     ]
    }
   ],
   "source": [
    "x = 5\n",
    "\n",
    "from mi_modulo import suma_2, resta_2, x\n",
    "\n",
    "print(x)"
   ]
  },
  {
   "cell_type": "code",
   "execution_count": null,
   "metadata": {},
   "outputs": [],
   "source": [
    "import pandas as pd\n",
    "import numpy as np\n",
    "import tensorflow as tf\n",
    "\n",
    "pd.read_csv()"
   ]
  },
  {
   "cell_type": "code",
   "execution_count": 6,
   "metadata": {},
   "outputs": [],
   "source": [
    "import mi_modulo as mm"
   ]
  },
  {
   "cell_type": "code",
   "execution_count": 7,
   "metadata": {},
   "outputs": [
    {
     "output_type": "execute_result",
     "data": {
      "text/plain": [
       "2"
      ]
     },
     "metadata": {},
     "execution_count": 7
    }
   ],
   "source": [
    "mm.x"
   ]
  },
  {
   "cell_type": "code",
   "execution_count": 8,
   "metadata": {},
   "outputs": [
    {
     "output_type": "stream",
     "name": "stdout",
     "text": [
      "2\n4\n"
     ]
    }
   ],
   "source": [
    "from mi_modulo import suma_2, resta_2, x\n",
    "print(x)\n",
    "x = 4\n",
    "print(x)"
   ]
  },
  {
   "cell_type": "code",
   "execution_count": 2,
   "metadata": {},
   "outputs": [
    {
     "output_type": "execute_result",
     "data": {
      "text/plain": [
       "3"
      ]
     },
     "metadata": {},
     "execution_count": 2
    }
   ],
   "source": [
    "# los imports son posibles si el archivo está dentro de la carpeta del archivo de python que se ejecuta, incluso si están dentro de una subcarpeta; pero sólo se pueden importar archivos de tipo .py\n",
    "import f.archivo_dentro_f as adf    \n",
    "adf.f1\n",
    "\n",
    "#en caso de haber varias carpetas anidadas, se pueden recorrer con un '.'\n",
    "import f.k.j as fkj\n",
    "fkj.jk()"
   ]
  },
  {
   "source": [
    "# Paths\n",
    "\n",
    "sirven para 'abstraer' el ordenador que ejecuta el código, de forma que el ordenador sea una herramienta transparente para ejecutar el programa"
   ],
   "cell_type": "markdown",
   "metadata": {}
  },
  {
   "cell_type": "code",
   "execution_count": 3,
   "metadata": {},
   "outputs": [
    {
     "output_type": "execute_result",
     "data": {
      "text/plain": [
       "'c:\\\\Users\\\\miguel\\\\Desktop\\\\TheBridgeDataScientist\\\\github_alumno\\\\week3_course_python_III\\\\day2_python_VIII\\\\theory\\\\imports\\\\mi_modulo.py'"
      ]
     },
     "metadata": {},
     "execution_count": 3
    }
   ],
   "source": [
    "import mi_modulo as mm \n",
    "\n",
    "mm.__file__"
   ]
  },
  {
   "cell_type": "code",
   "execution_count": 4,
   "metadata": {},
   "outputs": [
    {
     "output_type": "execute_result",
     "data": {
      "text/plain": [
       "'C:\\\\Users\\\\miguel\\\\AppData\\\\Local\\\\Programs\\\\Python\\\\Python37\\\\lib\\\\random.py'"
      ]
     },
     "metadata": {},
     "execution_count": 4
    }
   ],
   "source": [
    "import random \n",
    "\n",
    "random.__file__"
   ]
  },
  {
   "cell_type": "code",
   "execution_count": 6,
   "metadata": {},
   "outputs": [
    {
     "output_type": "stream",
     "name": "stdout",
     "text": [
      "['c:\\\\Users\\\\miguel\\\\Desktop\\\\TheBridgeDataScientist\\\\github_alumno\\\\week3_course_python_III\\\\day2_python_VIII\\\\theory\\\\imports', 'c:\\\\Users\\\\miguel\\\\.vscode\\\\extensions\\\\ms-toolsai.jupyter-2021.5.745244803\\\\pythonFiles', 'c:\\\\Users\\\\miguel\\\\.vscode\\\\extensions\\\\ms-toolsai.jupyter-2021.5.745244803\\\\pythonFiles\\\\lib\\\\python', 'C:\\\\Users\\\\miguel\\\\AppData\\\\Local\\\\Programs\\\\Python\\\\Python37\\\\python37.zip', 'C:\\\\Users\\\\miguel\\\\AppData\\\\Local\\\\Programs\\\\Python\\\\Python37\\\\DLLs', 'C:\\\\Users\\\\miguel\\\\AppData\\\\Local\\\\Programs\\\\Python\\\\Python37\\\\lib', 'C:\\\\Users\\\\miguel\\\\AppData\\\\Local\\\\Programs\\\\Python\\\\Python37', '', 'C:\\\\Users\\\\miguel\\\\AppData\\\\Roaming\\\\Python\\\\Python37\\\\site-packages', 'C:\\\\Users\\\\miguel\\\\AppData\\\\Roaming\\\\Python\\\\Python37\\\\site-packages\\\\win32', 'C:\\\\Users\\\\miguel\\\\AppData\\\\Roaming\\\\Python\\\\Python37\\\\site-packages\\\\win32\\\\lib', 'C:\\\\Users\\\\miguel\\\\AppData\\\\Roaming\\\\Python\\\\Python37\\\\site-packages\\\\Pythonwin', 'C:\\\\Users\\\\miguel\\\\AppData\\\\Local\\\\Programs\\\\Python\\\\Python37\\\\lib\\\\site-packages', 'C:\\\\Users\\\\miguel\\\\AppData\\\\Roaming\\\\Python\\\\Python37\\\\site-packages\\\\IPython\\\\extensions', 'C:\\\\Users\\\\miguel\\\\.ipython']\n<class 'list'>\n"
     ]
    }
   ],
   "source": [
    "import sys\n",
    "\n",
    "print(sys.path)\n",
    "print(type(sys.path))\n",
    "\n",
    "# Python va a dejar importar todos los archivos .py que estén dentro de las carpetas que estén en sys.path"
   ]
  },
  {
   "cell_type": "code",
   "execution_count": 1,
   "metadata": {},
   "outputs": [
    {
     "output_type": "execute_result",
     "data": {
      "text/plain": [
       "['c:\\\\Users\\\\miguel\\\\Desktop\\\\TheBridgeDataScientist\\\\github_alumno\\\\week3_course_python_III\\\\day2_python_VIII\\\\theory\\\\imports',\n",
       " 'c:\\\\Users\\\\miguel\\\\.vscode\\\\extensions\\\\ms-toolsai.jupyter-2021.5.745244803\\\\pythonFiles',\n",
       " 'c:\\\\Users\\\\miguel\\\\.vscode\\\\extensions\\\\ms-toolsai.jupyter-2021.5.745244803\\\\pythonFiles\\\\lib\\\\python',\n",
       " 'C:\\\\Users\\\\miguel\\\\AppData\\\\Local\\\\Programs\\\\Python\\\\Python37\\\\python37.zip',\n",
       " 'C:\\\\Users\\\\miguel\\\\AppData\\\\Local\\\\Programs\\\\Python\\\\Python37\\\\DLLs',\n",
       " 'C:\\\\Users\\\\miguel\\\\AppData\\\\Local\\\\Programs\\\\Python\\\\Python37\\\\lib',\n",
       " 'C:\\\\Users\\\\miguel\\\\AppData\\\\Local\\\\Programs\\\\Python\\\\Python37',\n",
       " '',\n",
       " 'C:\\\\Users\\\\miguel\\\\AppData\\\\Roaming\\\\Python\\\\Python37\\\\site-packages',\n",
       " 'C:\\\\Users\\\\miguel\\\\AppData\\\\Roaming\\\\Python\\\\Python37\\\\site-packages\\\\win32',\n",
       " 'C:\\\\Users\\\\miguel\\\\AppData\\\\Roaming\\\\Python\\\\Python37\\\\site-packages\\\\win32\\\\lib',\n",
       " 'C:\\\\Users\\\\miguel\\\\AppData\\\\Roaming\\\\Python\\\\Python37\\\\site-packages\\\\Pythonwin',\n",
       " 'C:\\\\Users\\\\miguel\\\\AppData\\\\Local\\\\Programs\\\\Python\\\\Python37\\\\lib\\\\site-packages',\n",
       " 'C:\\\\Users\\\\miguel\\\\AppData\\\\Roaming\\\\Python\\\\Python37\\\\site-packages\\\\IPython\\\\extensions',\n",
       " 'C:\\\\Users\\\\miguel\\\\.ipython',\n",
       " 'C:\\\\Users\\\\miguel\\\\Desktop\\\\TheBridgeDataScientist\\\\github_alumno\\\\week3_course_python_III\\\\day2_python_VIII\\\\theory\\\\imports']"
      ]
     },
     "metadata": {},
     "execution_count": 1
    }
   ],
   "source": [
    "# añadir una ruta absoluta a la lista path\n",
    "ruta_absoluta = \"C:\\\\Users\\\\miguel\\\\Desktop\\\\TheBridgeDataScientist\\\\github_alumno\\\\week3_course_python_III\\\\day2_python_VIII\\\\theory\\\\imports\"\n",
    "\n",
    "sys.path.append(ruta_absoluta)\n",
    "sys.path"
   ]
  },
  {
   "cell_type": "code",
   "execution_count": 2,
   "metadata": {},
   "outputs": [
    {
     "output_type": "execute_result",
     "data": {
      "text/plain": [
       "'C:\\\\Users\\\\miguel\\\\Desktop\\\\TheBridgeDataScientist\\\\github_alumno\\\\week3_course_python_III\\\\day2_python_VIII\\\\theory\\\\imports'"
      ]
     },
     "metadata": {},
     "execution_count": 2
    }
   ],
   "source": [
    "sys.path.pop()\n"
   ]
  },
  {
   "cell_type": "code",
   "execution_count": null,
   "metadata": {},
   "outputs": [],
   "source": [
    "import mi_modulo as mm \n",
    "mm.x"
   ]
  },
  {
   "cell_type": "code",
   "execution_count": 2,
   "metadata": {},
   "outputs": [
    {
     "output_type": "execute_result",
     "data": {
      "text/plain": [
       "'c:\\\\Users\\\\miguel\\\\Desktop\\\\TheBridgeDataScientist\\\\github_alumno\\\\week3_course_python_III\\\\day2_python_VIII\\\\theory\\\\imports'"
      ]
     },
     "metadata": {},
     "execution_count": 2
    }
   ],
   "source": [
    "# Añadir la ruta estándar para todos los ordenadores \n",
    "import os\n",
    "\n",
    "os.getcwd() #devuelve la ruta a la carpeta donde estoy"
   ]
  },
  {
   "cell_type": "code",
   "execution_count": 3,
   "metadata": {},
   "outputs": [
    {
     "output_type": "execute_result",
     "data": {
      "text/plain": [
       "'c:\\\\Users\\\\miguel\\\\Desktop\\\\TheBridgeDataScientist\\\\github_alumno\\\\week3_course_python_III\\\\day2_python_VIII\\\\theory'"
      ]
     },
     "metadata": {},
     "execution_count": 3
    }
   ],
   "source": [
    "os.path.dirname(os.getcwd()) # va a subir un nivel de directorio"
   ]
  },
  {
   "cell_type": "code",
   "execution_count": 6,
   "metadata": {},
   "outputs": [
    {
     "output_type": "stream",
     "name": "stdout",
     "text": [
      "c:\\Users\\miguel\\Desktop\\TheBridgeDataScientist\\github_alumno\\week3_course_python_III\\day2_python_VIII\\theory\\imports\nc:\\Users\\miguel\\Desktop\\TheBridgeDataScientist\\github_alumno\\week3_course_python_III\\day2_python_VIII\\theory\nc:\\Users\\miguel\\Desktop\\TheBridgeDataScientist\\github_alumno\\week3_course_python_III\\day2_python_VIII\nc:\\Users\\miguel\\Desktop\\TheBridgeDataScientist\\github_alumno\\week3_course_python_III\nc:\\Users\\miguel\\Desktop\\TheBridgeDataScientist\\github_alumno\n"
     ]
    },
    {
     "output_type": "execute_result",
     "data": {
      "text/plain": [
       "['c:\\\\Users\\\\miguel\\\\Desktop\\\\TheBridgeDataScientist\\\\github_alumno\\\\week3_course_python_III\\\\day2_python_VIII\\\\theory\\\\imports',\n",
       " 'c:\\\\Users\\\\miguel\\\\.vscode\\\\extensions\\\\ms-toolsai.jupyter-2021.5.745244803\\\\pythonFiles',\n",
       " 'c:\\\\Users\\\\miguel\\\\.vscode\\\\extensions\\\\ms-toolsai.jupyter-2021.5.745244803\\\\pythonFiles\\\\lib\\\\python',\n",
       " 'C:\\\\Users\\\\miguel\\\\AppData\\\\Local\\\\Programs\\\\Python\\\\Python37\\\\python37.zip',\n",
       " 'C:\\\\Users\\\\miguel\\\\AppData\\\\Local\\\\Programs\\\\Python\\\\Python37\\\\DLLs',\n",
       " 'C:\\\\Users\\\\miguel\\\\AppData\\\\Local\\\\Programs\\\\Python\\\\Python37\\\\lib',\n",
       " 'C:\\\\Users\\\\miguel\\\\AppData\\\\Local\\\\Programs\\\\Python\\\\Python37',\n",
       " '',\n",
       " 'C:\\\\Users\\\\miguel\\\\AppData\\\\Roaming\\\\Python\\\\Python37\\\\site-packages',\n",
       " 'C:\\\\Users\\\\miguel\\\\AppData\\\\Roaming\\\\Python\\\\Python37\\\\site-packages\\\\win32',\n",
       " 'C:\\\\Users\\\\miguel\\\\AppData\\\\Roaming\\\\Python\\\\Python37\\\\site-packages\\\\win32\\\\lib',\n",
       " 'C:\\\\Users\\\\miguel\\\\AppData\\\\Roaming\\\\Python\\\\Python37\\\\site-packages\\\\Pythonwin',\n",
       " 'C:\\\\Users\\\\miguel\\\\AppData\\\\Local\\\\Programs\\\\Python\\\\Python37\\\\lib\\\\site-packages',\n",
       " 'C:\\\\Users\\\\miguel\\\\AppData\\\\Roaming\\\\Python\\\\Python37\\\\site-packages\\\\IPython\\\\extensions',\n",
       " 'C:\\\\Users\\\\miguel\\\\.ipython',\n",
       " 'c:\\\\Users\\\\miguel\\\\Desktop\\\\TheBridgeDataScientist\\\\github_alumno']"
      ]
     },
     "metadata": {},
     "execution_count": 6
    }
   ],
   "source": [
    "ruta = os.getcwd()\n",
    "print(ruta)\n",
    "for i in range (4):\n",
    "    ruta = os.path.dirname(ruta)\n",
    "    print(ruta)\n",
    "sys.path.append(ruta)\n",
    "sys.path"
   ]
  },
  {
   "cell_type": "code",
   "execution_count": 7,
   "metadata": {},
   "outputs": [],
   "source": [
    "import week3_course_python_III.day2_python_VIII.theory.imports.f as acceso\n",
    "acceso."
   ]
  },
  {
   "cell_type": "code",
   "execution_count": null,
   "metadata": {},
   "outputs": [],
   "source": []
  }
 ]
}