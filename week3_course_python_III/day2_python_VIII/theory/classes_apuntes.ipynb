{
 "metadata": {
  "language_info": {
   "codemirror_mode": {
    "name": "ipython",
    "version": 3
   },
   "file_extension": ".py",
   "mimetype": "text/x-python",
   "name": "python",
   "nbconvert_exporter": "python",
   "pygments_lexer": "ipython3",
   "version": "3.7.4"
  },
  "orig_nbformat": 2,
  "kernelspec": {
   "name": "python374jvsc74a57bd05e19f5f9047d686051a4ffff3c57b5ca676552393775b324a4200bbd1a7317fa",
   "display_name": "Python 3.7.4 64-bit"
  },
  "metadata": {
   "interpreter": {
    "hash": "5e19f5f9047d686051a4ffff3c57b5ca676552393775b324a4200bbd1a7317fa"
   }
  }
 },
 "nbformat": 4,
 "nbformat_minor": 2,
 "cells": [
  {
   "source": [
    "# OOP --> Programación Orientada a Objetos"
   ],
   "cell_type": "markdown",
   "metadata": {}
  },
  {
   "cell_type": "code",
   "execution_count": 5,
   "metadata": {},
   "outputs": [],
   "source": [
    "# descripción de objetos en base a atributos -> clases\n",
    "\n",
    "# Mala praxis para representar objetos:\n",
    "ojos= 2\n",
    "brazos = 2 \n",
    "nombre = \"Ataulfo\"\n",
    "\n",
    "# Buena praxis -> utilizar la palabra clave 'class'\n",
    "class Humano:\n",
    "    # crear la función constructor\n",
    "    def __init__(self, nombre, edad, sexo, altura, color_pelo, ojos=2, piernas=2, especie=\"Homo Sapiens\", jkl=\"9\"): # definición de la funcióon de creación de la clase\n",
    "        # declaración de los atributos de la clase con la palabra 'self'\n",
    "        self.name = nombre\n",
    "        self.age = edad\n",
    "        self.sex = sexo\n",
    "        self.height = altura\n",
    "        self.hair_col = color_pelo\n",
    "        self.eyes = ojos\n",
    "        self.legs = piernas\n",
    "        self.specie = especie\n",
    "\n",
    "\n",
    "    # declaración de las funciones propias a la clase\n",
    "    def mostrar_piernas(self, piernas=2):\n",
    "        print(\"este es un valor de piernas que viene como argumento:\", piernas)\n",
    "        print(\"este es un valor de piernas de una instancia:\",self.piernas)\n",
    "\n",
    "    def mostrar_atributos(self):\n",
    "        print(f\"El nombre del humano es: {self.name}\")\n",
    "        print(f\"La edad del humano es: {self.age}\")\n",
    "        print(f\"El sexo del humano es: {self.sex}\")\n",
    "        print(f\"La altura del humano es: {self.height}\")\n",
    "        print(f\"El color del pelo del humano es: {self.hair_col}\")\n",
    "        print(f\"El número de ojos del humano es: {self.eyes}\")\n",
    "        print(f\"Las piernas del humano son: {self.legs}\")\n",
    "        print(f\"El humano es: {self.specie}\")\n",
    "\n"
   ]
  },
  {
   "cell_type": "code",
   "execution_count": 6,
   "metadata": {},
   "outputs": [
    {
     "output_type": "execute_result",
     "data": {
      "text/plain": [
       "<__main__.Humano at 0xe6bb15cf08>"
      ]
     },
     "metadata": {},
     "execution_count": 6
    }
   ],
   "source": [
    "instancia_ataulfo = Humano(\"Ataulfo\", edad=25, sexo=\"H\", altura= 2.20, ojos= 3, color_pelo= \"pelirrojo\")\n",
    "instancia_ataulfo"
   ]
  },
  {
   "cell_type": "code",
   "execution_count": 7,
   "metadata": {},
   "outputs": [
    {
     "output_type": "execute_result",
     "data": {
      "text/plain": [
       "'Ataulfo'"
      ]
     },
     "metadata": {},
     "execution_count": 7
    }
   ],
   "source": [
    "instancia_ataulfo.name"
   ]
  },
  {
   "cell_type": "code",
   "execution_count": 8,
   "metadata": {},
   "outputs": [
    {
     "output_type": "stream",
     "name": "stdout",
     "text": [
      "El nombre del humano es: Ataulfo\nLa edad del humano es: 25\nEl sexo del humano es: H\nLa altura del humano es: 2.2\nEl color del pelo del humano es: pelirrojo\nEl número de ojos del humano es: 3\nLas piernas del humano son: 2\nEl humano es: Homo Sapiens\n"
     ]
    }
   ],
   "source": [
    "instancia_ataulfo.mostrar_atributos()"
   ]
  },
  {
   "cell_type": "code",
   "execution_count": 5,
   "metadata": {},
   "outputs": [
    {
     "output_type": "execute_result",
     "data": {
      "text/plain": [
       "'Simba'"
      ]
     },
     "metadata": {},
     "execution_count": 5
    }
   ],
   "source": [
    "class Perro():\n",
    "    ojos = 2\n",
    "    nombre = \"Simba\"\n",
    "\n",
    "simba = Perro()\n",
    "simba.ojos\n",
    "simba.nombre"
   ]
  },
  {
   "cell_type": "code",
   "execution_count": null,
   "metadata": {},
   "outputs": [],
   "source": []
  }
 ]
}