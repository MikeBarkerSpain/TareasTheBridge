{
 "metadata": {
  "language_info": {
   "codemirror_mode": {
    "name": "ipython",
    "version": 3
   },
   "file_extension": ".py",
   "mimetype": "text/x-python",
   "name": "python",
   "nbconvert_exporter": "python",
   "pygments_lexer": "ipython3",
   "version": "3.7.4"
  },
  "orig_nbformat": 2,
  "kernelspec": {
   "name": "python374jvsc74a57bd05e19f5f9047d686051a4ffff3c57b5ca676552393775b324a4200bbd1a7317fa",
   "display_name": "Python 3.7.4 64-bit"
  },
  "metadata": {
   "interpreter": {
    "hash": "5e19f5f9047d686051a4ffff3c57b5ca676552393775b324a4200bbd1a7317fa"
   }
  }
 },
 "nbformat": 4,
 "nbformat_minor": 2,
 "cells": [
  {
   "cell_type": "code",
   "execution_count": null,
   "metadata": {},
   "outputs": [],
   "source": [
    "# se pueden importar las librerías sólo si están en la misma carpeta   "
   ]
  },
  {
   "cell_type": "code",
   "execution_count": 2,
   "metadata": {},
   "outputs": [
    {
     "output_type": "execute_result",
     "data": {
      "text/plain": [
       "7"
      ]
     },
     "metadata": {},
     "execution_count": 2
    }
   ],
   "source": [
    "import mi_modulo as mm \n",
    "\n",
    "mm.suma_2 (2, 5)"
   ]
  },
  {
   "cell_type": "code",
   "execution_count": 3,
   "metadata": {},
   "outputs": [
    {
     "output_type": "execute_result",
     "data": {
      "text/plain": [
       "10"
      ]
     },
     "metadata": {},
     "execution_count": 3
    }
   ],
   "source": [
    "#también se pueden importar funciones concretas, en vez de toda la librería\n",
    "from mi_modulo import suma_2\n",
    "\n",
    "suma_2(5, 5)"
   ]
  },
  {
   "cell_type": "code",
   "execution_count": 4,
   "metadata": {},
   "outputs": [
    {
     "output_type": "execute_result",
     "data": {
      "text/plain": [
       "10"
      ]
     },
     "metadata": {},
     "execution_count": 4
    }
   ],
   "source": [
    "#también se pueden importar varias funciones\n",
    "from mi_modulo import suma_2, resta_2\n",
    "\n",
    "suma_2(5, 5)"
   ]
  },
  {
   "source": [
    "## Hablando del Path\n",
    "# Paths "
   ],
   "cell_type": "markdown",
   "metadata": {}
  },
  {
   "cell_type": "code",
   "execution_count": 8,
   "metadata": {},
   "outputs": [
    {
     "output_type": "execute_result",
     "data": {
      "text/plain": [
       "'c:\\\\Users\\\\miguel\\\\Desktop\\\\TheBridgeDataScientist\\\\TareasTheBridge\\\\week3_course_python_III\\\\day1_python_VII\\\\theory\\\\6_import\\\\mi_modulo.py'"
      ]
     },
     "metadata": {},
     "execution_count": 8
    }
   ],
   "source": [
    "import mi_modulo as mm \n",
    "\n",
    "mm.__file__"
   ]
  },
  {
   "cell_type": "code",
   "execution_count": 9,
   "metadata": {},
   "outputs": [
    {
     "output_type": "execute_result",
     "data": {
      "text/plain": [
       "'C:\\\\Users\\\\miguel\\\\AppData\\\\Local\\\\Programs\\\\Python\\\\Python37\\\\lib\\\\random.py'"
      ]
     },
     "metadata": {},
     "execution_count": 9
    }
   ],
   "source": [
    "import random \n",
    "\n",
    "random.__file__"
   ]
  },
  {
   "cell_type": "code",
   "execution_count": null,
   "metadata": {},
   "outputs": [],
   "source": [
    "import os, pandas, mi_modulo"
   ]
  },
  {
   "cell_type": "code",
   "execution_count": 10,
   "metadata": {},
   "outputs": [
    {
     "output_type": "execute_result",
     "data": {
      "text/plain": [
       "['c:\\\\Users\\\\miguel\\\\Desktop\\\\TheBridgeDataScientist\\\\TareasTheBridge\\\\week3_course_python_III\\\\day1_python_VII\\\\theory\\\\6_import',\n",
       " 'c:\\\\Users\\\\miguel\\\\.vscode\\\\extensions\\\\ms-toolsai.jupyter-2021.5.745244803\\\\pythonFiles',\n",
       " 'c:\\\\Users\\\\miguel\\\\.vscode\\\\extensions\\\\ms-toolsai.jupyter-2021.5.745244803\\\\pythonFiles',\n",
       " 'c:\\\\Users\\\\miguel\\\\.vscode\\\\extensions\\\\ms-toolsai.jupyter-2021.5.745244803\\\\pythonFiles\\\\lib\\\\python',\n",
       " 'C:\\\\Users\\\\miguel\\\\AppData\\\\Local\\\\Programs\\\\Python\\\\Python37\\\\python37.zip',\n",
       " 'C:\\\\Users\\\\miguel\\\\AppData\\\\Local\\\\Programs\\\\Python\\\\Python37\\\\DLLs',\n",
       " 'C:\\\\Users\\\\miguel\\\\AppData\\\\Local\\\\Programs\\\\Python\\\\Python37\\\\lib',\n",
       " 'C:\\\\Users\\\\miguel\\\\AppData\\\\Local\\\\Programs\\\\Python\\\\Python37',\n",
       " '',\n",
       " 'C:\\\\Users\\\\miguel\\\\AppData\\\\Roaming\\\\Python\\\\Python37\\\\site-packages',\n",
       " 'C:\\\\Users\\\\miguel\\\\AppData\\\\Roaming\\\\Python\\\\Python37\\\\site-packages\\\\win32',\n",
       " 'C:\\\\Users\\\\miguel\\\\AppData\\\\Roaming\\\\Python\\\\Python37\\\\site-packages\\\\win32\\\\lib',\n",
       " 'C:\\\\Users\\\\miguel\\\\AppData\\\\Roaming\\\\Python\\\\Python37\\\\site-packages\\\\Pythonwin',\n",
       " 'C:\\\\Users\\\\miguel\\\\AppData\\\\Local\\\\Programs\\\\Python\\\\Python37\\\\lib\\\\site-packages',\n",
       " 'C:\\\\Users\\\\miguel\\\\AppData\\\\Roaming\\\\Python\\\\Python37\\\\site-packages\\\\IPython\\\\extensions',\n",
       " 'C:\\\\Users\\\\miguel\\\\.ipython']"
      ]
     },
     "metadata": {},
     "execution_count": 10
    }
   ],
   "source": [
    "# Python va a dejar importar todos los archivos .py que esten dentro de las carpetas que se vean dentro de 'sys.path'\n",
    "\n",
    "# Se incluyen también los módulos (carpetas) que estñe POR DEBAJO de la carpeta de más arriba (la carpeta raíz, la primera de la lista)\n",
    "\n",
    "import sys\n",
    "\n",
    "sys.path"
   ]
  },
  {
   "cell_type": "code",
   "execution_count": 11,
   "metadata": {},
   "outputs": [],
   "source": [
    "# Se puede añadir una carpeta directamente poniendo su ruta de acceso en el path \n",
    "# \n",
    "\n",
    "ruta_a_theory = \"C:\\\\Users\\\\miguel\\\\Desktop\\\\TheBridgeDataScientist\\\\TareasTheBridge\\\\week3_course_python_III\\\\day1_python_VII\\\\theory\"\n",
    "\n",
    "sys.path.append(ruta_a_theory)"
   ]
  },
  {
   "cell_type": "code",
   "execution_count": 12,
   "metadata": {},
   "outputs": [
    {
     "output_type": "execute_result",
     "data": {
      "text/plain": [
       "['c:\\\\Users\\\\miguel\\\\Desktop\\\\TheBridgeDataScientist\\\\TareasTheBridge\\\\week3_course_python_III\\\\day1_python_VII\\\\theory\\\\6_import',\n",
       " 'c:\\\\Users\\\\miguel\\\\.vscode\\\\extensions\\\\ms-toolsai.jupyter-2021.5.745244803\\\\pythonFiles',\n",
       " 'c:\\\\Users\\\\miguel\\\\.vscode\\\\extensions\\\\ms-toolsai.jupyter-2021.5.745244803\\\\pythonFiles',\n",
       " 'c:\\\\Users\\\\miguel\\\\.vscode\\\\extensions\\\\ms-toolsai.jupyter-2021.5.745244803\\\\pythonFiles\\\\lib\\\\python',\n",
       " 'C:\\\\Users\\\\miguel\\\\AppData\\\\Local\\\\Programs\\\\Python\\\\Python37\\\\python37.zip',\n",
       " 'C:\\\\Users\\\\miguel\\\\AppData\\\\Local\\\\Programs\\\\Python\\\\Python37\\\\DLLs',\n",
       " 'C:\\\\Users\\\\miguel\\\\AppData\\\\Local\\\\Programs\\\\Python\\\\Python37\\\\lib',\n",
       " 'C:\\\\Users\\\\miguel\\\\AppData\\\\Local\\\\Programs\\\\Python\\\\Python37',\n",
       " '',\n",
       " 'C:\\\\Users\\\\miguel\\\\AppData\\\\Roaming\\\\Python\\\\Python37\\\\site-packages',\n",
       " 'C:\\\\Users\\\\miguel\\\\AppData\\\\Roaming\\\\Python\\\\Python37\\\\site-packages\\\\win32',\n",
       " 'C:\\\\Users\\\\miguel\\\\AppData\\\\Roaming\\\\Python\\\\Python37\\\\site-packages\\\\win32\\\\lib',\n",
       " 'C:\\\\Users\\\\miguel\\\\AppData\\\\Roaming\\\\Python\\\\Python37\\\\site-packages\\\\Pythonwin',\n",
       " 'C:\\\\Users\\\\miguel\\\\AppData\\\\Local\\\\Programs\\\\Python\\\\Python37\\\\lib\\\\site-packages',\n",
       " 'C:\\\\Users\\\\miguel\\\\AppData\\\\Roaming\\\\Python\\\\Python37\\\\site-packages\\\\IPython\\\\extensions',\n",
       " 'C:\\\\Users\\\\miguel\\\\.ipython',\n",
       " 'C:\\\\Users\\\\miguel\\\\Desktop\\\\TheBridgeDataScientist\\\\TareasTheBridge\\\\week3_course_python_III\\\\day1_python_VII\\\\theory']"
      ]
     },
     "metadata": {},
     "execution_count": 12
    }
   ],
   "source": [
    "sys.path"
   ]
  },
  {
   "cell_type": "code",
   "execution_count": null,
   "metadata": {},
   "outputs": [],
   "source": []
  }
 ]
}