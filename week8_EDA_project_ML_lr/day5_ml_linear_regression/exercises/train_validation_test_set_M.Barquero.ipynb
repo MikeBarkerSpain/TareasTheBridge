{
 "metadata": {
  "language_info": {
   "codemirror_mode": {
    "name": "ipython",
    "version": 3
   },
   "file_extension": ".py",
   "mimetype": "text/x-python",
   "name": "python",
   "nbconvert_exporter": "python",
   "pygments_lexer": "ipython3",
   "version": "3.7.4"
  },
  "orig_nbformat": 2,
  "kernelspec": {
   "name": "python374jvsc74a57bd093959734c7fb7f2dc7760fccbd71d0356ba421f29bb59ffa607c9608db7abb2a",
   "display_name": "Python 3.7.4 64-bit"
  },
  "metadata": {
   "interpreter": {
    "hash": "93959734c7fb7f2dc7760fccbd71d0356ba421f29bb59ffa607c9608db7abb2a"
   }
  }
 },
 "nbformat": 4,
 "nbformat_minor": 2,
 "cells": [
  {
   "cell_type": "markdown",
   "metadata": {},
   "source": [
    "### 1. \n",
    "\n",
    "Crear una función que reciba cuatro parámetros: una lista 'L', un número 'T', un número 'V' y un booleano 'S'. La función debe devolver otras dos listas: \"lista_train_val\" y \"lista_test\".\n",
    "\n",
    "- \"lista_train_val\" es una lista con dos elementos. Cada elemento es una lista: \"list_train\", que representa el conjunto de entrenamiento y \"list_val\", que representa el conjunto de validación. \n",
    "- \"list_test\" es el conjunto de test. Como mínimo ha de tener 1 elemento (si 'L' > 1).\n",
    "- \"L\" es cualquier lista de elementos. Al principio, entra con un tamaño completo (100%). Esta es la lista que se partirá y se generarán los conjuntos entrenamiento, de validación y de test.\n",
    "- \"T\" es un número entre 1 y 100 que va a representar el tamaño, en porcentaje, del conjunto de test \"list_test\". \n",
    "- \"V\" es un número entre 0 y 100 que va a representar el tamaño, en porcentaje, del conjunto de validación \"list_val\". Su valor por defecto es 0.\n",
    "- \"S\", que por defecto es False, determinará si los conjuntos \"list_train\", \"list_test\" y \"list_val\" están aleatoriamente ordenados. ¿Encuentras alguna posible incoherencia si se reordenan aleatoriamente?\n",
    "\n",
    "Prueba la función con una lista de 100 números aleatorios del 0 al 100. \n",
    "\n",
    "### 2. \n",
    "\n",
    "Rehacer el ejercicio anterior en otra función para que no devuelva dos listas, sino los tres conjuntos: \n",
    "\n",
    "--> return list_train, list_val, list_test "
   ]
  },
  {
   "cell_type": "code",
   "execution_count": 4,
   "metadata": {},
   "outputs": [],
   "source": [
    "import pandas as pd \n",
    "import numpy as np"
   ]
  },
  {
   "cell_type": "code",
   "execution_count": 50,
   "metadata": {},
   "outputs": [],
   "source": [
    "import random\n",
    "def f1 (L, T, V=0, B=False):\n",
    "    num_L = len(L)\n",
    "    num_T = int(T/100*len(L))\n",
    "    num_V = int(V/100*len(L))\n",
    "\n",
    "    if B == True:\n",
    "        random.shuffle(L)\n",
    "        \n",
    "    lista_test = L[:num_T]\n",
    "    list_train = L[num_T:len(L)-num_V]\n",
    "    list_val = L[len(L)-num_V:]\n",
    "    lista_train_val = [list_train, list_val]\n",
    "    return lista_train_val, lista_test"
   ]
  },
  {
   "cell_type": "code",
   "execution_count": 70,
   "metadata": {},
   "outputs": [
    {
     "output_type": "stream",
     "name": "stdout",
     "text": [
      "[18, 79, 35, 62, 52, 69, 43, 81, 25, 92, 13, 39, 70, 37, 51, 73, 23, 6, 97, 64]\n[48, 60, 29, 15, 21, 28, 17, 4, 10, 45, 95, 40, 82, 83, 57, 14, 59, 46, 49, 56, 68, 38, 65, 85, 88, 75, 16, 89, 3, 22, 47, 96, 91, 53, 9, 93, 66, 80, 27, 84, 19, 34, 32, 54, 77, 55, 31, 11, 72, 67, 50, 90, 42, 2, 36, 1, 71, 20, 12, 61]\n[30, 99, 0, 24, 44, 94, 76, 7, 8, 78, 98, 58, 5, 63, 74, 87, 33, 86, 41, 26]\n"
     ]
    }
   ],
   "source": [
    "list_ = random.sample(range(0,100), 100)\n",
    "ltv, lt = f1 (list_, 20,20,True)\n",
    "print(lt)\n",
    "print(ltv[0])\n",
    "print(ltv[1])"
   ]
  },
  {
   "cell_type": "code",
   "execution_count": 76,
   "metadata": {},
   "outputs": [
    {
     "output_type": "stream",
     "name": "stdout",
     "text": [
      "[11, 64, 51, 83, 0, 44, 1, 10, 66, 3, 67, 89, 4, 95, 29, 12, 40, 36, 23, 49, 77, 37, 73, 13, 5, 88, 74, 7, 45, 9, 6, 53, 52, 35, 72, 19, 33, 81, 47, 60, 30, 85, 58, 56, 39, 48, 79, 25, 59, 92, 84, 71, 41, 80, 65, 14, 99, 21, 78, 62]\n[31, 63, 15, 20, 61, 75, 86, 98, 32, 17, 70, 22, 28, 38, 34, 50, 87, 82, 26, 55]\n[76, 46, 57, 2, 16, 90, 8, 93, 54, 97, 68, 96, 27, 94, 42, 43, 24, 18, 69, 91]\n"
     ]
    }
   ],
   "source": [
    "def f2 (L, T, V=0, B=False):\n",
    "    num_L = len(L)\n",
    "    num_T = int(T/100*len(L))\n",
    "    num_V = int(V/100*len(L))\n",
    "\n",
    "    if B == True:\n",
    "        random.shuffle(L)\n",
    "        \n",
    "    lista_test = L[:num_T]\n",
    "    list_train = L[num_T:len(L)-num_V]\n",
    "    list_val = L[len(L)-num_V:]\n",
    "    return list_train, list_val, lista_test\n",
    "\n",
    "list_ = random.sample(range(0,100), 100)\n",
    "lt, lv, ltt = f2 (list_, 20,20,True)\n",
    "print(lt)\n",
    "print(lv)\n",
    "print(ltt)"
   ]
  },
  {
   "cell_type": "code",
   "execution_count": null,
   "metadata": {},
   "outputs": [],
   "source": []
  }
 ]
}