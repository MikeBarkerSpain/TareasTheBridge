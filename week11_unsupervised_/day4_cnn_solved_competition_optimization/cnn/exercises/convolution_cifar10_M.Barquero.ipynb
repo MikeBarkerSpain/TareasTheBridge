{
 "metadata": {
  "language_info": {
   "codemirror_mode": {
    "name": "ipython",
    "version": 3
   },
   "file_extension": ".py",
   "mimetype": "text/x-python",
   "name": "python",
   "nbconvert_exporter": "python",
   "pygments_lexer": "ipython3",
   "version": "3.7.4"
  },
  "orig_nbformat": 2,
  "kernelspec": {
   "name": "python3",
   "display_name": "Python 3.7.4 64-bit"
  },
  "interpreter": {
   "hash": "93959734c7fb7f2dc7760fccbd71d0356ba421f29bb59ffa607c9608db7abb2a"
  }
 },
 "nbformat": 4,
 "nbformat_minor": 2,
 "cells": [
  {
   "source": [
    "### 1.\n",
    "\n",
    "A partir del dataset mnist (tf.keras.datasets.cifar10.load_data()), realiza una clasificación usando:\n",
    "\n",
    "** Las imágenes son a color, es decir, tienen 3 dimensiones (rgb). Para este problema, antes de empezar, transforma las imágenes a blanco y negro para que tengan 1 sola dimensión de profundidad **. \n",
    "\n",
    "1. Una CNN con:\n",
    "    - 1 capa convolutiva con 8 neuronas\n",
    "    - 1 MaxPool quedando las dimensiones de la imagen a la mitad\n",
    "    - 1 dropout 0.25\n",
    "    - 1 Flatten\n",
    "    - 1 dense con 32 neuronas\n",
    "    - 1 dense con 10 (salida)\n",
    "\n",
    "2. Una CNN con:\n",
    "    - 1 capa convolutiva con 8 neuronas\n",
    "    - 1 MaxPool quedando las dimensiones de la imagen a la mitad\n",
    "    - 1 dropout 0.25\n",
    "    - 1 Flatten\n",
    "    - 1 dense con 16 neuronas\n",
    "    - 1 dense con 32 neuronas\n",
    "    - 1 dense con 10 (salida)\n",
    "\n",
    "¿ Cuál ha dado mejor resultado? -> la segunda red ha dado mejor resultado\n",
    "\n",
    "Para compilar el modelo, usa:"
   ],
   "cell_type": "markdown",
   "metadata": {}
  },
  {
   "cell_type": "code",
   "execution_count": 1,
   "metadata": {},
   "outputs": [],
   "source": [
    "# TensorFlow y tf.keras\n",
    "import tensorflow as tf\n",
    "from tensorflow import keras\n",
    "from keras.layers import Dropout\n",
    "from tensorflow.keras import datasets, layers, models\n",
    "\n",
    "# Librerias de ayuda\n",
    "import numpy as np\n",
    "import matplotlib.pyplot as plt\n",
    "import skimage\n",
    "from skimage.color import rgb2gray\n",
    "\n",
    "# se carga el conjunto de datos para su análisis\n",
    "cifar10 = keras.datasets.cifar10\n",
    "(train_images, train_labels), (test_images, test_labels) = cifar10.load_data()\n",
    "train_images = rgb2gray(train_images)\n",
    "test_images = rgb2gray(test_images)"
   ]
  },
  {
   "cell_type": "code",
   "execution_count": 2,
   "metadata": {},
   "outputs": [
    {
     "output_type": "execute_result",
     "data": {
      "text/plain": [
       "(50000, 32, 32)"
      ]
     },
     "metadata": {},
     "execution_count": 2
    }
   ],
   "source": [
    "train_images.shape"
   ]
  },
  {
   "cell_type": "code",
   "execution_count": 3,
   "metadata": {},
   "outputs": [],
   "source": [
    "class_names = ['airplane', 'automobile', 'bird', 'cat', 'deer',\n",
    "               'dog', 'frog', 'horse', 'ship', 'truck']"
   ]
  },
  {
   "cell_type": "code",
   "execution_count": 4,
   "metadata": {},
   "outputs": [
    {
     "output_type": "stream",
     "name": "stdout",
     "text": [
      "(50000, 32, 32)\n",
      "Epoch 1/10\n",
      " 572/1563 [=========>....................] - ETA: 5s - loss: 2.1108 - accuracy: 0.2215"
     ]
    }
   ],
   "source": [
    "model = models.Sequential()\n",
    "model.add(layers.Conv2D(filters=8, kernel_size=(3, 3), input_shape=(32, 32, 1), padding='same'))\n",
    "model.add(layers.MaxPooling2D((2, 2)))      # dividirá por 2 las dimensiones de alto y ancho de la imagen (de 28x28 @ 14x14)\n",
    "model.add(layers.Dropout(0.25))     # desactiva un 0'25 de neuronas\n",
    "model.add(layers.Flatten())\n",
    "model.add(layers.Dense(32 , activation='relu'))\n",
    "model.add(layers.Dense(10 , activation='softmax'))\n",
    "\n",
    "\n",
    "model.compile(optimizer='adam', loss='sparse_categorical_crossentropy', metrics=['accuracy'])\n",
    "\n",
    "print(train_images.shape)\n",
    "\n",
    "train_images = np.expand_dims(train_images, axis=-1)\n",
    "test_images = np.expand_dims(test_images, axis=-1)\n",
    "model.fit(train_images, train_labels, epochs=10)\n",
    "\n",
    "print(train_images.shape)\n",
    "\n",
    "print('***********')\n",
    "test_loss, test_acc = model.evaluate(test_images,  test_labels, verbose=2)\n",
    "print('Test accuracy:', test_acc)\n",
    "print('***********')"
   ]
  },
  {
   "cell_type": "code",
   "execution_count": 9,
   "metadata": {},
   "outputs": [
    {
     "output_type": "stream",
     "name": "stdout",
     "text": [
      "(50000, 32, 32)\n",
      "Epoch 1/10\n",
      "1563/1563 [==============================] - 7s 4ms/step - loss: 1.9876 - accuracy: 0.2671\n",
      "Epoch 2/10\n",
      "1563/1563 [==============================] - 11s 7ms/step - loss: 1.7018 - accuracy: 0.3866\n",
      "Epoch 3/10\n",
      "1563/1563 [==============================] - 9s 6ms/step - loss: 1.5789 - accuracy: 0.4358\n",
      "Epoch 4/10\n",
      "1563/1563 [==============================] - 7s 4ms/step - loss: 1.5122 - accuracy: 0.4627\n",
      "Epoch 5/10\n",
      "1563/1563 [==============================] - 9s 6ms/step - loss: 1.4643 - accuracy: 0.4808\n",
      "Epoch 6/10\n",
      "1563/1563 [==============================] - 8s 5ms/step - loss: 1.4270 - accuracy: 0.4968\n",
      "Epoch 7/10\n",
      "1563/1563 [==============================] - 9s 5ms/step - loss: 1.3947 - accuracy: 0.5082\n",
      "Epoch 8/10\n",
      "1563/1563 [==============================] - 9s 6ms/step - loss: 1.3687 - accuracy: 0.5162\n",
      "Epoch 9/10\n",
      "1563/1563 [==============================] - 8s 5ms/step - loss: 1.3483 - accuracy: 0.5240\n",
      "Epoch 10/10\n",
      "1563/1563 [==============================] - 8s 5ms/step - loss: 1.3284 - accuracy: 0.5328\n",
      "(50000, 32, 32, 1)\n",
      "***********\n",
      "313/313 - 1s - loss: 1.3177 - accuracy: 0.5337\n",
      "Test accuracy: 0.5336999893188477\n",
      "***********\n"
     ]
    }
   ],
   "source": [
    "\n",
    "(train_images, train_labels), (test_images, test_labels) = cifar10.load_data()\n",
    "train_images = rgb2gray(train_images)\n",
    "test_images = rgb2gray(test_images)\n",
    "\n",
    "model2 = models.Sequential()\n",
    "model2.add(layers.Conv2D(filters=8, kernel_size=(3, 3), input_shape=(32, 32, 1), padding='same'))\n",
    "model2.add(layers.MaxPooling2D((2, 2)))      # dividirá por 2 las dimensiones de alto y ancho de la imagen (de 28x28 @ 14x14)\n",
    "model2.add(layers.Dropout(0.25))     # desactiva un 0'25 de neuronas\n",
    "model2.add(layers.Flatten())\n",
    "model2.add(layers.Dense(16 , activation='relu'))\n",
    "model2.add(layers.Dense(32 , activation='relu'))\n",
    "model2.add(layers.Dense(10 , activation='softmax'))\n",
    "\n",
    "\n",
    "model2.compile(optimizer='adam', loss='sparse_categorical_crossentropy', metrics=['accuracy'])\n",
    "\n",
    "print(train_images.shape)\n",
    "\n",
    "train_images = np.expand_dims(train_images, axis=-1)\n",
    "test_images = np.expand_dims(test_images, axis=-1)\n",
    "model2.fit(train_images, train_labels, epochs=10)\n",
    "\n",
    "print(train_images.shape)\n",
    "\n",
    "print('***********')\n",
    "test_loss, test_acc = model2.evaluate(test_images,  test_labels, verbose=2)\n",
    "print('Test accuracy:', test_acc)\n",
    "print('***********')"
   ]
  },
  {
   "source": [
    "(train_images, train_labels), (test_images, test_labels) = cifar10.load_data()\n",
    "train_images = rgb2gray(train_images)\n",
    "test_images = rgb2gray(test_images)\n",
    "\n",
    "model3 = models.Sequential()\n",
    "model3.add(layers.Conv2D(filters=8, kernel_size=(3, 3), input_shape=(32, 32, 1), padding='same'))\n",
    "model3.add(layers.MaxPooling2D((2, 2)))      # dividirá por 2 las dimensiones de alto y ancho de la imagen (de 28x28 @ 14x14)\n",
    "model3.add(layers.Dropout(0.25))     # desactiva un 0'25 de neuronas\n",
    "model3.add(layers.Flatten())\n",
    "model3.add(layers.Dense(32 , activation='relu'))\n",
    "model3.add(layers.Dense(16 , activation='relu'))\n",
    "model3.add(layers.Dense(10 , activation='softmax'))\n",
    "\n",
    "\n",
    "model3.compile(optimizer='adam', loss='sparse_categorical_crossentropy', metrics=['accuracy'])\n",
    "\n",
    "print(train_images.shape)\n",
    "\n",
    "train_images = np.expand_dims(train_images, axis=-1)\n",
    "test_images = np.expand_dims(test_images, axis=-1)\n",
    "model3.fit(train_images, train_labels, epochs=10)\n",
    "\n",
    "print(train_images.shape)\n",
    "\n",
    "print('***********')\n",
    "test_loss, test_acc = model3.evaluate(test_images,  test_labels, verbose=2)\n",
    "print('Test accuracy:', test_acc)\n",
    "print('***********')"
   ],
   "cell_type": "code",
   "metadata": {},
   "execution_count": 10,
   "outputs": [
    {
     "output_type": "stream",
     "name": "stdout",
     "text": [
      "(50000, 32, 32)\n",
      "Epoch 1/10\n",
      "1563/1563 [==============================] - 9s 5ms/step - loss: 1.8883 - accuracy: 0.3094\n",
      "Epoch 2/10\n",
      "1563/1563 [==============================] - 8s 5ms/step - loss: 1.6324 - accuracy: 0.4149\n",
      "Epoch 3/10\n",
      "1563/1563 [==============================] - 8s 5ms/step - loss: 1.5410 - accuracy: 0.4507\n",
      "Epoch 4/10\n",
      "1563/1563 [==============================] - 8s 5ms/step - loss: 1.4818 - accuracy: 0.4763\n",
      "Epoch 5/10\n",
      "1563/1563 [==============================] - 8s 5ms/step - loss: 1.4478 - accuracy: 0.4883\n",
      "Epoch 6/10\n",
      "1563/1563 [==============================] - 7s 5ms/step - loss: 1.4110 - accuracy: 0.5004\n",
      "Epoch 7/10\n",
      "1563/1563 [==============================] - 8s 5ms/step - loss: 1.3864 - accuracy: 0.5124\n",
      "Epoch 8/10\n",
      "1563/1563 [==============================] - 7s 5ms/step - loss: 1.3604 - accuracy: 0.5206\n",
      "Epoch 9/10\n",
      "1563/1563 [==============================] - 8s 5ms/step - loss: 1.3478 - accuracy: 0.5246\n",
      "Epoch 10/10\n",
      "1563/1563 [==============================] - 8s 5ms/step - loss: 1.3221 - accuracy: 0.5364\n",
      "(50000, 32, 32, 1)\n",
      "***********\n",
      "313/313 - 1s - loss: 1.3287 - accuracy: 0.5282\n",
      "Test accuracy: 0.5281999707221985\n",
      "***********\n"
     ]
    }
   ]
  },
  {
   "cell_type": "code",
   "execution_count": 5,
   "metadata": {},
   "outputs": [
    {
     "output_type": "display_data",
     "data": {
      "text/plain": "<Figure size 432x288 with 2 Axes>",
      "image/svg+xml": "<?xml version=\"1.0\" encoding=\"utf-8\" standalone=\"no\"?>\r\n<!DOCTYPE svg PUBLIC \"-//W3C//DTD SVG 1.1//EN\"\r\n  \"http://www.w3.org/Graphics/SVG/1.1/DTD/svg11.dtd\">\r\n<svg height=\"252.317344pt\" version=\"1.1\" viewBox=\"0 0 302.080125 252.317344\" width=\"302.080125pt\" xmlns=\"http://www.w3.org/2000/svg\" xmlns:xlink=\"http://www.w3.org/1999/xlink\">\r\n <metadata>\r\n  <rdf:RDF xmlns:cc=\"http://creativecommons.org/ns#\" xmlns:dc=\"http://purl.org/dc/elements/1.1/\" xmlns:rdf=\"http://www.w3.org/1999/02/22-rdf-syntax-ns#\">\r\n   <cc:Work>\r\n    <dc:type rdf:resource=\"http://purl.org/dc/dcmitype/StillImage\"/>\r\n    <dc:date>2021-06-30T17:47:11.901098</dc:date>\r\n    <dc:format>image/svg+xml</dc:format>\r\n    <dc:creator>\r\n     <cc:Agent>\r\n      <dc:title>Matplotlib v3.4.2, https://matplotlib.org/</dc:title>\r\n     </cc:Agent>\r\n    </dc:creator>\r\n   </cc:Work>\r\n  </rdf:RDF>\r\n </metadata>\r\n <defs>\r\n  <style type=\"text/css\">*{stroke-linecap:butt;stroke-linejoin:round;}</style>\r\n </defs>\r\n <g id=\"figure_1\">\r\n  <g id=\"patch_1\">\r\n   <path d=\"M 0 252.317344 \r\nL 302.080125 252.317344 \r\nL 302.080125 0 \r\nL 0 0 \r\nz\r\n\" style=\"fill:none;\"/>\r\n  </g>\r\n  <g id=\"axes_1\">\r\n   <g id=\"patch_2\">\r\n    <path d=\"M 26.925 228.439219 \r\nL 244.365 228.439219 \r\nL 244.365 10.999219 \r\nL 26.925 10.999219 \r\nz\r\n\" style=\"fill:#ffffff;\"/>\r\n   </g>\r\n   <g clip-path=\"url(#p626016e537)\">\r\n    <image height=\"218\" id=\"image744e0a3967\" transform=\"scale(1 -1)translate(0 -218)\" width=\"218\" x=\"26.925\" xlink:href=\"data:image/png;base64,\r\niVBORw0KGgoAAAANSUhEUgAAANoAAADaCAYAAADAHVzbAAAUQElEQVR4nO2dy3Mb2XnFv34CaDwIEqQoinpLo7E1mhmP47hSdmrKVUm5XNlklW3+ivwh+TeyS7zKJpmkYicTT0aZRxxpKOpNUgQBAk0QQL+7s8j2nrua+rw5v2V/dYFGdx901bnfPdf5h7/9m0YAycUZKkm3nxmPd1pTOGYwcmBtuNOGNXFLWFqta+PxeNaBY+KpB2vJyoe1qgxhTRoXlurSfI5pksIxYYi/y/Px+V+m5u8SEUmW5u9rNzkc03fxOc7XC1h7VeDr2HLMj1w3aMEx6wSf49H0Eta63S6s/dmnH8PaR4/uG49/9s+f4/M4WcIafjoIId8bFBohClBohChAoRGiAIVGiAIUGiEK+F6B7fgg/y9Ya7lmKzP0CzimXGPLff4Oa365wvZ+HIPPO8f2+PwclsSrsR3sCbafywKfo4BZjbqGMyviWP4DPT/A5+HjcQ34uqLG535RYes8SdawFpT4HLM0MR73OhEcEy/MY0REXhziG3p6soK160NYkkHb/Nt+9/ljOMZyinyjEaIBhUaIAhQaIQpQaIQoQKERogCFRogC/vVbuJgNcOd21TZbwlmJtbvCzc1WC3+5wLYvqi2XFRxTpLjWCfEqgiDAlrXnWax6YLmnKe5IbyzWf2WZSui2cNe8D86jrvDvClo7sJY6M1jzZpaO+p75ng22RnBM/wr+XQsXPx9p9hbWwi5eBXF6cWo8/uT1MRxTeX1Y4xuNEAUoNEIUoNAIUYBCI0QBCo0QBfxeDzcBZ1NsEy4vzRpdJNgdis+xi7mY43FS4WbkbnvXeHwjwtkZKy+Gtcs1blCtGnwevWgD1rLGfC45PkUpMuyMOqg7WEScGn9or2d2VH0fX/s8wc/HIsZNxWEHu7f94cB43AuwC9gLcJP4e7exW3l1C4/75McPYO1yBZqRa/xumi5xAzPfaIQoQKERogCFRogCFBohClBohChAoRGigF+muEE1XeCm19nCbMXOVzhzYzrGtnSR47jwXs8Scy3m2PIau9JSV/jz8jW+HkEHX4+qwla355qbdkOLnV3m2N7HV1HEsTRFe23z9ERR4t+V5ObodxGRbh838/Z6+DlwXPP/u+PgZ0AqfEMjwbXhNj6PzR6e1tje2jIe//Nf/ACO+eLbMazxjUaIAhQaIQpQaIQoQKERogCFRogCFBohCviLObZG8wzbt/Mzs8k8nmDzOa9wpDbqLBexd5eHodki90L8H1JkOCOjtnSdp8UFrLUjS7d6b9N4fHyGMzeyANv7dWOZChnge9aAOY/FAv8uP8DXcXtk/l0iIqGHx2Vo2YLlPq8ynEGSpXhqpVjh83h1+ArWHv3EvOPnp58+xOeR4WefbzRCFKDQCFGAQiNEAQqNEAUoNEIUoNAIUcB/8xZ3bh89xWE6SWW2dtsdHIvccrFlbXF2pWsJvok65potontraO7MFhGZzXAgUZwOYe3W+/dg7ejIHC+9cfU6HLPXwlMQ55MJrMUzvINrkZvvp4sXEUi2ws/HcrmAtXZniGt9czhPWeKppqqFV1xUlu79BM8KyOHbE1jbum5+vveu7cMxo52XsMY3GiEKUGiEKEChEaIAhUaIAhQaIQpQaIQo4I8nloz6FGeae21z6Em3i8NQvAB7+F6A7XjfYtU3wNrtdLGFH3bwKgIJY1j6yY9/BmtXbmB7v3/NbLkXa9w1v5xg6/ns9AjWkgTnv29s9MBxs90uIlJZQnEOnr+CtcdPD2DNbZmfkcEuXgFx5xE+x9YVWJJ0hqeozub4+v/3wbfG4x+H+Bne2sOrGfhGI0QBCo0QBSg0QhSg0AhRgEIjRAEKjRAF/LzE9n7YwjZ445i7ut0K259RhDv71xW2YfMigTUfBLO0fNySPk7x5/W3dmAtCnFH/eTtIR7XMWfe//sXv4Vj1jHe4jcIcThPt4fvWRSZz6OxbNXbWP6L9/avwVrq4m2I49i8v0Fi2Zp2YrHp9/fwdzV7+DPnQQxrq9Rs/Y9i/Hzcf2gO9BHhG40QFSg0QhSg0AhRgEIjRAEKjRAF/LrBOzqmGXbn2h1zY+g6we7QKjfvziki0t/Bbs75FOd4tEOz43R1YxeOqQU7klGEm6KzBY7writ8Hb97Zs4McUt8fUMHu8GOxSXs9XAkOMoGySu8y2lhcaVtUe0PruP7WV8zu6aLHN/n3MfXKo1xrbDs0tqz7PgZgN1HV5fYDe7cex/W+EYjRAEKjRAFKDRCFKDQCFGAQiNEAQqNEAV817Xs0FniCG8pzRqtLGMKseRZhLhBdXv/Dqxt7Zpr/b0bcExuyeqYneFY59PDN7B2885NWLtyxWx1x+MxHFPX2HLv+Lhx2PFxw/EKNGA3lumO3LK7qCO4ybrXwRkfJZjW6HW24ZjKklt+fPIC1qSLczz6LWzvt2tzbT3F12N6hq1/vtEIUYBCI0QBCo0QBSg0QhSg0AhRgEIjRAHfpjXXD2GtBt3NjiWro+Xg77q8mMPaX/71X8Ha3v1PjMdfvDR3zIuIzE+ew1p8/BTWliu8w2VZ42mNVWqO1T612MGjIV5FUIFrLyKyu4Nj3POx+ZqcLywZKiOct337vQ9h7cadH8HacmnehrPt46mmb778DawdPMHTRp0OjhmvW7iWgimUyRo/A7XHHT8J+YNCoRGiAIVGiAIUGiEKUGiEKEChEaKA7zrYwodpLiLS+GaNBi7uiG5sITAZDvX56ssvYW3r1iPj8Yc/Mtv+IiLjAbZ1p8/wd3mbeBfRG/cfwtrJpdn6L7zHcMwSrI4QEUlXOMTGbVt2pByZu+MvEjwVEvXNu4SKiNywrFh48OEHsCaV2TqfvX0Ch/xvhoOdRj623J3cvGJBRCS9wMFDS7Bqoeng6+u7+PngG40QBSg0QhSg0AhRgEIjRAEKjRAFKDRCFPBblu7mdYbt+Ap0q3ciPF3gWaYLyiW293/9d7+GtXbnuvH4z3/1F3DM6OY9WKtAKIuIyLC7AWs7t3HueuSbbd9McMhOluCO9MUihrXpMQ4QilfmHPq9PRx+tH9rH9YGPdxtf/QGT5Nc3TV3/Q+Glt1K2/i7Ni2We20Ji4rwoy8bnvkdFI3woC4+fb7RCNGAQiNEAQqNEAUoNEIUoNAIUcAvLI2+m328e2TY7RuPt30cE325wLsvPj/HzZ8bGzg/4/njfzQev7WP/0MefPorWAv6+LvWR69hbXLwFayFO2aX84MH78ExniXKOsmxAzc+eQtr8/GR8XhV4Gsf9rHL9s3BIax18KMjo21zXHua46j2so3PI7I4o3mD81ACB1/HsGV+jm2R9+MTcxaKCN9ohKhAoRGiAIVGiAIUGiEKUGiEKEChEaKA71oivDstrEOnNlvCHp4tkKrGGQ2HpzgSfBtkXYiI+M/NdvbXv/kMjunv4t1Fb93D2R//9h+/hbWdwbew1r5qjv4e3voIjtkd4R1LeyOcTbGxg69VkZinGaoMW+CHhzgiffoC2/s/+5Ofwtpo13we4xo3ljsd3LHb5HgqxHNxRHqVZ7CWgGtyMYnhmOwST23xjUaIAhQaIQpQaIQoQKERogCFRogCFBohCvgg+VhERLwA25WNmAeWgv19p2P5PIvkZzHuLvcT8/TE488P4JjR3uew9uDDn8Na5uPMkBdHE1h7tGvONTk9w2P2P8I5GO0hzmWJGmxZr2fme5NkOGL83j6eStje+FNYG+7glQki5pUfgz7eXdSywECmr3C+iuN2YK0ucCe+05ifq6AawjFeiFcY8I1GiAIUGiEKUGiEKEChEaIAhUaIAhQaIQr4Fc4nEb+Dd3uskR9fYcvUs9ipm9j5l06E5yCGXbPVPZ/jXSC/+Ax39kchXs3w8U/vw9rTr/GUQRWaLeb9uziavMhi/HknJ7CWZ3jKwGvMqyeSqXl1gYhInRewtr2Frf949RLWspex+Tzid/g88O0UL8e2uhPiaZIAxH6LiLigVKSWqSbb58EKIeR7g0IjRAEKjRAFKDRCFKDQCFGAQiNEAb8/xOEl5RJb3UuwQ6dT4aCX0mL9Rz3cGT+7wN5uWpjPwyuxLX12MoW142/+FdZ+8Usc3FOvcEf9spwZj9+3dOGPn38Na50SW/iV4ICb1cpcc/FtkbzCgUrvzvDuoqsMz9dcvDPfz8vzUzhmPsZTEGELd+inlgAe1/LDO555WsATfD1cy2oXvtEIUYBCI0QBCo0QBSg0QhSg0AhRwI9jnBfRJHgHw6YxdyP7Hu5S3tjCzuKtCjtw+Uu806YfmL9v5zqOxk7H2LU7PsbfFZ9gd6tYxLDW7psd0KOvfwfHnE3GsDYc4l1J3Ro7X6FrvsbvJsdwTHsD35eVJUr8+A1+rl4fmJui8xyPaUXmnBERkca3NQ7jhnQP5N6IiGQZcNXhCJHC0oDNNxohClBohChAoRGiAIVGiAIUGiEKUGiEKOB7IPpYRMQBjZX/jzleerXElm96iRs82wHOfbhzfQfWFmvzFMSOZVfPtYft8ePxE1j7p395hj8zxcbvPsjxOAO7lYqIzC/wDqidIb4el+cxrN24umc8Hq9wpPbdH+BG6p1NfI2dAv+2w9+bdwqNF3g66fZoAGsVyEIRESlq3DjsuvieVSBMp7HsWutgKfGNRogGFBohClBohChAoRGiAIVGiAIUGiEK+J027vZ2PNytjoxRx7KFaJ3m+EQsfdFRG3dub26ZrfpWG1v4iY8t2tdTvPpgkeHubNDsLSIiB2fm/I/37+3DMW6GbenyEudnLBZ4WuC7C7ONX1qmOyYzPKVx772bsPbyDZ4mGYO49hAvFJAix1MQZWXJBfHxh9pqEpintnJLFo3v4GeYbzRCFKDQCFGAQiNEAQqNEAUoNEIUoNAIUcCXGtuVTYFrjmueFshSPGZt6RJ3LXHhjiWG2QE2bFPgqYRuhFcKRNubsPbiHQ71aeoWrLVz8y6R509wKM5Vz7w6QkTkk038XYMcr7jIQnM40jzD3zU9fg5r/3Pwe1hb53gVx2ptvtfX9vA0g+Pg3WctSdxSO/i5KixWPZrkqWFFpLGsIuAbjRAFKDRCFKDQCFGAQiNEAQqNEAUoNEIU8OdTbFknM2w/+53IeLwsLV3nObaRfQfbprb8dBd85nKFc9yHmzjo5Yd3d2EtnpltehGR6Rz/tmVpruVrW9Y8vo5/9Me4a37g4Y70/zw3r8Z48uoMjhnHeLdVm3Xe4MshbmW+n6ElQ78JLJ32lmensDxzdY1rKcjRDz38bgptzymsEEK+Nyg0QhSg0AhRgEIjRAEKjRAFKDRCFPDPZjjoxc9x4ky3bbZbexG2YQPLvqS5Jd0mCnC3Otri13Fwh36Z4u+yuLdy9/oI1upqCmuTS3Mne1ViO3vh4iD3sxKHFYU7uMv92csXxuOvZqdwTFnjVRBbG/g8fnj1NqytJuYwnd0BbsMftvDDs0hxOM/FBZ6SSSxhSyXI3t+7hvcbeDXBewfwjUaIAhQaIQpQaIQoQKERogCFRogC/gw4YiIigxA7X34BGjItWRGhJYI5sEg+jnHMdQOixMOOOR9DRKTbxo7k4gK7h70OdsXu3cbf156Y3a1lhq+vi+Mn5O+//ArWfMuFfHpuducyy66vgSXmuqxxrW/ZlbRJzM3IfoCbg8XD7mGa4ubsPMWNz+vEkonjm5+RZ69xE/54gd1svtEIUYBCI0QBCo0QBSg0QhSg0AhRgEIjRAH/ZIJjui8DbH9e20a2uqVz2LKrZ+Ngzbci3Ly6zsxNr+eXuMGzsEQ3o6hzEZELS36G28JTF7f2zTHjVYVt9XWCG2WzCjf6lg7epXVrZJ6CCCxzCQNLk3jh4Kbor74z73IqInJz+77xuBPh5vELixWfWCLNG0ucfGaJvJ9Mzff61dsLOKby8PXgG40QBSg0QhSg0AhRgEIjRAEKjRAFKDRCFPAnMe44XgrumN7qmSPB6xDb48sV7uzHPdYijcVGLirzf0Xj4qkEz3KOvoMtZsfD18pp8H9WPzRb7lVh+dWeZedUy/+jbYXB9qZ5R01P8O8a9PFKh7A/hLVkZcmA8czTE3mOO+PTFE9pOJb88V4XT0+UlmmexjNPvbQtKz/SAt8XvtEIUYBCI0QBCo0QBSg0QhSg0AhRgEIjRAF/bul8XhaWqGVg1fuWCOlOC1vPro81X9XYBk/W5vN3LRtElmAHThERCbF967VwZ7xv6YC/cmVoPH65wCsnwhD/gCjF1j8KKxIRiVpmy7rI8bWvG/x5lSXGPfBx0M46N3fGZzl+3kLL6ohuiKd/PEvGe7drnqISEbkCHrmyxvf5eMxIcEL+oFBohChAoRGiAIVGiAIUGiEKUGiEKOCnDbZG55fYBj84Nufh393FGfT7HRyyM9rCNceS/94CXeIp2htARJLckvFumdKoBE9PlCUeN7s0r4KwzzKYO+1FRCwN+lKU2PpfpuYpmcBij9egi11EJK/wtEs7xKsgEhAu5Hr4h1WWvQjEEooT9fDzWKzw6pQM7HbrWt5NG138m/lGI0QBCo0QBSg0QhSg0AhRgEIjRAE/KbEDF2MjTV6fI1cGEzjYOooiPLLdwrUQNK8GAXaA1pb8iXWCc00Ki/Xle9gZvZiZm03LEn+e52JHrNWy/TbcqFyChu/taATHVBVuHC4yywOS4ebsCsS4VxW2YaMIu7COZcfSxOIsei5+rgLf7ICWlhjx/gA7nHyjEaIAhUaIAhQaIQpQaIQoQKERogCFRogC/gcPP4DFOJ7BWgtkZGyGeLogGuGMhqaD7dvusAdrIWhE9S35HrYm1Nk8hrXcMhWyObRYu5XZEs4s9niaYlu93cHW+YYlXH2dLI3HB8MBHCMN/rwc2PQiIp6lAbsNGpX7PXyfu138fAQBvh6J5Rxtu8yKa35GbL+5tOSr8I1GiAIUGiEKUGiEKEChEaIAhUaIAhQaIQr8HxbXASlGChYqAAAAAElFTkSuQmCC\" y=\"-10.439219\"/>\r\n   </g>\r\n   <g id=\"matplotlib.axis_1\">\r\n    <g id=\"xtick_1\">\r\n     <g id=\"line2d_1\">\r\n      <defs>\r\n       <path d=\"M 0 0 \r\nL 0 3.5 \r\n\" id=\"m90b09b6cec\" style=\"stroke:#000000;stroke-width:0.8;\"/>\r\n      </defs>\r\n      <g>\r\n       <use style=\"stroke:#000000;stroke-width:0.8;\" x=\"30.3225\" xlink:href=\"#m90b09b6cec\" y=\"228.439219\"/>\r\n      </g>\r\n     </g>\r\n     <g id=\"text_1\">\r\n      <!-- 0 -->\r\n      <g transform=\"translate(27.14125 243.037656)scale(0.1 -0.1)\">\r\n       <defs>\r\n        <path d=\"M 2034 4250 \r\nQ 1547 4250 1301 3770 \r\nQ 1056 3291 1056 2328 \r\nQ 1056 1369 1301 889 \r\nQ 1547 409 2034 409 \r\nQ 2525 409 2770 889 \r\nQ 3016 1369 3016 2328 \r\nQ 3016 3291 2770 3770 \r\nQ 2525 4250 2034 4250 \r\nz\r\nM 2034 4750 \r\nQ 2819 4750 3233 4129 \r\nQ 3647 3509 3647 2328 \r\nQ 3647 1150 3233 529 \r\nQ 2819 -91 2034 -91 \r\nQ 1250 -91 836 529 \r\nQ 422 1150 422 2328 \r\nQ 422 3509 836 4129 \r\nQ 1250 4750 2034 4750 \r\nz\r\n\" id=\"DejaVuSans-30\" transform=\"scale(0.015625)\"/>\r\n       </defs>\r\n       <use xlink:href=\"#DejaVuSans-30\"/>\r\n      </g>\r\n     </g>\r\n    </g>\r\n    <g id=\"xtick_2\">\r\n     <g id=\"line2d_2\">\r\n      <g>\r\n       <use style=\"stroke:#000000;stroke-width:0.8;\" x=\"64.2975\" xlink:href=\"#m90b09b6cec\" y=\"228.439219\"/>\r\n      </g>\r\n     </g>\r\n     <g id=\"text_2\">\r\n      <!-- 5 -->\r\n      <g transform=\"translate(61.11625 243.037656)scale(0.1 -0.1)\">\r\n       <defs>\r\n        <path d=\"M 691 4666 \r\nL 3169 4666 \r\nL 3169 4134 \r\nL 1269 4134 \r\nL 1269 2991 \r\nQ 1406 3038 1543 3061 \r\nQ 1681 3084 1819 3084 \r\nQ 2600 3084 3056 2656 \r\nQ 3513 2228 3513 1497 \r\nQ 3513 744 3044 326 \r\nQ 2575 -91 1722 -91 \r\nQ 1428 -91 1123 -41 \r\nQ 819 9 494 109 \r\nL 494 744 \r\nQ 775 591 1075 516 \r\nQ 1375 441 1709 441 \r\nQ 2250 441 2565 725 \r\nQ 2881 1009 2881 1497 \r\nQ 2881 1984 2565 2268 \r\nQ 2250 2553 1709 2553 \r\nQ 1456 2553 1204 2497 \r\nQ 953 2441 691 2322 \r\nL 691 4666 \r\nz\r\n\" id=\"DejaVuSans-35\" transform=\"scale(0.015625)\"/>\r\n       </defs>\r\n       <use xlink:href=\"#DejaVuSans-35\"/>\r\n      </g>\r\n     </g>\r\n    </g>\r\n    <g id=\"xtick_3\">\r\n     <g id=\"line2d_3\">\r\n      <g>\r\n       <use style=\"stroke:#000000;stroke-width:0.8;\" x=\"98.2725\" xlink:href=\"#m90b09b6cec\" y=\"228.439219\"/>\r\n      </g>\r\n     </g>\r\n     <g id=\"text_3\">\r\n      <!-- 10 -->\r\n      <g transform=\"translate(91.91 243.037656)scale(0.1 -0.1)\">\r\n       <defs>\r\n        <path d=\"M 794 531 \r\nL 1825 531 \r\nL 1825 4091 \r\nL 703 3866 \r\nL 703 4441 \r\nL 1819 4666 \r\nL 2450 4666 \r\nL 2450 531 \r\nL 3481 531 \r\nL 3481 0 \r\nL 794 0 \r\nL 794 531 \r\nz\r\n\" id=\"DejaVuSans-31\" transform=\"scale(0.015625)\"/>\r\n       </defs>\r\n       <use xlink:href=\"#DejaVuSans-31\"/>\r\n       <use x=\"63.623047\" xlink:href=\"#DejaVuSans-30\"/>\r\n      </g>\r\n     </g>\r\n    </g>\r\n    <g id=\"xtick_4\">\r\n     <g id=\"line2d_4\">\r\n      <g>\r\n       <use style=\"stroke:#000000;stroke-width:0.8;\" x=\"132.2475\" xlink:href=\"#m90b09b6cec\" y=\"228.439219\"/>\r\n      </g>\r\n     </g>\r\n     <g id=\"text_4\">\r\n      <!-- 15 -->\r\n      <g transform=\"translate(125.885 243.037656)scale(0.1 -0.1)\">\r\n       <use xlink:href=\"#DejaVuSans-31\"/>\r\n       <use x=\"63.623047\" xlink:href=\"#DejaVuSans-35\"/>\r\n      </g>\r\n     </g>\r\n    </g>\r\n    <g id=\"xtick_5\">\r\n     <g id=\"line2d_5\">\r\n      <g>\r\n       <use style=\"stroke:#000000;stroke-width:0.8;\" x=\"166.2225\" xlink:href=\"#m90b09b6cec\" y=\"228.439219\"/>\r\n      </g>\r\n     </g>\r\n     <g id=\"text_5\">\r\n      <!-- 20 -->\r\n      <g transform=\"translate(159.86 243.037656)scale(0.1 -0.1)\">\r\n       <defs>\r\n        <path d=\"M 1228 531 \r\nL 3431 531 \r\nL 3431 0 \r\nL 469 0 \r\nL 469 531 \r\nQ 828 903 1448 1529 \r\nQ 2069 2156 2228 2338 \r\nQ 2531 2678 2651 2914 \r\nQ 2772 3150 2772 3378 \r\nQ 2772 3750 2511 3984 \r\nQ 2250 4219 1831 4219 \r\nQ 1534 4219 1204 4116 \r\nQ 875 4013 500 3803 \r\nL 500 4441 \r\nQ 881 4594 1212 4672 \r\nQ 1544 4750 1819 4750 \r\nQ 2544 4750 2975 4387 \r\nQ 3406 4025 3406 3419 \r\nQ 3406 3131 3298 2873 \r\nQ 3191 2616 2906 2266 \r\nQ 2828 2175 2409 1742 \r\nQ 1991 1309 1228 531 \r\nz\r\n\" id=\"DejaVuSans-32\" transform=\"scale(0.015625)\"/>\r\n       </defs>\r\n       <use xlink:href=\"#DejaVuSans-32\"/>\r\n       <use x=\"63.623047\" xlink:href=\"#DejaVuSans-30\"/>\r\n      </g>\r\n     </g>\r\n    </g>\r\n    <g id=\"xtick_6\">\r\n     <g id=\"line2d_6\">\r\n      <g>\r\n       <use style=\"stroke:#000000;stroke-width:0.8;\" x=\"200.1975\" xlink:href=\"#m90b09b6cec\" y=\"228.439219\"/>\r\n      </g>\r\n     </g>\r\n     <g id=\"text_6\">\r\n      <!-- 25 -->\r\n      <g transform=\"translate(193.835 243.037656)scale(0.1 -0.1)\">\r\n       <use xlink:href=\"#DejaVuSans-32\"/>\r\n       <use x=\"63.623047\" xlink:href=\"#DejaVuSans-35\"/>\r\n      </g>\r\n     </g>\r\n    </g>\r\n    <g id=\"xtick_7\">\r\n     <g id=\"line2d_7\">\r\n      <g>\r\n       <use style=\"stroke:#000000;stroke-width:0.8;\" x=\"234.1725\" xlink:href=\"#m90b09b6cec\" y=\"228.439219\"/>\r\n      </g>\r\n     </g>\r\n     <g id=\"text_7\">\r\n      <!-- 30 -->\r\n      <g transform=\"translate(227.81 243.037656)scale(0.1 -0.1)\">\r\n       <defs>\r\n        <path d=\"M 2597 2516 \r\nQ 3050 2419 3304 2112 \r\nQ 3559 1806 3559 1356 \r\nQ 3559 666 3084 287 \r\nQ 2609 -91 1734 -91 \r\nQ 1441 -91 1130 -33 \r\nQ 819 25 488 141 \r\nL 488 750 \r\nQ 750 597 1062 519 \r\nQ 1375 441 1716 441 \r\nQ 2309 441 2620 675 \r\nQ 2931 909 2931 1356 \r\nQ 2931 1769 2642 2001 \r\nQ 2353 2234 1838 2234 \r\nL 1294 2234 \r\nL 1294 2753 \r\nL 1863 2753 \r\nQ 2328 2753 2575 2939 \r\nQ 2822 3125 2822 3475 \r\nQ 2822 3834 2567 4026 \r\nQ 2313 4219 1838 4219 \r\nQ 1578 4219 1281 4162 \r\nQ 984 4106 628 3988 \r\nL 628 4550 \r\nQ 988 4650 1302 4700 \r\nQ 1616 4750 1894 4750 \r\nQ 2613 4750 3031 4423 \r\nQ 3450 4097 3450 3541 \r\nQ 3450 3153 3228 2886 \r\nQ 3006 2619 2597 2516 \r\nz\r\n\" id=\"DejaVuSans-33\" transform=\"scale(0.015625)\"/>\r\n       </defs>\r\n       <use xlink:href=\"#DejaVuSans-33\"/>\r\n       <use x=\"63.623047\" xlink:href=\"#DejaVuSans-30\"/>\r\n      </g>\r\n     </g>\r\n    </g>\r\n   </g>\r\n   <g id=\"matplotlib.axis_2\">\r\n    <g id=\"ytick_1\">\r\n     <g id=\"line2d_8\">\r\n      <defs>\r\n       <path d=\"M 0 0 \r\nL -3.5 0 \r\n\" id=\"m8f5dee4f95\" style=\"stroke:#000000;stroke-width:0.8;\"/>\r\n      </defs>\r\n      <g>\r\n       <use style=\"stroke:#000000;stroke-width:0.8;\" x=\"26.925\" xlink:href=\"#m8f5dee4f95\" y=\"14.396719\"/>\r\n      </g>\r\n     </g>\r\n     <g id=\"text_8\">\r\n      <!-- 0 -->\r\n      <g transform=\"translate(13.5625 18.195937)scale(0.1 -0.1)\">\r\n       <use xlink:href=\"#DejaVuSans-30\"/>\r\n      </g>\r\n     </g>\r\n    </g>\r\n    <g id=\"ytick_2\">\r\n     <g id=\"line2d_9\">\r\n      <g>\r\n       <use style=\"stroke:#000000;stroke-width:0.8;\" x=\"26.925\" xlink:href=\"#m8f5dee4f95\" y=\"48.371719\"/>\r\n      </g>\r\n     </g>\r\n     <g id=\"text_9\">\r\n      <!-- 5 -->\r\n      <g transform=\"translate(13.5625 52.170937)scale(0.1 -0.1)\">\r\n       <use xlink:href=\"#DejaVuSans-35\"/>\r\n      </g>\r\n     </g>\r\n    </g>\r\n    <g id=\"ytick_3\">\r\n     <g id=\"line2d_10\">\r\n      <g>\r\n       <use style=\"stroke:#000000;stroke-width:0.8;\" x=\"26.925\" xlink:href=\"#m8f5dee4f95\" y=\"82.346719\"/>\r\n      </g>\r\n     </g>\r\n     <g id=\"text_10\">\r\n      <!-- 10 -->\r\n      <g transform=\"translate(7.2 86.145938)scale(0.1 -0.1)\">\r\n       <use xlink:href=\"#DejaVuSans-31\"/>\r\n       <use x=\"63.623047\" xlink:href=\"#DejaVuSans-30\"/>\r\n      </g>\r\n     </g>\r\n    </g>\r\n    <g id=\"ytick_4\">\r\n     <g id=\"line2d_11\">\r\n      <g>\r\n       <use style=\"stroke:#000000;stroke-width:0.8;\" x=\"26.925\" xlink:href=\"#m8f5dee4f95\" y=\"116.321719\"/>\r\n      </g>\r\n     </g>\r\n     <g id=\"text_11\">\r\n      <!-- 15 -->\r\n      <g transform=\"translate(7.2 120.120937)scale(0.1 -0.1)\">\r\n       <use xlink:href=\"#DejaVuSans-31\"/>\r\n       <use x=\"63.623047\" xlink:href=\"#DejaVuSans-35\"/>\r\n      </g>\r\n     </g>\r\n    </g>\r\n    <g id=\"ytick_5\">\r\n     <g id=\"line2d_12\">\r\n      <g>\r\n       <use style=\"stroke:#000000;stroke-width:0.8;\" x=\"26.925\" xlink:href=\"#m8f5dee4f95\" y=\"150.296719\"/>\r\n      </g>\r\n     </g>\r\n     <g id=\"text_12\">\r\n      <!-- 20 -->\r\n      <g transform=\"translate(7.2 154.095937)scale(0.1 -0.1)\">\r\n       <use xlink:href=\"#DejaVuSans-32\"/>\r\n       <use x=\"63.623047\" xlink:href=\"#DejaVuSans-30\"/>\r\n      </g>\r\n     </g>\r\n    </g>\r\n    <g id=\"ytick_6\">\r\n     <g id=\"line2d_13\">\r\n      <g>\r\n       <use style=\"stroke:#000000;stroke-width:0.8;\" x=\"26.925\" xlink:href=\"#m8f5dee4f95\" y=\"184.271719\"/>\r\n      </g>\r\n     </g>\r\n     <g id=\"text_13\">\r\n      <!-- 25 -->\r\n      <g transform=\"translate(7.2 188.070937)scale(0.1 -0.1)\">\r\n       <use xlink:href=\"#DejaVuSans-32\"/>\r\n       <use x=\"63.623047\" xlink:href=\"#DejaVuSans-35\"/>\r\n      </g>\r\n     </g>\r\n    </g>\r\n    <g id=\"ytick_7\">\r\n     <g id=\"line2d_14\">\r\n      <g>\r\n       <use style=\"stroke:#000000;stroke-width:0.8;\" x=\"26.925\" xlink:href=\"#m8f5dee4f95\" y=\"218.246719\"/>\r\n      </g>\r\n     </g>\r\n     <g id=\"text_14\">\r\n      <!-- 30 -->\r\n      <g transform=\"translate(7.2 222.045937)scale(0.1 -0.1)\">\r\n       <use xlink:href=\"#DejaVuSans-33\"/>\r\n       <use x=\"63.623047\" xlink:href=\"#DejaVuSans-30\"/>\r\n      </g>\r\n     </g>\r\n    </g>\r\n   </g>\r\n   <g id=\"patch_3\">\r\n    <path d=\"M 26.925 228.439219 \r\nL 26.925 10.999219 \r\n\" style=\"fill:none;stroke:#000000;stroke-linecap:square;stroke-linejoin:miter;stroke-width:0.8;\"/>\r\n   </g>\r\n   <g id=\"patch_4\">\r\n    <path d=\"M 244.365 228.439219 \r\nL 244.365 10.999219 \r\n\" style=\"fill:none;stroke:#000000;stroke-linecap:square;stroke-linejoin:miter;stroke-width:0.8;\"/>\r\n   </g>\r\n   <g id=\"patch_5\">\r\n    <path d=\"M 26.925 228.439219 \r\nL 244.365 228.439219 \r\n\" style=\"fill:none;stroke:#000000;stroke-linecap:square;stroke-linejoin:miter;stroke-width:0.8;\"/>\r\n   </g>\r\n   <g id=\"patch_6\">\r\n    <path d=\"M 26.925 10.999219 \r\nL 244.365 10.999219 \r\n\" style=\"fill:none;stroke:#000000;stroke-linecap:square;stroke-linejoin:miter;stroke-width:0.8;\"/>\r\n   </g>\r\n  </g>\r\n  <g id=\"axes_2\">\r\n   <g id=\"patch_7\">\r\n    <path d=\"M 261.105 228.439219 \r\nL 271.977 228.439219 \r\nL 271.977 10.999219 \r\nL 261.105 10.999219 \r\nz\r\n\" style=\"fill:#ffffff;\"/>\r\n   </g>\r\n   <g id=\"patch_8\">\r\n    <path clip-path=\"url(#pd481991770)\" d=\"M 261.105 228.439219 \r\nL 261.105 227.589844 \r\nL 261.105 11.848594 \r\nL 261.105 10.999219 \r\nL 271.977 10.999219 \r\nL 271.977 11.848594 \r\nL 271.977 227.589844 \r\nL 271.977 228.439219 \r\nL 271.977 228.439219 \r\nz\r\n\" style=\"fill:#ffffff;stroke:#ffffff;stroke-linejoin:miter;stroke-width:0.01;\"/>\r\n   </g>\r\n   <image height=\"217\" id=\"imagea6bd97289a\" transform=\"scale(1 -1)translate(0 -217)\" width=\"11\" x=\"261\" xlink:href=\"data:image/png;base64,\r\niVBORw0KGgoAAAANSUhEUgAAAAsAAADZCAYAAAD2WsoCAAABZElEQVR4nO2ZQU4FMQxDmzTlZByB+58EKFuWeUhPyqA/a8tybE/b6cR7fNzVfGpFdrGrYm8AzuiDkYzFmAE4ksggbiAZaMDwrENuIDBywwMzN0jcWkWHuHFZN9rYMW7cPUMGS7CNpTK0Pl9Pcx9Ly6+FwpjJgMgNGDdghj4T5ge6AQe0rLv9ne2ZAzLN7IXVZIjM3vpsgf993FPceDH/Zn6V/8/MlmagmB8CNeYR1tWK9s3QI7tBy993g7XOdAMkCE/mI2R4boB7MtVnBF6WjADlr9DcAEdRGjcBJ3EDDkg094nNAVPzGYLbWKh5x/cEGSxBjbmYG5ZmD4wGHKKZgck2Ufk1QQZ0AyS4WTcsNzZzw6roEQe0NKP1GbXu5CeQoSXoMaO4UYJeKJAZgN9Y+VGC1oqEBkTWnUW64fXZG9BLUNvaEDMCH9a6/lPg3/iqDb6XqAzAfMAFRyXRjGSkJuNEtcE/MnqBZnxESowAAAAASUVORK5CYII=\" y=\"-11\"/>\r\n   <g id=\"matplotlib.axis_3\"/>\r\n   <g id=\"matplotlib.axis_4\">\r\n    <g id=\"ytick_8\">\r\n     <g id=\"line2d_15\">\r\n      <defs>\r\n       <path d=\"M 0 0 \r\nL 3.5 0 \r\n\" id=\"mba9d4d813e\" style=\"stroke:#000000;stroke-width:0.8;\"/>\r\n      </defs>\r\n      <g>\r\n       <use style=\"stroke:#000000;stroke-width:0.8;\" x=\"271.977\" xlink:href=\"#mba9d4d813e\" y=\"228.439219\"/>\r\n      </g>\r\n     </g>\r\n     <g id=\"text_15\">\r\n      <!-- 0.0 -->\r\n      <g transform=\"translate(278.977 232.238437)scale(0.1 -0.1)\">\r\n       <defs>\r\n        <path d=\"M 684 794 \r\nL 1344 794 \r\nL 1344 0 \r\nL 684 0 \r\nL 684 794 \r\nz\r\n\" id=\"DejaVuSans-2e\" transform=\"scale(0.015625)\"/>\r\n       </defs>\r\n       <use xlink:href=\"#DejaVuSans-30\"/>\r\n       <use x=\"63.623047\" xlink:href=\"#DejaVuSans-2e\"/>\r\n       <use x=\"95.410156\" xlink:href=\"#DejaVuSans-30\"/>\r\n      </g>\r\n     </g>\r\n    </g>\r\n    <g id=\"ytick_9\">\r\n     <g id=\"line2d_16\">\r\n      <g>\r\n       <use style=\"stroke:#000000;stroke-width:0.8;\" x=\"271.977\" xlink:href=\"#mba9d4d813e\" y=\"184.951219\"/>\r\n      </g>\r\n     </g>\r\n     <g id=\"text_16\">\r\n      <!-- 0.2 -->\r\n      <g transform=\"translate(278.977 188.750437)scale(0.1 -0.1)\">\r\n       <use xlink:href=\"#DejaVuSans-30\"/>\r\n       <use x=\"63.623047\" xlink:href=\"#DejaVuSans-2e\"/>\r\n       <use x=\"95.410156\" xlink:href=\"#DejaVuSans-32\"/>\r\n      </g>\r\n     </g>\r\n    </g>\r\n    <g id=\"ytick_10\">\r\n     <g id=\"line2d_17\">\r\n      <g>\r\n       <use style=\"stroke:#000000;stroke-width:0.8;\" x=\"271.977\" xlink:href=\"#mba9d4d813e\" y=\"141.463219\"/>\r\n      </g>\r\n     </g>\r\n     <g id=\"text_17\">\r\n      <!-- 0.4 -->\r\n      <g transform=\"translate(278.977 145.262437)scale(0.1 -0.1)\">\r\n       <defs>\r\n        <path d=\"M 2419 4116 \r\nL 825 1625 \r\nL 2419 1625 \r\nL 2419 4116 \r\nz\r\nM 2253 4666 \r\nL 3047 4666 \r\nL 3047 1625 \r\nL 3713 1625 \r\nL 3713 1100 \r\nL 3047 1100 \r\nL 3047 0 \r\nL 2419 0 \r\nL 2419 1100 \r\nL 313 1100 \r\nL 313 1709 \r\nL 2253 4666 \r\nz\r\n\" id=\"DejaVuSans-34\" transform=\"scale(0.015625)\"/>\r\n       </defs>\r\n       <use xlink:href=\"#DejaVuSans-30\"/>\r\n       <use x=\"63.623047\" xlink:href=\"#DejaVuSans-2e\"/>\r\n       <use x=\"95.410156\" xlink:href=\"#DejaVuSans-34\"/>\r\n      </g>\r\n     </g>\r\n    </g>\r\n    <g id=\"ytick_11\">\r\n     <g id=\"line2d_18\">\r\n      <g>\r\n       <use style=\"stroke:#000000;stroke-width:0.8;\" x=\"271.977\" xlink:href=\"#mba9d4d813e\" y=\"97.975219\"/>\r\n      </g>\r\n     </g>\r\n     <g id=\"text_18\">\r\n      <!-- 0.6 -->\r\n      <g transform=\"translate(278.977 101.774437)scale(0.1 -0.1)\">\r\n       <defs>\r\n        <path d=\"M 2113 2584 \r\nQ 1688 2584 1439 2293 \r\nQ 1191 2003 1191 1497 \r\nQ 1191 994 1439 701 \r\nQ 1688 409 2113 409 \r\nQ 2538 409 2786 701 \r\nQ 3034 994 3034 1497 \r\nQ 3034 2003 2786 2293 \r\nQ 2538 2584 2113 2584 \r\nz\r\nM 3366 4563 \r\nL 3366 3988 \r\nQ 3128 4100 2886 4159 \r\nQ 2644 4219 2406 4219 \r\nQ 1781 4219 1451 3797 \r\nQ 1122 3375 1075 2522 \r\nQ 1259 2794 1537 2939 \r\nQ 1816 3084 2150 3084 \r\nQ 2853 3084 3261 2657 \r\nQ 3669 2231 3669 1497 \r\nQ 3669 778 3244 343 \r\nQ 2819 -91 2113 -91 \r\nQ 1303 -91 875 529 \r\nQ 447 1150 447 2328 \r\nQ 447 3434 972 4092 \r\nQ 1497 4750 2381 4750 \r\nQ 2619 4750 2861 4703 \r\nQ 3103 4656 3366 4563 \r\nz\r\n\" id=\"DejaVuSans-36\" transform=\"scale(0.015625)\"/>\r\n       </defs>\r\n       <use xlink:href=\"#DejaVuSans-30\"/>\r\n       <use x=\"63.623047\" xlink:href=\"#DejaVuSans-2e\"/>\r\n       <use x=\"95.410156\" xlink:href=\"#DejaVuSans-36\"/>\r\n      </g>\r\n     </g>\r\n    </g>\r\n    <g id=\"ytick_12\">\r\n     <g id=\"line2d_19\">\r\n      <g>\r\n       <use style=\"stroke:#000000;stroke-width:0.8;\" x=\"271.977\" xlink:href=\"#mba9d4d813e\" y=\"54.487219\"/>\r\n      </g>\r\n     </g>\r\n     <g id=\"text_19\">\r\n      <!-- 0.8 -->\r\n      <g transform=\"translate(278.977 58.286437)scale(0.1 -0.1)\">\r\n       <defs>\r\n        <path d=\"M 2034 2216 \r\nQ 1584 2216 1326 1975 \r\nQ 1069 1734 1069 1313 \r\nQ 1069 891 1326 650 \r\nQ 1584 409 2034 409 \r\nQ 2484 409 2743 651 \r\nQ 3003 894 3003 1313 \r\nQ 3003 1734 2745 1975 \r\nQ 2488 2216 2034 2216 \r\nz\r\nM 1403 2484 \r\nQ 997 2584 770 2862 \r\nQ 544 3141 544 3541 \r\nQ 544 4100 942 4425 \r\nQ 1341 4750 2034 4750 \r\nQ 2731 4750 3128 4425 \r\nQ 3525 4100 3525 3541 \r\nQ 3525 3141 3298 2862 \r\nQ 3072 2584 2669 2484 \r\nQ 3125 2378 3379 2068 \r\nQ 3634 1759 3634 1313 \r\nQ 3634 634 3220 271 \r\nQ 2806 -91 2034 -91 \r\nQ 1263 -91 848 271 \r\nQ 434 634 434 1313 \r\nQ 434 1759 690 2068 \r\nQ 947 2378 1403 2484 \r\nz\r\nM 1172 3481 \r\nQ 1172 3119 1398 2916 \r\nQ 1625 2713 2034 2713 \r\nQ 2441 2713 2670 2916 \r\nQ 2900 3119 2900 3481 \r\nQ 2900 3844 2670 4047 \r\nQ 2441 4250 2034 4250 \r\nQ 1625 4250 1398 4047 \r\nQ 1172 3844 1172 3481 \r\nz\r\n\" id=\"DejaVuSans-38\" transform=\"scale(0.015625)\"/>\r\n       </defs>\r\n       <use xlink:href=\"#DejaVuSans-30\"/>\r\n       <use x=\"63.623047\" xlink:href=\"#DejaVuSans-2e\"/>\r\n       <use x=\"95.410156\" xlink:href=\"#DejaVuSans-38\"/>\r\n      </g>\r\n     </g>\r\n    </g>\r\n    <g id=\"ytick_13\">\r\n     <g id=\"line2d_20\">\r\n      <g>\r\n       <use style=\"stroke:#000000;stroke-width:0.8;\" x=\"271.977\" xlink:href=\"#mba9d4d813e\" y=\"10.999219\"/>\r\n      </g>\r\n     </g>\r\n     <g id=\"text_20\">\r\n      <!-- 1.0 -->\r\n      <g transform=\"translate(278.977 14.798437)scale(0.1 -0.1)\">\r\n       <use xlink:href=\"#DejaVuSans-31\"/>\r\n       <use x=\"63.623047\" xlink:href=\"#DejaVuSans-2e\"/>\r\n       <use x=\"95.410156\" xlink:href=\"#DejaVuSans-30\"/>\r\n      </g>\r\n     </g>\r\n    </g>\r\n   </g>\r\n   <g id=\"LineCollection_1\"/>\r\n   <g id=\"patch_9\">\r\n    <path d=\"M 261.105 228.439219 \r\nL 261.105 227.589844 \r\nL 261.105 11.848594 \r\nL 261.105 10.999219 \r\nL 271.977 10.999219 \r\nL 271.977 11.848594 \r\nL 271.977 227.589844 \r\nL 271.977 228.439219 \r\nz\r\n\" style=\"fill:none;stroke:#000000;stroke-linecap:square;stroke-linejoin:miter;stroke-width:0.8;\"/>\r\n   </g>\r\n  </g>\r\n </g>\r\n <defs>\r\n  <clipPath id=\"p626016e537\">\r\n   <rect height=\"217.44\" width=\"217.44\" x=\"26.925\" y=\"10.999219\"/>\r\n  </clipPath>\r\n  <clipPath id=\"pd481991770\">\r\n   <rect height=\"217.44\" width=\"10.872\" x=\"261.105\" y=\"10.999219\"/>\r\n  </clipPath>\r\n </defs>\r\n</svg>\r\n",
      "image/png": "[encoded data removed]"
     },
     "metadata": {
      "needs_background": "light"
     }
    }
   ],
   "source": [
    "plt.figure()\n",
    "plt.imshow(train_images[0])\n",
    "plt.colorbar()\n",
    "plt.grid(False)\n",
    "plt.show()"
   ]
  },
  {
   "cell_type": "code",
   "execution_count": 12,
   "metadata": {},
   "outputs": [
    {
     "output_type": "execute_result",
     "data": {
      "text/plain": [
       "6"
      ]
     },
     "metadata": {},
     "execution_count": 12
    }
   ],
   "source": [
    "train_labels[0][0]"
   ]
  },
  {
   "cell_type": "code",
   "execution_count": 17,
   "metadata": {},
   "outputs": [
    {
     "output_type": "execute_result",
     "data": {
      "text/plain": [
       "(50000, 32, 32)"
      ]
     },
     "metadata": {},
     "execution_count": 17
    }
   ],
   "source": [
    "train_images.shape"
   ]
  },
  {
   "source": [
    "### 2.\n",
    "\n",
    "Entrena la red neuronal 1 pero esta vez con las imágenes a color."
   ],
   "cell_type": "markdown",
   "metadata": {}
  },
  {
   "cell_type": "code",
   "execution_count": 6,
   "metadata": {},
   "outputs": [
    {
     "output_type": "stream",
     "name": "stdout",
     "text": [
      "(50000, 32, 32, 3)\n(10000, 32, 32, 3)\n"
     ]
    },
    {
     "output_type": "execute_result",
     "data": {
      "text/plain": [
       "array([[[ 59,  62,  63],\n",
       "        [ 43,  46,  45],\n",
       "        [ 50,  48,  43],\n",
       "        ...,\n",
       "        [158, 132, 108],\n",
       "        [152, 125, 102],\n",
       "        [148, 124, 103]],\n",
       "\n",
       "       [[ 16,  20,  20],\n",
       "        [  0,   0,   0],\n",
       "        [ 18,   8,   0],\n",
       "        ...,\n",
       "        [123,  88,  55],\n",
       "        [119,  83,  50],\n",
       "        [122,  87,  57]],\n",
       "\n",
       "       [[ 25,  24,  21],\n",
       "        [ 16,   7,   0],\n",
       "        [ 49,  27,   8],\n",
       "        ...,\n",
       "        [118,  84,  50],\n",
       "        [120,  84,  50],\n",
       "        [109,  73,  42]],\n",
       "\n",
       "       ...,\n",
       "\n",
       "       [[208, 170,  96],\n",
       "        [201, 153,  34],\n",
       "        [198, 161,  26],\n",
       "        ...,\n",
       "        [160, 133,  70],\n",
       "        [ 56,  31,   7],\n",
       "        [ 53,  34,  20]],\n",
       "\n",
       "       [[180, 139,  96],\n",
       "        [173, 123,  42],\n",
       "        [186, 144,  30],\n",
       "        ...,\n",
       "        [184, 148,  94],\n",
       "        [ 97,  62,  34],\n",
       "        [ 83,  53,  34]],\n",
       "\n",
       "       [[177, 144, 116],\n",
       "        [168, 129,  94],\n",
       "        [179, 142,  87],\n",
       "        ...,\n",
       "        [216, 184, 140],\n",
       "        [151, 118,  84],\n",
       "        [123,  92,  72]]], dtype=uint8)"
      ]
     },
     "metadata": {},
     "execution_count": 6
    }
   ],
   "source": [
    "(train_images, train_labels), (test_images, test_labels) = cifar10.load_data()\n",
    "print(train_images.shape)\n",
    "print(test_images.shape)\n",
    "\n",
    "train_images[0]"
   ]
  },
  {
   "cell_type": "code",
   "execution_count": null,
   "metadata": {},
   "outputs": [],
   "source": []
  }
 ]
}