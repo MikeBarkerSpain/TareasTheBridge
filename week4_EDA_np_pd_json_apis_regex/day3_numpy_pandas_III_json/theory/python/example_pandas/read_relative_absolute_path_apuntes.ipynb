{
 "metadata": {
  "language_info": {
   "codemirror_mode": {
    "name": "ipython",
    "version": 3
   },
   "file_extension": ".py",
   "mimetype": "text/x-python",
   "name": "python",
   "nbconvert_exporter": "python",
   "pygments_lexer": "ipython3",
   "version": "3.7.4"
  },
  "orig_nbformat": 2,
  "kernelspec": {
   "name": "python374jvsc74a57bd05e19f5f9047d686051a4ffff3c57b5ca676552393775b324a4200bbd1a7317fa",
   "display_name": "Python 3.7.4 64-bit"
  },
  "metadata": {
   "interpreter": {
    "hash": "5e19f5f9047d686051a4ffff3c57b5ca676552393775b324a4200bbd1a7317fa"
   }
  }
 },
 "nbformat": 4,
 "nbformat_minor": 2,
 "cells": [
  {
   "source": [
    "# OPCIÓN 1: el archivo está en la misma carpeta"
   ],
   "cell_type": "markdown",
   "metadata": {}
  },
  {
   "cell_type": "code",
   "execution_count": 2,
   "metadata": {},
   "outputs": [
    {
     "output_type": "execute_result",
     "data": {
      "text/plain": [
       "'c:\\\\Users\\\\miguel\\\\Desktop\\\\TheBridgeDataScientist\\\\TareasTheBridge\\\\week4_EDA_np_pd_json_apis_regex\\\\day3_numpy_pandas_III_json\\\\theory\\\\python\\\\example_pandas'"
      ]
     },
     "metadata": {},
     "execution_count": 2
    }
   ],
   "source": [
    "import pandas as pd \n",
    "import os\n",
    "\n",
    "my_folder = os.getcwd()\n",
    "my_folder"
   ]
  },
  {
   "cell_type": "code",
   "execution_count": 3,
   "metadata": {},
   "outputs": [
    {
     "output_type": "execute_result",
     "data": {
      "text/plain": [
       "'c:\\\\Users\\\\miguel\\\\Desktop\\\\TheBridgeDataScientist\\\\TareasTheBridge\\\\week4_EDA_np_pd_json_apis_regex\\\\day3_numpy_pandas_III_json\\\\theory\\\\python\\\\example_pandas\\\\laliga.csv'"
      ]
     },
     "metadata": {},
     "execution_count": 3
    }
   ],
   "source": [
    "my_folder = my_folder + os.sep + 'laliga.csv'\n",
    "my_folder"
   ]
  },
  {
   "cell_type": "code",
   "execution_count": 8,
   "metadata": {},
   "outputs": [
    {
     "output_type": "execute_result",
     "data": {
      "text/plain": [
       "      Unnamed: 0   season  division  round           localTeam    visitorTeam  \\\n",
       "0          26201  2005-06         1      1  Atletico de Bilbao  Real Sociedad   \n",
       "1          26202  2005-06         1      1              Alaves      Barcelona   \n",
       "2          26203  2005-06         1      1            Valencia          Betis   \n",
       "3          26204  2005-06         1      1  Atletico de Madrid       Zaragoza   \n",
       "4          26205  2005-06         1      1               Cadiz    Real Madrid   \n",
       "...          ...      ...       ...    ...                 ...            ...   \n",
       "4935       36680  2017-18         1     38          Villarreal    Real Madrid   \n",
       "4936       36681  2017-18         1     38  Atletico de Bilbao        Espanol   \n",
       "4937       36682  2017-18         1     38           Barcelona  Real Sociedad   \n",
       "4938       36683  2017-18         1     38            Valencia      Deportivo   \n",
       "4939       36684  2017-18         1     38  Atletico de Madrid          Eibar   \n",
       "\n",
       "      localGoals  visitorGoals        date   timestamp  \n",
       "0              3             0  27/08/2005  1125093600  \n",
       "1              0             0  27/08/2005  1125093600  \n",
       "2              1             0  27/08/2005  1125093600  \n",
       "3              0             0  28/08/2005  1125180000  \n",
       "4              1             2  28/08/2005  1125180000  \n",
       "...          ...           ...         ...         ...  \n",
       "4935           2             2  19/05/2018  1526680800  \n",
       "4936           0             1  20/05/2018  1526767200  \n",
       "4937           1             0  20/05/2018  1526767200  \n",
       "4938           2             1  20/05/2018  1526767200  \n",
       "4939           2             2  20/05/2018  1526767200  \n",
       "\n",
       "[4940 rows x 10 columns]"
      ],
      "text/html": "<div>\n<style scoped>\n    .dataframe tbody tr th:only-of-type {\n        vertical-align: middle;\n    }\n\n    .dataframe tbody tr th {\n        vertical-align: top;\n    }\n\n    .dataframe thead th {\n        text-align: right;\n    }\n</style>\n<table border=\"1\" class=\"dataframe\">\n  <thead>\n    <tr style=\"text-align: right;\">\n      <th></th>\n      <th>Unnamed: 0</th>\n      <th>season</th>\n      <th>division</th>\n      <th>round</th>\n      <th>localTeam</th>\n      <th>visitorTeam</th>\n      <th>localGoals</th>\n      <th>visitorGoals</th>\n      <th>date</th>\n      <th>timestamp</th>\n    </tr>\n  </thead>\n  <tbody>\n    <tr>\n      <th>0</th>\n      <td>26201</td>\n      <td>2005-06</td>\n      <td>1</td>\n      <td>1</td>\n      <td>Atletico de Bilbao</td>\n      <td>Real Sociedad</td>\n      <td>3</td>\n      <td>0</td>\n      <td>27/08/2005</td>\n      <td>1125093600</td>\n    </tr>\n    <tr>\n      <th>1</th>\n      <td>26202</td>\n      <td>2005-06</td>\n      <td>1</td>\n      <td>1</td>\n      <td>Alaves</td>\n      <td>Barcelona</td>\n      <td>0</td>\n      <td>0</td>\n      <td>27/08/2005</td>\n      <td>1125093600</td>\n    </tr>\n    <tr>\n      <th>2</th>\n      <td>26203</td>\n      <td>2005-06</td>\n      <td>1</td>\n      <td>1</td>\n      <td>Valencia</td>\n      <td>Betis</td>\n      <td>1</td>\n      <td>0</td>\n      <td>27/08/2005</td>\n      <td>1125093600</td>\n    </tr>\n    <tr>\n      <th>3</th>\n      <td>26204</td>\n      <td>2005-06</td>\n      <td>1</td>\n      <td>1</td>\n      <td>Atletico de Madrid</td>\n      <td>Zaragoza</td>\n      <td>0</td>\n      <td>0</td>\n      <td>28/08/2005</td>\n      <td>1125180000</td>\n    </tr>\n    <tr>\n      <th>4</th>\n      <td>26205</td>\n      <td>2005-06</td>\n      <td>1</td>\n      <td>1</td>\n      <td>Cadiz</td>\n      <td>Real Madrid</td>\n      <td>1</td>\n      <td>2</td>\n      <td>28/08/2005</td>\n      <td>1125180000</td>\n    </tr>\n    <tr>\n      <th>...</th>\n      <td>...</td>\n      <td>...</td>\n      <td>...</td>\n      <td>...</td>\n      <td>...</td>\n      <td>...</td>\n      <td>...</td>\n      <td>...</td>\n      <td>...</td>\n      <td>...</td>\n    </tr>\n    <tr>\n      <th>4935</th>\n      <td>36680</td>\n      <td>2017-18</td>\n      <td>1</td>\n      <td>38</td>\n      <td>Villarreal</td>\n      <td>Real Madrid</td>\n      <td>2</td>\n      <td>2</td>\n      <td>19/05/2018</td>\n      <td>1526680800</td>\n    </tr>\n    <tr>\n      <th>4936</th>\n      <td>36681</td>\n      <td>2017-18</td>\n      <td>1</td>\n      <td>38</td>\n      <td>Atletico de Bilbao</td>\n      <td>Espanol</td>\n      <td>0</td>\n      <td>1</td>\n      <td>20/05/2018</td>\n      <td>1526767200</td>\n    </tr>\n    <tr>\n      <th>4937</th>\n      <td>36682</td>\n      <td>2017-18</td>\n      <td>1</td>\n      <td>38</td>\n      <td>Barcelona</td>\n      <td>Real Sociedad</td>\n      <td>1</td>\n      <td>0</td>\n      <td>20/05/2018</td>\n      <td>1526767200</td>\n    </tr>\n    <tr>\n      <th>4938</th>\n      <td>36683</td>\n      <td>2017-18</td>\n      <td>1</td>\n      <td>38</td>\n      <td>Valencia</td>\n      <td>Deportivo</td>\n      <td>2</td>\n      <td>1</td>\n      <td>20/05/2018</td>\n      <td>1526767200</td>\n    </tr>\n    <tr>\n      <th>4939</th>\n      <td>36684</td>\n      <td>2017-18</td>\n      <td>1</td>\n      <td>38</td>\n      <td>Atletico de Madrid</td>\n      <td>Eibar</td>\n      <td>2</td>\n      <td>2</td>\n      <td>20/05/2018</td>\n      <td>1526767200</td>\n    </tr>\n  </tbody>\n</table>\n<p>4940 rows × 10 columns</p>\n</div>"
     },
     "metadata": {},
     "execution_count": 8
    }
   ],
   "source": [
    "df = pd.read_csv(\"laliga.csv\")   # cargaría el archivo si está en la misma carpeta\n",
    "df"
   ]
  },
  {
   "source": [
    "# OPCIÓN 2: el archivo está en una carpeta superior"
   ],
   "cell_type": "markdown",
   "metadata": {}
  },
  {
   "cell_type": "code",
   "execution_count": 5,
   "metadata": {},
   "outputs": [
    {
     "output_type": "execute_result",
     "data": {
      "text/plain": [
       "'c:\\\\Users\\\\miguel\\\\Desktop\\\\TheBridgeDataScientist\\\\TareasTheBridge\\\\week4_EDA_np_pd_json_apis_regex\\\\day3_numpy_pandas_III_json\\\\theory\\\\python\\\\laliga.csv'"
      ]
     },
     "metadata": {},
     "execution_count": 5
    }
   ],
   "source": [
    "# subo una carpeta a mi carpeta actual\n",
    "os.path.dirname(os.getcwd()) + os.sep + 'laliga.csv'"
   ]
  },
  {
   "cell_type": "code",
   "execution_count": 9,
   "metadata": {},
   "outputs": [
    {
     "output_type": "execute_result",
     "data": {
      "text/plain": [
       "      Unnamed: 0   season  division  round           localTeam    visitorTeam  \\\n",
       "0          26201  2005-06         1      1  Atletico de Bilbao  Real Sociedad   \n",
       "1          26202  2005-06         1      1              Alaves      Barcelona   \n",
       "2          26203  2005-06         1      1            Valencia          Betis   \n",
       "3          26204  2005-06         1      1  Atletico de Madrid       Zaragoza   \n",
       "4          26205  2005-06         1      1               Cadiz    Real Madrid   \n",
       "...          ...      ...       ...    ...                 ...            ...   \n",
       "4935       36680  2017-18         1     38          Villarreal    Real Madrid   \n",
       "4936       36681  2017-18         1     38  Atletico de Bilbao        Espanol   \n",
       "4937       36682  2017-18         1     38           Barcelona  Real Sociedad   \n",
       "4938       36683  2017-18         1     38            Valencia      Deportivo   \n",
       "4939       36684  2017-18         1     38  Atletico de Madrid          Eibar   \n",
       "\n",
       "      localGoals  visitorGoals        date   timestamp  \n",
       "0              3             0  27/08/2005  1125093600  \n",
       "1              0             0  27/08/2005  1125093600  \n",
       "2              1             0  27/08/2005  1125093600  \n",
       "3              0             0  28/08/2005  1125180000  \n",
       "4              1             2  28/08/2005  1125180000  \n",
       "...          ...           ...         ...         ...  \n",
       "4935           2             2  19/05/2018  1526680800  \n",
       "4936           0             1  20/05/2018  1526767200  \n",
       "4937           1             0  20/05/2018  1526767200  \n",
       "4938           2             1  20/05/2018  1526767200  \n",
       "4939           2             2  20/05/2018  1526767200  \n",
       "\n",
       "[4940 rows x 10 columns]"
      ],
      "text/html": "<div>\n<style scoped>\n    .dataframe tbody tr th:only-of-type {\n        vertical-align: middle;\n    }\n\n    .dataframe tbody tr th {\n        vertical-align: top;\n    }\n\n    .dataframe thead th {\n        text-align: right;\n    }\n</style>\n<table border=\"1\" class=\"dataframe\">\n  <thead>\n    <tr style=\"text-align: right;\">\n      <th></th>\n      <th>Unnamed: 0</th>\n      <th>season</th>\n      <th>division</th>\n      <th>round</th>\n      <th>localTeam</th>\n      <th>visitorTeam</th>\n      <th>localGoals</th>\n      <th>visitorGoals</th>\n      <th>date</th>\n      <th>timestamp</th>\n    </tr>\n  </thead>\n  <tbody>\n    <tr>\n      <th>0</th>\n      <td>26201</td>\n      <td>2005-06</td>\n      <td>1</td>\n      <td>1</td>\n      <td>Atletico de Bilbao</td>\n      <td>Real Sociedad</td>\n      <td>3</td>\n      <td>0</td>\n      <td>27/08/2005</td>\n      <td>1125093600</td>\n    </tr>\n    <tr>\n      <th>1</th>\n      <td>26202</td>\n      <td>2005-06</td>\n      <td>1</td>\n      <td>1</td>\n      <td>Alaves</td>\n      <td>Barcelona</td>\n      <td>0</td>\n      <td>0</td>\n      <td>27/08/2005</td>\n      <td>1125093600</td>\n    </tr>\n    <tr>\n      <th>2</th>\n      <td>26203</td>\n      <td>2005-06</td>\n      <td>1</td>\n      <td>1</td>\n      <td>Valencia</td>\n      <td>Betis</td>\n      <td>1</td>\n      <td>0</td>\n      <td>27/08/2005</td>\n      <td>1125093600</td>\n    </tr>\n    <tr>\n      <th>3</th>\n      <td>26204</td>\n      <td>2005-06</td>\n      <td>1</td>\n      <td>1</td>\n      <td>Atletico de Madrid</td>\n      <td>Zaragoza</td>\n      <td>0</td>\n      <td>0</td>\n      <td>28/08/2005</td>\n      <td>1125180000</td>\n    </tr>\n    <tr>\n      <th>4</th>\n      <td>26205</td>\n      <td>2005-06</td>\n      <td>1</td>\n      <td>1</td>\n      <td>Cadiz</td>\n      <td>Real Madrid</td>\n      <td>1</td>\n      <td>2</td>\n      <td>28/08/2005</td>\n      <td>1125180000</td>\n    </tr>\n    <tr>\n      <th>...</th>\n      <td>...</td>\n      <td>...</td>\n      <td>...</td>\n      <td>...</td>\n      <td>...</td>\n      <td>...</td>\n      <td>...</td>\n      <td>...</td>\n      <td>...</td>\n      <td>...</td>\n    </tr>\n    <tr>\n      <th>4935</th>\n      <td>36680</td>\n      <td>2017-18</td>\n      <td>1</td>\n      <td>38</td>\n      <td>Villarreal</td>\n      <td>Real Madrid</td>\n      <td>2</td>\n      <td>2</td>\n      <td>19/05/2018</td>\n      <td>1526680800</td>\n    </tr>\n    <tr>\n      <th>4936</th>\n      <td>36681</td>\n      <td>2017-18</td>\n      <td>1</td>\n      <td>38</td>\n      <td>Atletico de Bilbao</td>\n      <td>Espanol</td>\n      <td>0</td>\n      <td>1</td>\n      <td>20/05/2018</td>\n      <td>1526767200</td>\n    </tr>\n    <tr>\n      <th>4937</th>\n      <td>36682</td>\n      <td>2017-18</td>\n      <td>1</td>\n      <td>38</td>\n      <td>Barcelona</td>\n      <td>Real Sociedad</td>\n      <td>1</td>\n      <td>0</td>\n      <td>20/05/2018</td>\n      <td>1526767200</td>\n    </tr>\n    <tr>\n      <th>4938</th>\n      <td>36683</td>\n      <td>2017-18</td>\n      <td>1</td>\n      <td>38</td>\n      <td>Valencia</td>\n      <td>Deportivo</td>\n      <td>2</td>\n      <td>1</td>\n      <td>20/05/2018</td>\n      <td>1526767200</td>\n    </tr>\n    <tr>\n      <th>4939</th>\n      <td>36684</td>\n      <td>2017-18</td>\n      <td>1</td>\n      <td>38</td>\n      <td>Atletico de Madrid</td>\n      <td>Eibar</td>\n      <td>2</td>\n      <td>2</td>\n      <td>20/05/2018</td>\n      <td>1526767200</td>\n    </tr>\n  </tbody>\n</table>\n<p>4940 rows × 10 columns</p>\n</div>"
     },
     "metadata": {},
     "execution_count": 9
    }
   ],
   "source": [
    "df = pd.read_csv(\"../laliga.csv\")   # cargaría el archivo si está en la misma carpeta\n",
    "df"
   ]
  },
  {
   "source": [
    "# OPCIÓN 3: está en una carpeta superior, pero dentro de otra carpeta (árbol de carpetas)"
   ],
   "cell_type": "markdown",
   "metadata": {}
  },
  {
   "cell_type": "code",
   "execution_count": 4,
   "metadata": {},
   "outputs": [
    {
     "output_type": "execute_result",
     "data": {
      "text/plain": [
       "      Unnamed: 0   season  division  round           localTeam    visitorTeam  \\\n",
       "0          26201  2005-06         1      1  Atletico de Bilbao  Real Sociedad   \n",
       "1          26202  2005-06         1      1              Alaves      Barcelona   \n",
       "2          26203  2005-06         1      1            Valencia          Betis   \n",
       "3          26204  2005-06         1      1  Atletico de Madrid       Zaragoza   \n",
       "4          26205  2005-06         1      1               Cadiz    Real Madrid   \n",
       "...          ...      ...       ...    ...                 ...            ...   \n",
       "4935       36680  2017-18         1     38          Villarreal    Real Madrid   \n",
       "4936       36681  2017-18         1     38  Atletico de Bilbao        Espanol   \n",
       "4937       36682  2017-18         1     38           Barcelona  Real Sociedad   \n",
       "4938       36683  2017-18         1     38            Valencia      Deportivo   \n",
       "4939       36684  2017-18         1     38  Atletico de Madrid          Eibar   \n",
       "\n",
       "      localGoals  visitorGoals        date   timestamp  \n",
       "0              3             0  27/08/2005  1125093600  \n",
       "1              0             0  27/08/2005  1125093600  \n",
       "2              1             0  27/08/2005  1125093600  \n",
       "3              0             0  28/08/2005  1125180000  \n",
       "4              1             2  28/08/2005  1125180000  \n",
       "...          ...           ...         ...         ...  \n",
       "4935           2             2  19/05/2018  1526680800  \n",
       "4936           0             1  20/05/2018  1526767200  \n",
       "4937           1             0  20/05/2018  1526767200  \n",
       "4938           2             1  20/05/2018  1526767200  \n",
       "4939           2             2  20/05/2018  1526767200  \n",
       "\n",
       "[4940 rows x 10 columns]"
      ],
      "text/html": "<div>\n<style scoped>\n    .dataframe tbody tr th:only-of-type {\n        vertical-align: middle;\n    }\n\n    .dataframe tbody tr th {\n        vertical-align: top;\n    }\n\n    .dataframe thead th {\n        text-align: right;\n    }\n</style>\n<table border=\"1\" class=\"dataframe\">\n  <thead>\n    <tr style=\"text-align: right;\">\n      <th></th>\n      <th>Unnamed: 0</th>\n      <th>season</th>\n      <th>division</th>\n      <th>round</th>\n      <th>localTeam</th>\n      <th>visitorTeam</th>\n      <th>localGoals</th>\n      <th>visitorGoals</th>\n      <th>date</th>\n      <th>timestamp</th>\n    </tr>\n  </thead>\n  <tbody>\n    <tr>\n      <th>0</th>\n      <td>26201</td>\n      <td>2005-06</td>\n      <td>1</td>\n      <td>1</td>\n      <td>Atletico de Bilbao</td>\n      <td>Real Sociedad</td>\n      <td>3</td>\n      <td>0</td>\n      <td>27/08/2005</td>\n      <td>1125093600</td>\n    </tr>\n    <tr>\n      <th>1</th>\n      <td>26202</td>\n      <td>2005-06</td>\n      <td>1</td>\n      <td>1</td>\n      <td>Alaves</td>\n      <td>Barcelona</td>\n      <td>0</td>\n      <td>0</td>\n      <td>27/08/2005</td>\n      <td>1125093600</td>\n    </tr>\n    <tr>\n      <th>2</th>\n      <td>26203</td>\n      <td>2005-06</td>\n      <td>1</td>\n      <td>1</td>\n      <td>Valencia</td>\n      <td>Betis</td>\n      <td>1</td>\n      <td>0</td>\n      <td>27/08/2005</td>\n      <td>1125093600</td>\n    </tr>\n    <tr>\n      <th>3</th>\n      <td>26204</td>\n      <td>2005-06</td>\n      <td>1</td>\n      <td>1</td>\n      <td>Atletico de Madrid</td>\n      <td>Zaragoza</td>\n      <td>0</td>\n      <td>0</td>\n      <td>28/08/2005</td>\n      <td>1125180000</td>\n    </tr>\n    <tr>\n      <th>4</th>\n      <td>26205</td>\n      <td>2005-06</td>\n      <td>1</td>\n      <td>1</td>\n      <td>Cadiz</td>\n      <td>Real Madrid</td>\n      <td>1</td>\n      <td>2</td>\n      <td>28/08/2005</td>\n      <td>1125180000</td>\n    </tr>\n    <tr>\n      <th>...</th>\n      <td>...</td>\n      <td>...</td>\n      <td>...</td>\n      <td>...</td>\n      <td>...</td>\n      <td>...</td>\n      <td>...</td>\n      <td>...</td>\n      <td>...</td>\n      <td>...</td>\n    </tr>\n    <tr>\n      <th>4935</th>\n      <td>36680</td>\n      <td>2017-18</td>\n      <td>1</td>\n      <td>38</td>\n      <td>Villarreal</td>\n      <td>Real Madrid</td>\n      <td>2</td>\n      <td>2</td>\n      <td>19/05/2018</td>\n      <td>1526680800</td>\n    </tr>\n    <tr>\n      <th>4936</th>\n      <td>36681</td>\n      <td>2017-18</td>\n      <td>1</td>\n      <td>38</td>\n      <td>Atletico de Bilbao</td>\n      <td>Espanol</td>\n      <td>0</td>\n      <td>1</td>\n      <td>20/05/2018</td>\n      <td>1526767200</td>\n    </tr>\n    <tr>\n      <th>4937</th>\n      <td>36682</td>\n      <td>2017-18</td>\n      <td>1</td>\n      <td>38</td>\n      <td>Barcelona</td>\n      <td>Real Sociedad</td>\n      <td>1</td>\n      <td>0</td>\n      <td>20/05/2018</td>\n      <td>1526767200</td>\n    </tr>\n    <tr>\n      <th>4938</th>\n      <td>36683</td>\n      <td>2017-18</td>\n      <td>1</td>\n      <td>38</td>\n      <td>Valencia</td>\n      <td>Deportivo</td>\n      <td>2</td>\n      <td>1</td>\n      <td>20/05/2018</td>\n      <td>1526767200</td>\n    </tr>\n    <tr>\n      <th>4939</th>\n      <td>36684</td>\n      <td>2017-18</td>\n      <td>1</td>\n      <td>38</td>\n      <td>Atletico de Madrid</td>\n      <td>Eibar</td>\n      <td>2</td>\n      <td>2</td>\n      <td>20/05/2018</td>\n      <td>1526767200</td>\n    </tr>\n  </tbody>\n</table>\n<p>4940 rows × 10 columns</p>\n</div>"
     },
     "metadata": {},
     "execution_count": 4
    }
   ],
   "source": [
    "df = pd.read_csv(\"../paths/laliga.csv\")   # cargaría el archivo si está en una carpeta del directorio actual\n",
    "df"
   ]
  },
  {
   "source": [
    "# OPCIÓN 4: está en una carpeta inferior, dentro de una carpeta en el directorio actual"
   ],
   "cell_type": "markdown",
   "metadata": {}
  },
  {
   "cell_type": "code",
   "execution_count": 3,
   "metadata": {},
   "outputs": [
    {
     "output_type": "execute_result",
     "data": {
      "text/plain": [
       "      Unnamed: 0   season  division  round           localTeam    visitorTeam  \\\n",
       "0          26201  2005-06         1      1  Atletico de Bilbao  Real Sociedad   \n",
       "1          26202  2005-06         1      1              Alaves      Barcelona   \n",
       "2          26203  2005-06         1      1            Valencia          Betis   \n",
       "3          26204  2005-06         1      1  Atletico de Madrid       Zaragoza   \n",
       "4          26205  2005-06         1      1               Cadiz    Real Madrid   \n",
       "...          ...      ...       ...    ...                 ...            ...   \n",
       "4935       36680  2017-18         1     38          Villarreal    Real Madrid   \n",
       "4936       36681  2017-18         1     38  Atletico de Bilbao        Espanol   \n",
       "4937       36682  2017-18         1     38           Barcelona  Real Sociedad   \n",
       "4938       36683  2017-18         1     38            Valencia      Deportivo   \n",
       "4939       36684  2017-18         1     38  Atletico de Madrid          Eibar   \n",
       "\n",
       "      localGoals  visitorGoals        date   timestamp  \n",
       "0              3             0  27/08/2005  1125093600  \n",
       "1              0             0  27/08/2005  1125093600  \n",
       "2              1             0  27/08/2005  1125093600  \n",
       "3              0             0  28/08/2005  1125180000  \n",
       "4              1             2  28/08/2005  1125180000  \n",
       "...          ...           ...         ...         ...  \n",
       "4935           2             2  19/05/2018  1526680800  \n",
       "4936           0             1  20/05/2018  1526767200  \n",
       "4937           1             0  20/05/2018  1526767200  \n",
       "4938           2             1  20/05/2018  1526767200  \n",
       "4939           2             2  20/05/2018  1526767200  \n",
       "\n",
       "[4940 rows x 10 columns]"
      ],
      "text/html": "<div>\n<style scoped>\n    .dataframe tbody tr th:only-of-type {\n        vertical-align: middle;\n    }\n\n    .dataframe tbody tr th {\n        vertical-align: top;\n    }\n\n    .dataframe thead th {\n        text-align: right;\n    }\n</style>\n<table border=\"1\" class=\"dataframe\">\n  <thead>\n    <tr style=\"text-align: right;\">\n      <th></th>\n      <th>Unnamed: 0</th>\n      <th>season</th>\n      <th>division</th>\n      <th>round</th>\n      <th>localTeam</th>\n      <th>visitorTeam</th>\n      <th>localGoals</th>\n      <th>visitorGoals</th>\n      <th>date</th>\n      <th>timestamp</th>\n    </tr>\n  </thead>\n  <tbody>\n    <tr>\n      <th>0</th>\n      <td>26201</td>\n      <td>2005-06</td>\n      <td>1</td>\n      <td>1</td>\n      <td>Atletico de Bilbao</td>\n      <td>Real Sociedad</td>\n      <td>3</td>\n      <td>0</td>\n      <td>27/08/2005</td>\n      <td>1125093600</td>\n    </tr>\n    <tr>\n      <th>1</th>\n      <td>26202</td>\n      <td>2005-06</td>\n      <td>1</td>\n      <td>1</td>\n      <td>Alaves</td>\n      <td>Barcelona</td>\n      <td>0</td>\n      <td>0</td>\n      <td>27/08/2005</td>\n      <td>1125093600</td>\n    </tr>\n    <tr>\n      <th>2</th>\n      <td>26203</td>\n      <td>2005-06</td>\n      <td>1</td>\n      <td>1</td>\n      <td>Valencia</td>\n      <td>Betis</td>\n      <td>1</td>\n      <td>0</td>\n      <td>27/08/2005</td>\n      <td>1125093600</td>\n    </tr>\n    <tr>\n      <th>3</th>\n      <td>26204</td>\n      <td>2005-06</td>\n      <td>1</td>\n      <td>1</td>\n      <td>Atletico de Madrid</td>\n      <td>Zaragoza</td>\n      <td>0</td>\n      <td>0</td>\n      <td>28/08/2005</td>\n      <td>1125180000</td>\n    </tr>\n    <tr>\n      <th>4</th>\n      <td>26205</td>\n      <td>2005-06</td>\n      <td>1</td>\n      <td>1</td>\n      <td>Cadiz</td>\n      <td>Real Madrid</td>\n      <td>1</td>\n      <td>2</td>\n      <td>28/08/2005</td>\n      <td>1125180000</td>\n    </tr>\n    <tr>\n      <th>...</th>\n      <td>...</td>\n      <td>...</td>\n      <td>...</td>\n      <td>...</td>\n      <td>...</td>\n      <td>...</td>\n      <td>...</td>\n      <td>...</td>\n      <td>...</td>\n      <td>...</td>\n    </tr>\n    <tr>\n      <th>4935</th>\n      <td>36680</td>\n      <td>2017-18</td>\n      <td>1</td>\n      <td>38</td>\n      <td>Villarreal</td>\n      <td>Real Madrid</td>\n      <td>2</td>\n      <td>2</td>\n      <td>19/05/2018</td>\n      <td>1526680800</td>\n    </tr>\n    <tr>\n      <th>4936</th>\n      <td>36681</td>\n      <td>2017-18</td>\n      <td>1</td>\n      <td>38</td>\n      <td>Atletico de Bilbao</td>\n      <td>Espanol</td>\n      <td>0</td>\n      <td>1</td>\n      <td>20/05/2018</td>\n      <td>1526767200</td>\n    </tr>\n    <tr>\n      <th>4937</th>\n      <td>36682</td>\n      <td>2017-18</td>\n      <td>1</td>\n      <td>38</td>\n      <td>Barcelona</td>\n      <td>Real Sociedad</td>\n      <td>1</td>\n      <td>0</td>\n      <td>20/05/2018</td>\n      <td>1526767200</td>\n    </tr>\n    <tr>\n      <th>4938</th>\n      <td>36683</td>\n      <td>2017-18</td>\n      <td>1</td>\n      <td>38</td>\n      <td>Valencia</td>\n      <td>Deportivo</td>\n      <td>2</td>\n      <td>1</td>\n      <td>20/05/2018</td>\n      <td>1526767200</td>\n    </tr>\n    <tr>\n      <th>4939</th>\n      <td>36684</td>\n      <td>2017-18</td>\n      <td>1</td>\n      <td>38</td>\n      <td>Atletico de Madrid</td>\n      <td>Eibar</td>\n      <td>2</td>\n      <td>2</td>\n      <td>20/05/2018</td>\n      <td>1526767200</td>\n    </tr>\n  </tbody>\n</table>\n<p>4940 rows × 10 columns</p>\n</div>"
     },
     "metadata": {},
     "execution_count": 3
    }
   ],
   "source": [
    "df = pd.read_csv(\"a/laliga.csv\")   # cargaría el archivo si está en una carpeta del directorio actual\n",
    "df"
   ]
  },
  {
   "cell_type": "code",
   "execution_count": null,
   "metadata": {},
   "outputs": [],
   "source": []
  }
 ]
}