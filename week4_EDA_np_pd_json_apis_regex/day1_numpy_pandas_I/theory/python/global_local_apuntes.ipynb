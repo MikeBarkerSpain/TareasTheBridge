{
 "metadata": {
  "language_info": {
   "codemirror_mode": {
    "name": "ipython",
    "version": 3
   },
   "file_extension": ".py",
   "mimetype": "text/x-python",
   "name": "python",
   "nbconvert_exporter": "python",
   "pygments_lexer": "ipython3",
   "version": "3.7.4"
  },
  "orig_nbformat": 2,
  "kernelspec": {
   "name": "python374jvsc74a57bd05e19f5f9047d686051a4ffff3c57b5ca676552393775b324a4200bbd1a7317fa",
   "display_name": "Python 3.7.4 64-bit"
  },
  "metadata": {
   "interpreter": {
    "hash": "5e19f5f9047d686051a4ffff3c57b5ca676552393775b324a4200bbd1a7317fa"
   }
  }
 },
 "nbformat": 4,
 "nbformat_minor": 2,
 "cells": [
  {
   "cell_type": "code",
   "execution_count": 1,
   "metadata": {},
   "outputs": [
    {
     "output_type": "stream",
     "name": "stdout",
     "text": [
      "2\n14\n2\n"
     ]
    }
   ],
   "source": [
    "x = 2\n",
    "\n",
    "def funcion(x):\n",
    "    x = 7 + x\n",
    "    print(x)\n",
    "\n",
    "print(x)\n",
    "funcion(x=7)\n",
    "print(x)"
   ]
  },
  {
   "cell_type": "code",
   "execution_count": 2,
   "metadata": {},
   "outputs": [
    {
     "output_type": "stream",
     "name": "stdout",
     "text": [
      "2\n24\n2\n"
     ]
    }
   ],
   "source": [
    "x = 2\n",
    "a = 10\n",
    "\n",
    "def funcion(x):\n",
    "    x = 7 + x + a\n",
    "    print(x)\n",
    "\n",
    "print(x)\n",
    "funcion(x=7)\n",
    "print(x)"
   ]
  },
  {
   "cell_type": "code",
   "execution_count": 11,
   "metadata": {},
   "outputs": [
    {
     "output_type": "stream",
     "name": "stdout",
     "text": [
      "2\nb: 14\n24\n2\n10\n"
     ]
    }
   ],
   "source": [
    "x = 2\n",
    "a = 10\n",
    "\n",
    "def funcion(x):\n",
    "    b = a + 4\n",
    "    print(\"b:\", b)\n",
    "    x = 7 + x + a\n",
    "    print(x)\n",
    "\n",
    "print(x)\n",
    "funcion(x=7)\n",
    "print(x)\n",
    "print(a)"
   ]
  },
  {
   "cell_type": "code",
   "execution_count": 12,
   "metadata": {},
   "outputs": [
    {
     "output_type": "stream",
     "name": "stdout",
     "text": [
      "2\na: 12\nb: 16\n26\n2\n12\n"
     ]
    }
   ],
   "source": [
    "x = 2\n",
    "a = 10\n",
    "\n",
    "def funcion(x):\n",
    "    global a\n",
    "    a = a + 2\n",
    "    b = a + 4\n",
    "    print(\"a:\", a)\n",
    "    print(\"b:\", b)\n",
    "    x = 7 + x + a\n",
    "    print(x)\n",
    "\n",
    "print(x)\n",
    "funcion(x=7)\n",
    "print(x)\n",
    "print(a)"
   ]
  },
  {
   "cell_type": "code",
   "execution_count": 1,
   "metadata": {},
   "outputs": [
    {
     "output_type": "stream",
     "name": "stdout",
     "text": [
      "2\n"
     ]
    }
   ],
   "source": [
    "x = 99\n",
    "def function ():\n",
    "    #variable global\n",
    "    global x\n",
    "    x = 2\n",
    "    return 2\n",
    "\n",
    "function()\n",
    "print(x)"
   ]
  },
  {
   "cell_type": "code",
   "execution_count": 2,
   "metadata": {},
   "outputs": [
    {
     "output_type": "error",
     "ename": "SyntaxError",
     "evalue": "name 'x' is assigned to before global declaration (<ipython-input-2-7343b598bfe1>, line 8)",
     "traceback": [
      "\u001b[1;36m  File \u001b[1;32m\"<ipython-input-2-7343b598bfe1>\"\u001b[1;36m, line \u001b[1;32m8\u001b[0m\n\u001b[1;33m    \u001b[0m\n\u001b[1;37m    ^\u001b[0m\n\u001b[1;31mSyntaxError\u001b[0m\u001b[1;31m:\u001b[0m name 'x' is assigned to before global declaration\n"
     ]
    }
   ],
   "source": [
    "x = 99\n",
    "def function ():\n",
    "    x = 7\n",
    "    #variable global\n",
    "    global x       \n",
    "    # No se pueden asignar a la vez variables locales y globales a una misma clave\n",
    "    x = 2\n",
    "    return 2\n",
    "\n",
    "function()\n",
    "print(x)"
   ]
  },
  {
   "cell_type": "code",
   "execution_count": 3,
   "metadata": {},
   "outputs": [
    {
     "output_type": "stream",
     "name": "stdout",
     "text": [
      "l1 [0, 1, 2, 'AS']\nx 2\n"
     ]
    }
   ],
   "source": [
    "x = 99\n",
    "l1 = [0,1,2]\n",
    "\n",
    "def function (lista):\n",
    "    #variable global\n",
    "    global x      \n",
    "    x = 2\n",
    "    lista.append(\"AS\")\n",
    "\n",
    "function(lista=l1)\n",
    "print(\"l1\", l1)\n",
    "print(\"x\", x)"
   ]
  },
  {
   "cell_type": "code",
   "execution_count": null,
   "metadata": {},
   "outputs": [],
   "source": [
    "x = 99\n",
    "l1 = [0,1,2]\n",
    "\n",
    "def function (lista):\n",
    "    #variable global\n",
    "    global x      \n",
    "    x = 2\n",
    "    lista.append(\"AS\")\n",
    "\n",
    "function(lista=l1)\n",
    "print(\"l1\", l1)\n",
    "print(\"x\", x)"
   ]
  },
  {
   "cell_type": "code",
   "execution_count": 4,
   "metadata": {},
   "outputs": [
    {
     "output_type": "stream",
     "name": "stdout",
     "text": [
      "l1 [0, 1, 2, 'AS']\nx 2\n"
     ]
    }
   ],
   "source": [
    "x = 99\n",
    "l1 = [0,1,2]\n",
    "\n",
    "def function (lista):\n",
    "    #variable global\n",
    "    global x      \n",
    "    x = 2\n",
    "    lista.append(\"AS\") # lista= l1 se modifica el interior, no lo que es la variable en si\n",
    "    l1 = 1 # l1 es una VARIABLE LOCAL -> fuera de esta función no tiene valor\n",
    "\n",
    "function(lista=l1)\n",
    "print(\"l1\", l1)\n",
    "print(\"x\", x)"
   ]
  },
  {
   "cell_type": "code",
   "execution_count": 5,
   "metadata": {},
   "outputs": [
    {
     "output_type": "stream",
     "name": "stdout",
     "text": [
      "lista dentro de la función 1 [0, 1, 2, 'AS']\nl1 dentro de la función 2 None\nlista dentro de la función 1 [0, 1, 2, 'AS', 'AS']\nl1 [0, 1, 2, 'AS', 'AS']\nx 99\n"
     ]
    }
   ],
   "source": [
    "x = 99\n",
    "l1 = [0,1,2]\n",
    "\n",
    "def function (lista):\n",
    "    x = 2\n",
    "    lista.append(\"AS\") \n",
    "    print(\"lista dentro de la función 1\", lista)\n",
    "    l1 = lista.append(\"AS\")\n",
    "    print(\"l1 dentro de la función 2\", l1)\n",
    "    print(\"lista dentro de la función 1\", lista)\n",
    "\n",
    "function(lista=l1)\n",
    "print(\"l1\", l1)\n",
    "print(\"x\", x)"
   ]
  },
  {
   "cell_type": "code",
   "execution_count": null,
   "metadata": {},
   "outputs": [],
   "source": []
  }
 ]
}