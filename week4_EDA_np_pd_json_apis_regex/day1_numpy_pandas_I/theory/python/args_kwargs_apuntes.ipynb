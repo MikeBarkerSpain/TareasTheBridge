{
 "cells": [
  {
   "cell_type": "markdown",
   "metadata": {},
   "source": [
    "Parámetros *args y *kwargs en Python"
   ]
  },
  {
   "source": [
    "# ARGS"
   ],
   "cell_type": "markdown",
   "metadata": {}
  },
  {
   "cell_type": "code",
   "execution_count": null,
   "metadata": {},
   "outputs": [],
   "source": [
    "def nombre_f ():\n",
    "    return 2"
   ]
  },
  {
   "cell_type": "code",
   "execution_count": null,
   "metadata": {},
   "outputs": [],
   "source": [
    "def nombre_f_1 (arg1, arg2, arg3=5):\n",
    "    return args3"
   ]
  },
  {
   "cell_type": "code",
   "execution_count": 2,
   "metadata": {},
   "outputs": [
    {
     "output_type": "stream",
     "name": "stdout",
     "text": [
      "<class 'tuple'>\n(2, ['g', 'h'], 9, 'j')\n"
     ]
    }
   ],
   "source": [
    "# función con un número indefinido de argumentos (*args)\n",
    "def nombre_args (*args):     \n",
    "    print(type(args))\n",
    "    print(args)\n",
    "\n",
    "x = 2\n",
    "y = [\"g\", \"h\"]\n",
    "nombre_args(x,y,9, 'j') # todos los argumentos son recibidos como una tupla"
   ]
  },
  {
   "cell_type": "code",
   "execution_count": null,
   "metadata": {},
   "outputs": [],
   "source": [
    "def realiza_suma_numeros(x, *args):\n",
    "    print(\"x:\", x)\n",
    "    print(\"*args:\", args)\n",
    "    print(sum(args))\n",
    "\n",
    "realiza_suma_numeros (7,222,9999,-4549)"
   ]
  },
  {
   "cell_type": "code",
   "execution_count": 1,
   "metadata": {},
   "outputs": [
    {
     "output_type": "stream",
     "name": "stdout",
     "text": [
      "x: 7\n*args: (222, 9999, -4549)\n5672\n"
     ]
    }
   ],
   "source": [
    "def realiza_suma_numeros(x, *args):\n",
    "    print(\"x:\", x)\n",
    "    print(\"*args:\", args)\n",
    "    print(sum(args))\n",
    "\n",
    "realiza_suma_numeros (7,222,9999,-4549)"
   ]
  },
  {
   "cell_type": "code",
   "execution_count": 2,
   "metadata": {},
   "outputs": [
    {
     "output_type": "stream",
     "name": "stdout",
     "text": [
      "x: 7\n*args: ()\n0\n"
     ]
    }
   ],
   "source": [
    "realiza_suma_numeros (7)"
   ]
  },
  {
   "cell_type": "code",
   "execution_count": 3,
   "metadata": {},
   "outputs": [
    {
     "output_type": "error",
     "ename": "SyntaxError",
     "evalue": "positional argument follows keyword argument (<ipython-input-3-72c5c746456d>, line 1)",
     "traceback": [
      "\u001b[1;36m  File \u001b[1;32m\"<ipython-input-3-72c5c746456d>\"\u001b[1;36m, line \u001b[1;32m1\u001b[0m\n\u001b[1;33m    realiza_suma_numeros (x=2, 7,5)\u001b[0m\n\u001b[1;37m                              ^\u001b[0m\n\u001b[1;31mSyntaxError\u001b[0m\u001b[1;31m:\u001b[0m positional argument follows keyword argument\n"
     ]
    }
   ],
   "source": [
    "realiza_suma_numeros (x=2, 7,5) #-> da error porque es necesario poner iguales a partir del primer '=' de los argumentos (en este caso el 'x=2')"
   ]
  },
  {
   "source": [
    "# KARGS"
   ],
   "cell_type": "markdown",
   "metadata": {}
  },
  {
   "cell_type": "code",
   "execution_count": 4,
   "metadata": {},
   "outputs": [
    {
     "output_type": "error",
     "ename": "TypeError",
     "evalue": "funcion_kwargs() takes 0 positional arguments but 2 were given",
     "traceback": [
      "\u001b[1;31m---------------------------------------------------------------------------\u001b[0m",
      "\u001b[1;31mTypeError\u001b[0m                                 Traceback (most recent call last)",
      "\u001b[1;32m<ipython-input-4-c8525af411c7>\u001b[0m in \u001b[0;36m<module>\u001b[1;34m\u001b[0m\n\u001b[0;32m      3\u001b[0m     \u001b[0mprint\u001b[0m\u001b[1;33m(\u001b[0m\u001b[0mkwargs\u001b[0m\u001b[1;33m)\u001b[0m\u001b[1;33m\u001b[0m\u001b[1;33m\u001b[0m\u001b[0m\n\u001b[0;32m      4\u001b[0m \u001b[1;33m\u001b[0m\u001b[0m\n\u001b[1;32m----> 5\u001b[1;33m \u001b[0mfuncion_kwargs\u001b[0m\u001b[1;33m(\u001b[0m\u001b[1;36m2\u001b[0m\u001b[1;33m,\u001b[0m\u001b[1;36m3\u001b[0m\u001b[1;33m)\u001b[0m\u001b[1;33m\u001b[0m\u001b[1;33m\u001b[0m\u001b[0m\n\u001b[0m",
      "\u001b[1;31mTypeError\u001b[0m: funcion_kwargs() takes 0 positional arguments but 2 were given"
     ]
    }
   ],
   "source": [
    "def funcion_kwargs (**kwargs):\n",
    "    print(type(kwargs))\n",
    "    print(kwargs)\n",
    "\n",
    "funcion_kwargs(2,3) #-> no permite pasar valores sin asignar a claves"
   ]
  },
  {
   "cell_type": "code",
   "execution_count": 5,
   "metadata": {},
   "outputs": [
    {
     "output_type": "stream",
     "name": "stdout",
     "text": [
      "<class 'dict'>\n{'x': 2, 'p': 3}\n"
     ]
    }
   ],
   "source": [
    "def funcion_kwargs (**kwargs):\n",
    "    print(type(kwargs))\n",
    "    print(kwargs)\n",
    "\n",
    "funcion_kwargs(x=2,p=3)#-> se devuelve como un diccionario"
   ]
  },
  {
   "cell_type": "code",
   "execution_count": 7,
   "metadata": {},
   "outputs": [
    {
     "output_type": "stream",
     "name": "stdout",
     "text": [
      "x: 2\n<class 'dict'>\n{'p': 3}\n"
     ]
    }
   ],
   "source": [
    "def funcion_kwargs (x, **kwargs):\n",
    "    print (\"x:\", x)\n",
    "    print(type(kwargs))\n",
    "    print(kwargs)\n",
    "\n",
    "funcion_kwargs(x=2,p=3)"
   ]
  },
  {
   "cell_type": "code",
   "execution_count": 8,
   "metadata": {},
   "outputs": [
    {
     "output_type": "stream",
     "name": "stdout",
     "text": [
      "x: 2\nb: 4\n<class 'dict'>\n{'p': 3, 's': [-8, -9]}\n"
     ]
    }
   ],
   "source": [
    "def funcion_kwargs (x, b=4, **kwargs):\n",
    "    print (\"x:\", x)\n",
    "    print (\"b:\", b)\n",
    "    print(type(kwargs))\n",
    "    print(kwargs)\n",
    "\n",
    "funcion_kwargs(2,p=3, s=[-8, -9])"
   ]
  },
  {
   "source": [
    "# *args & **kwargs"
   ],
   "cell_type": "markdown",
   "metadata": {}
  },
  {
   "cell_type": "code",
   "execution_count": 9,
   "metadata": {},
   "outputs": [
    {
     "output_type": "stream",
     "name": "stdout",
     "text": [
      "x: 1\nb: 4\n<class 'tuple'>\n*args: ()\n<class 'dict'>\n*kwargs: {}\n"
     ]
    }
   ],
   "source": [
    "# si se utilizan args y kwargs, se ponen primero *args (un asterisco), antes que **kwargs (dos asteriscos)\n",
    "def funcion_args_kwargs (x, b=4, *args, **kwargs):\n",
    "    print(\"x:\", x)\n",
    "    print(\"b:\", b)\n",
    "    print(type(args))\n",
    "    print(\"*args:\", args)\n",
    "    print(type(kwargs))\n",
    "    print(\"*kwargs:\", kwargs)\n",
    "\n",
    "funcion_args_kwargs(1)"
   ]
  },
  {
   "cell_type": "code",
   "execution_count": 10,
   "metadata": {},
   "outputs": [
    {
     "output_type": "stream",
     "name": "stdout",
     "text": [
      "x: 1\nb: 4\n<class 'tuple'>\n*args: ()\n<class 'dict'>\n*kwargs: {'k': 2}\n"
     ]
    }
   ],
   "source": [
    "def funcion_args_kwargs (x, b=4, *args, **kwargs):\n",
    "    print(\"x:\", x)\n",
    "    print(\"b:\", b)\n",
    "    print(type(args))\n",
    "    print(\"*args:\", args)\n",
    "    print(type(kwargs))\n",
    "    print(\"*kwargs:\", kwargs)\n",
    "\n",
    "funcion_args_kwargs(1, k=2) # k=2 va a kwargs porque tiene clave"
   ]
  },
  {
   "cell_type": "code",
   "execution_count": 11,
   "metadata": {},
   "outputs": [
    {
     "output_type": "stream",
     "name": "stdout",
     "text": [
      "x: 1\nb: 2\n<class 'tuple'>\n*args: (3,)\n<class 'dict'>\n*kwargs: {}\n"
     ]
    }
   ],
   "source": [
    "def funcion_args_kwargs (x, b=4, *args, **kwargs):\n",
    "    print(\"x:\", x)\n",
    "    print(\"b:\", b)\n",
    "    print(type(args))\n",
    "    print(\"*args:\", args)\n",
    "    print(type(kwargs))\n",
    "    print(\"*kwargs:\", kwargs)\n",
    "\n",
    "funcion_args_kwargs(1, 2,3)"
   ]
  },
  {
   "cell_type": "code",
   "execution_count": 12,
   "metadata": {},
   "outputs": [
    {
     "output_type": "stream",
     "name": "stdout",
     "text": [
      "x: 1\nb: 2\n<class 'tuple'>\n*args: (3,)\n<class 'dict'>\n*kwargs: {'j': 6}\n"
     ]
    }
   ],
   "source": [
    "def funcion_args_kwargs (x, b=4, *args, **kwargs):\n",
    "    print(\"x:\", x)\n",
    "    print(\"b:\", b)\n",
    "    print(type(args))\n",
    "    print(\"*args:\", args)\n",
    "    print(type(kwargs))\n",
    "    print(\"*kwargs:\", kwargs)\n",
    "\n",
    "funcion_args_kwargs(1, 2,3, j=6)"
   ]
  },
  {
   "cell_type": "code",
   "execution_count": 13,
   "metadata": {},
   "outputs": [
    {
     "output_type": "error",
     "ename": "TypeError",
     "evalue": "funcion_args_kwargs() got multiple values for argument 'b'",
     "traceback": [
      "\u001b[1;31m---------------------------------------------------------------------------\u001b[0m",
      "\u001b[1;31mTypeError\u001b[0m                                 Traceback (most recent call last)",
      "\u001b[1;32m<ipython-input-13-3c612ce319a0>\u001b[0m in \u001b[0;36m<module>\u001b[1;34m\u001b[0m\n\u001b[0;32m      7\u001b[0m     \u001b[0mprint\u001b[0m\u001b[1;33m(\u001b[0m\u001b[1;34m\"*kwargs:\"\u001b[0m\u001b[1;33m,\u001b[0m \u001b[0mkwargs\u001b[0m\u001b[1;33m)\u001b[0m\u001b[1;33m\u001b[0m\u001b[1;33m\u001b[0m\u001b[0m\n\u001b[0;32m      8\u001b[0m \u001b[1;33m\u001b[0m\u001b[0m\n\u001b[1;32m----> 9\u001b[1;33m \u001b[0mfuncion_args_kwargs\u001b[0m\u001b[1;33m(\u001b[0m\u001b[1;36m1\u001b[0m\u001b[1;33m,\u001b[0m \u001b[1;36m2\u001b[0m\u001b[1;33m,\u001b[0m\u001b[1;36m3\u001b[0m\u001b[1;33m,\u001b[0m \u001b[1;36m999\u001b[0m\u001b[1;33m,\u001b[0m \u001b[0mj\u001b[0m\u001b[1;33m=\u001b[0m\u001b[1;36m6\u001b[0m\u001b[1;33m,\u001b[0m \u001b[0mb\u001b[0m\u001b[1;33m=\u001b[0m\u001b[1;36m5\u001b[0m\u001b[1;33m)\u001b[0m \u001b[1;31m# error porque ya hay una clave 'b'\u001b[0m\u001b[1;33m\u001b[0m\u001b[1;33m\u001b[0m\u001b[0m\n\u001b[0m",
      "\u001b[1;31mTypeError\u001b[0m: funcion_args_kwargs() got multiple values for argument 'b'"
     ]
    }
   ],
   "source": [
    "def funcion_args_kwargs (x, b=4, *args, **kwargs):\n",
    "    print(\"x:\", x)\n",
    "    print(\"b:\", b)\n",
    "    print(type(args))\n",
    "    print(\"*args:\", args)\n",
    "    print(type(kwargs))\n",
    "    print(\"*kwargs:\", kwargs)\n",
    "\n",
    "funcion_args_kwargs(1, 2,3, 999, j=6, b=5) # error porque ya hay una clave 'b'"
   ]
  },
  {
   "cell_type": "code",
   "execution_count": null,
   "metadata": {},
   "outputs": [],
   "source": []
  }
 ],
 "metadata": {
  "language_info": {
   "name": "python",
   "codemirror_mode": {
    "name": "ipython",
    "version": 3
   },
   "version": "3.7.4"
  },
  "orig_nbformat": 2,
  "file_extension": ".py",
  "mimetype": "text/x-python",
  "name": "python",
  "npconvert_exporter": "python",
  "pygments_lexer": "ipython3",
  "version": 3,
  "kernelspec": {
   "name": "python374jvsc74a57bd05e19f5f9047d686051a4ffff3c57b5ca676552393775b324a4200bbd1a7317fa",
   "display_name": "Python 3.7.4 64-bit"
  },
  "metadata": {
   "interpreter": {
    "hash": "5e19f5f9047d686051a4ffff3c57b5ca676552393775b324a4200bbd1a7317fa"
   }
  }
 },
 "nbformat": 4,
 "nbformat_minor": 2
}