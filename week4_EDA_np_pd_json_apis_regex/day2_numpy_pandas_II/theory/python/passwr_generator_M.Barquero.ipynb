{
 "metadata": {
  "language_info": {
   "codemirror_mode": {
    "name": "ipython",
    "version": 3
   },
   "file_extension": ".py",
   "mimetype": "text/x-python",
   "name": "python",
   "nbconvert_exporter": "python",
   "pygments_lexer": "ipython3",
   "version": "3.7.4"
  },
  "orig_nbformat": 2,
  "kernelspec": {
   "name": "python374jvsc74a57bd05e19f5f9047d686051a4ffff3c57b5ca676552393775b324a4200bbd1a7317fa",
   "display_name": "Python 3.7.4 64-bit"
  },
  "metadata": {
   "interpreter": {
    "hash": "5e19f5f9047d686051a4ffff3c57b5ca676552393775b324a4200bbd1a7317fa"
   }
  }
 },
 "nbformat": 4,
 "nbformat_minor": 2,
 "cells": [
  {
   "source": [
    "Crea una función llamada \"generador\" con dos argumentos de entrada 'longitud' (entero) y 'dificultad' (entero). La función retornará una contraseña (string) de tamaño 'longitud' y con las siguientes características dependiendo del valor de 'dificultad':\n",
    "\n",
    "1. Si 'dificultad' tiene valor 1, entonces la contraseña solo contendrá números. \n",
    "2. Si 'dificultad' tiene valor 2, entonces la contraseña contendrá números y letras\n",
    "3. Si 'dificultad' tiene valor 3, entonces la contraseña contendrá números, letras y signos de puntuación (!,?¡:-.\"')\n",
    "4. Si 'dificultad' tiene valor 4, entonces la contraseña será como la del punto 3. pero con el doble de longitud y solo números pares. \n",
    "5. Para cualquier otro caso, la contraseña será \"numpy_y_pandas_son_lo_mejor\""
   ],
   "cell_type": "markdown",
   "metadata": {}
  },
  {
   "cell_type": "code",
   "execution_count": 1,
   "metadata": {},
   "outputs": [],
   "source": [
    "import random\n"
   ]
  },
  {
   "cell_type": "code",
   "execution_count": 28,
   "metadata": {},
   "outputs": [],
   "source": [
    "\n",
    "def generador (longitud, dificultad):\n",
    "    pwd = \"\"\n",
    "    # con dificultad 2, la contraseña contendrá números y letras\n",
    "    seq2 = [\"0\",\"1\",\"2\",\"3\",\"4\",\"5\",\"6\",\"7\",\"8\",\"9\",\"z\",\"x\",\"c\",\"v\",\"b\",\"n\",\"m\",\"a\",\"s\",\"d\",\"f\",\"g\",\"h\",\"j\",\"k\",\"l\",\"p\",\"o\",\"i\",\"u\",\"y\",\"t\",\"r\",\"e\",\"w\",\"q\",\"Q\",\"W\",\"E\",\"R\",\"T\",\"Y\",\"U\",\"I\",\"O\",\"P\",\"L\",\"K\",\"J\",\"H\",\"G\",\"F\",\"D\",\"S\",\"A\",\"Z\",\"X\",\"C\",\"V\",\"B\",\"N\",\"M\"]\n",
    "    # con dificultad 3, la contraseña contendrá números, letras y signos de puntuación (!,?¡:-.\"')\n",
    "    seq3 = [\"0\",\"1\",\"2\",\"3\",\"4\",\"5\",\"6\",\"7\",\"8\",\"9\",\"z\",\"x\",\"c\",\"v\",\"b\",\"n\",\"m\",\"a\",\"s\",\"d\",\"f\",\"g\",\"h\",\"j\",\"k\",\"l\",\"p\",\"o\",\"i\",\"u\",\"y\",\"t\",\"r\",\"e\",\"w\",\"q\",\"Q\",\"W\",\"E\",\"R\",\"T\",\"Y\",\"U\",\"I\",\"O\",\"P\",\"L\",\"K\",\"J\",\"H\",\"G\",\"F\",\"D\",\"S\",\"A\",\"Z\",\"X\",\"C\",\"V\",\"B\",\"N\",\"M\", \",\", \"!\", \"?\", \"¡\", \":\",\"-\", \".\",\"\\\"\",\"'\"]\n",
    "    # con dificultad 4, la contraseña será como la del punto 3. pero con el doble de longitud y solo números pares \n",
    "    seq4 = [\"0\",\"2\",\"4\",\"6\",\"8\",\"z\",\"x\",\"c\",\"v\",\"b\",\"n\",\"m\",\"a\",\"s\",\"d\",\"f\",\"g\",\"h\",\"j\",\"k\",\"l\",\"p\",\"o\",\"i\",\"u\",\"y\",\"t\",\"r\",\"e\",\"w\",\"q\",\"Q\",\"W\",\"E\",\"R\",\"T\",\"Y\",\"U\",\"I\",\"O\",\"P\",\"L\",\"K\",\"J\",\"H\",\"G\",\"F\",\"D\",\"S\",\"A\",\"Z\",\"X\",\"C\",\"V\",\"B\",\"N\",\"M\", \",\", \"!\", \"?\", \"¡\", \":\",\"-\", \".\",\"\\\"\",\"'\"]\n",
    "\n",
    "    # En función de la dificultad, se genera la contraseña con su longitud.\n",
    "    if dificultad == 1:\n",
    "        for i in range(longitud):\n",
    "            pwd += str(random.randint(0,9))\n",
    "    elif dificultad == 2:\n",
    "        for i in range(longitud):\n",
    "            pwd += str(random.choice(seq2))\n",
    "    elif dificultad == 3:\n",
    "        for i in range(longitud):\n",
    "            pwd += str(random.choice(seq3))\n",
    "    elif dificultad == 4:\n",
    "        for i in range(longitud*2):\n",
    "            pwd += str(random.choice(seq4))\n",
    "    else:\n",
    "        pwd = \"numpy_y_pandas_son_lo_mejor\"\n",
    "    return pwd"
   ]
  },
  {
   "cell_type": "code",
   "execution_count": 49,
   "metadata": {},
   "outputs": [
    {
     "output_type": "stream",
     "name": "stdout",
     "text": [
      "NARP:y\n"
     ]
    }
   ],
   "source": [
    "pwd = generador (3, 4)\n",
    "print(pwd)"
   ]
  },
  {
   "cell_type": "code",
   "execution_count": null,
   "metadata": {},
   "outputs": [],
   "source": []
  }
 ]
}