{
 "cells": [
  {
   "cell_type": "markdown",
   "metadata": {},
   "source": [
    "Inheritance in python"
   ]
  },
  {
   "cell_type": "code",
   "execution_count": 1,
   "metadata": {},
   "outputs": [],
   "source": [
    "class LivingBeing():\n",
    "    \"\"\"Father/Mother class\"\"\"\n",
    "    def __init__(self, kingdom, born_date, procreate_ability=True, color=\"Transparente\"):\n",
    "        self.is_living = True\n",
    "        self.kingdom = kingdom\n",
    "        self.procreate_ability = procreate_ability\n",
    "        self.born_date = born_date\n",
    "        self.death_date = None\n",
    "        self.days_lived = 0    # Al crearse, el ser vivo tiene 0 días de vida desde su fecha de nacimiento\n",
    "        self.color = color\n",
    "\n",
    "    def living_being_function(self):\n",
    "        print(\"I am a living being!\")\n",
    "\n",
    "    def die(self, deathdate):\n",
    "        print(\"Murió\")\n",
    "        self.is_living = False\n",
    "        self.death_date = deathdate"
   ]
  },
  {
   "cell_type": "code",
   "execution_count": null,
   "metadata": {},
   "outputs": [],
   "source": [
    "def new_day(a_class):   # Este método añade un día de vida a cualquier clase, incluidas las clases hijas de la clase ser vivo\n",
    "    a_class.days_lived += 1 "
   ]
  },
  {
   "cell_type": "code",
   "execution_count": null,
   "metadata": {
    "tags": []
   },
   "outputs": [],
   "source": [
    "celula = LivingBeing(kingdom=\"Animal\", born_date=\"18/06/2019\")\n",
    "print(\"celula.days_lived:\", celula.days_lived)\n",
    "new_day(a_class=celula)\n",
    "print(\"celula.days_lived:\", celula.days_lived)"
   ]
  },
  {
   "cell_type": "code",
   "execution_count": null,
   "metadata": {},
   "outputs": [],
   "source": [
    "print(\"celula.is_living:\",celula.is_living)\n",
    "celula.die()\n",
    "print(\"celula.is_living:\",celula.is_living)"
   ]
  },
  {
   "cell_type": "code",
   "execution_count": null,
   "metadata": {},
   "outputs": [],
   "source": [
    "humano = LivingBeing(kingdom=\"Animal\", born_date=\"21/06/2019\")\n",
    "print(\"humano.is_living:\", humano.is_living)\n",
    "humano.die()\n",
    "print(\"humano.is_living:\", humano.is_living)"
   ]
  },
  {
   "cell_type": "code",
   "execution_count": 3,
   "metadata": {},
   "outputs": [],
   "source": [
    "class Human(LivingBeing):\n",
    "    \"\"\"Children class --> children from parent class Living Being\"\"\"\n",
    "    def __init__(self, born_date, color, procreate_ability=True, eyes=2, legs=2, intelligence_ability=True):\n",
    "        #Herencia: mismos atributos que la clase superior\n",
    "        LivingBeing.__init__(self, kingdom=\"Human\", procreate_ability=procreate_ability, born_date=born_date, color=color)\n",
    "\n",
    "        # Atributos nuevos de la clase \n",
    "        self.eyes = eyes\n",
    "        self.legs = legs\n",
    "        self.intelligence_ability = intelligence_ability\n",
    "    \n",
    "    "
   ]
  },
  {
   "source": [
    "humano = Human(born_date=\"13/05/1991\", color=\"el de la piel\")\n",
    "\n",
    "print(\"humano.is_living:\", humano.is_living)\n",
    "print(\"\\nCalling to living_being_function():\\n\")\n",
    "humano.living_being_function()"
   ],
   "cell_type": "code",
   "metadata": {
    "tags": []
   },
   "execution_count": 4,
   "outputs": [
    {
     "output_type": "stream",
     "name": "stdout",
     "text": [
      "humano.is_living: True\n\nCalling to living_being_function():\n\nI am a living being!\n"
     ]
    }
   ]
  },
  {
   "cell_type": "code",
   "execution_count": 5,
   "metadata": {},
   "outputs": [
    {
     "output_type": "execute_result",
     "data": {
      "text/plain": [
       "'el de la piel'"
      ]
     },
     "metadata": {},
     "execution_count": 5
    }
   ],
   "source": [
    "humano.color"
   ]
  },
  {
   "cell_type": "code",
   "execution_count": 6,
   "metadata": {},
   "outputs": [
    {
     "output_type": "stream",
     "name": "stdout",
     "text": [
      "humano.is_living: True\n\nCalling to living_being_function():\n\nI am a living being!\n"
     ]
    }
   ],
   "source": [
    "humano_esteril = Human(born_date=\"13/05/1991\", procreate_ability=False, color=\"el de la piel\")\n",
    "\n",
    "print(\"humano.is_living:\", humano_esteril.is_living)\n",
    "print(\"\\nCalling to living_being_function():\\n\")\n",
    "humano_esteril.living_being_function()"
   ]
  },
  {
   "cell_type": "code",
   "execution_count": 10,
   "metadata": {
    "tags": []
   },
   "outputs": [],
   "source": [
    "class Perro(LivingBeing):\n",
    "    def __init__(self, raza,color, bd, patas=4, ojos=2, cola= True, agresivo=False):\n",
    "        # Herencia\n",
    "        LivingBeing.__init__(self, kingdom=\"Animal\", born_date = bd, color=color)\n",
    "\n",
    "        # Atributos propios\n",
    "        self.patas = patas\n",
    "        self.ojos = ojos\n",
    "        self.agresivo = agresivo\n",
    "        self.raza = raza\n",
    "        self.cola = cola"
   ]
  },
  {
   "cell_type": "code",
   "execution_count": 12,
   "metadata": {},
   "outputs": [
    {
     "output_type": "execute_result",
     "data": {
      "text/plain": [
       "4"
      ]
     },
     "metadata": {},
     "execution_count": 12
    }
   ],
   "source": [
    "doby = Perro(raza=\"San Bernardo\", color=\"Marron y Blanco\", bd= \"05/05/2020\")\n",
    "\n",
    "doby.patas"
   ]
  },
  {
   "source": [
    "Ejemplo de diagrama de clases en python\n",
    "\n",
    "https://www.uml-diagrams.org/examples/online-shopping-domain-uml-diagram-example.html"
   ],
   "cell_type": "markdown",
   "metadata": {}
  }
 ],
 "metadata": {
  "language_info": {
   "name": "python",
   "codemirror_mode": {
    "name": "ipython",
    "version": 3
   },
   "version": "3.7.4"
  },
  "orig_nbformat": 2,
  "file_extension": ".py",
  "mimetype": "text/x-python",
  "name": "python",
  "npconvert_exporter": "python",
  "pygments_lexer": "ipython3",
  "version": 3,
  "kernelspec": {
   "name": "python374jvsc74a57bd05e19f5f9047d686051a4ffff3c57b5ca676552393775b324a4200bbd1a7317fa",
   "display_name": "Python 3.7.4 64-bit"
  },
  "metadata": {
   "interpreter": {
    "hash": "5e19f5f9047d686051a4ffff3c57b5ca676552393775b324a4200bbd1a7317fa"
   }
  }
 },
 "nbformat": 4,
 "nbformat_minor": 2
}