{
 "metadata": {
  "language_info": {
   "codemirror_mode": {
    "name": "ipython",
    "version": 3
   },
   "file_extension": ".py",
   "mimetype": "text/x-python",
   "name": "python",
   "nbconvert_exporter": "python",
   "pygments_lexer": "ipython3",
   "version": "3.7.4"
  },
  "orig_nbformat": 2,
  "kernelspec": {
   "name": "python374jvsc74a57bd093959734c7fb7f2dc7760fccbd71d0356ba421f29bb59ffa607c9608db7abb2a",
   "display_name": "Python 3.7.4 64-bit"
  },
  "metadata": {
   "interpreter": {
    "hash": "93959734c7fb7f2dc7760fccbd71d0356ba421f29bb59ffa607c9608db7abb2a"
   }
  }
 },
 "nbformat": 4,
 "nbformat_minor": 2,
 "cells": [
  {
   "source": [
    "## Web scrapping de IMDB"
   ],
   "cell_type": "markdown",
   "metadata": {}
  },
  {
   "cell_type": "code",
   "execution_count": 1,
   "metadata": {},
   "outputs": [
    {
     "output_type": "stream",
     "name": "stdout",
     "text": [
      "1 Cadena perpetua (1994)\nCadena perpetua\n2 El padrino (1972)\nEl padrino\n3 El padrino: Parte II (1974)\nEl padrino: Parte II\n4 El caballero oscuro (2008)\nEl caballero oscuro\n5 12 hombres sin piedad (1957)\n12 hombres sin piedad\n6 La lista de Schindler (1993)\nLa lista de Schindler\n7 El señor de los anillos: El retorno del rey (2003)\nEl señor de los anillos: El retorno del rey\n8 Pulp Fiction (1994)\nPulp Fiction\n9 El bueno, el feo y el malo (1966)\nEl bueno, el feo y el malo\n10 El señor de los anillos: La comunidad del anillo (2001)\n El señor de los anillos: La comunidad del anillo\n11 El club de la lucha (1999)\nEl club de la lucha\n12 Forrest Gump (1994)\nForrest Gump\n13 Origen (2010)\nOrigen\n14 El señor de los anillos: Las dos torres (2002)\nEl señor de los anillos: Las dos torres\n15 El Imperio contraataca (1980)\nEl Imperio contraataca\n16 Matrix (1999)\nMatrix\n17 Uno de los nuestros (1990)\nUno de los nuestros\n18 Alguien voló sobre el nido del cuco (1975)\nAlguien voló sobre el nido del cuco\n19 Los siete samuráis (1954)\nLos siete samuráis\n20 Seven (1995)\nSeven\n21 El silencio de los corderos (1991)\nEl silencio de los corderos\n22 Ciudad de Dios (2002)\nCiudad de Dios\n23 ¡Qué bello es vivir! (1946)\n¡Qué bello es vivir!\n24 La vida es bella (1997)\nLa vida es bella\n25 La guerra de las galaxias (1977)\nLa guerra de las galaxias\n26 Salvar al soldado Ryan (1998)\nSalvar al soldado Ryan\n27 El viaje de Chihiro (2001)\nEl viaje de Chihiro\n28 La milla verde (1999)\nLa milla verde\n29 Interstellar (2014)\nInterstellar\n30 Parásitos (2019)\nParásitos\n31 El profesional (Léon) (1994)\nEl profesional (Léon)\n32 Harakiri (1962)\nHarakiri\n33 Sospechosos habituales (1995)\nSospechosos habituales\n34 El pianista (2002)\nEl pianista\n35 Regreso al futuro (1985)\nRegreso al futuro\n36 Terminator 2: El juicio final (1991)\nTerminator 2: El juicio final\n37 Tiempos modernos (1936)\nTiempos modernos\n38 Psicosis (1960)\nPsicosis\n39 El rey león (1994)\nEl rey león\n40 American History X (1998)\nAmerican History X\n41 Luces de la ciudad (1931)\nLuces de la ciudad\n42 Gladiator (El gladiador) (2000)\nGladiator (El gladiador)\n43 Infiltrados (2006)\nInfiltrados\n44 Whiplash (2014)\nWhiplash\n45 La tumba de las luciérnagas (1988)\nLa tumba de las luciérnagas\n46 Intocable (2011)\nIntocable\n47 El truco final (El prestigio) (2006)\nEl truco final (El prestigio)\n48 Casablanca (1942)\nCasablanca\n49 Hasta que llegó su hora (1968)\nHasta que llegó su hora\n50 La ventana indiscreta (1954)\nLa ventana indiscreta\n51 Cinema Paradiso (1988)\nCinema Paradiso\n52 Alien, el octavo pasajero (1979)\nAlien, el octavo pasajero\n53 Apocalypse Now (1979)\nApocalypse Now\n54 Memento (2000)\nMemento\n55 En busca del arca perdida (1981)\nEn busca del arca perdida\n56 El gran dictador (1940)\nEl gran dictador\n57 La vida de los otros (2006)\nLa vida de los otros\n58 Django desencadenado (2012)\nDjango desencadenado\n59 Senderos de gloria (1957)\nSenderos de gloria\n60 El crepúsculo de los dioses (1950)\nEl crepúsculo de los dioses\n61 WALL·E (2008)\nWALL·E\n62 El resplandor (1980)\nEl resplandor\n63 Joker (2019)\nJoker\n64 Vengadores: Infinity War (2018)\nVengadores: Infinity War\n65 Testigo de cargo (1957)\nTestigo de cargo\n66 ¿Teléfono rojo? Volamos hacia Moscú (1964)\n¿Teléfono rojo? Volamos hacia Moscú\n67 Spider-Man: un nuevo universo (2018)\nSpider-Man: un nuevo universo\n68 La princesa Mononoke (1997)\nLa princesa Mononoke\n69 Old Boy (2003)\nOld Boy\n70 Hamilton (2020)\nHamilton\n71 Érase una vez en América (1984)\nÉrase una vez en América\n72 Your Name (2016)\nYour Name\n73 El caballero oscuro: La leyenda renace (2012)\nEl caballero oscuro: La leyenda renace\n74 Aliens: El regreso (1986)\nAliens: El regreso\n75 Coco (2017)\nCoco\n76 El submarino - Das Boot (1981)\nEl submarino - Das Boot\n77 Cafarnaúm (2018)\nCafarnaúm\n78 Vengadores: Endgame (2019)\nVengadores: Endgame\n79 El infierno del odio (1963)\nEl infierno del odio\n80 American Beauty (1999)\nAmerican Beauty\n81 Toy Story (1995)\nToy Story\n82 Braveheart (1995)\nBraveheart\n83 Amadeus (1984)\nAmadeus\n84 3 Idiots (2009)\n3 Idiots\n85 Malditos bastardos (2009)\nMalditos bastardos\n86 El indomable Will Hunting (1997)\nEl indomable Will Hunting\n87 El retorno del jedi (1983)\nEl retorno del jedi\n88 2001: Una odisea del espacio (1968)\n2001: Una odisea del espacio\n89 Reservoir Dogs (1992)\nReservoir Dogs\n90 M, el vampiro de Düsseldorf (1931)\nM, el vampiro de Düsseldorf\n91 Taare Zameen Par (2007)\nTaare Zameen Par\n92 Ciudadano Kane (1941)\nCiudadano Kane\n93 Vértigo (De entre los muertos) (1958)\nVértigo (De entre los muertos)\n94 Réquiem por un sueño (2000)\nRéquiem por un sueño\n95 La caza (2012)\nLa caza\n96 Cantando bajo la lluvia (1952)\nCantando bajo la lluvia\n97 Con la muerte en los talones (1959)\nCon la muerte en los talones\n98 ¡Olvídate de mí! (2004)\n¡Olvídate de mí!\n99 Masacre (Ven y mira) (1985)\nMasacre (Ven y mira)\n100 Ladrón de bicicletas (1948)\n Ladrón de bicicletas\n101 Ikiru (Vivir) (1952)\nIkiru (Vivir)\n102 Lawrence de Arabia (1962)\nLawrence de Arabia\n103 El padre (2020)\nEl padre\n104 El chico (1921)\nEl chico\n105 La chaqueta metálica (1987)\nLa chaqueta metálica\n106 Dangal (2016)\nDangal\n107 La naranja mecánica (1971)\nLa naranja mecánica\n108 Taxi Driver (1976)\nTaxi Driver\n109 Metrópolis (1927)\nMetrópolis\n110 El golpe (1973)\nEl golpe\n111 1917 (2019)\n1917\n112 Perdición (1944)\nPerdición\n113 Amelie (2001)\nAmelie\n114 El apartamento (1960)\nEl apartamento\n115 Nader y Simin, una separación (2011)\nNader y Simin, una separación\n116 Snatch: Cerdos y diamantes (2000)\nSnatch: Cerdos y diamantes\n117 Incendios (2010)\nIncendios\n118 El precio del poder (1983)\nEl precio del poder\n119 Toy Story 3 (2010)\nToy Story 3\n120 Matar un ruiseñor (1962)\nMatar un ruiseñor\n121 La muerte tenía un precio (1965)\nLa muerte tenía un precio\n122 Up (2009)\nUp\n123 Indiana Jones y la última cruzada (1989)\nIndiana Jones y la última cruzada\n124 LA Confidential (1997)\nLA Confidential\n125 Rashomon (1950)\nRashomon\n126 Heat (1995)\nHeat\n127 Yojimbo (1961)\nYojimbo\n128 Jungla de cristal (1988)\nJungla de cristal\n129 Ran (1985)\nRan\n130 Los caballeros de la mesa cuadrada y sus locos seguidores (1975)\nLos caballeros de la mesa cuadrada y sus locos seguidores\n131 Green Book (2018)\nGreen Book\n132 El hundimiento (2004)\nEl hundimiento\n133 Batman Begins (2005)\nBatman Begins\n134 Con faldas y a lo loco (1959)\nCon faldas y a lo loco\n135 Eva al desnudo (1950)\nEva al desnudo\n136 Sin perdón (1992)\nSin perdón\n137 Children of Heaven (1997)\nChildren of Heaven\n138 El castillo ambulante (2004)\nEl castillo ambulante\n139 La gran evasión (1963)\nLa gran evasión\n140 El lobo de Wall Street (2013)\nEl lobo de Wall Street\n141 ¿Vencedores o vencidos? (1961)\n¿Vencedores o vencidos?\n142 Casino (1995)\nCasino\n143 El laberinto del fauno (2006)\nEl laberinto del fauno\n144 El tesoro de Sierra Madre (1948)\nEl tesoro de Sierra Madre\n145 Una mente maravillosa (2001)\nUna mente maravillosa\n146 Pozos de ambición (2007)\nPozos de ambición\n147 El secreto de sus ojos (2009)\nEl secreto de sus ojos\n148 Toro salvaje (1980)\nToro salvaje\n149 Mi vecino Totoro (1988)\nMi vecino Totoro\n150 Chinatown (1974)\nChinatown\n151 Lock & Stock (1998)\nLock & Stock\n152 La quimera del oro (1925)\nLa quimera del oro\n153 Tres anuncios en las afueras (2017)\nTres anuncios en las afueras\n154 Crimen perfecto (1954)\nCrimen perfecto\n155 No es país para viejos (2007)\nNo es país para viejos\n156 El séptimo sello (1957)\nEl séptimo sello\n157 Shutter Island (2010)\nShutter Island\n158 El hombre elefante (1980)\nEl hombre elefante\n159 La cosa (1982)\nLa cosa\n160 El sexto sentido (1999)\nEl sexto sentido\n161 Del revés (Inside Out) (2015)\nDel revés (Inside Out)\n162 V de Vendetta (2005)\nV de Vendetta\n163 El tercer hombre (1949)\nEl tercer hombre\n164 Klaus (2019)\nKlaus\n165 Blade Runner (1982)\nBlade Runner\n166 Mi padre y mi hijo (2005)\nMi padre y mi hijo\n167 El puente sobre el río Kwai (1957)\nEl puente sobre el río Kwai\n168 Fresas salvajes (1957)\nFresas salvajes\n169 Trainspotting (1996)\nTrainspotting\n170 Warrior (2011)\nWarrior\n171 El show de Truman (1998)\nEl show de Truman\n172 Jurassic Park (Parque Jurásico) (1993)\nJurassic Park (Parque Jurásico)\n173 Fargo (1996)\nFargo\n174 Buscando a Nemo (2003)\nBuscando a Nemo\n175 Lo que el viento se llevó (1939)\nLo que el viento se llevó\n176 Memories of Murder (Crónica de un asesino en serie) (2003)\nMemories of Murder (Crónica de un asesino en serie)\n177 Cuentos de Tokio (1953)\nCuentos de Tokio\n178 Kill Bill: Volumen 1 (2003)\nKill Bill: Volumen 1\n179 La ley del silencio (1954)\nLa ley del silencio\n180 Stalker (1979)\nStalker\n181 El maquinista de La General (1926)\nEl maquinista de La General\n182 El cazador (1978)\nEl cazador\n183 Relatos salvajes (2014)\nRelatos salvajes\n184 Gran Torino (2008)\nGran Torino\n185 El moderno Sherlock Holmes (1924)\nEl moderno Sherlock Holmes\n186 La habitación (2015)\nLa habitación\n187 El gran hotel Budapest (2014)\nEl gran hotel Budapest\n188 Mary and Max (2009)\nMary and Max\n189 Persona (1966)\nPersona\n190 Antes de amanecer (1995)\nAntes de amanecer\n191 En el nombre del padre (1993)\nEn el nombre del padre\n192 Caballero sin espada (1939)\nCaballero sin espada\n193 Prisioneros (2013)\nPrisioneros\n194 Perdida (2014)\nPerdida\n195 Ser o no ser (1942)\nSer o no ser\n196 Atrápame si puedes (2002)\nAtrápame si puedes\n197 Hasta el último hombre (2016)\nHasta el último hombre\n198 Barry Lyndon (1975)\nBarry Lyndon\n199 El gran Lebowski (1998)\nEl gran Lebowski\n200 Andhadhun (2018)\nAndhadhun\n201 12 años de esclavitud (2013)\n12 años de esclavitud\n202 Le Mans '66 (2019)\nLe Mans '66\n203 La pasión de Juana de Arco (1928)\nLa pasión de Juana de Arco\n204 Cómo entrenar a tu dragón (2010)\nCómo entrenar a tu dragón\n205 Mad Max: Furia en la carretera (2015)\nMad Max: Furia en la carretera\n206 El salario del miedo (1953)\nEl salario del miedo\n207 Million Dollar Baby (2004)\nMillion Dollar Baby\n208 Ben-Hur (1959)\nBen-Hur\n209 Network, un mundo implacable (1976)\nNetwork, un mundo implacable\n210 El club de los poetas muertos (1989)\nEl club de los poetas muertos\n211 Cuenta conmigo (1986)\nCuenta conmigo\n212 Sonata de otoño (1978)\nSonata de otoño\n213 Harry Potter y las Reliquias de la Muerte - Parte 2 (2011)\nHarry Potter y las Reliquias de la Muerte - Parte 2\n214 La leyenda del indomable (1967)\nLa leyenda del indomable\n215 Los cuatrocientos golpes (1959)\nLos cuatrocientos golpes\n216 Eskiya (1996)\nEskiya\n217 La doncella (2016)\nLa doncella\n218 Logan (2017)\nLogan\n219 Platoon (1986)\nPlatoon\n220 Siempre a tu lado (Hachiko) (2009)\nSiempre a tu lado (Hachiko)\n221 El odio (1995)\nEl odio\n222 La vida de Brian (1979)\nLa vida de Brian\n223 Spotlight (2015)\nSpotlight\n224 Hotel Rwanda (2004)\nHotel Rwanda\n225 Hacia rutas salvajes (2007)\nHacia rutas salvajes\n226 Rush (2013)\nRush\n227 Rebeca (1940)\nRebeca\n228 Monstruos, SA (2001)\nMonstruos, SA\n229 Andrei Rublev (1966)\nAndrei Rublev\n230 Amores perros (2000)\nAmores perros\n231 Ratsasan (2018)\nRatsasan\n232 Rocky (1976)\nRocky\n233 Deseando amar (2000)\nDeseando amar\n234 Nausicaä del Valle del Viento (1984)\nNausicaä del Valle del Viento\n235 Sucedió una noche (1934)\nSucedió una noche\n236 Gangs of Wasseypur (2012)\nGangs of Wasseypur\n237 A Silent Voice (2016)\nA Silent Voice\n238 La batalla de Argel (1966)\nLa batalla de Argel\n239 Soul (2020)\nSoul\n240 Rififi (1955)\nRififi\n241 Antes del atardecer (2004)\nAntes del atardecer\n242 Fanny y Alexander (1982)\nFanny y Alexander\n243 Amanecer (1927)\nAmanecer\n244 La princesa prometida (1987)\nLa princesa prometida\n245 Tres colores: Rojo (1994)\nTres colores: Rojo\n246 Neon Genesis Evangelion: The End of Evangelion (1997)\nNeon Genesis Evangelion: The End of Evangelion\n247 Anand (1971)\nAnand\n248 El hombre que mató a Liberty Valance (1962)\nEl hombre que mató a Liberty Valance\n249 París, Texas (1984)\nParís, Texas\n250 Trono de sangre (1957)\nTrono de sangre\n"
     ]
    },
    {
     "output_type": "execute_result",
     "data": {
      "text/plain": [
       "                                        movie_title  year place  \\\n",
       "0                                   Cadena perpetua  1994     1   \n",
       "1                                        El padrino  1972     2   \n",
       "2                              El padrino: Parte II  1974     3   \n",
       "3                               El caballero oscuro  2008     4   \n",
       "4                             12 hombres sin piedad  1957     5   \n",
       "..                                              ...   ...   ...   \n",
       "245  Neon Genesis Evangelion: The End of Evangelion  1997   246   \n",
       "246                                           Anand  1971   247   \n",
       "247            El hombre que mató a Liberty Valance  1962   248   \n",
       "248                                    París, Texas  1984   249   \n",
       "249                                 Trono de sangre  1957   250   \n",
       "\n",
       "                                             star_cast             rating  \\\n",
       "0    Frank Darabont (dir.), Tim Robbins, Morgan Fre...  9.219693115819144   \n",
       "1    Francis Ford Coppola (dir.), Marlon Brando, Al...  9.147505384539555   \n",
       "2    Francis Ford Coppola (dir.), Al Pacino, Robert...  8.979859299411887   \n",
       "3    Christopher Nolan (dir.), Christian Bale, Heat...  8.969685199607332   \n",
       "4        Sidney Lumet (dir.), Henry Fonda, Lee J. Cobb  8.934684519103527   \n",
       "..                                                 ...                ...   \n",
       "245  Hideaki Anno (dir.), Megumi Ogata, Megumi Haya...  8.018383021929608   \n",
       "246  Hrishikesh Mukherjee (dir.), Rajesh Khanna, Am...   8.01796464377051   \n",
       "247        John Ford (dir.), James Stewart, John Wayne  8.017266136642641   \n",
       "248  Wim Wenders (dir.), Harry Dean Stanton, Nastas...  8.017001382958798   \n",
       "249  Akira Kurosawa (dir.), Toshirô Mifune, Minoru ...    8.0169409238557   \n",
       "\n",
       "     vote               link  \n",
       "0    None  /title/tt0111161/  \n",
       "1    None  /title/tt0068646/  \n",
       "2    None  /title/tt0071562/  \n",
       "3    None  /title/tt0468569/  \n",
       "4    None  /title/tt0050083/  \n",
       "..    ...                ...  \n",
       "245  None  /title/tt0169858/  \n",
       "246  None  /title/tt0066763/  \n",
       "247  None  /title/tt0056217/  \n",
       "248  None  /title/tt0087884/  \n",
       "249  None  /title/tt0050613/  \n",
       "\n",
       "[250 rows x 7 columns]"
      ],
      "text/html": "<div>\n<style scoped>\n    .dataframe tbody tr th:only-of-type {\n        vertical-align: middle;\n    }\n\n    .dataframe tbody tr th {\n        vertical-align: top;\n    }\n\n    .dataframe thead th {\n        text-align: right;\n    }\n</style>\n<table border=\"1\" class=\"dataframe\">\n  <thead>\n    <tr style=\"text-align: right;\">\n      <th></th>\n      <th>movie_title</th>\n      <th>year</th>\n      <th>place</th>\n      <th>star_cast</th>\n      <th>rating</th>\n      <th>vote</th>\n      <th>link</th>\n    </tr>\n  </thead>\n  <tbody>\n    <tr>\n      <th>0</th>\n      <td>Cadena perpetua</td>\n      <td>1994</td>\n      <td>1</td>\n      <td>Frank Darabont (dir.), Tim Robbins, Morgan Fre...</td>\n      <td>9.219693115819144</td>\n      <td>None</td>\n      <td>/title/tt0111161/</td>\n    </tr>\n    <tr>\n      <th>1</th>\n      <td>El padrino</td>\n      <td>1972</td>\n      <td>2</td>\n      <td>Francis Ford Coppola (dir.), Marlon Brando, Al...</td>\n      <td>9.147505384539555</td>\n      <td>None</td>\n      <td>/title/tt0068646/</td>\n    </tr>\n    <tr>\n      <th>2</th>\n      <td>El padrino: Parte II</td>\n      <td>1974</td>\n      <td>3</td>\n      <td>Francis Ford Coppola (dir.), Al Pacino, Robert...</td>\n      <td>8.979859299411887</td>\n      <td>None</td>\n      <td>/title/tt0071562/</td>\n    </tr>\n    <tr>\n      <th>3</th>\n      <td>El caballero oscuro</td>\n      <td>2008</td>\n      <td>4</td>\n      <td>Christopher Nolan (dir.), Christian Bale, Heat...</td>\n      <td>8.969685199607332</td>\n      <td>None</td>\n      <td>/title/tt0468569/</td>\n    </tr>\n    <tr>\n      <th>4</th>\n      <td>12 hombres sin piedad</td>\n      <td>1957</td>\n      <td>5</td>\n      <td>Sidney Lumet (dir.), Henry Fonda, Lee J. Cobb</td>\n      <td>8.934684519103527</td>\n      <td>None</td>\n      <td>/title/tt0050083/</td>\n    </tr>\n    <tr>\n      <th>...</th>\n      <td>...</td>\n      <td>...</td>\n      <td>...</td>\n      <td>...</td>\n      <td>...</td>\n      <td>...</td>\n      <td>...</td>\n    </tr>\n    <tr>\n      <th>245</th>\n      <td>Neon Genesis Evangelion: The End of Evangelion</td>\n      <td>1997</td>\n      <td>246</td>\n      <td>Hideaki Anno (dir.), Megumi Ogata, Megumi Haya...</td>\n      <td>8.018383021929608</td>\n      <td>None</td>\n      <td>/title/tt0169858/</td>\n    </tr>\n    <tr>\n      <th>246</th>\n      <td>Anand</td>\n      <td>1971</td>\n      <td>247</td>\n      <td>Hrishikesh Mukherjee (dir.), Rajesh Khanna, Am...</td>\n      <td>8.01796464377051</td>\n      <td>None</td>\n      <td>/title/tt0066763/</td>\n    </tr>\n    <tr>\n      <th>247</th>\n      <td>El hombre que mató a Liberty Valance</td>\n      <td>1962</td>\n      <td>248</td>\n      <td>John Ford (dir.), James Stewart, John Wayne</td>\n      <td>8.017266136642641</td>\n      <td>None</td>\n      <td>/title/tt0056217/</td>\n    </tr>\n    <tr>\n      <th>248</th>\n      <td>París, Texas</td>\n      <td>1984</td>\n      <td>249</td>\n      <td>Wim Wenders (dir.), Harry Dean Stanton, Nastas...</td>\n      <td>8.017001382958798</td>\n      <td>None</td>\n      <td>/title/tt0087884/</td>\n    </tr>\n    <tr>\n      <th>249</th>\n      <td>Trono de sangre</td>\n      <td>1957</td>\n      <td>250</td>\n      <td>Akira Kurosawa (dir.), Toshirô Mifune, Minoru ...</td>\n      <td>8.0169409238557</td>\n      <td>None</td>\n      <td>/title/tt0050613/</td>\n    </tr>\n  </tbody>\n</table>\n<p>250 rows × 7 columns</p>\n</div>"
     },
     "metadata": {},
     "execution_count": 1
    }
   ],
   "source": [
    "from bs4 import BeautifulSoup\n",
    "import requests\n",
    "import re\n",
    "import pandas as pd\n",
    "\n",
    "# Download IMDB's Top 250 data\n",
    "url = 'http://www.imdb.com/chart/top'\n",
    "response = requests.get(url)\n",
    "soup = BeautifulSoup(response.text, 'lxml')\n",
    "\n",
    "movies = soup.select('td.titleColumn')\n",
    "links = [a.attrs.get('href') for a in soup.select('td.titleColumn a')]\n",
    "crew = [a.attrs.get('title') for a in soup.select('td.titleColumn a')]\n",
    "ratings = [b.attrs.get('data-value') for b in soup.select('td.posterColumn span[name=ir]')]\n",
    "votes = [b.attrs.get('data-value') for b in soup.select('td.ratingColumn strong')]\n",
    "\n",
    "imdb = []\n",
    "\n",
    "# Store each item into dictionary (data), then put those into a list (imdb)\n",
    "for index in range(0, len(movies)):\n",
    "    # Seperate movie into: 'place', 'title', 'year'\n",
    "    movie_string = movies[index].get_text()\n",
    "    movie = (' '.join(movie_string.split()).replace('.', ''))\n",
    "    print(movie)\n",
    "    movie_title = movie[len(str(index))+1:-7]\n",
    "    print(movie_title)\n",
    "    year = re.search('\\((.*?)\\)', movie_string).group(1)\n",
    "    place = movie[:len(str(index))-(len(movie))]\n",
    "    data = {\"movie_title\": movie_title,\n",
    "            \"year\": year,\n",
    "            \"place\": place,\n",
    "            \"star_cast\": crew[index],\n",
    "            \"rating\": ratings[index],\n",
    "            \"vote\": votes[index],\n",
    "            \"link\": links[index]}\n",
    "    imdb.append(data)\n",
    "df = pd.DataFrame(imdb)\n",
    "df"
   ]
  },
  {
   "cell_type": "code",
   "execution_count": null,
   "metadata": {},
   "outputs": [],
   "source": []
  }
 ]
}