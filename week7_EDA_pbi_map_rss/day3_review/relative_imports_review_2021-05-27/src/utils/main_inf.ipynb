{
 "metadata": {
  "language_info": {
   "codemirror_mode": {
    "name": "ipython",
    "version": 3
   },
   "file_extension": ".py",
   "mimetype": "text/x-python",
   "name": "python",
   "nbconvert_exporter": "python",
   "pygments_lexer": "ipython3",
   "version": "3.7.4"
  },
  "orig_nbformat": 2,
  "kernelspec": {
   "name": "python374jvsc74a57bd093959734c7fb7f2dc7760fccbd71d0356ba421f29bb59ffa607c9608db7abb2a",
   "display_name": "Python 3.7.4 64-bit"
  },
  "metadata": {
   "interpreter": {
    "hash": "93959734c7fb7f2dc7760fccbd71d0356ba421f29bb59ffa607c9608db7abb2a"
   }
  }
 },
 "nbformat": 4,
 "nbformat_minor": 2,
 "cells": [
  {
   "cell_type": "code",
   "execution_count": 1,
   "metadata": {},
   "outputs": [
    {
     "output_type": "execute_result",
     "data": {
      "text/plain": [
       "'c:\\\\Users\\\\barke\\\\OneDrive\\\\Escritorio\\\\TheBridgeDataScientist\\\\TareasTheBridge\\\\week7_EDA_pbi_map_rss\\\\day3_review\\\\relative_imports_review\\\\utils'"
      ]
     },
     "metadata": {},
     "execution_count": 1
    }
   ],
   "source": [
    "import sys\n",
    "sys.path[0]"
   ]
  },
  {
   "cell_type": "code",
   "execution_count": 2,
   "metadata": {},
   "outputs": [
    {
     "output_type": "error",
     "ename": "ModuleNotFoundError",
     "evalue": "No module named 'dashboard'",
     "traceback": [
      "\u001b[1;31m---------------------------------------------------------------------------\u001b[0m",
      "\u001b[1;31mModuleNotFoundError\u001b[0m                       Traceback (most recent call last)",
      "\u001b[1;32m<ipython-input-2-77f36121efcc>\u001b[0m in \u001b[0;36m<module>\u001b[1;34m\u001b[0m\n\u001b[1;32m----> 1\u001b[1;33m \u001b[1;32mimport\u001b[0m \u001b[0mdashboard\u001b[0m\u001b[1;33m\u001b[0m\u001b[1;33m\u001b[0m\u001b[0m\n\u001b[0m",
      "\u001b[1;31mModuleNotFoundError\u001b[0m: No module named 'dashboard'"
     ]
    }
   ],
   "source": [
    "import dashboard    # falla porque no está mismo nivel"
   ]
  },
  {
   "cell_type": "code",
   "execution_count": 3,
   "metadata": {},
   "outputs": [],
   "source": [
    "# hay que añadir al sys.path la ruta que lleve a la carpeta superior desde donde acceder a las carpetas del proyecto\n",
    "# opción en Jupiter notebook\n",
    "import os\n",
    "ruta = os.getcwd() # devuelve la ruta a la carpeta desde donde se ejecuta el archivo\n",
    "\n",
    "# hay que 'subir' tantas carpetas como haga falta para llegar a la carpeta raíz del proyecto\n",
    "ruta_raiz = os.path.dirname(ruta)\n",
    "\n",
    "# por último, hay que añadir la ruta a la raiz al path\n",
    "sys.path.append(ruta_raiz)"
   ]
  },
  {
   "cell_type": "code",
   "execution_count": 4,
   "metadata": {},
   "outputs": [
    {
     "output_type": "stream",
     "name": "stdout",
     "text": [
      "function_a\n"
     ]
    }
   ],
   "source": [
    "from dashboard.a import function_a\n",
    "function_a()"
   ]
  },
  {
   "cell_type": "code",
   "execution_count": null,
   "metadata": {},
   "outputs": [],
   "source": []
  }
 ]
}