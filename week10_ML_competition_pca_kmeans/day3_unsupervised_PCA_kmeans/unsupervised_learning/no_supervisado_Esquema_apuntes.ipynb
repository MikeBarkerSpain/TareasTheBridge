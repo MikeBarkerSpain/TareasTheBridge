{
 "metadata": {
  "language_info": {
   "codemirror_mode": {
    "name": "ipython",
    "version": 3
   },
   "file_extension": ".py",
   "mimetype": "text/x-python",
   "name": "python",
   "nbconvert_exporter": "python",
   "pygments_lexer": "ipython3",
   "version": 3
  },
  "orig_nbformat": 4
 },
 "nbformat": 4,
 "nbformat_minor": 2,
 "cells": [
  {
   "source": [
    "# Aprendizaje no supervisado\n",
    "\n",
    "1.- Algoritmos de clusterización\n",
    "2.- Algoritmos para reducir la dimensionalidad\n",
    "\n",
    "\n",
    "### 1.- Algoritmos de clusterización:\n",
    "\n",
    "- Kmeans: recibe un 'k' y busca 'k' clusters en los datos. \n",
    "desventajas: la aleatoriedad a la hora de encontrar esos clusters . -> hay que comprobar la inercia y el coeficiente de siluette para encontrar el mejor 'k'\n",
    "ventajas: Busca los 'k' clusters que se especifiquen. \n",
    "\n",
    "-DBSCAN: algoritmo que busca clusters a partir de la densidad de las instancias teniendo en cuenta un épsilon y un 'min_samples'. \n",
    "desventajas: si las columnas tienen diferentes magnitudes -> hay que estandarizar/normalizar la(s) columna(s)\n",
    "ventajas: No tiene tan en cuenta la aleatoriedad porque se basa en dos parámetros\n",
    "\n",
    "\n",
    "### 2.- Algoritmos para reducir la dimensionalidad\n",
    "\n",
    "- PCA (principal componen analyisis): necesita el número de dimensiones al que quieres que disminuya el conjunto de datos original ó el porcentaje de información mínimo que se quiere retener.\n",
    "desventaja: cada vez que bajas una dimensión, pierdes inforamción con respecto a la dimensión superior.\n",
    "ventaja:    1.- disminuye la complejidad de los datos  \n",
    "            2.- si se baja a la dimensión 2 o 3 se pueden visualizar los datos y por lo tanto encontrar grupos de forma visual/intuitiva\n",
    "\n",
    "- TNSE: Necesita el número de dimensiones al que quieres que disminuya el conjunto de datos original.\n",
    "desventaja: cada vez que se baje una dimensión, "
   ],
   "cell_type": "markdown",
   "metadata": {}
  },
  {
   "cell_type": "code",
   "execution_count": null,
   "metadata": {},
   "outputs": [],
   "source": [
    "# Algoritmo"
   ]
  }
 ]
}