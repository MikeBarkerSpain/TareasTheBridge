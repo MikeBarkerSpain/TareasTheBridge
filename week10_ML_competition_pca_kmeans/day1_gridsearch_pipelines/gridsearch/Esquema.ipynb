{
 "metadata": {
  "language_info": {
   "codemirror_mode": {
    "name": "ipython",
    "version": 3
   },
   "file_extension": ".py",
   "mimetype": "text/x-python",
   "name": "python",
   "nbconvert_exporter": "python",
   "pygments_lexer": "ipython3",
   "version": 3
  },
  "orig_nbformat": 4
 },
 "nbformat": 4,
 "nbformat_minor": 2,
 "cells": [
  {
   "source": [
    "# ML \n",
    "\n",
    "1.- Datos: detectar el tipo de problema:\n",
    "- clasificación (LogReg, SVC, Knn, DecissionTree C, Random Forest Classification, ...)\n",
    "- Regresión (REgLin, non-linear Polinómica, SVR, Decission Tree Regressor, Random forest Regressor, ...)\n",
    "\n",
    "2.- EDA - Data Wrangling:\n",
    "- ¡¡¡Crear el modelo baseline!!!\n",
    "- WebScraping, API, Json, CSV, BBDD (SQL/noSQL), Web\n",
    "- Correlaciones\n",
    "- Feature engineering (extracción de características):\n",
    "    outliers, regex, nan, distribuciones, estandarización, normalizar, encoding (dummies)\n",
    "- Visualización de los Datos\n",
    "- columnas agregadas: variables sintéticas\n",
    "- Ponderaciones de columnas: dar más peso a las columnas más relevantes \n",
    "- Eliminar columnas colineales\n",
    "\n",
    "3.- Maquetar los datos para poder usar las funciones con train y test\n",
    "- Partir los datos con un porcentaje y una semilla\n",
    "\n",
    "4.- Cross validation con el objetivo de saber cual es el comportamiento del modelo para los datos\n",
    "\n",
    "5.- GridSearch & Pipeline\n",
    "\n",
    "6.- Se selecciona el mejor modelo y se prueba el scorecon el conjunto de TEST, el modelo final que debe seleccionarse es el que mejor generalice.\n",
    "\n",
    "7.- guardamos para futuras pruebas (se pueden hacer distintos checkpoints con el fin de no perder todos los modelos entrenados si el código tiene un fallo)\n",
    "\n",
    "8.- Se entrena el modelo con todos los datos .fit(X, y) y se guarda el modelo entrenado con todos ellos y con otro nombre.\n"
   ],
   "cell_type": "markdown",
   "metadata": {}
  }
 ]
}