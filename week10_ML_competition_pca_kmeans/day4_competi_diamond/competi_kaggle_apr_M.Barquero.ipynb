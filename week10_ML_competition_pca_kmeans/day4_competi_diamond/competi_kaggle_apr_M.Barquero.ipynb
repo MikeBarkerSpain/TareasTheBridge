{
 "cells": [
  {
   "cell_type": "markdown",
   "metadata": {},
   "source": [
    "![image](competi.png)"
   ]
  },
  {
   "cell_type": "markdown",
   "metadata": {},
   "source": [
    "#### Aquí encontrarás todo lo que necesitas saber: https://www.kaggle.com/t/ab8726f0cfc84544abbae69a6be88071"
   ]
  },
  {
   "cell_type": "code",
   "execution_count": 1,
   "metadata": {},
   "outputs": [],
   "source": [
    "import numpy as np\n",
    "import pandas as pd\n",
    "\n",
    "import urllib.request\n",
    "from PIL import Image\n",
    "\n",
    "from sklearn.model_selection import train_test_split\n",
    "from sklearn.metrics import mean_squared_error"
   ]
  },
  {
   "cell_type": "markdown",
   "metadata": {},
   "source": [
    "**Importante:**\n",
    "\n",
    "   - Si quitas columnas o creas columnas nuevas a partir de otras, o cualquier modificación column-wise tendrás que aplicarlo al dataset de `diamond_test.csv` de cara a hacer la predicción.\n",
    "   - Si por lo contrario, decides por ejemplo, quitar los outliers o hacer un `dropna()`, o cualquier modificación row-wise eso NO PODRÁS (ni debes) aplicarlo al dataset de `diamond_test.csv` de cara a hacer la predicción. ¿Por qué? Porque si el conjunto de test tiene 50 observaciones (filas) la predicción se espera que tenga 50 filas."
   ]
  },
  {
   "source": [
    "## Importación de clase y código de funciones de transformación de los valores de las columnas categóricas"
   ],
   "cell_type": "markdown",
   "metadata": {}
  },
  {
   "cell_type": "code",
   "execution_count": 2,
   "metadata": {},
   "outputs": [],
   "source": [
    "\n",
    "from sklearn.linear_model import LinearRegression\n",
    "from sklearn.svm import SVR\n",
    "from sklearn.ensemble import RandomForestRegressor\n",
    "from sklearn.model_selection import GridSearchCV\n",
    "from sklearn.preprocessing import PolynomialFeatures\n",
    "from sklearn.model_selection import RepeatedStratifiedKFold, RepeatedKFold # RepeatedStratifiedKFold sólo se utiliza para categorías \n",
    "\n",
    "\n",
    "# se generan valores numéricos con todas las columnas\n",
    "# cut (distribución logaritmica 'manual') -> Ideal=100, Premium=95, Very Good= 85, Good=70 y Fair=50\n",
    "def cut_to_number (cut, log_list) :\n",
    "    if cut == 'Ideal':\n",
    "        return log_list[0]\n",
    "    elif cut == 'Premium':\n",
    "        return log_list[1]\n",
    "    elif cut == 'Very Good':\n",
    "        return log_list[2]\n",
    "    elif cut == 'Good':\n",
    "        return log_list[3]\n",
    "    else:\n",
    "        return log_list[4]\n",
    "\n",
    "# color (ídem) -> D=100, E=95, F=85, G=70 y H=50\n",
    "def color_to_number (color, log_list) :\n",
    "    if color == 'D':\n",
    "        return log_list[0]\n",
    "    elif color == 'E':\n",
    "        return log_list[1]\n",
    "    elif color == 'F':\n",
    "        return log_list[2]\n",
    "    elif color == 'G':\n",
    "        return log_list[3]\n",
    "    else:\n",
    "        return log_list[4]\n",
    "\n",
    "# clarity (ídem) -> IF=100, VVS1=98, VVS2=94, VS1=88, VS2=80, SI1=69, SI2=55 y  I1=37\n",
    "def clarity_to_number (clarity, log_list) :\n",
    "    if clarity == 'IF':\n",
    "        return log_list[0]\n",
    "    elif clarity == 'VVS1':\n",
    "        return log_list[1]\n",
    "    elif clarity == 'VVS2':\n",
    "        return log_list[2]\n",
    "    elif clarity == 'VS1':\n",
    "        return log_list[3]\n",
    "    elif clarity == 'VS2':\n",
    "        return log_list[4]\n",
    "    elif clarity == 'SI1':\n",
    "        return log_list[5]\n",
    "    elif clarity == 'SI2':\n",
    "        return log_list[6]\n",
    "    else:\n",
    "        return log_list[7]\n",
    "\n",
    "\n"
   ]
  },
  {
   "cell_type": "markdown",
   "metadata": {},
   "source": [
    "### Manipular las variables categóricas del dataset para hacerlas explotable numéricamente"
   ]
  },
  {
   "cell_type": "code",
   "execution_count": 8,
   "metadata": {},
   "outputs": [
    {
     "output_type": "execute_result",
     "data": {
      "text/plain": [
       "       carat       cut     color   clarity  depth  table     x     y     z  \\\n",
       "0       1.21  1.000000  0.200000  0.200000   63.0   57.0  6.73  6.70  4.23   \n",
       "1       0.28  0.333333  1.000000  0.333333   64.0   56.0  4.14  4.17  2.66   \n",
       "2       0.42  0.500000  0.333333  0.250000   61.2   58.0  4.86  4.82  2.96   \n",
       "3       0.26  1.000000  0.200000  1.000000   61.1   57.0  4.16  4.12  2.53   \n",
       "4       1.10  0.250000  0.250000  0.166667   63.4   57.0  6.52  6.55  4.14   \n",
       "...      ...       ...       ...       ...    ...    ...   ...   ...   ...   \n",
       "40340   1.55  0.500000  0.200000  0.200000   61.3   61.0  7.46  7.39  4.55   \n",
       "40341   0.36  1.000000  1.000000  0.166667   60.6   56.0  4.58  4.63  2.79   \n",
       "40342   0.57  0.333333  0.200000  0.200000   62.2   55.0  5.33  5.34  3.32   \n",
       "40343   1.01  0.333333  0.333333  1.000000   59.6   62.0  6.47  6.56  3.88   \n",
       "40344   0.54  1.000000  0.500000  0.142857   60.4   57.0  5.33  5.27  3.20   \n",
       "\n",
       "       price  \n",
       "0       6134  \n",
       "1        532  \n",
       "2       1103  \n",
       "3        600  \n",
       "4       4997  \n",
       "...      ...  \n",
       "40340  11708  \n",
       "40341    619  \n",
       "40342   1267  \n",
       "40343   9965  \n",
       "40344   1340  \n",
       "\n",
       "[40328 rows x 10 columns]"
      ],
      "text/html": "<div>\n<style scoped>\n    .dataframe tbody tr th:only-of-type {\n        vertical-align: middle;\n    }\n\n    .dataframe tbody tr th {\n        vertical-align: top;\n    }\n\n    .dataframe thead th {\n        text-align: right;\n    }\n</style>\n<table border=\"1\" class=\"dataframe\">\n  <thead>\n    <tr style=\"text-align: right;\">\n      <th></th>\n      <th>carat</th>\n      <th>cut</th>\n      <th>color</th>\n      <th>clarity</th>\n      <th>depth</th>\n      <th>table</th>\n      <th>x</th>\n      <th>y</th>\n      <th>z</th>\n      <th>price</th>\n    </tr>\n  </thead>\n  <tbody>\n    <tr>\n      <th>0</th>\n      <td>1.21</td>\n      <td>1.000000</td>\n      <td>0.200000</td>\n      <td>0.200000</td>\n      <td>63.0</td>\n      <td>57.0</td>\n      <td>6.73</td>\n      <td>6.70</td>\n      <td>4.23</td>\n      <td>6134</td>\n    </tr>\n    <tr>\n      <th>1</th>\n      <td>0.28</td>\n      <td>0.333333</td>\n      <td>1.000000</td>\n      <td>0.333333</td>\n      <td>64.0</td>\n      <td>56.0</td>\n      <td>4.14</td>\n      <td>4.17</td>\n      <td>2.66</td>\n      <td>532</td>\n    </tr>\n    <tr>\n      <th>2</th>\n      <td>0.42</td>\n      <td>0.500000</td>\n      <td>0.333333</td>\n      <td>0.250000</td>\n      <td>61.2</td>\n      <td>58.0</td>\n      <td>4.86</td>\n      <td>4.82</td>\n      <td>2.96</td>\n      <td>1103</td>\n    </tr>\n    <tr>\n      <th>3</th>\n      <td>0.26</td>\n      <td>1.000000</td>\n      <td>0.200000</td>\n      <td>1.000000</td>\n      <td>61.1</td>\n      <td>57.0</td>\n      <td>4.16</td>\n      <td>4.12</td>\n      <td>2.53</td>\n      <td>600</td>\n    </tr>\n    <tr>\n      <th>4</th>\n      <td>1.10</td>\n      <td>0.250000</td>\n      <td>0.250000</td>\n      <td>0.166667</td>\n      <td>63.4</td>\n      <td>57.0</td>\n      <td>6.52</td>\n      <td>6.55</td>\n      <td>4.14</td>\n      <td>4997</td>\n    </tr>\n    <tr>\n      <th>...</th>\n      <td>...</td>\n      <td>...</td>\n      <td>...</td>\n      <td>...</td>\n      <td>...</td>\n      <td>...</td>\n      <td>...</td>\n      <td>...</td>\n      <td>...</td>\n      <td>...</td>\n    </tr>\n    <tr>\n      <th>40340</th>\n      <td>1.55</td>\n      <td>0.500000</td>\n      <td>0.200000</td>\n      <td>0.200000</td>\n      <td>61.3</td>\n      <td>61.0</td>\n      <td>7.46</td>\n      <td>7.39</td>\n      <td>4.55</td>\n      <td>11708</td>\n    </tr>\n    <tr>\n      <th>40341</th>\n      <td>0.36</td>\n      <td>1.000000</td>\n      <td>1.000000</td>\n      <td>0.166667</td>\n      <td>60.6</td>\n      <td>56.0</td>\n      <td>4.58</td>\n      <td>4.63</td>\n      <td>2.79</td>\n      <td>619</td>\n    </tr>\n    <tr>\n      <th>40342</th>\n      <td>0.57</td>\n      <td>0.333333</td>\n      <td>0.200000</td>\n      <td>0.200000</td>\n      <td>62.2</td>\n      <td>55.0</td>\n      <td>5.33</td>\n      <td>5.34</td>\n      <td>3.32</td>\n      <td>1267</td>\n    </tr>\n    <tr>\n      <th>40343</th>\n      <td>1.01</td>\n      <td>0.333333</td>\n      <td>0.333333</td>\n      <td>1.000000</td>\n      <td>59.6</td>\n      <td>62.0</td>\n      <td>6.47</td>\n      <td>6.56</td>\n      <td>3.88</td>\n      <td>9965</td>\n    </tr>\n    <tr>\n      <th>40344</th>\n      <td>0.54</td>\n      <td>1.000000</td>\n      <td>0.500000</td>\n      <td>0.142857</td>\n      <td>60.4</td>\n      <td>57.0</td>\n      <td>5.33</td>\n      <td>5.27</td>\n      <td>3.20</td>\n      <td>1340</td>\n    </tr>\n  </tbody>\n</table>\n<p>40328 rows × 10 columns</p>\n</div>"
     },
     "metadata": {},
     "execution_count": 8
    }
   ],
   "source": [
    "#log_list5 = [100, 95, 85, 70, 50]\n",
    "#log_list8 = [100, 98, 94, 88, 80,69, 55, 37]\n",
    "\n",
    "log_list5 = [1, 1/2, 1/3, 1/4, 1/5]\n",
    "log_list8 = [1, 1/2, 1/3, 1/4, 1/5,1/6, 1/7, 1/8]\n",
    "\n",
    "#log_list5 = [5, 4, 3, 2, 1]\n",
    "#log_list8 = [8, 7, 6, 5, 4,3, 2, 1]\n",
    "\n",
    "#log_list5 = [100, 98, 95, 92, 88]\n",
    "#log_list8 = [100, 99, 98, 97, 95,92, 89, 85]\n",
    "\n",
    "### Para que funcione necesitas bajarte los archivos de datos de Kaggle \n",
    "df = pd.read_csv(\"diamonds_train.csv\", index_col=0)\n",
    "df['cut'] = df['cut'].apply(lambda x: cut_to_number(x, log_list5))\n",
    "df['color'] = df['color'].apply(lambda x: color_to_number(x, log_list5))\n",
    "df['clarity'] = df['clarity'].apply(lambda x: clarity_to_number(x, log_list8))\n",
    "df = df[(df['x'] != 0) & (df['y'] != 0) & (df['z'] != 0)]\n",
    "df"
   ]
  },
  {
   "cell_type": "markdown",
   "metadata": {},
   "source": [
    "# Crear las variables de uso para el entrenamiento del modelo"
   ]
  },
  {
   "cell_type": "code",
   "execution_count": 9,
   "metadata": {},
   "outputs": [],
   "source": [
    "# 1. Definir X e y\n",
    "X = np.array(df.drop(columns=['price'])) # se elige toda la tabla menos el precio, depth y\ttable\n",
    "#X = np.array(df.drop(columns=['price','depth','table'])) # se elige toda la tabla menos el precio, depth y\ttable\n",
    "#X = np.array(df[['carat','cut','color','clarity','depth','table']]) # se selecciona las columnas más importantes\n",
    "y = np.array(df[\"price\"])\n",
    "\n"
   ]
  },
  {
   "cell_type": "code",
   "execution_count": 10,
   "metadata": {},
   "outputs": [
    {
     "output_type": "execute_result",
     "data": {
      "text/plain": [
       "array([[0.36      , 1.        , 1.        , ..., 4.68      , 4.63      ,\n",
       "        2.77      ],\n",
       "       [0.74      , 0.33333333, 1.        , ..., 5.76      , 5.82      ,\n",
       "        3.56      ],\n",
       "       [1.03      , 0.33333333, 0.33333333, ..., 6.41      , 6.45      ,\n",
       "        4.02      ],\n",
       "       ...,\n",
       "       [0.51      , 0.33333333, 0.25      , ..., 5.12      , 5.19      ,\n",
       "        3.11      ],\n",
       "       [1.04      , 1.        , 0.33333333, ..., 6.5       , 6.53      ,\n",
       "        3.99      ],\n",
       "       [1.37      , 0.5       , 0.2       , ..., 7.12      , 7.05      ,\n",
       "        4.43      ]])"
      ]
     },
     "metadata": {},
     "execution_count": 10
    }
   ],
   "source": [
    "# 2. Dividir X_train, X_test, y_train, y_test\n",
    "X_train, X_test, y_train, y_test = train_test_split(X, y, shuffle= True, test_size = 0.20, random_state = 42)\n",
    "X_train"
   ]
  },
  {
   "cell_type": "markdown",
   "metadata": {},
   "source": [
    "### 3. Asignar el modelo (vacío) a una variable\n",
    "Aquí meteríais los parámetros. \n",
    "\n",
    "**Consejo**: Usa GridSearch y vuélvete loca o loco probando modelos e hiperparámetros."
   ]
  },
  {
   "cell_type": "code",
   "execution_count": 6,
   "metadata": {},
   "outputs": [
    {
     "output_type": "execute_result",
     "data": {
      "text/plain": [
       "array([[  1.09,  85.  ,  50.  , ...,   6.5 ,   6.55,   4.16],\n",
       "       [  0.58,  85.  ,  50.  , ...,   5.34,   5.38,   3.31],\n",
       "       [  0.32,  95.  ,  50.  , ...,   4.41,   4.38,   2.7 ],\n",
       "       ...,\n",
       "       [  0.83,  85.  ,  50.  , ...,   6.05,   6.07,   3.73],\n",
       "       [  1.04, 100.  ,  85.  , ...,   6.5 ,   6.53,   3.99],\n",
       "       [  1.09,  95.  ,  85.  , ...,   6.51,   6.56,   4.1 ]])"
      ]
     },
     "metadata": {},
     "execution_count": 6
    }
   ],
   "source": [
    "X_train"
   ]
  },
  {
   "cell_type": "code",
   "execution_count": 11,
   "metadata": {},
   "outputs": [
    {
     "output_type": "stream",
     "name": "stdout",
     "text": [
      "predicciones test:\n",
      " [9021.32190741 4917.91809149 7791.16412471 ... 1242.68447319 3065.17149102\n",
      " 1420.69594821]\n",
      "score (RMSE) de las predicciones: 627.0858163780289\n",
      "Variable: carat                Importance: 0.34\n",
      "Variable: y                    Importance: 0.32\n",
      "Variable: x                    Importance: 0.17\n",
      "Variable: z                    Importance: 0.08\n",
      "Variable: clarity              Importance: 0.06\n",
      "Variable: color                Importance: 0.03\n",
      "Variable: cut                  Importance: 0.0\n",
      "Variable: depth                Importance: 0.0\n",
      "Variable: table                Importance: 0.0\n"
     ]
    }
   ],
   "source": [
    "model = RandomForestRegressor(n_estimators=5000,oob_score=True,bootstrap=True,max_features=4,min_samples_split=10,min_samples_leaf=2)\n",
    "model.fit(X_train,y_train)\n",
    "\n",
    "# 5. Predecir con el modelo ya entrenado con X_test\n",
    "predictions = model.predict(X_test)\n",
    "print('predicciones test:\\n', predictions)\n",
    "\n",
    "# 6. Sacar métricas, valorar el modelo; en la competición se va a evaluar con la métrica de RMSE.\n",
    "print('score (RMSE) de las predicciones:', np.sqrt(mean_squared_error(y_test, predictions)))\n",
    "\n",
    "# Saving feature names for later use\n",
    "feature_list = list(df.columns)\n",
    "# Get numerical feature importances\n",
    "importances = list(model.feature_importances_)\n",
    "# List of tuples with variable and importance\n",
    "feature_importances = [(feature, round(importance, 2)) for feature, importance in zip(feature_list, importances)]\n",
    "# Sort the feature importances by most important first\n",
    "feature_importances = sorted(feature_importances, key = lambda x: x[1], reverse = True)\n",
    "# Print out the feature and importances \n",
    "[print('Variable: {:20} Importance: {}'.format(*pair)) for pair in feature_importances];"
   ]
  },
  {
   "cell_type": "code",
   "execution_count": 8,
   "metadata": {},
   "outputs": [
    {
     "output_type": "stream",
     "name": "stdout",
     "text": [
      "predicciones test:\n",
      " [7810.31268035 3503.53736086  611.08089471 ...  496.07874154 5135.7703602\n",
      " 2308.58215294]\n",
      "score (RMSE) de las predicciones: 634.4242997264854\n",
      "Variable: carat                Importance: 0.34\n",
      "Variable: y                    Importance: 0.32\n",
      "Variable: x                    Importance: 0.16\n",
      "Variable: z                    Importance: 0.08\n",
      "Variable: clarity              Importance: 0.06\n",
      "Variable: color                Importance: 0.03\n",
      "Variable: cut                  Importance: 0.0\n",
      "Variable: depth                Importance: 0.0\n",
      "Variable: table                Importance: 0.0\n"
     ]
    }
   ],
   "source": [
    "model = RandomForestRegressor(n_estimators=5000,oob_score=True,bootstrap=True,max_features=4,min_samples_split=10,min_samples_leaf=2)\n",
    "model.fit(X_train,y_train)\n",
    "\n",
    "# 5. Predecir con el modelo ya entrenado con X_test\n",
    "predictions = model.predict(X_test)\n",
    "print('predicciones test:\\n', predictions)\n",
    "\n",
    "# 6. Sacar métricas, valorar el modelo; en la competición se va a evaluar con la métrica de RMSE.\n",
    "print('score (RMSE) de las predicciones:', np.sqrt(mean_squared_error(y_test, predictions)))\n",
    "\n",
    "# Saving feature names for later use\n",
    "feature_list = list(df.columns)\n",
    "# Get numerical feature importances\n",
    "importances = list(model.feature_importances_)\n",
    "# List of tuples with variable and importance\n",
    "feature_importances = [(feature, round(importance, 2)) for feature, importance in zip(feature_list, importances)]\n",
    "# Sort the feature importances by most important first\n",
    "feature_importances = sorted(feature_importances, key = lambda x: x[1], reverse = True)\n",
    "# Print out the feature and importances \n",
    "[print('Variable: {:20} Importance: {}'.format(*pair)) for pair in feature_importances];"
   ]
  },
  {
   "cell_type": "code",
   "execution_count": 12,
   "metadata": {},
   "outputs": [
    {
     "output_type": "stream",
     "name": "stdout",
     "text": [
      "path: c:\\Users\\barke\\OneDrive\\Escritorio\\TheBridgeDataScientist\\TareasTheBridge\\week10_ML_competition_pca_kmeans\\day4_competi_diamond\\\n",
      "Iteración: 1\n",
      "train/índices batch: [    0     1     3 ... 32259 32260 32261]\n",
      "batch_size: 30111\n",
      "val_size: 2151\n",
      "Iteración: 2\n",
      "train/índices batch: [    0     1     2 ... 32259 32260 32261]\n",
      "batch_size: 30111\n",
      "val_size: 2151\n",
      "Iteración: 3\n",
      "train/índices batch: [    0     1     2 ... 32259 32260 32261]\n",
      "batch_size: 30111\n",
      "val_size: 2151\n",
      "Iteración: 4\n",
      "train/índices batch: [    1     2     3 ... 32258 32259 32260]\n",
      "batch_size: 30111\n",
      "val_size: 2151\n",
      "Iteración: 5\n",
      "train/índices batch: [    0     1     2 ... 32259 32260 32261]\n",
      "batch_size: 30111\n",
      "val_size: 2151\n",
      "Iteración: 6\n",
      "train/índices batch: [    0     1     2 ... 32259 32260 32261]\n",
      "batch_size: 30111\n",
      "val_size: 2151\n",
      "Iteración: 7\n",
      "train/índices batch: [    0     1     2 ... 32259 32260 32261]\n",
      "batch_size: 30111\n",
      "val_size: 2151\n",
      "Iteración: 8\n",
      "train/índices batch: [    0     1     2 ... 32259 32260 32261]\n",
      "batch_size: 30111\n",
      "val_size: 2151\n",
      "Iteración: 9\n",
      "train/índices batch: [    0     1     2 ... 32259 32260 32261]\n",
      "batch_size: 30111\n",
      "val_size: 2151\n",
      "Iteración: 10\n",
      "train/índices batch: [    0     1     2 ... 32258 32259 32261]\n",
      "batch_size: 30111\n",
      "val_size: 2151\n",
      "Iteración: 11\n",
      "train/índices batch: [    0     2     3 ... 32259 32260 32261]\n",
      "batch_size: 30111\n",
      "val_size: 2151\n",
      "Iteración: 12\n",
      "train/índices batch: [    0     1     2 ... 32259 32260 32261]\n",
      "batch_size: 30111\n",
      "val_size: 2151\n",
      "Iteración: 13\n",
      "train/índices batch: [    0     1     2 ... 32259 32260 32261]\n",
      "batch_size: 30112\n",
      "val_size: 2150\n",
      "Iteración: 14\n",
      "train/índices batch: [    0     1     2 ... 32258 32260 32261]\n",
      "batch_size: 30112\n",
      "val_size: 2150\n",
      "Iteración: 15\n",
      "train/índices batch: [    0     1     2 ... 32259 32260 32261]\n",
      "batch_size: 30112\n",
      "val_size: 2150\n",
      "Iteración: 16\n",
      "train/índices batch: [    0     1     2 ... 32259 32260 32261]\n",
      "batch_size: 30111\n",
      "val_size: 2151\n",
      "Iteración: 17\n",
      "train/índices batch: [    0     2     3 ... 32259 32260 32261]\n",
      "batch_size: 30111\n",
      "val_size: 2151\n",
      "Iteración: 18\n",
      "train/índices batch: [    0     1     2 ... 32257 32258 32259]\n",
      "batch_size: 30111\n",
      "val_size: 2151\n",
      "Iteración: 19\n",
      "train/índices batch: [    0     1     2 ... 32259 32260 32261]\n",
      "batch_size: 30111\n",
      "val_size: 2151\n",
      "Iteración: 20\n",
      "train/índices batch: [    0     1     2 ... 32259 32260 32261]\n",
      "batch_size: 30111\n",
      "val_size: 2151\n",
      "Iteración: 21\n",
      "train/índices batch: [    0     1     2 ... 32259 32260 32261]\n",
      "batch_size: 30111\n",
      "val_size: 2151\n",
      "Iteración: 22\n",
      "train/índices batch: [    0     1     2 ... 32259 32260 32261]\n",
      "batch_size: 30111\n",
      "val_size: 2151\n",
      "Iteración: 23\n",
      "train/índices batch: [    0     1     2 ... 32259 32260 32261]\n",
      "batch_size: 30111\n",
      "val_size: 2151\n",
      "Iteración: 24\n",
      "train/índices batch: [    0     1     3 ... 32258 32260 32261]\n",
      "batch_size: 30111\n",
      "val_size: 2151\n",
      "Iteración: 25\n",
      "train/índices batch: [    0     1     2 ... 32259 32260 32261]\n",
      "batch_size: 30111\n",
      "val_size: 2151\n",
      "Iteración: 26\n",
      "train/índices batch: [    0     1     2 ... 32259 32260 32261]\n",
      "batch_size: 30111\n",
      "val_size: 2151\n",
      "Iteración: 27\n",
      "train/índices batch: [    0     1     2 ... 32259 32260 32261]\n",
      "batch_size: 30111\n",
      "val_size: 2151\n",
      "Iteración: 28\n",
      "train/índices batch: [    1     2     3 ... 32259 32260 32261]\n",
      "batch_size: 30112\n",
      "val_size: 2150\n",
      "Iteración: 29\n",
      "train/índices batch: [    0     1     2 ... 32259 32260 32261]\n",
      "batch_size: 30112\n",
      "val_size: 2150\n",
      "Iteración: 30\n",
      "train/índices batch: [    0     1     2 ... 32259 32260 32261]\n",
      "batch_size: 30112\n",
      "val_size: 2150\n",
      "Iteración: 31\n",
      "train/índices batch: [    0     1     2 ... 32259 32260 32261]\n",
      "batch_size: 30111\n",
      "val_size: 2151\n",
      "Iteración: 32\n",
      "train/índices batch: [    0     2     4 ... 32259 32260 32261]\n",
      "batch_size: 30111\n",
      "val_size: 2151\n",
      "Iteración: 33\n",
      "train/índices batch: [    0     1     3 ... 32258 32259 32261]\n",
      "batch_size: 30111\n",
      "val_size: 2151\n",
      "Iteración: 34\n",
      "train/índices batch: [    0     1     2 ... 32259 32260 32261]\n",
      "batch_size: 30111\n",
      "val_size: 2151\n",
      "Iteración: 35\n",
      "train/índices batch: [    0     1     2 ... 32259 32260 32261]\n",
      "batch_size: 30111\n",
      "val_size: 2151\n",
      "Iteración: 36\n",
      "train/índices batch: [    0     1     2 ... 32258 32259 32260]\n",
      "batch_size: 30111\n",
      "val_size: 2151\n",
      "Iteración: 37\n",
      "train/índices batch: [    0     1     2 ... 32259 32260 32261]\n",
      "batch_size: 30111\n",
      "val_size: 2151\n",
      "Iteración: 38\n",
      "train/índices batch: [    0     1     2 ... 32259 32260 32261]\n",
      "batch_size: 30111\n",
      "val_size: 2151\n",
      "Iteración: 39\n",
      "train/índices batch: [    0     1     2 ... 32259 32260 32261]\n",
      "batch_size: 30111\n",
      "val_size: 2151\n",
      "Iteración: 40\n",
      "train/índices batch: [    0     1     2 ... 32258 32260 32261]\n",
      "batch_size: 30111\n",
      "val_size: 2151\n",
      "Iteración: 41\n",
      "train/índices batch: [    0     1     2 ... 32259 32260 32261]\n",
      "batch_size: 30111\n",
      "val_size: 2151\n",
      "Iteración: 42\n",
      "train/índices batch: [    1     2     3 ... 32259 32260 32261]\n",
      "batch_size: 30111\n",
      "val_size: 2151\n",
      "Iteración: 43\n",
      "train/índices batch: [    0     1     2 ... 32259 32260 32261]\n",
      "batch_size: 30112\n",
      "val_size: 2150\n",
      "Iteración: 44\n",
      "train/índices batch: [    0     1     2 ... 32259 32260 32261]\n",
      "batch_size: 30112\n",
      "val_size: 2150\n",
      "Iteración: 45\n",
      "train/índices batch: [    0     1     2 ... 32259 32260 32261]\n",
      "batch_size: 30112\n",
      "val_size: 2150\n"
     ]
    }
   ],
   "source": [
    "k_fold = RepeatedKFold(n_splits=15, n_repeats=3, random_state=1)\n",
    "val_score = []\n",
    "train_score = []\n",
    "# define the model\n",
    "n_stimators = 2000\n",
    "model = RandomForestRegressor(n_estimators=n_stimators,oob_score=True,bootstrap=True,max_features=4,min_samples_split=10,min_samples_leaf=2, warm_start=True)\n",
    "path = os.getcwd() + os.sep\n",
    "print(\"path:\", path)\n",
    "# train son las POSICIONES de los elementos que hay que coger por iteración como parte del conjunto de entrenamiento\n",
    "# val son las POSICIONES de los elementos que hay que coger por iteración como parte del conjunto de validación\n",
    "for i, (train, val) in enumerate(k_fold.split(X_train)):\n",
    "    print(\"Iteración:\", i+1)\n",
    "    print(\"train/índices batch:\", train)\n",
    "    print(\"batch_size:\", len(train))\n",
    "    #print(\"val:\", val)\n",
    "    print(\"val_size:\", len(val))\n",
    "    #print(\"batch:\", X_train[train])\n",
    "\n",
    "    # train the model\n",
    "    model.fit(X_train[train], y_train[train]) # se cogen los índices que se generan en kfold_split del for y gracias a\n",
    "\n",
    "    # Add more stimators\n",
    "    model.n_estimators += 100 # para poder tener en cuenta los nuevos datos, hay que aumentar los n_estimators\n",
    "\n",
    "    score_val = model.score(X_train[val], y_train[val])\n",
    "    val_score.append(score_val)\n",
    "    score_train = model.score(X_train[train], y_train[train])\n",
    "    train_score.append(score_train)"
   ]
  },
  {
   "cell_type": "code",
   "execution_count": 14,
   "metadata": {},
   "outputs": [
    {
     "output_type": "execute_result",
     "data": {
      "text/plain": [
       "[0.9730900269857023,\n",
       " 0.9874884045158142,\n",
       " 0.9874917877027336,\n",
       " 0.9887737183761981,\n",
       " 0.9880902041972005,\n",
       " 0.9860529845588644,\n",
       " 0.9870294045748937,\n",
       " 0.9896537446921159,\n",
       " 0.9881875891313624,\n",
       " 0.9867237288710711,\n",
       " 0.9875155758621907,\n",
       " 0.9874306338683575,\n",
       " 0.9893147210571234,\n",
       " 0.9891644062490116,\n",
       " 0.9876292955642902,\n",
       " 0.9866073927856429,\n",
       " 0.9874732787440152,\n",
       " 0.9858641263963663,\n",
       " 0.987433975364533,\n",
       " 0.9873537309674846,\n",
       " 0.9872380771203642,\n",
       " 0.9868727302640222,\n",
       " 0.9888827010605098,\n",
       " 0.9874778984830765,\n",
       " 0.9870728908238039,\n",
       " 0.9872989895222697,\n",
       " 0.9874858202032867,\n",
       " 0.987486558304217,\n",
       " 0.9874004368278569,\n",
       " 0.9879793123400672,\n",
       " 0.9863708544445231,\n",
       " 0.9891461273851369,\n",
       " 0.987573643547209,\n",
       " 0.9862787602766904,\n",
       " 0.9869905569965349,\n",
       " 0.9884459728502154,\n",
       " 0.9844805209840484,\n",
       " 0.9863268347750601,\n",
       " 0.9862123947602186,\n",
       " 0.987932681964735,\n",
       " 0.987274713276979,\n",
       " 0.9901563272972047,\n",
       " 0.9866009454814627,\n",
       " 0.9881412024686246,\n",
       " 0.9887940745233512]"
      ]
     },
     "metadata": {},
     "execution_count": 14
    },
    {
     "output_type": "display_data",
     "data": {
      "text/plain": "<Figure size 432x288 with 1 Axes>",
      "image/svg+xml": "<?xml version=\"1.0\" encoding=\"utf-8\" standalone=\"no\"?>\r\n<!DOCTYPE svg PUBLIC \"-//W3C//DTD SVG 1.1//EN\"\r\n  \"http://www.w3.org/Graphics/SVG/1.1/DTD/svg11.dtd\">\r\n<svg height=\"248.518125pt\" version=\"1.1\" viewBox=\"0 0 391.190625 248.518125\" width=\"391.190625pt\" xmlns=\"http://www.w3.org/2000/svg\" xmlns:xlink=\"http://www.w3.org/1999/xlink\">\r\n <metadata>\r\n  <rdf:RDF xmlns:cc=\"http://creativecommons.org/ns#\" xmlns:dc=\"http://purl.org/dc/elements/1.1/\" xmlns:rdf=\"http://www.w3.org/1999/02/22-rdf-syntax-ns#\">\r\n   <cc:Work>\r\n    <dc:type rdf:resource=\"http://purl.org/dc/dcmitype/StillImage\"/>\r\n    <dc:date>2021-06-21T13:29:49.966979</dc:date>\r\n    <dc:format>image/svg+xml</dc:format>\r\n    <dc:creator>\r\n     <cc:Agent>\r\n      <dc:title>Matplotlib v3.4.2, https://matplotlib.org/</dc:title>\r\n     </cc:Agent>\r\n    </dc:creator>\r\n   </cc:Work>\r\n  </rdf:RDF>\r\n </metadata>\r\n <defs>\r\n  <style type=\"text/css\">*{stroke-linecap:butt;stroke-linejoin:round;}</style>\r\n </defs>\r\n <g id=\"figure_1\">\r\n  <g id=\"patch_1\">\r\n   <path d=\"M 0 248.518125 \r\nL 391.190625 248.518125 \r\nL 391.190625 0 \r\nL 0 0 \r\nz\r\n\" style=\"fill:none;\"/>\r\n  </g>\r\n  <g id=\"axes_1\">\r\n   <g id=\"patch_2\">\r\n    <path d=\"M 49.190625 224.64 \r\nL 383.990625 224.64 \r\nL 383.990625 7.2 \r\nL 49.190625 7.2 \r\nz\r\n\" style=\"fill:#ffffff;\"/>\r\n   </g>\r\n   <g id=\"matplotlib.axis_1\">\r\n    <g id=\"xtick_1\">\r\n     <g id=\"line2d_1\">\r\n      <defs>\r\n       <path d=\"M 0 0 \r\nL 0 3.5 \r\n\" id=\"me695ddbae6\" style=\"stroke:#000000;stroke-width:0.8;\"/>\r\n      </defs>\r\n      <g>\r\n       <use style=\"stroke:#000000;stroke-width:0.8;\" x=\"64.408807\" xlink:href=\"#me695ddbae6\" y=\"224.64\"/>\r\n      </g>\r\n     </g>\r\n     <g id=\"text_1\">\r\n      <!-- 0 -->\r\n      <g transform=\"translate(61.227557 239.238438)scale(0.1 -0.1)\">\r\n       <defs>\r\n        <path d=\"M 2034 4250 \r\nQ 1547 4250 1301 3770 \r\nQ 1056 3291 1056 2328 \r\nQ 1056 1369 1301 889 \r\nQ 1547 409 2034 409 \r\nQ 2525 409 2770 889 \r\nQ 3016 1369 3016 2328 \r\nQ 3016 3291 2770 3770 \r\nQ 2525 4250 2034 4250 \r\nz\r\nM 2034 4750 \r\nQ 2819 4750 3233 4129 \r\nQ 3647 3509 3647 2328 \r\nQ 3647 1150 3233 529 \r\nQ 2819 -91 2034 -91 \r\nQ 1250 -91 836 529 \r\nQ 422 1150 422 2328 \r\nQ 422 3509 836 4129 \r\nQ 1250 4750 2034 4750 \r\nz\r\n\" id=\"DejaVuSans-30\" transform=\"scale(0.015625)\"/>\r\n       </defs>\r\n       <use xlink:href=\"#DejaVuSans-30\"/>\r\n      </g>\r\n     </g>\r\n    </g>\r\n    <g id=\"xtick_2\">\r\n     <g id=\"line2d_2\">\r\n      <g>\r\n       <use style=\"stroke:#000000;stroke-width:0.8;\" x=\"133.582361\" xlink:href=\"#me695ddbae6\" y=\"224.64\"/>\r\n      </g>\r\n     </g>\r\n     <g id=\"text_2\">\r\n      <!-- 10 -->\r\n      <g transform=\"translate(127.219861 239.238438)scale(0.1 -0.1)\">\r\n       <defs>\r\n        <path d=\"M 794 531 \r\nL 1825 531 \r\nL 1825 4091 \r\nL 703 3866 \r\nL 703 4441 \r\nL 1819 4666 \r\nL 2450 4666 \r\nL 2450 531 \r\nL 3481 531 \r\nL 3481 0 \r\nL 794 0 \r\nL 794 531 \r\nz\r\n\" id=\"DejaVuSans-31\" transform=\"scale(0.015625)\"/>\r\n       </defs>\r\n       <use xlink:href=\"#DejaVuSans-31\"/>\r\n       <use x=\"63.623047\" xlink:href=\"#DejaVuSans-30\"/>\r\n      </g>\r\n     </g>\r\n    </g>\r\n    <g id=\"xtick_3\">\r\n     <g id=\"line2d_3\">\r\n      <g>\r\n       <use style=\"stroke:#000000;stroke-width:0.8;\" x=\"202.755914\" xlink:href=\"#me695ddbae6\" y=\"224.64\"/>\r\n      </g>\r\n     </g>\r\n     <g id=\"text_3\">\r\n      <!-- 20 -->\r\n      <g transform=\"translate(196.393414 239.238438)scale(0.1 -0.1)\">\r\n       <defs>\r\n        <path d=\"M 1228 531 \r\nL 3431 531 \r\nL 3431 0 \r\nL 469 0 \r\nL 469 531 \r\nQ 828 903 1448 1529 \r\nQ 2069 2156 2228 2338 \r\nQ 2531 2678 2651 2914 \r\nQ 2772 3150 2772 3378 \r\nQ 2772 3750 2511 3984 \r\nQ 2250 4219 1831 4219 \r\nQ 1534 4219 1204 4116 \r\nQ 875 4013 500 3803 \r\nL 500 4441 \r\nQ 881 4594 1212 4672 \r\nQ 1544 4750 1819 4750 \r\nQ 2544 4750 2975 4387 \r\nQ 3406 4025 3406 3419 \r\nQ 3406 3131 3298 2873 \r\nQ 3191 2616 2906 2266 \r\nQ 2828 2175 2409 1742 \r\nQ 1991 1309 1228 531 \r\nz\r\n\" id=\"DejaVuSans-32\" transform=\"scale(0.015625)\"/>\r\n       </defs>\r\n       <use xlink:href=\"#DejaVuSans-32\"/>\r\n       <use x=\"63.623047\" xlink:href=\"#DejaVuSans-30\"/>\r\n      </g>\r\n     </g>\r\n    </g>\r\n    <g id=\"xtick_4\">\r\n     <g id=\"line2d_4\">\r\n      <g>\r\n       <use style=\"stroke:#000000;stroke-width:0.8;\" x=\"271.929468\" xlink:href=\"#me695ddbae6\" y=\"224.64\"/>\r\n      </g>\r\n     </g>\r\n     <g id=\"text_4\">\r\n      <!-- 30 -->\r\n      <g transform=\"translate(265.566968 239.238438)scale(0.1 -0.1)\">\r\n       <defs>\r\n        <path d=\"M 2597 2516 \r\nQ 3050 2419 3304 2112 \r\nQ 3559 1806 3559 1356 \r\nQ 3559 666 3084 287 \r\nQ 2609 -91 1734 -91 \r\nQ 1441 -91 1130 -33 \r\nQ 819 25 488 141 \r\nL 488 750 \r\nQ 750 597 1062 519 \r\nQ 1375 441 1716 441 \r\nQ 2309 441 2620 675 \r\nQ 2931 909 2931 1356 \r\nQ 2931 1769 2642 2001 \r\nQ 2353 2234 1838 2234 \r\nL 1294 2234 \r\nL 1294 2753 \r\nL 1863 2753 \r\nQ 2328 2753 2575 2939 \r\nQ 2822 3125 2822 3475 \r\nQ 2822 3834 2567 4026 \r\nQ 2313 4219 1838 4219 \r\nQ 1578 4219 1281 4162 \r\nQ 984 4106 628 3988 \r\nL 628 4550 \r\nQ 988 4650 1302 4700 \r\nQ 1616 4750 1894 4750 \r\nQ 2613 4750 3031 4423 \r\nQ 3450 4097 3450 3541 \r\nQ 3450 3153 3228 2886 \r\nQ 3006 2619 2597 2516 \r\nz\r\n\" id=\"DejaVuSans-33\" transform=\"scale(0.015625)\"/>\r\n       </defs>\r\n       <use xlink:href=\"#DejaVuSans-33\"/>\r\n       <use x=\"63.623047\" xlink:href=\"#DejaVuSans-30\"/>\r\n      </g>\r\n     </g>\r\n    </g>\r\n    <g id=\"xtick_5\">\r\n     <g id=\"line2d_5\">\r\n      <g>\r\n       <use style=\"stroke:#000000;stroke-width:0.8;\" x=\"341.103022\" xlink:href=\"#me695ddbae6\" y=\"224.64\"/>\r\n      </g>\r\n     </g>\r\n     <g id=\"text_5\">\r\n      <!-- 40 -->\r\n      <g transform=\"translate(334.740522 239.238438)scale(0.1 -0.1)\">\r\n       <defs>\r\n        <path d=\"M 2419 4116 \r\nL 825 1625 \r\nL 2419 1625 \r\nL 2419 4116 \r\nz\r\nM 2253 4666 \r\nL 3047 4666 \r\nL 3047 1625 \r\nL 3713 1625 \r\nL 3713 1100 \r\nL 3047 1100 \r\nL 3047 0 \r\nL 2419 0 \r\nL 2419 1100 \r\nL 313 1100 \r\nL 313 1709 \r\nL 2253 4666 \r\nz\r\n\" id=\"DejaVuSans-34\" transform=\"scale(0.015625)\"/>\r\n       </defs>\r\n       <use xlink:href=\"#DejaVuSans-34\"/>\r\n       <use x=\"63.623047\" xlink:href=\"#DejaVuSans-30\"/>\r\n      </g>\r\n     </g>\r\n    </g>\r\n   </g>\r\n   <g id=\"matplotlib.axis_2\">\r\n    <g id=\"ytick_1\">\r\n     <g id=\"line2d_6\">\r\n      <defs>\r\n       <path d=\"M 0 0 \r\nL -3.5 0 \r\n\" id=\"m12257632fa\" style=\"stroke:#000000;stroke-width:0.8;\"/>\r\n      </defs>\r\n      <g>\r\n       <use style=\"stroke:#000000;stroke-width:0.8;\" x=\"49.190625\" xlink:href=\"#m12257632fa\" y=\"221.590431\"/>\r\n      </g>\r\n     </g>\r\n     <g id=\"text_6\">\r\n      <!-- 0.9725 -->\r\n      <g transform=\"translate(7.2 225.38965)scale(0.1 -0.1)\">\r\n       <defs>\r\n        <path d=\"M 684 794 \r\nL 1344 794 \r\nL 1344 0 \r\nL 684 0 \r\nL 684 794 \r\nz\r\n\" id=\"DejaVuSans-2e\" transform=\"scale(0.015625)\"/>\r\n        <path d=\"M 703 97 \r\nL 703 672 \r\nQ 941 559 1184 500 \r\nQ 1428 441 1663 441 \r\nQ 2288 441 2617 861 \r\nQ 2947 1281 2994 2138 \r\nQ 2813 1869 2534 1725 \r\nQ 2256 1581 1919 1581 \r\nQ 1219 1581 811 2004 \r\nQ 403 2428 403 3163 \r\nQ 403 3881 828 4315 \r\nQ 1253 4750 1959 4750 \r\nQ 2769 4750 3195 4129 \r\nQ 3622 3509 3622 2328 \r\nQ 3622 1225 3098 567 \r\nQ 2575 -91 1691 -91 \r\nQ 1453 -91 1209 -44 \r\nQ 966 3 703 97 \r\nz\r\nM 1959 2075 \r\nQ 2384 2075 2632 2365 \r\nQ 2881 2656 2881 3163 \r\nQ 2881 3666 2632 3958 \r\nQ 2384 4250 1959 4250 \r\nQ 1534 4250 1286 3958 \r\nQ 1038 3666 1038 3163 \r\nQ 1038 2656 1286 2365 \r\nQ 1534 2075 1959 2075 \r\nz\r\n\" id=\"DejaVuSans-39\" transform=\"scale(0.015625)\"/>\r\n        <path d=\"M 525 4666 \r\nL 3525 4666 \r\nL 3525 4397 \r\nL 1831 0 \r\nL 1172 0 \r\nL 2766 4134 \r\nL 525 4134 \r\nL 525 4666 \r\nz\r\n\" id=\"DejaVuSans-37\" transform=\"scale(0.015625)\"/>\r\n        <path d=\"M 691 4666 \r\nL 3169 4666 \r\nL 3169 4134 \r\nL 1269 4134 \r\nL 1269 2991 \r\nQ 1406 3038 1543 3061 \r\nQ 1681 3084 1819 3084 \r\nQ 2600 3084 3056 2656 \r\nQ 3513 2228 3513 1497 \r\nQ 3513 744 3044 326 \r\nQ 2575 -91 1722 -91 \r\nQ 1428 -91 1123 -41 \r\nQ 819 9 494 109 \r\nL 494 744 \r\nQ 775 591 1075 516 \r\nQ 1375 441 1709 441 \r\nQ 2250 441 2565 725 \r\nQ 2881 1009 2881 1497 \r\nQ 2881 1984 2565 2268 \r\nQ 2250 2553 1709 2553 \r\nQ 1456 2553 1204 2497 \r\nQ 953 2441 691 2322 \r\nL 691 4666 \r\nz\r\n\" id=\"DejaVuSans-35\" transform=\"scale(0.015625)\"/>\r\n       </defs>\r\n       <use xlink:href=\"#DejaVuSans-30\"/>\r\n       <use x=\"63.623047\" xlink:href=\"#DejaVuSans-2e\"/>\r\n       <use x=\"95.410156\" xlink:href=\"#DejaVuSans-39\"/>\r\n       <use x=\"159.033203\" xlink:href=\"#DejaVuSans-37\"/>\r\n       <use x=\"222.65625\" xlink:href=\"#DejaVuSans-32\"/>\r\n       <use x=\"286.279297\" xlink:href=\"#DejaVuSans-35\"/>\r\n      </g>\r\n     </g>\r\n    </g>\r\n    <g id=\"ytick_2\">\r\n     <g id=\"line2d_7\">\r\n      <g>\r\n       <use style=\"stroke:#000000;stroke-width:0.8;\" x=\"49.190625\" xlink:href=\"#m12257632fa\" y=\"192.633843\"/>\r\n      </g>\r\n     </g>\r\n     <g id=\"text_7\">\r\n      <!-- 0.9750 -->\r\n      <g transform=\"translate(7.2 196.433062)scale(0.1 -0.1)\">\r\n       <use xlink:href=\"#DejaVuSans-30\"/>\r\n       <use x=\"63.623047\" xlink:href=\"#DejaVuSans-2e\"/>\r\n       <use x=\"95.410156\" xlink:href=\"#DejaVuSans-39\"/>\r\n       <use x=\"159.033203\" xlink:href=\"#DejaVuSans-37\"/>\r\n       <use x=\"222.65625\" xlink:href=\"#DejaVuSans-35\"/>\r\n       <use x=\"286.279297\" xlink:href=\"#DejaVuSans-30\"/>\r\n      </g>\r\n     </g>\r\n    </g>\r\n    <g id=\"ytick_3\">\r\n     <g id=\"line2d_8\">\r\n      <g>\r\n       <use style=\"stroke:#000000;stroke-width:0.8;\" x=\"49.190625\" xlink:href=\"#m12257632fa\" y=\"163.677256\"/>\r\n      </g>\r\n     </g>\r\n     <g id=\"text_8\">\r\n      <!-- 0.9775 -->\r\n      <g transform=\"translate(7.2 167.476475)scale(0.1 -0.1)\">\r\n       <use xlink:href=\"#DejaVuSans-30\"/>\r\n       <use x=\"63.623047\" xlink:href=\"#DejaVuSans-2e\"/>\r\n       <use x=\"95.410156\" xlink:href=\"#DejaVuSans-39\"/>\r\n       <use x=\"159.033203\" xlink:href=\"#DejaVuSans-37\"/>\r\n       <use x=\"222.65625\" xlink:href=\"#DejaVuSans-37\"/>\r\n       <use x=\"286.279297\" xlink:href=\"#DejaVuSans-35\"/>\r\n      </g>\r\n     </g>\r\n    </g>\r\n    <g id=\"ytick_4\">\r\n     <g id=\"line2d_9\">\r\n      <g>\r\n       <use style=\"stroke:#000000;stroke-width:0.8;\" x=\"49.190625\" xlink:href=\"#m12257632fa\" y=\"134.720668\"/>\r\n      </g>\r\n     </g>\r\n     <g id=\"text_9\">\r\n      <!-- 0.9800 -->\r\n      <g transform=\"translate(7.2 138.519887)scale(0.1 -0.1)\">\r\n       <defs>\r\n        <path d=\"M 2034 2216 \r\nQ 1584 2216 1326 1975 \r\nQ 1069 1734 1069 1313 \r\nQ 1069 891 1326 650 \r\nQ 1584 409 2034 409 \r\nQ 2484 409 2743 651 \r\nQ 3003 894 3003 1313 \r\nQ 3003 1734 2745 1975 \r\nQ 2488 2216 2034 2216 \r\nz\r\nM 1403 2484 \r\nQ 997 2584 770 2862 \r\nQ 544 3141 544 3541 \r\nQ 544 4100 942 4425 \r\nQ 1341 4750 2034 4750 \r\nQ 2731 4750 3128 4425 \r\nQ 3525 4100 3525 3541 \r\nQ 3525 3141 3298 2862 \r\nQ 3072 2584 2669 2484 \r\nQ 3125 2378 3379 2068 \r\nQ 3634 1759 3634 1313 \r\nQ 3634 634 3220 271 \r\nQ 2806 -91 2034 -91 \r\nQ 1263 -91 848 271 \r\nQ 434 634 434 1313 \r\nQ 434 1759 690 2068 \r\nQ 947 2378 1403 2484 \r\nz\r\nM 1172 3481 \r\nQ 1172 3119 1398 2916 \r\nQ 1625 2713 2034 2713 \r\nQ 2441 2713 2670 2916 \r\nQ 2900 3119 2900 3481 \r\nQ 2900 3844 2670 4047 \r\nQ 2441 4250 2034 4250 \r\nQ 1625 4250 1398 4047 \r\nQ 1172 3844 1172 3481 \r\nz\r\n\" id=\"DejaVuSans-38\" transform=\"scale(0.015625)\"/>\r\n       </defs>\r\n       <use xlink:href=\"#DejaVuSans-30\"/>\r\n       <use x=\"63.623047\" xlink:href=\"#DejaVuSans-2e\"/>\r\n       <use x=\"95.410156\" xlink:href=\"#DejaVuSans-39\"/>\r\n       <use x=\"159.033203\" xlink:href=\"#DejaVuSans-38\"/>\r\n       <use x=\"222.65625\" xlink:href=\"#DejaVuSans-30\"/>\r\n       <use x=\"286.279297\" xlink:href=\"#DejaVuSans-30\"/>\r\n      </g>\r\n     </g>\r\n    </g>\r\n    <g id=\"ytick_5\">\r\n     <g id=\"line2d_10\">\r\n      <g>\r\n       <use style=\"stroke:#000000;stroke-width:0.8;\" x=\"49.190625\" xlink:href=\"#m12257632fa\" y=\"105.764081\"/>\r\n      </g>\r\n     </g>\r\n     <g id=\"text_10\">\r\n      <!-- 0.9825 -->\r\n      <g transform=\"translate(7.2 109.5633)scale(0.1 -0.1)\">\r\n       <use xlink:href=\"#DejaVuSans-30\"/>\r\n       <use x=\"63.623047\" xlink:href=\"#DejaVuSans-2e\"/>\r\n       <use x=\"95.410156\" xlink:href=\"#DejaVuSans-39\"/>\r\n       <use x=\"159.033203\" xlink:href=\"#DejaVuSans-38\"/>\r\n       <use x=\"222.65625\" xlink:href=\"#DejaVuSans-32\"/>\r\n       <use x=\"286.279297\" xlink:href=\"#DejaVuSans-35\"/>\r\n      </g>\r\n     </g>\r\n    </g>\r\n    <g id=\"ytick_6\">\r\n     <g id=\"line2d_11\">\r\n      <g>\r\n       <use style=\"stroke:#000000;stroke-width:0.8;\" x=\"49.190625\" xlink:href=\"#m12257632fa\" y=\"76.807493\"/>\r\n      </g>\r\n     </g>\r\n     <g id=\"text_11\">\r\n      <!-- 0.9850 -->\r\n      <g transform=\"translate(7.2 80.606712)scale(0.1 -0.1)\">\r\n       <use xlink:href=\"#DejaVuSans-30\"/>\r\n       <use x=\"63.623047\" xlink:href=\"#DejaVuSans-2e\"/>\r\n       <use x=\"95.410156\" xlink:href=\"#DejaVuSans-39\"/>\r\n       <use x=\"159.033203\" xlink:href=\"#DejaVuSans-38\"/>\r\n       <use x=\"222.65625\" xlink:href=\"#DejaVuSans-35\"/>\r\n       <use x=\"286.279297\" xlink:href=\"#DejaVuSans-30\"/>\r\n      </g>\r\n     </g>\r\n    </g>\r\n    <g id=\"ytick_7\">\r\n     <g id=\"line2d_12\">\r\n      <g>\r\n       <use style=\"stroke:#000000;stroke-width:0.8;\" x=\"49.190625\" xlink:href=\"#m12257632fa\" y=\"47.850906\"/>\r\n      </g>\r\n     </g>\r\n     <g id=\"text_12\">\r\n      <!-- 0.9875 -->\r\n      <g transform=\"translate(7.2 51.650125)scale(0.1 -0.1)\">\r\n       <use xlink:href=\"#DejaVuSans-30\"/>\r\n       <use x=\"63.623047\" xlink:href=\"#DejaVuSans-2e\"/>\r\n       <use x=\"95.410156\" xlink:href=\"#DejaVuSans-39\"/>\r\n       <use x=\"159.033203\" xlink:href=\"#DejaVuSans-38\"/>\r\n       <use x=\"222.65625\" xlink:href=\"#DejaVuSans-37\"/>\r\n       <use x=\"286.279297\" xlink:href=\"#DejaVuSans-35\"/>\r\n      </g>\r\n     </g>\r\n    </g>\r\n    <g id=\"ytick_8\">\r\n     <g id=\"line2d_13\">\r\n      <g>\r\n       <use style=\"stroke:#000000;stroke-width:0.8;\" x=\"49.190625\" xlink:href=\"#m12257632fa\" y=\"18.894318\"/>\r\n      </g>\r\n     </g>\r\n     <g id=\"text_13\">\r\n      <!-- 0.9900 -->\r\n      <g transform=\"translate(7.2 22.693537)scale(0.1 -0.1)\">\r\n       <use xlink:href=\"#DejaVuSans-30\"/>\r\n       <use x=\"63.623047\" xlink:href=\"#DejaVuSans-2e\"/>\r\n       <use x=\"95.410156\" xlink:href=\"#DejaVuSans-39\"/>\r\n       <use x=\"159.033203\" xlink:href=\"#DejaVuSans-39\"/>\r\n       <use x=\"222.65625\" xlink:href=\"#DejaVuSans-30\"/>\r\n       <use x=\"286.279297\" xlink:href=\"#DejaVuSans-30\"/>\r\n      </g>\r\n     </g>\r\n    </g>\r\n   </g>\r\n   <g id=\"line2d_14\">\r\n    <path clip-path=\"url(#p80a6e7ff81)\" d=\"M 64.408807 38.527067 \r\nL 71.326162 50.63495 \r\nL 78.243518 50.389929 \r\nL 85.160873 51.105556 \r\nL 92.078228 50.350607 \r\nL 98.995584 48.512899 \r\nL 105.912939 49.198841 \r\nL 112.830294 51.010187 \r\nL 119.74765 49.803477 \r\nL 126.665005 48.491726 \r\nL 133.582361 48.996283 \r\nL 140.499716 48.79564 \r\nL 147.417071 50.222842 \r\nL 154.334427 50.291436 \r\nL 161.251782 48.644562 \r\nL 168.169137 47.728027 \r\nL 175.086493 48.365268 \r\nL 182.003848 47.010736 \r\nL 188.921204 48.276389 \r\nL 195.838559 48.174648 \r\nL 202.755914 48.019177 \r\nL 209.67327 47.666886 \r\nL 216.590625 49.376823 \r\nL 223.50798 48.132438 \r\nL 230.425336 47.782829 \r\nL 237.342691 47.890325 \r\nL 244.260046 48.035352 \r\nL 251.177402 47.99298 \r\nL 258.094757 47.88678 \r\nL 265.012113 48.332142 \r\nL 271.929468 46.969212 \r\nL 278.846823 49.236902 \r\nL 285.764179 47.874948 \r\nL 292.681534 46.866098 \r\nL 299.598889 47.371687 \r\nL 306.516245 48.548177 \r\nL 313.4336 45.394111 \r\nL 320.350956 46.883542 \r\nL 327.268311 46.688189 \r\nL 334.185666 48.124452 \r\nL 341.103022 47.603623 \r\nL 348.020377 49.9643 \r\nL 354.937732 46.964103 \r\nL 361.855088 48.265491 \r\nL 368.772443 48.901285 \r\n\" style=\"fill:none;stroke:#0000ff;stroke-linecap:square;stroke-width:1.5;\"/>\r\n   </g>\r\n   <g id=\"line2d_15\">\r\n    <path clip-path=\"url(#p80a6e7ff81)\" d=\"M 64.408807 214.756364 \r\nL 71.326162 47.985212 \r\nL 78.243518 47.946026 \r\nL 85.160873 33.097891 \r\nL 92.078228 41.014786 \r\nL 98.995584 64.611158 \r\nL 105.912939 53.301641 \r\nL 112.830294 22.904867 \r\nL 119.74765 39.886812 \r\nL 126.665005 56.842171 \r\nL 133.582361 47.670496 \r\nL 140.499716 48.654348 \r\nL 147.417071 26.831654 \r\nL 154.334427 28.572696 \r\nL 161.251782 46.353323 \r\nL 168.169137 58.189649 \r\nL 175.086493 48.160408 \r\nL 182.003848 66.798633 \r\nL 188.921204 48.615645 \r\nL 195.838559 49.545087 \r\nL 202.755914 50.884663 \r\nL 209.67327 55.116342 \r\nL 216.590625 31.835584 \r\nL 223.50798 48.1069 \r\nL 230.425336 52.797956 \r\nL 237.342691 50.179137 \r\nL 244.260046 48.015145 \r\nL 251.177402 48.006596 \r\nL 258.094757 49.00411 \r\nL 265.012113 42.299206 \r\nL 271.929468 60.929387 \r\nL 278.846823 28.784413 \r\nL 285.764179 46.99792 \r\nL 292.681534 61.99608 \r\nL 299.598889 53.751598 \r\nL 306.516245 36.894048 \r\nL 313.4336 82.824429 \r\nL 320.350956 61.43925 \r\nL 327.268311 62.764767 \r\nL 334.185666 42.839309 \r\nL 341.103022 50.46032 \r\nL 348.020377 17.083636 \r\nL 354.937732 58.264326 \r\nL 361.855088 40.424092 \r\nL 368.772443 32.862113 \r\n\" style=\"fill:none;stroke:#ff0000;stroke-linecap:square;stroke-width:1.5;\"/>\r\n   </g>\r\n   <g id=\"patch_3\">\r\n    <path d=\"M 49.190625 224.64 \r\nL 49.190625 7.2 \r\n\" style=\"fill:none;stroke:#000000;stroke-linecap:square;stroke-linejoin:miter;stroke-width:0.8;\"/>\r\n   </g>\r\n   <g id=\"patch_4\">\r\n    <path d=\"M 383.990625 224.64 \r\nL 383.990625 7.2 \r\n\" style=\"fill:none;stroke:#000000;stroke-linecap:square;stroke-linejoin:miter;stroke-width:0.8;\"/>\r\n   </g>\r\n   <g id=\"patch_5\">\r\n    <path d=\"M 49.190625 224.64 \r\nL 383.990625 224.64 \r\n\" style=\"fill:none;stroke:#000000;stroke-linecap:square;stroke-linejoin:miter;stroke-width:0.8;\"/>\r\n   </g>\r\n   <g id=\"patch_6\">\r\n    <path d=\"M 49.190625 7.2 \r\nL 383.990625 7.2 \r\n\" style=\"fill:none;stroke:#000000;stroke-linecap:square;stroke-linejoin:miter;stroke-width:0.8;\"/>\r\n   </g>\r\n  </g>\r\n </g>\r\n <defs>\r\n  <clipPath id=\"p80a6e7ff81\">\r\n   <rect height=\"217.44\" width=\"334.8\" x=\"49.190625\" y=\"7.2\"/>\r\n  </clipPath>\r\n </defs>\r\n</svg>\r\n",
      "image/png": "[encoded data removed]"
     },
     "metadata": {
      "needs_background": "light"
     }
    }
   ],
   "source": [
    "import matplotlib.pyplot as plt\n",
    "plt.plot(train_score, color=\"b\")\n",
    "plt.plot(val_score, color=\"r\")\n",
    "val_score"
   ]
  },
  {
   "cell_type": "code",
   "execution_count": 15,
   "metadata": {},
   "outputs": [
    {
     "output_type": "stream",
     "name": "stdout",
     "text": [
      "predicciones test:\n [9026.32694343 4949.44017382 7767.93841331 ... 1247.0867651  3079.780213\n 1419.17703449]\nscore (RMSE) de las predicciones: 626.7367712200277\n"
     ]
    }
   ],
   "source": [
    "\n",
    "predictions = model.predict(X_test)\n",
    "\n",
    "# 5. Predecir con el modelo ya entrenado con X_test\n",
    "#predictions = model.predict(X_test)\n",
    "print('predicciones test:\\n', predictions)\n",
    "\n",
    "# 6. Sacar métricas, valorar el modelo; en la competición se va a evaluar con la métrica de RMSE.\n",
    "print('score (RMSE) de las predicciones:', np.sqrt(mean_squared_error(y_test, predictions)))"
   ]
  },
  {
   "cell_type": "code",
   "execution_count": 16,
   "metadata": {},
   "outputs": [
    {
     "output_type": "stream",
     "name": "stdout",
     "text": [
      "score (RMSE) de las predicciones: 1145.4034182869868\n"
     ]
    }
   ],
   "source": [
    "from sklearn.ensemble import AdaBoostRegressor\n",
    "\n",
    "ada_reg = AdaBoostRegressor(n_estimators=200,random_state=42)\n",
    "\n",
    "ada_reg.fit(X_train, y_train)\n",
    "\n",
    "y_pred_ada_reg = ada_reg.predict(X_test)\n",
    "print('score (RMSE) de las predicciones:', np.sqrt(mean_squared_error(y_test, y_pred_ada_reg)))"
   ]
  },
  {
   "cell_type": "code",
   "execution_count": null,
   "metadata": {},
   "outputs": [],
   "source": []
  },
  {
   "cell_type": "markdown",
   "metadata": {},
   "source": [
    "Siempre hay tiempo para una historia:\n",
    "https://catboost.ai/docs/concepts/python-reference_catboostregressor.html"
   ]
  },
  {
   "cell_type": "markdown",
   "metadata": {},
   "source": [
    "## Una vez listo el modelo, toca predecir con el dataset de predicción "
   ]
  },
  {
   "cell_type": "markdown",
   "metadata": {},
   "source": [
    "### 1. Entrena dicho modelo con TODOS tus datos de train, esto es con `diamonds_train.csv` al completo.\n",
    "\n",
    "**CON LAS TRANSFORMACIONES QUE LE HAYAS REALIZADO A `X` INCLUÍDAS.**\n",
    "\n",
    "Véase:\n",
    "- Estandarización/Normalización\n",
    "- Eliminación de Outliers\n",
    "- Eliminación de columnas\n",
    "- Creación de columnas nuevas\n",
    "- Gestión de valores nulos\n",
    "- Y un largo etcétera de técnicas que como Data Scientist hayas considerado las mejores para tu dataset."
   ]
  },
  {
   "cell_type": "markdown",
   "metadata": {},
   "source": [
    "### 2. Carga los datos de `diamonds_test.csv` para predecir.\n",
    "\n",
    "**¿De dónde saco `diamonds_test.csv`?**"
   ]
  },
  {
   "cell_type": "code",
   "execution_count": 9,
   "metadata": {},
   "outputs": [
    {
     "output_type": "execute_result",
     "data": {
      "text/plain": [
       "   carat  cut  color  clarity  depth  table     x     y     z\n",
       "0   0.30  100     50       55   60.0   56.0  4.41  4.43  2.65\n",
       "1   0.34  100    100      100   62.1   57.0  4.52  4.46  2.79\n",
       "2   1.57   85     50       80   60.3   58.0  7.58  7.55  4.56\n",
       "3   0.31  100     50       80   61.8   57.0  4.32  4.36  2.68\n",
       "4   1.51   70     50       98   64.0   60.0  7.26  7.21  4.63"
      ],
      "text/html": "<div>\n<style scoped>\n    .dataframe tbody tr th:only-of-type {\n        vertical-align: middle;\n    }\n\n    .dataframe tbody tr th {\n        vertical-align: top;\n    }\n\n    .dataframe thead th {\n        text-align: right;\n    }\n</style>\n<table border=\"1\" class=\"dataframe\">\n  <thead>\n    <tr style=\"text-align: right;\">\n      <th></th>\n      <th>carat</th>\n      <th>cut</th>\n      <th>color</th>\n      <th>clarity</th>\n      <th>depth</th>\n      <th>table</th>\n      <th>x</th>\n      <th>y</th>\n      <th>z</th>\n    </tr>\n  </thead>\n  <tbody>\n    <tr>\n      <th>0</th>\n      <td>0.30</td>\n      <td>100</td>\n      <td>50</td>\n      <td>55</td>\n      <td>60.0</td>\n      <td>56.0</td>\n      <td>4.41</td>\n      <td>4.43</td>\n      <td>2.65</td>\n    </tr>\n    <tr>\n      <th>1</th>\n      <td>0.34</td>\n      <td>100</td>\n      <td>100</td>\n      <td>100</td>\n      <td>62.1</td>\n      <td>57.0</td>\n      <td>4.52</td>\n      <td>4.46</td>\n      <td>2.79</td>\n    </tr>\n    <tr>\n      <th>2</th>\n      <td>1.57</td>\n      <td>85</td>\n      <td>50</td>\n      <td>80</td>\n      <td>60.3</td>\n      <td>58.0</td>\n      <td>7.58</td>\n      <td>7.55</td>\n      <td>4.56</td>\n    </tr>\n    <tr>\n      <th>3</th>\n      <td>0.31</td>\n      <td>100</td>\n      <td>50</td>\n      <td>80</td>\n      <td>61.8</td>\n      <td>57.0</td>\n      <td>4.32</td>\n      <td>4.36</td>\n      <td>2.68</td>\n    </tr>\n    <tr>\n      <th>4</th>\n      <td>1.51</td>\n      <td>70</td>\n      <td>50</td>\n      <td>98</td>\n      <td>64.0</td>\n      <td>60.0</td>\n      <td>7.26</td>\n      <td>7.21</td>\n      <td>4.63</td>\n    </tr>\n  </tbody>\n</table>\n</div>"
     },
     "metadata": {},
     "execution_count": 9
    }
   ],
   "source": [
    "df_test = pd.read_csv(\"diamonds_test.csv\", index_col=0)\n",
    "df_test['cut'] = df_test['cut'].apply(lambda x: cut_to_number(x, log_list5))\n",
    "df_test['color'] = df_test['color'].apply(lambda x: color_to_number(x, log_list5))\n",
    "df_test['clarity'] = df_test['clarity'].apply(lambda x: clarity_to_number(x,log_list8))\n",
    "\n",
    "sample = pd.read_csv(\"sample_submission.csv\")\n",
    "\n",
    "df_test.head()"
   ]
  },
  {
   "cell_type": "code",
   "execution_count": 10,
   "metadata": {},
   "outputs": [
    {
     "output_type": "execute_result",
     "data": {
      "text/plain": [
       "(13449, 9)"
      ]
     },
     "metadata": {},
     "execution_count": 10
    }
   ],
   "source": [
    "#X_pred = np.array(df_test[['carat','cut','color','clarity','depth','table']]) #\n",
    "#X_pred = np.array(df_test.drop(columns=['depth','table'])) # pruebas con las tabla completa\n",
    "X_pred = np.array(df_test) # pruebas con las tabla completa\n",
    "y_sample = sample['price']\n",
    "X_pred.shape\n",
    "#y_sample.shape"
   ]
  },
  {
   "cell_type": "code",
   "execution_count": 11,
   "metadata": {},
   "outputs": [
    {
     "output_type": "execute_result",
     "data": {
      "text/plain": [
       "array([  449.7830959 ,  1412.19624232,  9393.45863611, ...,\n",
       "       14579.09974707, 10435.22684136,   702.26657602])"
      ]
     },
     "metadata": {},
     "execution_count": 11
    }
   ],
   "source": [
    "# líneas para el non-linear regression model\n",
    "#X_pred = polinominal_model.transform(X_pred)\n",
    "predictions_submit = model.predict(X_pred)\n",
    "\n",
    "# líneas para todos los demás\n",
    "#predictions_submit = model.predict(X_pred)\n",
    "predictions_submit"
   ]
  },
  {
   "cell_type": "markdown",
   "metadata": {},
   "source": [
    "**¡PERO! Para subir a Kaggle la predicción, ésta tendrá que tener una forma específica y no valdrá otra.**\n",
    "\n",
    "En este caso, la **MISMA** forma que `sample_submission.csv`. "
   ]
  },
  {
   "cell_type": "code",
   "execution_count": 12,
   "metadata": {},
   "outputs": [
    {
     "output_type": "execute_result",
     "data": {
      "text/plain": [
       "9130.6603530616"
      ]
     },
     "metadata": {},
     "execution_count": 12
    }
   ],
   "source": [
    "# control de error\n",
    "np.sqrt(mean_squared_error(y_sample, predictions_submit))"
   ]
  },
  {
   "cell_type": "markdown",
   "metadata": {},
   "source": [
    "### 4. Mete tus predicciones en un dataframe. \n",
    "\n",
    "En este caso, la **MISMA** forma que `sample_submission.csv`. "
   ]
  },
  {
   "cell_type": "code",
   "execution_count": 13,
   "metadata": {},
   "outputs": [],
   "source": [
    "submission = pd.DataFrame({\"id\": range(len(predictions_submit)), \"price\": predictions_submit})"
   ]
  },
  {
   "cell_type": "code",
   "execution_count": 35,
   "metadata": {},
   "outputs": [
    {
     "output_type": "execute_result",
     "data": {
      "text/plain": [
       "   id         price\n",
       "0   0    419.373578\n",
       "1   1   2055.784778\n",
       "2   2   9375.312133\n",
       "3   3    543.225875\n",
       "4   4  11066.685652"
      ],
      "text/html": "<div>\n<style scoped>\n    .dataframe tbody tr th:only-of-type {\n        vertical-align: middle;\n    }\n\n    .dataframe tbody tr th {\n        vertical-align: top;\n    }\n\n    .dataframe thead th {\n        text-align: right;\n    }\n</style>\n<table border=\"1\" class=\"dataframe\">\n  <thead>\n    <tr style=\"text-align: right;\">\n      <th></th>\n      <th>id</th>\n      <th>price</th>\n    </tr>\n  </thead>\n  <tbody>\n    <tr>\n      <th>0</th>\n      <td>0</td>\n      <td>419.373578</td>\n    </tr>\n    <tr>\n      <th>1</th>\n      <td>1</td>\n      <td>2055.784778</td>\n    </tr>\n    <tr>\n      <th>2</th>\n      <td>2</td>\n      <td>9375.312133</td>\n    </tr>\n    <tr>\n      <th>3</th>\n      <td>3</td>\n      <td>543.225875</td>\n    </tr>\n    <tr>\n      <th>4</th>\n      <td>4</td>\n      <td>11066.685652</td>\n    </tr>\n  </tbody>\n</table>\n</div>"
     },
     "metadata": {},
     "execution_count": 35
    }
   ],
   "source": [
    "submission.head()"
   ]
  },
  {
   "cell_type": "code",
   "execution_count": 36,
   "metadata": {},
   "outputs": [
    {
     "output_type": "execute_result",
     "data": {
      "text/plain": [
       "(13449, 2)"
      ]
     },
     "metadata": {},
     "execution_count": 36
    }
   ],
   "source": [
    "submission.shape"
   ]
  },
  {
   "cell_type": "markdown",
   "metadata": {},
   "source": [
    "### 5. Pásale el CHEQUEATOR para comprobar que efectivamente está listo para subir a Kaggle."
   ]
  },
  {
   "cell_type": "code",
   "execution_count": 14,
   "metadata": {},
   "outputs": [
    {
     "output_type": "stream",
     "name": "stdout",
     "text": [
      "You're ready to submit!\n"
     ]
    }
   ],
   "source": [
    "def chequeator(df_to_submit):\n",
    "    \"\"\"\n",
    "    Esta función se asegura de que tu submission tenga la forma requerida por Kaggle.\n",
    "    \n",
    "    Si es así, se guardará el dataframe en un `csv` y estará listo para subir a Kaggle.\n",
    "    \n",
    "    Si no, LEE EL MENSAJE Y HAZLE CASO.\n",
    "    \n",
    "    Si aún no:\n",
    "    - apaga tu ordenador, \n",
    "    - date una vuelta, \n",
    "    - enciendelo otra vez, \n",
    "    - abre este notebook y \n",
    "    - leelo todo de nuevo. \n",
    "    Todos nos merecemos una segunda oportunidad. También tú.\n",
    "    \"\"\"\n",
    "    if df_to_submit.shape == sample.shape:\n",
    "        if df_to_submit.columns.all() == sample.columns.all():\n",
    "            if df_to_submit.id.all() == sample.id.all():\n",
    "                print(\"You're ready to submit!\")\n",
    "                submission.to_csv(\"submission.csv\", index = False) #muy importante el index = False\n",
    "                urllib.request.urlretrieve(\"https://i.kym-cdn.com/photos/images/facebook/000/747/556/27a.jpg\", \"gfg.png\")     \n",
    "                img = Image.open(\"gfg.png\")\n",
    "                img.show()   \n",
    "            else:\n",
    "                print(\"Check the ids and try again\")\n",
    "        else:\n",
    "            print(\"Check the names of the columns and try again\")\n",
    "    else:\n",
    "        print(\"Check the number of rows and/or columns and try again\")\n",
    "        print(\"\\nMensaje secreto de Clara: No me puedo creer que después de todo este notebook hayas hecho algún cambio en las filas de `diamonds_test.csv`. Lloro.\")\n",
    "chequeator(submission)"
   ]
  },
  {
   "cell_type": "code",
   "execution_count": null,
   "metadata": {},
   "outputs": [],
   "source": []
  }
 ],
 "metadata": {
  "kernelspec": {
   "name": "python3",
   "display_name": "Python 3.7.4 64-bit"
  },
  "language_info": {
   "codemirror_mode": {
    "name": "ipython",
    "version": 3
   },
   "file_extension": ".py",
   "mimetype": "text/x-python",
   "name": "python",
   "nbconvert_exporter": "python",
   "pygments_lexer": "ipython3",
   "version": "3.7.4"
  },
  "interpreter": {
   "hash": "93959734c7fb7f2dc7760fccbd71d0356ba421f29bb59ffa607c9608db7abb2a"
  }
 },
 "nbformat": 4,
 "nbformat_minor": 4
}