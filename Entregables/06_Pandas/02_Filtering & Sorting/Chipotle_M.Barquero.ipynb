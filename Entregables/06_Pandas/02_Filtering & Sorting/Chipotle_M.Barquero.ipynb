{
 "cells": [
  {
   "cell_type": "markdown",
   "metadata": {},
   "source": [
    "# 02 - Filtering and Sorting Data"
   ]
  },
  {
   "cell_type": "markdown",
   "metadata": {},
   "source": [
    "\n",
    "\n",
    "### Step 1. Import the necessary libraries"
   ]
  },
  {
   "cell_type": "code",
   "execution_count": 2,
   "metadata": {},
   "outputs": [],
   "source": [
    "import json         # Trabaja con ficheros json\n",
    "import pandas as pd # Librería para el data mining y data wrangling\n",
    "import numpy as np"
   ]
  },
  {
   "cell_type": "markdown",
   "metadata": {},
   "source": [
    "### Step 2. Import the dataset from this [address](https://raw.githubusercontent.com/justmarkham/DAT8/master/data/chipotle.tsv). Assign it to a variable called chipo.\n",
    "\n",
    "This time we are going to pull data directly from the internet."
   ]
  },
  {
   "cell_type": "code",
   "execution_count": 3,
   "metadata": {},
   "outputs": [
    {
     "output_type": "stream",
     "name": "stdout",
     "text": [
      "<class 'pandas.core.frame.DataFrame'>\nRangeIndex: 4622 entries, 0 to 4621\nData columns (total 5 columns):\n #   Column              Non-Null Count  Dtype \n---  ------              --------------  ----- \n 0   order_id            4622 non-null   int64 \n 1   quantity            4622 non-null   int64 \n 2   item_name           4622 non-null   object\n 3   choice_description  3376 non-null   object\n 4   item_price          4622 non-null   object\ndtypes: int64(2), object(3)\nmemory usage: 180.7+ KB\n"
     ]
    },
    {
     "output_type": "execute_result",
     "data": {
      "text/plain": [
       "      order_id  quantity                              item_name  \\\n",
       "0            1         1           Chips and Fresh Tomato Salsa   \n",
       "1            1         1                                   Izze   \n",
       "2            1         1                       Nantucket Nectar   \n",
       "3            1         1  Chips and Tomatillo-Green Chili Salsa   \n",
       "4            2         2                           Chicken Bowl   \n",
       "...        ...       ...                                    ...   \n",
       "4617      1833         1                          Steak Burrito   \n",
       "4618      1833         1                          Steak Burrito   \n",
       "4619      1834         1                     Chicken Salad Bowl   \n",
       "4620      1834         1                     Chicken Salad Bowl   \n",
       "4621      1834         1                     Chicken Salad Bowl   \n",
       "\n",
       "                                     choice_description item_price  \n",
       "0                                                   NaN     $2.39   \n",
       "1                                          [Clementine]     $3.39   \n",
       "2                                               [Apple]     $3.39   \n",
       "3                                                   NaN     $2.39   \n",
       "4     [Tomatillo-Red Chili Salsa (Hot), [Black Beans...    $16.98   \n",
       "...                                                 ...        ...  \n",
       "4617  [Fresh Tomato Salsa, [Rice, Black Beans, Sour ...    $11.75   \n",
       "4618  [Fresh Tomato Salsa, [Rice, Sour Cream, Cheese...    $11.75   \n",
       "4619  [Fresh Tomato Salsa, [Fajita Vegetables, Pinto...    $11.25   \n",
       "4620  [Fresh Tomato Salsa, [Fajita Vegetables, Lettu...     $8.75   \n",
       "4621  [Fresh Tomato Salsa, [Fajita Vegetables, Pinto...     $8.75   \n",
       "\n",
       "[4622 rows x 5 columns]"
      ],
      "text/html": "<div>\n<style scoped>\n    .dataframe tbody tr th:only-of-type {\n        vertical-align: middle;\n    }\n\n    .dataframe tbody tr th {\n        vertical-align: top;\n    }\n\n    .dataframe thead th {\n        text-align: right;\n    }\n</style>\n<table border=\"1\" class=\"dataframe\">\n  <thead>\n    <tr style=\"text-align: right;\">\n      <th></th>\n      <th>order_id</th>\n      <th>quantity</th>\n      <th>item_name</th>\n      <th>choice_description</th>\n      <th>item_price</th>\n    </tr>\n  </thead>\n  <tbody>\n    <tr>\n      <th>0</th>\n      <td>1</td>\n      <td>1</td>\n      <td>Chips and Fresh Tomato Salsa</td>\n      <td>NaN</td>\n      <td>$2.39</td>\n    </tr>\n    <tr>\n      <th>1</th>\n      <td>1</td>\n      <td>1</td>\n      <td>Izze</td>\n      <td>[Clementine]</td>\n      <td>$3.39</td>\n    </tr>\n    <tr>\n      <th>2</th>\n      <td>1</td>\n      <td>1</td>\n      <td>Nantucket Nectar</td>\n      <td>[Apple]</td>\n      <td>$3.39</td>\n    </tr>\n    <tr>\n      <th>3</th>\n      <td>1</td>\n      <td>1</td>\n      <td>Chips and Tomatillo-Green Chili Salsa</td>\n      <td>NaN</td>\n      <td>$2.39</td>\n    </tr>\n    <tr>\n      <th>4</th>\n      <td>2</td>\n      <td>2</td>\n      <td>Chicken Bowl</td>\n      <td>[Tomatillo-Red Chili Salsa (Hot), [Black Beans...</td>\n      <td>$16.98</td>\n    </tr>\n    <tr>\n      <th>...</th>\n      <td>...</td>\n      <td>...</td>\n      <td>...</td>\n      <td>...</td>\n      <td>...</td>\n    </tr>\n    <tr>\n      <th>4617</th>\n      <td>1833</td>\n      <td>1</td>\n      <td>Steak Burrito</td>\n      <td>[Fresh Tomato Salsa, [Rice, Black Beans, Sour ...</td>\n      <td>$11.75</td>\n    </tr>\n    <tr>\n      <th>4618</th>\n      <td>1833</td>\n      <td>1</td>\n      <td>Steak Burrito</td>\n      <td>[Fresh Tomato Salsa, [Rice, Sour Cream, Cheese...</td>\n      <td>$11.75</td>\n    </tr>\n    <tr>\n      <th>4619</th>\n      <td>1834</td>\n      <td>1</td>\n      <td>Chicken Salad Bowl</td>\n      <td>[Fresh Tomato Salsa, [Fajita Vegetables, Pinto...</td>\n      <td>$11.25</td>\n    </tr>\n    <tr>\n      <th>4620</th>\n      <td>1834</td>\n      <td>1</td>\n      <td>Chicken Salad Bowl</td>\n      <td>[Fresh Tomato Salsa, [Fajita Vegetables, Lettu...</td>\n      <td>$8.75</td>\n    </tr>\n    <tr>\n      <th>4621</th>\n      <td>1834</td>\n      <td>1</td>\n      <td>Chicken Salad Bowl</td>\n      <td>[Fresh Tomato Salsa, [Fajita Vegetables, Pinto...</td>\n      <td>$8.75</td>\n    </tr>\n  </tbody>\n</table>\n<p>4622 rows × 5 columns</p>\n</div>"
     },
     "metadata": {},
     "execution_count": 3
    }
   ],
   "source": [
    "address = \"https://raw.githubusercontent.com/justmarkham/DAT8/master/data/chipotle.tsv\"\n",
    "df_chipotle = pd.read_csv(address, sep='\\t')\n",
    "df_chipotle.info()\n",
    "df_chipotle"
   ]
  },
  {
   "cell_type": "markdown",
   "metadata": {},
   "source": [
    "### Step 3. Name of the most expensive products (item_name)\n",
    "\n",
    "¿Recuerdas el `map`? En **pandas** tienes el método [`apply`](https://pandas.pydata.org/pandas-docs/stable/reference/api/pandas.DataFrame.apply.html) y en para resolver este ejercicio te puede ser muy útil. \n",
    "\n",
    "Pero no acaba ahí https://stackoverflow.com/questions/19798153/difference-between-map-applymap-and-apply-methods-in-pandas"
   ]
  },
  {
   "cell_type": "code",
   "execution_count": 53,
   "metadata": {},
   "outputs": [
    {
     "output_type": "stream",
     "name": "stdout",
     "text": [
      "The most expensive product is the Steak Salad Bowl, which costs $11.89.\n"
     ]
    }
   ],
   "source": [
    "# Minifunción: elimina el símbolo de dolar y convierte la variable en float\n",
    "minif = lambda x: float(x.replace('$',''))\n",
    "# Se aplica la minifunción a toda la tabla para poder hacer cálculos\n",
    "df_chipotle['price_no$'] = df_chipotle.item_price.apply(minif)\n",
    "# se calcula el precio por artículo (item_price/quantity) y se genera una nueva columna 'real item price'\n",
    "df_chipotle['real_item_price'] = df_chipotle['price_no$']/df_chipotle.quantity\n",
    "\n",
    "MostExpensive = df_chipotle['item_name'][df_chipotle['real_item_price'].idxmax()]\n",
    "Pricest = df_chipotle.real_item_price.max()\n",
    "print(f\"The most expensive product is the {MostExpensive}, which costs ${Pricest}.\")"
   ]
  },
  {
   "cell_type": "markdown",
   "metadata": {},
   "source": [
    "### Step 4. How many products cost more than $10.00?"
   ]
  },
  {
   "cell_type": "code",
   "execution_count": 56,
   "metadata": {},
   "outputs": [
    {
     "output_type": "execute_result",
     "data": {
      "text/plain": [
       "                                                product  real_item_price\n",
       "5     Chicken Bowl- [Fresh Tomato Salsa (Mild), [Ric...            10.98\n",
       "7     Steak Burrito- [Tomatillo Red Chili Salsa, [Fa...            11.75\n",
       "13    Chicken Bowl- [Fresh Tomato Salsa, [Fajita Veg...            11.25\n",
       "23    Chicken Burrito- [[Tomatillo-Green Chili Salsa...            10.98\n",
       "39    Barbacoa Bowl- [Roasted Chili Corn Salsa, [Faj...            11.75\n",
       "...                                                 ...              ...\n",
       "4610  Steak Burrito- [Fresh Tomato Salsa, [Rice, Sou...            11.75\n",
       "4611  Veggie Burrito- [Tomatillo Green Chili Salsa, ...            11.25\n",
       "4617  Steak Burrito- [Fresh Tomato Salsa, [Rice, Bla...            11.75\n",
       "4618  Steak Burrito- [Fresh Tomato Salsa, [Rice, Sou...            11.75\n",
       "4619  Chicken Salad Bowl- [Fresh Tomato Salsa, [Faji...            11.25\n",
       "\n",
       "[1034 rows x 2 columns]"
      ],
      "text/html": "<div>\n<style scoped>\n    .dataframe tbody tr th:only-of-type {\n        vertical-align: middle;\n    }\n\n    .dataframe tbody tr th {\n        vertical-align: top;\n    }\n\n    .dataframe thead th {\n        text-align: right;\n    }\n</style>\n<table border=\"1\" class=\"dataframe\">\n  <thead>\n    <tr style=\"text-align: right;\">\n      <th></th>\n      <th>product</th>\n      <th>real_item_price</th>\n    </tr>\n  </thead>\n  <tbody>\n    <tr>\n      <th>5</th>\n      <td>Chicken Bowl- [Fresh Tomato Salsa (Mild), [Ric...</td>\n      <td>10.98</td>\n    </tr>\n    <tr>\n      <th>7</th>\n      <td>Steak Burrito- [Tomatillo Red Chili Salsa, [Fa...</td>\n      <td>11.75</td>\n    </tr>\n    <tr>\n      <th>13</th>\n      <td>Chicken Bowl- [Fresh Tomato Salsa, [Fajita Veg...</td>\n      <td>11.25</td>\n    </tr>\n    <tr>\n      <th>23</th>\n      <td>Chicken Burrito- [[Tomatillo-Green Chili Salsa...</td>\n      <td>10.98</td>\n    </tr>\n    <tr>\n      <th>39</th>\n      <td>Barbacoa Bowl- [Roasted Chili Corn Salsa, [Faj...</td>\n      <td>11.75</td>\n    </tr>\n    <tr>\n      <th>...</th>\n      <td>...</td>\n      <td>...</td>\n    </tr>\n    <tr>\n      <th>4610</th>\n      <td>Steak Burrito- [Fresh Tomato Salsa, [Rice, Sou...</td>\n      <td>11.75</td>\n    </tr>\n    <tr>\n      <th>4611</th>\n      <td>Veggie Burrito- [Tomatillo Green Chili Salsa, ...</td>\n      <td>11.25</td>\n    </tr>\n    <tr>\n      <th>4617</th>\n      <td>Steak Burrito- [Fresh Tomato Salsa, [Rice, Bla...</td>\n      <td>11.75</td>\n    </tr>\n    <tr>\n      <th>4618</th>\n      <td>Steak Burrito- [Fresh Tomato Salsa, [Rice, Sou...</td>\n      <td>11.75</td>\n    </tr>\n    <tr>\n      <th>4619</th>\n      <td>Chicken Salad Bowl- [Fresh Tomato Salsa, [Faji...</td>\n      <td>11.25</td>\n    </tr>\n  </tbody>\n</table>\n<p>1034 rows × 2 columns</p>\n</div>"
     },
     "metadata": {},
     "execution_count": 56
    }
   ],
   "source": [
    "df_chipotle_10 = df_chipotle.copy()\n",
    "# Lo primero es filtrar los elementos que NO se desean para aligerar las consultas\n",
    "price10 = df_chipotle_10['real_item_price'] >= 10\n",
    "df_chipotle_10 = df_chipotle_10[price10]\n",
    "\n",
    "# Se compone el concepto de producto: item+toppings\n",
    "df_chipotle_10['product'] = df_chipotle_10['item_name'] + '- ' + df_chipotle_10['choice_description']\n",
    "\n",
    "# Se eliminan los elementos que ya no se necesitan\n",
    "df_chipotle_10.pop('item_name')\n",
    "df_chipotle_10.pop('choice_description')\n",
    "df_chipotle_10.pop('order_id')\n",
    "\n",
    "# Se genera una nueva tabla con las columnas deseadas \n",
    "df_chipotle_10 = df_chipotle_10[['product','real_item_price']]\n",
    "df_chipotle_10 = df_chipotle_10.rename({'product':'Product','real_item_price':'Price'}, inplace = False)\n",
    "df_chipotle_10.groupby('product').sum()\n",
    "df_chipotle_10.drop_duplicates()\n",
    "df_chipotle_10.to_csv('ProductPrice10+.csv', sep='|', index=False)\n",
    "df_chipotle_10\n",
    "\n",
    "\"\"\"\n",
    "No consigo eliminar los duplicados de la lista\n",
    "será por los ínidices??\n",
    "\"\"\""
   ]
  },
  {
   "cell_type": "code",
   "execution_count": null,
   "metadata": {},
   "outputs": [],
   "source": []
  },
  {
   "cell_type": "markdown",
   "metadata": {},
   "source": [
    "### Step 5. What is the price of each item? \n",
    "###### print a data frame with only two columns item_name and item_price"
   ]
  },
  {
   "cell_type": "code",
   "execution_count": 43,
   "metadata": {},
   "outputs": [
    {
     "output_type": "execute_result",
     "data": {
      "text/plain": [
       "                                  item_name item_price\n",
       "0              Chips and Fresh Tomato Salsa     $2.39 \n",
       "1                                      Izze     $3.39 \n",
       "2                          Nantucket Nectar     $3.39 \n",
       "3     Chips and Tomatillo-Green Chili Salsa     $2.39 \n",
       "4                              Chicken Bowl    $16.98 \n",
       "...                                     ...        ...\n",
       "4617                          Steak Burrito    $11.75 \n",
       "4618                          Steak Burrito    $11.75 \n",
       "4619                     Chicken Salad Bowl    $11.25 \n",
       "4620                     Chicken Salad Bowl     $8.75 \n",
       "4621                     Chicken Salad Bowl     $8.75 \n",
       "\n",
       "[4622 rows x 2 columns]"
      ],
      "text/html": "<div>\n<style scoped>\n    .dataframe tbody tr th:only-of-type {\n        vertical-align: middle;\n    }\n\n    .dataframe tbody tr th {\n        vertical-align: top;\n    }\n\n    .dataframe thead th {\n        text-align: right;\n    }\n</style>\n<table border=\"1\" class=\"dataframe\">\n  <thead>\n    <tr style=\"text-align: right;\">\n      <th></th>\n      <th>item_name</th>\n      <th>item_price</th>\n    </tr>\n  </thead>\n  <tbody>\n    <tr>\n      <th>0</th>\n      <td>Chips and Fresh Tomato Salsa</td>\n      <td>$2.39</td>\n    </tr>\n    <tr>\n      <th>1</th>\n      <td>Izze</td>\n      <td>$3.39</td>\n    </tr>\n    <tr>\n      <th>2</th>\n      <td>Nantucket Nectar</td>\n      <td>$3.39</td>\n    </tr>\n    <tr>\n      <th>3</th>\n      <td>Chips and Tomatillo-Green Chili Salsa</td>\n      <td>$2.39</td>\n    </tr>\n    <tr>\n      <th>4</th>\n      <td>Chicken Bowl</td>\n      <td>$16.98</td>\n    </tr>\n    <tr>\n      <th>...</th>\n      <td>...</td>\n      <td>...</td>\n    </tr>\n    <tr>\n      <th>4617</th>\n      <td>Steak Burrito</td>\n      <td>$11.75</td>\n    </tr>\n    <tr>\n      <th>4618</th>\n      <td>Steak Burrito</td>\n      <td>$11.75</td>\n    </tr>\n    <tr>\n      <th>4619</th>\n      <td>Chicken Salad Bowl</td>\n      <td>$11.25</td>\n    </tr>\n    <tr>\n      <th>4620</th>\n      <td>Chicken Salad Bowl</td>\n      <td>$8.75</td>\n    </tr>\n    <tr>\n      <th>4621</th>\n      <td>Chicken Salad Bowl</td>\n      <td>$8.75</td>\n    </tr>\n  </tbody>\n</table>\n<p>4622 rows × 2 columns</p>\n</div>"
     },
     "metadata": {},
     "execution_count": 43
    }
   ],
   "source": [
    "df_chipotle_item = df_chipotle.copy()\n",
    "#df_chipotle_item.drop(['order_id','quantity','item_name','item_price','price_no$'], axis= 1)\n",
    "df_chipotle_item.pop('order_id')\n",
    "df_chipotle_item.pop('price_no$')\n",
    "df_chipotle_item.pop('quantity')\n",
    "df_chipotle_item.pop('choice_description')\n",
    "df_chipotle_item.pop('real_item_price')\n",
    "df_chipotle_item"
   ]
  },
  {
   "cell_type": "markdown",
   "metadata": {},
   "source": [
    "### Step 6. Sort by the name of the item"
   ]
  },
  {
   "cell_type": "code",
   "execution_count": 44,
   "metadata": {},
   "outputs": [
    {
     "output_type": "execute_result",
     "data": {
      "text/plain": [
       "              item_name item_price\n",
       "3389  6 Pack Soft Drink    $12.98 \n",
       "341   6 Pack Soft Drink     $6.49 \n",
       "1849  6 Pack Soft Drink     $6.49 \n",
       "1860  6 Pack Soft Drink     $6.49 \n",
       "2713  6 Pack Soft Drink     $6.49 \n",
       "...                 ...        ...\n",
       "2384  Veggie Soft Tacos     $8.75 \n",
       "781   Veggie Soft Tacos     $8.75 \n",
       "2851  Veggie Soft Tacos     $8.49 \n",
       "1699  Veggie Soft Tacos    $11.25 \n",
       "1395  Veggie Soft Tacos     $8.49 \n",
       "\n",
       "[4622 rows x 2 columns]"
      ],
      "text/html": "<div>\n<style scoped>\n    .dataframe tbody tr th:only-of-type {\n        vertical-align: middle;\n    }\n\n    .dataframe tbody tr th {\n        vertical-align: top;\n    }\n\n    .dataframe thead th {\n        text-align: right;\n    }\n</style>\n<table border=\"1\" class=\"dataframe\">\n  <thead>\n    <tr style=\"text-align: right;\">\n      <th></th>\n      <th>item_name</th>\n      <th>item_price</th>\n    </tr>\n  </thead>\n  <tbody>\n    <tr>\n      <th>3389</th>\n      <td>6 Pack Soft Drink</td>\n      <td>$12.98</td>\n    </tr>\n    <tr>\n      <th>341</th>\n      <td>6 Pack Soft Drink</td>\n      <td>$6.49</td>\n    </tr>\n    <tr>\n      <th>1849</th>\n      <td>6 Pack Soft Drink</td>\n      <td>$6.49</td>\n    </tr>\n    <tr>\n      <th>1860</th>\n      <td>6 Pack Soft Drink</td>\n      <td>$6.49</td>\n    </tr>\n    <tr>\n      <th>2713</th>\n      <td>6 Pack Soft Drink</td>\n      <td>$6.49</td>\n    </tr>\n    <tr>\n      <th>...</th>\n      <td>...</td>\n      <td>...</td>\n    </tr>\n    <tr>\n      <th>2384</th>\n      <td>Veggie Soft Tacos</td>\n      <td>$8.75</td>\n    </tr>\n    <tr>\n      <th>781</th>\n      <td>Veggie Soft Tacos</td>\n      <td>$8.75</td>\n    </tr>\n    <tr>\n      <th>2851</th>\n      <td>Veggie Soft Tacos</td>\n      <td>$8.49</td>\n    </tr>\n    <tr>\n      <th>1699</th>\n      <td>Veggie Soft Tacos</td>\n      <td>$11.25</td>\n    </tr>\n    <tr>\n      <th>1395</th>\n      <td>Veggie Soft Tacos</td>\n      <td>$8.49</td>\n    </tr>\n  </tbody>\n</table>\n<p>4622 rows × 2 columns</p>\n</div>"
     },
     "metadata": {},
     "execution_count": 44
    }
   ],
   "source": [
    "df_chipotle_item.sort_values(by=['item_name'])"
   ]
  },
  {
   "cell_type": "markdown",
   "metadata": {},
   "source": [
    "### Step 7. What was the quantity of the most expensive item ordered? 2 ways"
   ]
  },
  {
   "cell_type": "markdown",
   "metadata": {},
   "source": [
    "V1"
   ]
  },
  {
   "cell_type": "code",
   "execution_count": 67,
   "metadata": {},
   "outputs": [
    {
     "output_type": "execute_result",
     "data": {
      "text/plain": [
       "      order_id  quantity                     item_name choice_description  \\\n",
       "3598      1443        15  Chips and Fresh Tomato Salsa                NaN   \n",
       "\n",
       "     item_price  price_no$  real_item_price  \n",
       "3598    $44.25       44.25             2.95  "
      ],
      "text/html": "<div>\n<style scoped>\n    .dataframe tbody tr th:only-of-type {\n        vertical-align: middle;\n    }\n\n    .dataframe tbody tr th {\n        vertical-align: top;\n    }\n\n    .dataframe thead th {\n        text-align: right;\n    }\n</style>\n<table border=\"1\" class=\"dataframe\">\n  <thead>\n    <tr style=\"text-align: right;\">\n      <th></th>\n      <th>order_id</th>\n      <th>quantity</th>\n      <th>item_name</th>\n      <th>choice_description</th>\n      <th>item_price</th>\n      <th>price_no$</th>\n      <th>real_item_price</th>\n    </tr>\n  </thead>\n  <tbody>\n    <tr>\n      <th>3598</th>\n      <td>1443</td>\n      <td>15</td>\n      <td>Chips and Fresh Tomato Salsa</td>\n      <td>NaN</td>\n      <td>$44.25</td>\n      <td>44.25</td>\n      <td>2.95</td>\n    </tr>\n  </tbody>\n</table>\n</div>"
     },
     "metadata": {},
     "execution_count": 67
    }
   ],
   "source": [
    "maxItemPrice = lambda x: x >= df_chipotle['price_no$'].max()\n",
    "df_chipotle_itemV1 = df_chipotle.copy()\n",
    "MaxPrice = df_chipotle_itemV1['price_no$'].apply(maxItemPrice)\n",
    "df_chipotle_itemV1 = df_chipotle_itemV1[MaxPrice]\n",
    "df_chipotle_itemV1\n",
    "\n",
    "\"\"\" EL SIGUIENTE CÓDIGO NO SALE 'LIMPIO' ASÍ QUE NO LO USO\n",
    "quantity = df_chipotle_itemV1['quantity']\n",
    "it_price = df_chipotle_itemV1['item_price']\n",
    "it_name = df_chipotle_itemV1['item_name']\n",
    "print(f'The quantity of the most expensive item ordered ({it_name}, for a total of {it_price}), was {quantity} units')\n",
    "\"\"\""
   ]
  },
  {
   "cell_type": "markdown",
   "metadata": {},
   "source": [
    "V2"
   ]
  },
  {
   "cell_type": "code",
   "execution_count": 74,
   "metadata": {},
   "outputs": [
    {
     "output_type": "execute_result",
     "data": {
      "text/plain": [
       "      quantity                     item_name item_price  price_no$\n",
       "3598        15  Chips and Fresh Tomato Salsa    $44.25       44.25"
      ],
      "text/html": "<div>\n<style scoped>\n    .dataframe tbody tr th:only-of-type {\n        vertical-align: middle;\n    }\n\n    .dataframe tbody tr th {\n        vertical-align: top;\n    }\n\n    .dataframe thead th {\n        text-align: right;\n    }\n</style>\n<table border=\"1\" class=\"dataframe\">\n  <thead>\n    <tr style=\"text-align: right;\">\n      <th></th>\n      <th>quantity</th>\n      <th>item_name</th>\n      <th>item_price</th>\n      <th>price_no$</th>\n    </tr>\n  </thead>\n  <tbody>\n    <tr>\n      <th>3598</th>\n      <td>15</td>\n      <td>Chips and Fresh Tomato Salsa</td>\n      <td>$44.25</td>\n      <td>44.25</td>\n    </tr>\n  </tbody>\n</table>\n</div>"
     },
     "metadata": {},
     "execution_count": 74
    }
   ],
   "source": [
    "df_chipotle_itemV2 = df_chipotle.copy()\n",
    "#df_chipotle_item.drop(['order_id','quantity','item_name','item_price','price_no$'], axis= 1)\n",
    "df_chipotle_itemV2.pop('order_id')\n",
    "df_chipotle_itemV2.pop('choice_description')\n",
    "df_chipotle_itemV2.pop('real_item_price')\n",
    "df_chipotle_itemV2.sort_values(by=['price_no$'], ascending=False).head(1)"
   ]
  },
  {
   "cell_type": "markdown",
   "metadata": {},
   "source": [
    "### Step 8. How many times was a Veggie Salad Bowl ordered?"
   ]
  },
  {
   "cell_type": "code",
   "execution_count": 102,
   "metadata": {},
   "outputs": [
    {
     "output_type": "execute_result",
     "data": {
      "text/plain": [
       "                   quantity\n",
       "item_name                  \n",
       "Veggie Salad Bowl        18"
      ],
      "text/html": "<div>\n<style scoped>\n    .dataframe tbody tr th:only-of-type {\n        vertical-align: middle;\n    }\n\n    .dataframe tbody tr th {\n        vertical-align: top;\n    }\n\n    .dataframe thead th {\n        text-align: right;\n    }\n</style>\n<table border=\"1\" class=\"dataframe\">\n  <thead>\n    <tr style=\"text-align: right;\">\n      <th></th>\n      <th>quantity</th>\n    </tr>\n    <tr>\n      <th>item_name</th>\n      <th></th>\n    </tr>\n  </thead>\n  <tbody>\n    <tr>\n      <th>Veggie Salad Bowl</th>\n      <td>18</td>\n    </tr>\n  </tbody>\n</table>\n</div>"
     },
     "metadata": {},
     "execution_count": 102
    }
   ],
   "source": [
    "df_chipotle_Vegg = df_chipotle.copy()\n",
    "\n",
    "# Eliminar columnas inútiles\n",
    "df_chipotle_Vegg.pop('order_id')\n",
    "df_chipotle_Vegg.pop('choice_description')\n",
    "df_chipotle_Vegg.pop('real_item_price')\n",
    "df_chipotle_Vegg.pop('item_price')\n",
    "df_chipotle_Vegg.pop('price_no$')\n",
    "\n",
    "# Eliminar filas inútiles\n",
    "Vegg_Bowl = df_chipotle_Vegg['item_name'] == 'Veggie Salad Bowl'\n",
    "df_chipotle_Vegg = df_chipotle_Vegg[Vegg_Bowl]\n",
    "\n",
    "# Agrupar datos\n",
    "df_chipotle_Vegg = df_chipotle_Vegg.groupby(['item_name']).sum()\n",
    "df_chipotle_Vegg"
   ]
  },
  {
   "cell_type": "markdown",
   "metadata": {},
   "source": [
    "### Step 9. How many times did someone order more than one Canned Soda?"
   ]
  },
  {
   "cell_type": "code",
   "execution_count": 104,
   "metadata": {},
   "outputs": [
    {
     "output_type": "execute_result",
     "data": {
      "text/plain": [
       "quantity     20\n",
       "item_name    20\n",
       "dtype: int64"
      ]
     },
     "metadata": {},
     "execution_count": 104
    }
   ],
   "source": [
    "df_chipotle_Orders = df_chipotle.copy()\n",
    "\n",
    "# Eliminar columnas inútiles\n",
    "df_chipotle_Orders.pop('order_id')\n",
    "df_chipotle_Orders.pop('choice_description')\n",
    "df_chipotle_Orders.pop('real_item_price')\n",
    "df_chipotle_Orders.pop('item_price')\n",
    "df_chipotle_Orders.pop('price_no$')\n",
    "\n",
    "# Eliminar filas inútiles\n",
    "# Primero las que no son 'Canned Soda'\n",
    "canned_soda = df_chipotle_Orders['item_name'] == 'Canned Soda'\n",
    "df_chipotle_Orders = df_chipotle_Orders[canned_soda]\n",
    "\n",
    "# Segundo las que no pidieron mas de un 'Canned Soda'\n",
    "quan_1 = df_chipotle_Orders['quantity'] > 1\n",
    "df_chipotle_Orders = df_chipotle_Orders[quan_1]\n",
    "df_chipotle_Orders.count()\n",
    "\n"
   ]
  }
 ],
 "metadata": {
  "anaconda-cloud": {},
  "kernelspec": {
   "name": "python374jvsc74a57bd05e19f5f9047d686051a4ffff3c57b5ca676552393775b324a4200bbd1a7317fa",
   "display_name": "Python 3.7.4 64-bit"
  },
  "language_info": {
   "codemirror_mode": {
    "name": "ipython",
    "version": 3
   },
   "file_extension": ".py",
   "mimetype": "text/x-python",
   "name": "python",
   "nbconvert_exporter": "python",
   "pygments_lexer": "ipython3",
   "version": "3.7.4"
  },
  "metadata": {
   "interpreter": {
    "hash": "5e19f5f9047d686051a4ffff3c57b5ca676552393775b324a4200bbd1a7317fa"
   }
  }
 },
 "nbformat": 4,
 "nbformat_minor": 4
}