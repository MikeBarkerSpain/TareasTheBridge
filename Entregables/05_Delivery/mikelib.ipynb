{
 "metadata": {
  "language_info": {
   "codemirror_mode": {
    "name": "ipython",
    "version": 3
   },
   "file_extension": ".py",
   "mimetype": "text/x-python",
   "name": "python",
   "nbconvert_exporter": "python",
   "pygments_lexer": "ipython3",
   "version": 3
  },
  "orig_nbformat": 2
 },
 "nbformat": 4,
 "nbformat_minor": 2,
 "cells": [
  {
   "cell_type": "code",
   "execution_count": null,
   "metadata": {},
   "outputs": [],
   "source": [
    "from skimage.io import imread\n",
    "import matplotlib.pyplot as plt\n",
    "\n",
    "import os,sys,inspect\n",
    "\n",
    "import requests     #Traer el fichero de internet\n",
    "import json         # Trabaja con ficheros json\n",
    "import pandas as pd # Librería para el data mining y data wrangling\n",
    "import numpy as np\n",
    "\n",
    "\n",
    "\n",
    "imagen = imread(\"./img/python.jpg\")\n",
    "#currentdir = os.path.dirname(os.path.abspath(inspect.getfile(inspect.currentframe())))  --> otra forma de encontrar el directorio del archivo, por favor, explicar diferencia.\n",
    "currentdir = os.getcwd()\n",
    "parentdir = os.path.dirname(currentdir)\n",
    "sys.path.insert(0,parentdir)\n",
    "\n",
    "def get_root_path(n):\n",
    "    path = os.getcwd() # para notebook ||| __file__ --> para .py\n",
    "    for i in range(n):\n",
    "        path = os.path.dirname(path)\n",
    "    print(path)\n",
    "    sys.path.append(path)\n",
    "\n",
    "# n --> es el número de veces que se tiene que hacer os.path.dirname \n",
    "# si en .ipynb notebook es 5 entonces en .py usando __file__ es 6. \n",
    "get_root_path(n=5)\n",
    "\n",
    "# Se importan las librerías de clases desde un directorio superior\n",
    "import objects.human as ohu\n",
    "import objects.ork as oo"
   ]
  }
 ]
}