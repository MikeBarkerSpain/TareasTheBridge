{
 "cells": [
  {
   "cell_type": "code",
   "execution_count": 1,
   "metadata": {},
   "outputs": [],
   "source": [
    "import requests\n",
    "from bs4 import BeautifulSoup"
   ]
  },
  {
   "cell_type": "markdown",
   "metadata": {},
   "source": [
    "------------------------------------------------------------------------------------"
   ]
  },
  {
   "cell_type": "code",
   "execution_count": 2,
   "metadata": {},
   "outputs": [],
   "source": [
    "#https://j2logo.com/python/web-scraping-con-python-guia-inicio-beautifulsoup/\n",
    "#https://www.crummy.com/software/BeautifulSoup/bs4/doc/\n",
    "\n",
    "url = \"https://rsl00.epimg.net/elecciones/2019/autonomicas/12/28/09.xml2\"\n",
    "r = requests.get(url)\n",
    "soup = BeautifulSoup(r.text, 'lxml')"
   ]
  },
  {
   "cell_type": "code",
   "execution_count": 38,
   "metadata": {
    "scrolled": false
   },
   "outputs": [
    {
     "name": "stdout",
     "output_type": "stream",
     "text": [
      "<?xml version=\"1.0\" encoding=\"UTF-8\" ?>\n",
      "<html>\n",
      " <body>\n",
      "  <escrutinio_sitio>\n",
      "   <porciento_escrutado>\n",
      "    100\n",
      "   </porciento_escrutado>\n",
      "   <nombre_sitio>\n",
      "    Algete\n",
      "   </nombre_sitio>\n",
      "   <convocatoria>\n",
      "    2019\n",
      "   </convocatoria>\n",
      "   <ts>\n",
      "    0\n",
      "   </ts>\n",
      "   <tipo_sitio>\n",
      "    5\n",
      "   </tipo_sitio>\n",
      "   <votos>\n",
      "    <contabilizados>\n",
      "     <cantidad>\n",
      "      9817\n",
      "     </cantidad>\n",
      "     <porcentaje>\n",
      "      67.63\n",
      "     </porcentaje>\n",
      "    </contabilizados>\n",
      "    <abstenciones>\n",
      "     <cantidad>\n",
      "      4698\n",
      "     </cantidad>\n",
      "     <porcentaje>\n",
      "      32.37\n",
      "     </porcentaje>\n",
      "    </abstenciones>\n",
      "    <nulos>\n",
      "     <cantidad>\n",
      "      34\n",
      "     </cantidad>\n",
      "     <porcentaje>\n",
      "      0.35\n",
      "     </porcentaje>\n",
      "    </nulos>\n",
      "    <blancos>\n",
      "     <cantidad>\n",
      "      48\n",
      "     </cantidad>\n",
      "     <porcentaje>\n",
      "      0.49\n",
      "     </porcentaje>\n",
      "    </blancos>\n",
      "   </votos>\n",
      "   <resultados>\n",
      "    <numero_partidos>\n",
      "     15\n",
      "    </numero_partidos>\n",
      "    <partido>\n",
      "     <id_partido>\n",
      "      86\n",
      "     </id_partido>\n",
      "     <nombre>\n",
      "      PSOE\n",
      "     </nombre>\n",
      "     <votos_numero>\n",
      "      2415\n",
      "     </votos_numero>\n",
      "     <votos_porciento>\n",
      "      24.69\n",
      "     </votos_porciento>\n",
      "    </partido>\n",
      "    <partido>\n",
      "     <id_partido>\n",
      "      18\n",
      "     </id_partido>\n",
      "     <nombre>\n",
      "      Cs\n",
      "     </nombre>\n",
      "     <votos_numero>\n",
      "      2398\n",
      "     </votos_numero>\n",
      "     <votos_porciento>\n",
      "      24.51\n",
      "     </votos_porciento>\n",
      "    </partido>\n",
      "    <partido>\n",
      "     <id_partido>\n",
      "      78\n",
      "     </id_partido>\n",
      "     <nombre>\n",
      "      PP\n",
      "     </nombre>\n",
      "     <votos_numero>\n",
      "      2073\n",
      "     </votos_numero>\n",
      "     <votos_porciento>\n",
      "      21.19\n",
      "     </votos_porciento>\n",
      "    </partido>\n",
      "    <partido>\n",
      "     <id_partido>\n",
      "      104\n",
      "     </id_partido>\n",
      "     <nombre>\n",
      "      VOX\n",
      "     </nombre>\n",
      "     <votos_numero>\n",
      "      1184\n",
      "     </votos_numero>\n",
      "     <votos_porciento>\n",
      "      12.1\n",
      "     </votos_porciento>\n",
      "    </partido>\n",
      "    <partido>\n",
      "     <id_partido>\n",
      "      41\n",
      "     </id_partido>\n",
      "     <nombre>\n",
      "      MÁS MADRID\n",
      "     </nombre>\n",
      "     <votos_numero>\n",
      "      1043\n",
      "     </votos_numero>\n",
      "     <votos_porciento>\n",
      "      10.66\n",
      "     </votos_porciento>\n",
      "    </partido>\n",
      "    <partido>\n",
      "     <id_partido>\n",
      "      74\n",
      "     </id_partido>\n",
      "     <nombre>\n",
      "      PODEMOS-IU\n",
      "     </nombre>\n",
      "     <votos_numero>\n",
      "      441\n",
      "     </votos_numero>\n",
      "     <votos_porciento>\n",
      "      4.51\n",
      "     </votos_porciento>\n",
      "    </partido>\n",
      "    <partido>\n",
      "     <id_partido>\n",
      "      54\n",
      "     </id_partido>\n",
      "     <nombre>\n",
      "      PACMA\n",
      "     </nombre>\n",
      "     <votos_numero>\n",
      "      120\n",
      "     </votos_numero>\n",
      "     <votos_porciento>\n",
      "      1.23\n",
      "     </votos_porciento>\n",
      "    </partido>\n",
      "    <partido>\n",
      "     <id_partido>\n",
      "      102\n",
      "     </id_partido>\n",
      "     <nombre>\n",
      "      UPYD\n",
      "     </nombre>\n",
      "     <votos_numero>\n",
      "      16\n",
      "     </votos_numero>\n",
      "     <votos_porciento>\n",
      "      0.16\n",
      "     </votos_porciento>\n",
      "    </partido>\n",
      "    <partido>\n",
      "     <id_partido>\n",
      "      27\n",
      "     </id_partido>\n",
      "     <nombre>\n",
      "      FE de las JONS\n",
      "     </nombre>\n",
      "     <votos_numero>\n",
      "      11\n",
      "     </votos_numero>\n",
      "     <votos_porciento>\n",
      "      0.11\n",
      "     </votos_porciento>\n",
      "    </partido>\n",
      "    <partido>\n",
      "     <id_partido>\n",
      "      62\n",
      "     </id_partido>\n",
      "     <nombre>\n",
      "      PCTE\n",
      "     </nombre>\n",
      "     <votos_numero>\n",
      "      10\n",
      "     </votos_numero>\n",
      "     <votos_porciento>\n",
      "      0.1\n",
      "     </votos_porciento>\n",
      "    </partido>\n",
      "    <partido>\n",
      "     <id_partido>\n",
      "      64\n",
      "     </id_partido>\n",
      "     <nombre>\n",
      "      P-LIB\n",
      "     </nombre>\n",
      "     <votos_numero>\n",
      "      8\n",
      "     </votos_numero>\n",
      "     <votos_porciento>\n",
      "      0.08\n",
      "     </votos_porciento>\n",
      "    </partido>\n",
      "    <partido>\n",
      "     <id_partido>\n",
      "      87\n",
      "     </id_partido>\n",
      "     <nombre>\n",
      "      PUM+J\n",
      "     </nombre>\n",
      "     <votos_numero>\n",
      "      7\n",
      "     </votos_numero>\n",
      "     <votos_porciento>\n",
      "      0.07\n",
      "     </votos_porciento>\n",
      "    </partido>\n",
      "    <partido>\n",
      "     <id_partido>\n",
      "      63\n",
      "     </id_partido>\n",
      "     <nombre>\n",
      "      PH\n",
      "     </nombre>\n",
      "     <votos_numero>\n",
      "      6\n",
      "     </votos_numero>\n",
      "     <votos_porciento>\n",
      "      0.06\n",
      "     </votos_porciento>\n",
      "    </partido>\n",
      "    <partido>\n",
      "     <id_partido>\n",
      "      59\n",
      "     </id_partido>\n",
      "     <nombre>\n",
      "      PCAS-TC\n",
      "     </nombre>\n",
      "     <votos_numero>\n",
      "      2\n",
      "     </votos_numero>\n",
      "     <votos_porciento>\n",
      "      0.02\n",
      "     </votos_porciento>\n",
      "    </partido>\n",
      "    <partido>\n",
      "     <id_partido>\n",
      "      100\n",
      "     </id_partido>\n",
      "     <nombre>\n",
      "      ULEG\n",
      "     </nombre>\n",
      "     <votos_numero>\n",
      "      1\n",
      "     </votos_numero>\n",
      "     <votos_porciento>\n",
      "      0.01\n",
      "     </votos_porciento>\n",
      "    </partido>\n",
      "   </resultados>\n",
      "  </escrutinio_sitio>\n",
      " </body>\n",
      "</html>\n"
     ]
    }
   ],
   "source": [
    "print(soup.prettify())"
   ]
  },
  {
   "cell_type": "code",
   "execution_count": 33,
   "metadata": {},
   "outputs": [
    {
     "data": {
      "text/plain": [
       "<porciento_escrutado>100</porciento_escrutado>"
      ]
     },
     "execution_count": 33,
     "metadata": {},
     "output_type": "execute_result"
    }
   ],
   "source": [
    "porciento = soup.html.body.escrutinio_sitio.porciento_escrutado\n",
    "porciento"
   ]
  },
  {
   "cell_type": "code",
   "execution_count": 39,
   "metadata": {},
   "outputs": [
    {
     "data": {
      "text/plain": [
       "<cantidad>9817</cantidad>"
      ]
     },
     "execution_count": 39,
     "metadata": {},
     "output_type": "execute_result"
    }
   ],
   "source": [
    "soup.find_all()[10]"
   ]
  },
  {
   "cell_type": "code",
   "execution_count": 40,
   "metadata": {},
   "outputs": [
    {
     "data": {
      "text/plain": [
       "'9817'"
      ]
     },
     "execution_count": 40,
     "metadata": {},
     "output_type": "execute_result"
    }
   ],
   "source": [
    "soup.find_all()[10].text"
   ]
  },
  {
   "cell_type": "code",
   "execution_count": 41,
   "metadata": {},
   "outputs": [
    {
     "data": {
      "text/plain": [
       "'cantidad'"
      ]
     },
     "execution_count": 41,
     "metadata": {},
     "output_type": "execute_result"
    }
   ],
   "source": [
    "soup.find_all()[10].name"
   ]
  },
  {
   "cell_type": "code",
   "execution_count": 43,
   "metadata": {},
   "outputs": [
    {
     "name": "stdout",
     "output_type": "stream",
     "text": [
      "67.63\n",
      "32.37\n",
      "0.35\n",
      "0.49\n"
     ]
    }
   ],
   "source": [
    "enlaces = soup.find_all('porcentaje')\n",
    "for enlace in enlaces:\n",
    "    print(enlace.text)"
   ]
  },
  {
   "cell_type": "code",
   "execution_count": 6,
   "metadata": {},
   "outputs": [
    {
     "name": "stdout",
     "output_type": "stream",
     "text": [
      "100Algete201905981767.63469832.37340.35480.491586PSOE241524.6918Cs239824.5178PP207321.19104VOX118412.141MÁS MADRID104310.6674PODEMOS-IU4414.5154PACMA1201.23102UPYD160.1627FE de las JONS110.1162PCTE100.164P-LIB80.0887PUM+J70.0763PH60.0659PCAS-TC20.02100ULEG10.01\n"
     ]
    }
   ],
   "source": [
    "print(soup.get_text())"
   ]
  },
  {
   "cell_type": "code",
   "execution_count": 19,
   "metadata": {},
   "outputs": [
    {
     "name": "stdout",
     "output_type": "stream",
     "text": [
      "['html', 'body', 'escrutinio_sitio', 'porciento_escrutado', 'nombre_sitio', 'convocatoria', 'ts', 'tipo_sitio', 'votos', 'contabilizados', 'cantidad', 'porcentaje', 'abstenciones', 'cantidad', 'porcentaje', 'nulos', 'cantidad', 'porcentaje', 'blancos', 'cantidad', 'porcentaje', 'resultados', 'numero_partidos', 'partido', 'id_partido', 'nombre', 'votos_numero', 'votos_porciento', 'partido', 'id_partido', 'nombre', 'votos_numero', 'votos_porciento', 'partido', 'id_partido', 'nombre', 'votos_numero', 'votos_porciento', 'partido', 'id_partido', 'nombre', 'votos_numero', 'votos_porciento', 'partido', 'id_partido', 'nombre', 'votos_numero', 'votos_porciento', 'partido', 'id_partido', 'nombre', 'votos_numero', 'votos_porciento', 'partido', 'id_partido', 'nombre', 'votos_numero', 'votos_porciento', 'partido', 'id_partido', 'nombre', 'votos_numero', 'votos_porciento', 'partido', 'id_partido', 'nombre', 'votos_numero', 'votos_porciento', 'partido', 'id_partido', 'nombre', 'votos_numero', 'votos_porciento', 'partido', 'id_partido', 'nombre', 'votos_numero', 'votos_porciento', 'partido', 'id_partido', 'nombre', 'votos_numero', 'votos_porciento', 'partido', 'id_partido', 'nombre', 'votos_numero', 'votos_porciento', 'partido', 'id_partido', 'nombre', 'votos_numero', 'votos_porciento', 'partido', 'id_partido', 'nombre', 'votos_numero', 'votos_porciento']\n"
     ]
    }
   ],
   "source": [
    "print([tag.name for tag in soup.find_all()])"
   ]
  },
  {
   "cell_type": "code",
   "execution_count": 28,
   "metadata": {},
   "outputs": [
    {
     "name": "stdout",
     "output_type": "stream",
     "text": [
      "[None, None, None, '100', 'Algete', '2019', '0', '5', None, None, '9817', '67.63', None, '4698', '32.37', None, '34', '0.35', None, '48', '0.49', None, '15', None, '86', 'PSOE', '2415', '24.69', None, '18', 'Cs', '2398', '24.51', None, '78', 'PP', '2073', '21.19', None, '104', 'VOX', '1184', '12.1', None, '41', 'MÁS MADRID', '1043', '10.66', None, '74', 'PODEMOS-IU', '441', '4.51', None, '54', 'PACMA', '120', '1.23', None, '102', 'UPYD', '16', '0.16', None, '27', 'FE de las JONS', '11', '0.11', None, '62', 'PCTE', '10', '0.1', None, '64', 'P-LIB', '8', '0.08', None, '87', 'PUM+J', '7', '0.07', None, '63', 'PH', '6', '0.06', None, '59', 'PCAS-TC', '2', '0.02', None, '100', 'ULEG', '1', '0.01']\n"
     ]
    }
   ],
   "source": [
    "print([tag.string for tag in soup.find_all()])"
   ]
  },
  {
   "cell_type": "code",
   "execution_count": null,
   "metadata": {},
   "outputs": [],
   "source": []
  }
 ],
 "metadata": {
  "kernelspec": {
   "display_name": "Python 3",
   "language": "python",
   "name": "python3"
  },
  "language_info": {
   "codemirror_mode": {
    "name": "ipython",
    "version": 3
   },
   "file_extension": ".py",
   "mimetype": "text/x-python",
   "name": "python",
   "nbconvert_exporter": "python",
   "pygments_lexer": "ipython3",
   "version": "3.8.3"
  }
 },
 "nbformat": 4,
 "nbformat_minor": 4
}
