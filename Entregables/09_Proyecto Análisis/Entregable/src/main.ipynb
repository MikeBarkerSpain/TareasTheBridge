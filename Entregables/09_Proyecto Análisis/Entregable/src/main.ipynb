{
 "metadata": {
  "language_info": {
   "codemirror_mode": {
    "name": "ipython",
    "version": 3
   },
   "file_extension": ".py",
   "mimetype": "text/x-python",
   "name": "python",
   "nbconvert_exporter": "python",
   "pygments_lexer": "ipython3",
   "version": "3.7.4"
  },
  "orig_nbformat": 2,
  "kernelspec": {
   "name": "python374jvsc74a57bd093959734c7fb7f2dc7760fccbd71d0356ba421f29bb59ffa607c9608db7abb2a",
   "display_name": "Python 3.7.4 64-bit"
  },
  "metadata": {
   "interpreter": {
    "hash": "93959734c7fb7f2dc7760fccbd71d0356ba421f29bb59ffa607c9608db7abb2a"
   }
  }
 },
 "nbformat": 4,
 "nbformat_minor": 2,
 "cells": [
  {
   "cell_type": "code",
   "execution_count": 1,
   "metadata": {},
   "outputs": [],
   "source": [
    "# Importación de librerías standar de python\n",
    "import pandas as pd\n",
    "import html\n",
    "import numpy as np\n",
    "\n",
    "# importación de librerías propias\n",
    "import utils.folders_tb as fold \n",
    "import utils.mining_data_tb as md \n"
   ]
  },
  {
   "cell_type": "code",
   "execution_count": 2,
   "metadata": {},
   "outputs": [
    {
     "output_type": "stream",
     "name": "stderr",
     "text": [
      "C:\\Users\\barke\\AppData\\Roaming\\Python\\Python37\\site-packages\\IPython\\core\\interactiveshell.py:3361: DtypeWarning: Columns (42,44) have mixed types.Specify dtype option on import or set low_memory=False.\n  if (await self.run_code(code, result,  async_=asy)):\n"
     ]
    },
    {
     "output_type": "execute_result",
     "data": {
      "text/plain": [
       "     id_barrio Distritos                      Barrios  Locales  Locscenso  \\\n",
       "0           11    Centro                      Palacio      671   0.038510   \n",
       "1           12    Centro                  Embajadores      600   0.019646   \n",
       "2           13    Centro                       Cortes      519   0.069786   \n",
       "3           14    Centro                     Justicia      567   0.044432   \n",
       "4           15    Centro                  Universidad      721   0.030783   \n",
       "..         ...       ...                          ...      ...        ...   \n",
       "126        211   Barajas             Alameda de Osuna       74   0.004911   \n",
       "127        212   Barajas                   Aeropuerto      131   0.106331   \n",
       "128        213   Barajas   Casco Histórico de Barajas      102   0.019148   \n",
       "129        214   Barajas                        Timón       66   0.007190   \n",
       "130        215   Barajas                   Corralejos      112   0.021321   \n",
       "\n",
       "     Censo-2021  Censo-2019  D-Censo  Abstención-2021  Abstención-2019  ...  \\\n",
       "0         17424       17453      -29             4160             5186  ...   \n",
       "1         30540       30596      -56             8812            10449  ...   \n",
       "2          7437        7518      -81             1795             2352  ...   \n",
       "3         12761       12511      250             3283             4058  ...   \n",
       "4         23422       23188      234             6200             7449  ...   \n",
       "..          ...         ...      ...              ...              ...  ...   \n",
       "126       15067       14990       77             2296             3204  ...   \n",
       "127        1232        1231        1              499              573  ...   \n",
       "128        5327        5425      -98             1469             2001  ...   \n",
       "129        9179        8653      526             2025             2428  ...   \n",
       "130        5253        5151      102              839             1156  ...   \n",
       "\n",
       "     PODEMOS-IU-2021  PODEMOS-IU-2019  D-PODEMOS-IU     VarPiU  VarPiUcenso  \\\n",
       "0               1521              827           694  83.917775     3.983012   \n",
       "1               3835             2335          1500  64.239829     4.911591   \n",
       "2                494              357           137  38.375350     1.842141   \n",
       "3                665              358           307  85.754190     2.405768   \n",
       "4               1911             1024           887  86.621094     3.787038   \n",
       "..               ...              ...           ...        ...          ...   \n",
       "126              626              424           202  47.641509     1.340678   \n",
       "127               54               37            17  45.945946     1.379870   \n",
       "128              275              192            83  43.229167     1.558100   \n",
       "129              433              292           141  48.287671     1.536115   \n",
       "130              116               98            18  18.367347     0.342661   \n",
       "\n",
       "     Cs-2021  Cs-2019  D-Cs      VarCs  VarCscenso  \n",
       "0        435     1696 -1261 -74.351415   -7.237144  \n",
       "1        575     2145 -1570 -73.193473   -5.140799  \n",
       "2        205      791  -586 -74.083439   -7.879521  \n",
       "3        414     1575 -1161 -73.714286   -9.098033  \n",
       "4        634     2390 -1756 -73.472803   -7.497225  \n",
       "..       ...      ...   ...        ...         ...  \n",
       "126      658     2845 -2187 -76.871705  -14.515166  \n",
       "127       16      127  -111 -87.401575   -9.009740  \n",
       "128      103      645  -542 -84.031008  -10.174582  \n",
       "129      358     1597 -1239 -77.582968  -13.498202  \n",
       "130      272     1336 -1064 -79.640719  -20.255092  \n",
       "\n",
       "[131 rows x 47 columns]"
      ],
      "text/html": "<div>\n<style scoped>\n    .dataframe tbody tr th:only-of-type {\n        vertical-align: middle;\n    }\n\n    .dataframe tbody tr th {\n        vertical-align: top;\n    }\n\n    .dataframe thead th {\n        text-align: right;\n    }\n</style>\n<table border=\"1\" class=\"dataframe\">\n  <thead>\n    <tr style=\"text-align: right;\">\n      <th></th>\n      <th>id_barrio</th>\n      <th>Distritos</th>\n      <th>Barrios</th>\n      <th>Locales</th>\n      <th>Locscenso</th>\n      <th>Censo-2021</th>\n      <th>Censo-2019</th>\n      <th>D-Censo</th>\n      <th>Abstención-2021</th>\n      <th>Abstención-2019</th>\n      <th>...</th>\n      <th>PODEMOS-IU-2021</th>\n      <th>PODEMOS-IU-2019</th>\n      <th>D-PODEMOS-IU</th>\n      <th>VarPiU</th>\n      <th>VarPiUcenso</th>\n      <th>Cs-2021</th>\n      <th>Cs-2019</th>\n      <th>D-Cs</th>\n      <th>VarCs</th>\n      <th>VarCscenso</th>\n    </tr>\n  </thead>\n  <tbody>\n    <tr>\n      <th>0</th>\n      <td>11</td>\n      <td>Centro</td>\n      <td>Palacio</td>\n      <td>671</td>\n      <td>0.038510</td>\n      <td>17424</td>\n      <td>17453</td>\n      <td>-29</td>\n      <td>4160</td>\n      <td>5186</td>\n      <td>...</td>\n      <td>1521</td>\n      <td>827</td>\n      <td>694</td>\n      <td>83.917775</td>\n      <td>3.983012</td>\n      <td>435</td>\n      <td>1696</td>\n      <td>-1261</td>\n      <td>-74.351415</td>\n      <td>-7.237144</td>\n    </tr>\n    <tr>\n      <th>1</th>\n      <td>12</td>\n      <td>Centro</td>\n      <td>Embajadores</td>\n      <td>600</td>\n      <td>0.019646</td>\n      <td>30540</td>\n      <td>30596</td>\n      <td>-56</td>\n      <td>8812</td>\n      <td>10449</td>\n      <td>...</td>\n      <td>3835</td>\n      <td>2335</td>\n      <td>1500</td>\n      <td>64.239829</td>\n      <td>4.911591</td>\n      <td>575</td>\n      <td>2145</td>\n      <td>-1570</td>\n      <td>-73.193473</td>\n      <td>-5.140799</td>\n    </tr>\n    <tr>\n      <th>2</th>\n      <td>13</td>\n      <td>Centro</td>\n      <td>Cortes</td>\n      <td>519</td>\n      <td>0.069786</td>\n      <td>7437</td>\n      <td>7518</td>\n      <td>-81</td>\n      <td>1795</td>\n      <td>2352</td>\n      <td>...</td>\n      <td>494</td>\n      <td>357</td>\n      <td>137</td>\n      <td>38.375350</td>\n      <td>1.842141</td>\n      <td>205</td>\n      <td>791</td>\n      <td>-586</td>\n      <td>-74.083439</td>\n      <td>-7.879521</td>\n    </tr>\n    <tr>\n      <th>3</th>\n      <td>14</td>\n      <td>Centro</td>\n      <td>Justicia</td>\n      <td>567</td>\n      <td>0.044432</td>\n      <td>12761</td>\n      <td>12511</td>\n      <td>250</td>\n      <td>3283</td>\n      <td>4058</td>\n      <td>...</td>\n      <td>665</td>\n      <td>358</td>\n      <td>307</td>\n      <td>85.754190</td>\n      <td>2.405768</td>\n      <td>414</td>\n      <td>1575</td>\n      <td>-1161</td>\n      <td>-73.714286</td>\n      <td>-9.098033</td>\n    </tr>\n    <tr>\n      <th>4</th>\n      <td>15</td>\n      <td>Centro</td>\n      <td>Universidad</td>\n      <td>721</td>\n      <td>0.030783</td>\n      <td>23422</td>\n      <td>23188</td>\n      <td>234</td>\n      <td>6200</td>\n      <td>7449</td>\n      <td>...</td>\n      <td>1911</td>\n      <td>1024</td>\n      <td>887</td>\n      <td>86.621094</td>\n      <td>3.787038</td>\n      <td>634</td>\n      <td>2390</td>\n      <td>-1756</td>\n      <td>-73.472803</td>\n      <td>-7.497225</td>\n    </tr>\n    <tr>\n      <th>...</th>\n      <td>...</td>\n      <td>...</td>\n      <td>...</td>\n      <td>...</td>\n      <td>...</td>\n      <td>...</td>\n      <td>...</td>\n      <td>...</td>\n      <td>...</td>\n      <td>...</td>\n      <td>...</td>\n      <td>...</td>\n      <td>...</td>\n      <td>...</td>\n      <td>...</td>\n      <td>...</td>\n      <td>...</td>\n      <td>...</td>\n      <td>...</td>\n      <td>...</td>\n      <td>...</td>\n    </tr>\n    <tr>\n      <th>126</th>\n      <td>211</td>\n      <td>Barajas</td>\n      <td>Alameda de Osuna</td>\n      <td>74</td>\n      <td>0.004911</td>\n      <td>15067</td>\n      <td>14990</td>\n      <td>77</td>\n      <td>2296</td>\n      <td>3204</td>\n      <td>...</td>\n      <td>626</td>\n      <td>424</td>\n      <td>202</td>\n      <td>47.641509</td>\n      <td>1.340678</td>\n      <td>658</td>\n      <td>2845</td>\n      <td>-2187</td>\n      <td>-76.871705</td>\n      <td>-14.515166</td>\n    </tr>\n    <tr>\n      <th>127</th>\n      <td>212</td>\n      <td>Barajas</td>\n      <td>Aeropuerto</td>\n      <td>131</td>\n      <td>0.106331</td>\n      <td>1232</td>\n      <td>1231</td>\n      <td>1</td>\n      <td>499</td>\n      <td>573</td>\n      <td>...</td>\n      <td>54</td>\n      <td>37</td>\n      <td>17</td>\n      <td>45.945946</td>\n      <td>1.379870</td>\n      <td>16</td>\n      <td>127</td>\n      <td>-111</td>\n      <td>-87.401575</td>\n      <td>-9.009740</td>\n    </tr>\n    <tr>\n      <th>128</th>\n      <td>213</td>\n      <td>Barajas</td>\n      <td>Casco Histórico de Barajas</td>\n      <td>102</td>\n      <td>0.019148</td>\n      <td>5327</td>\n      <td>5425</td>\n      <td>-98</td>\n      <td>1469</td>\n      <td>2001</td>\n      <td>...</td>\n      <td>275</td>\n      <td>192</td>\n      <td>83</td>\n      <td>43.229167</td>\n      <td>1.558100</td>\n      <td>103</td>\n      <td>645</td>\n      <td>-542</td>\n      <td>-84.031008</td>\n      <td>-10.174582</td>\n    </tr>\n    <tr>\n      <th>129</th>\n      <td>214</td>\n      <td>Barajas</td>\n      <td>Timón</td>\n      <td>66</td>\n      <td>0.007190</td>\n      <td>9179</td>\n      <td>8653</td>\n      <td>526</td>\n      <td>2025</td>\n      <td>2428</td>\n      <td>...</td>\n      <td>433</td>\n      <td>292</td>\n      <td>141</td>\n      <td>48.287671</td>\n      <td>1.536115</td>\n      <td>358</td>\n      <td>1597</td>\n      <td>-1239</td>\n      <td>-77.582968</td>\n      <td>-13.498202</td>\n    </tr>\n    <tr>\n      <th>130</th>\n      <td>215</td>\n      <td>Barajas</td>\n      <td>Corralejos</td>\n      <td>112</td>\n      <td>0.021321</td>\n      <td>5253</td>\n      <td>5151</td>\n      <td>102</td>\n      <td>839</td>\n      <td>1156</td>\n      <td>...</td>\n      <td>116</td>\n      <td>98</td>\n      <td>18</td>\n      <td>18.367347</td>\n      <td>0.342661</td>\n      <td>272</td>\n      <td>1336</td>\n      <td>-1064</td>\n      <td>-79.640719</td>\n      <td>-20.255092</td>\n    </tr>\n  </tbody>\n</table>\n<p>131 rows × 47 columns</p>\n</div>"
     },
     "metadata": {},
     "execution_count": 2
    }
   ],
   "source": [
    "\n",
    "mad_votos = fold.read_Votos_Mad()\n",
    "mad_locales = fold.read_Loc_Mad()\n",
    "df_mad = md.filter_mad_votos (mad_votos, mad_locales)\n",
    "df_mad"
   ]
  },
  {
   "cell_type": "code",
   "execution_count": null,
   "metadata": {},
   "outputs": [],
   "source": []
  }
 ]
}