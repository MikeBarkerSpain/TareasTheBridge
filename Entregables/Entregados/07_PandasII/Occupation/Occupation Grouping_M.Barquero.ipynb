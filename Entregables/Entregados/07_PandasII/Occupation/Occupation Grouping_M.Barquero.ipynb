{
 "cells": [
  {
   "cell_type": "markdown",
   "metadata": {},
   "source": [
    "# 04 - Grouping"
   ]
  },
  {
   "cell_type": "markdown",
   "metadata": {},
   "source": [
    "### Step 1. Import the necessary libraries"
   ]
  },
  {
   "cell_type": "code",
   "execution_count": 1,
   "metadata": {},
   "outputs": [],
   "source": [
    "import pandas as pd"
   ]
  },
  {
   "cell_type": "markdown",
   "metadata": {},
   "source": [
    "### Step 2. Import the dataset from this [address](https://raw.githubusercontent.com/justmarkham/DAT8/master/data/u.user). "
   ]
  },
  {
   "cell_type": "markdown",
   "metadata": {},
   "source": [
    "### Step 3. Assign it to a variable called users."
   ]
  },
  {
   "cell_type": "code",
   "execution_count": 2,
   "metadata": {},
   "outputs": [
    {
     "output_type": "execute_result",
     "data": {
      "text/plain": [
       "         age gender     occupation zip_code\n",
       "user_id                                    \n",
       "1         24      M     technician    85711\n",
       "2         53      F          other    94043\n",
       "3         23      M         writer    32067\n",
       "4         24      M     technician    43537\n",
       "5         33      F          other    15213\n",
       "...      ...    ...            ...      ...\n",
       "939       26      F        student    33319\n",
       "940       32      M  administrator    02215\n",
       "941       20      M        student    97229\n",
       "942       48      F      librarian    78209\n",
       "943       22      M        student    77841\n",
       "\n",
       "[943 rows x 4 columns]"
      ],
      "text/html": "<div>\n<style scoped>\n    .dataframe tbody tr th:only-of-type {\n        vertical-align: middle;\n    }\n\n    .dataframe tbody tr th {\n        vertical-align: top;\n    }\n\n    .dataframe thead th {\n        text-align: right;\n    }\n</style>\n<table border=\"1\" class=\"dataframe\">\n  <thead>\n    <tr style=\"text-align: right;\">\n      <th></th>\n      <th>age</th>\n      <th>gender</th>\n      <th>occupation</th>\n      <th>zip_code</th>\n    </tr>\n    <tr>\n      <th>user_id</th>\n      <th></th>\n      <th></th>\n      <th></th>\n      <th></th>\n    </tr>\n  </thead>\n  <tbody>\n    <tr>\n      <th>1</th>\n      <td>24</td>\n      <td>M</td>\n      <td>technician</td>\n      <td>85711</td>\n    </tr>\n    <tr>\n      <th>2</th>\n      <td>53</td>\n      <td>F</td>\n      <td>other</td>\n      <td>94043</td>\n    </tr>\n    <tr>\n      <th>3</th>\n      <td>23</td>\n      <td>M</td>\n      <td>writer</td>\n      <td>32067</td>\n    </tr>\n    <tr>\n      <th>4</th>\n      <td>24</td>\n      <td>M</td>\n      <td>technician</td>\n      <td>43537</td>\n    </tr>\n    <tr>\n      <th>5</th>\n      <td>33</td>\n      <td>F</td>\n      <td>other</td>\n      <td>15213</td>\n    </tr>\n    <tr>\n      <th>...</th>\n      <td>...</td>\n      <td>...</td>\n      <td>...</td>\n      <td>...</td>\n    </tr>\n    <tr>\n      <th>939</th>\n      <td>26</td>\n      <td>F</td>\n      <td>student</td>\n      <td>33319</td>\n    </tr>\n    <tr>\n      <th>940</th>\n      <td>32</td>\n      <td>M</td>\n      <td>administrator</td>\n      <td>02215</td>\n    </tr>\n    <tr>\n      <th>941</th>\n      <td>20</td>\n      <td>M</td>\n      <td>student</td>\n      <td>97229</td>\n    </tr>\n    <tr>\n      <th>942</th>\n      <td>48</td>\n      <td>F</td>\n      <td>librarian</td>\n      <td>78209</td>\n    </tr>\n    <tr>\n      <th>943</th>\n      <td>22</td>\n      <td>M</td>\n      <td>student</td>\n      <td>77841</td>\n    </tr>\n  </tbody>\n</table>\n<p>943 rows × 4 columns</p>\n</div>"
     },
     "metadata": {},
     "execution_count": 2
    }
   ],
   "source": [
    "users = pd.read_table('https://raw.githubusercontent.com/justmarkham/DAT8/master/data/u.user', \n",
    "                      sep='|', index_col='user_id')\n",
    "users"
   ]
  },
  {
   "cell_type": "markdown",
   "metadata": {},
   "source": [
    "### Step 4. Discover what is the mean age per occupation"
   ]
  },
  {
   "cell_type": "code",
   "execution_count": 15,
   "metadata": {},
   "outputs": [
    {
     "output_type": "execute_result",
     "data": {
      "text/plain": [
       "                age_mean\n",
       "occupation              \n",
       "administrator  38.746835\n",
       "artist         31.392857\n",
       "doctor         43.571429\n",
       "educator       42.010526\n",
       "engineer       36.388060\n",
       "entertainment  29.222222\n",
       "executive      38.718750\n",
       "healthcare     41.562500\n",
       "homemaker      32.571429\n",
       "lawyer         36.750000\n",
       "librarian      40.000000\n",
       "marketing      37.615385\n",
       "none           26.555556\n",
       "other          34.523810\n",
       "programmer     33.121212\n",
       "retired        63.071429\n",
       "salesman       35.666667\n",
       "scientist      35.548387\n",
       "student        22.081633\n",
       "technician     33.148148\n",
       "writer         36.311111"
      ],
      "text/html": "<div>\n<style scoped>\n    .dataframe tbody tr th:only-of-type {\n        vertical-align: middle;\n    }\n\n    .dataframe tbody tr th {\n        vertical-align: top;\n    }\n\n    .dataframe thead th {\n        text-align: right;\n    }\n</style>\n<table border=\"1\" class=\"dataframe\">\n  <thead>\n    <tr style=\"text-align: right;\">\n      <th></th>\n      <th>age_mean</th>\n    </tr>\n    <tr>\n      <th>occupation</th>\n      <th></th>\n    </tr>\n  </thead>\n  <tbody>\n    <tr>\n      <th>administrator</th>\n      <td>38.746835</td>\n    </tr>\n    <tr>\n      <th>artist</th>\n      <td>31.392857</td>\n    </tr>\n    <tr>\n      <th>doctor</th>\n      <td>43.571429</td>\n    </tr>\n    <tr>\n      <th>educator</th>\n      <td>42.010526</td>\n    </tr>\n    <tr>\n      <th>engineer</th>\n      <td>36.388060</td>\n    </tr>\n    <tr>\n      <th>entertainment</th>\n      <td>29.222222</td>\n    </tr>\n    <tr>\n      <th>executive</th>\n      <td>38.718750</td>\n    </tr>\n    <tr>\n      <th>healthcare</th>\n      <td>41.562500</td>\n    </tr>\n    <tr>\n      <th>homemaker</th>\n      <td>32.571429</td>\n    </tr>\n    <tr>\n      <th>lawyer</th>\n      <td>36.750000</td>\n    </tr>\n    <tr>\n      <th>librarian</th>\n      <td>40.000000</td>\n    </tr>\n    <tr>\n      <th>marketing</th>\n      <td>37.615385</td>\n    </tr>\n    <tr>\n      <th>none</th>\n      <td>26.555556</td>\n    </tr>\n    <tr>\n      <th>other</th>\n      <td>34.523810</td>\n    </tr>\n    <tr>\n      <th>programmer</th>\n      <td>33.121212</td>\n    </tr>\n    <tr>\n      <th>retired</th>\n      <td>63.071429</td>\n    </tr>\n    <tr>\n      <th>salesman</th>\n      <td>35.666667</td>\n    </tr>\n    <tr>\n      <th>scientist</th>\n      <td>35.548387</td>\n    </tr>\n    <tr>\n      <th>student</th>\n      <td>22.081633</td>\n    </tr>\n    <tr>\n      <th>technician</th>\n      <td>33.148148</td>\n    </tr>\n    <tr>\n      <th>writer</th>\n      <td>36.311111</td>\n    </tr>\n  </tbody>\n</table>\n</div>"
     },
     "metadata": {},
     "execution_count": 15
    }
   ],
   "source": [
    "ageuser = users.copy()\n",
    "ageuser = ageuser.groupby(\"occupation\").mean()\n",
    "ageuser2 = ageuser.rename(columns = {'age':'age_mean'}, inplace=False)\n",
    "ageuser2"
   ]
  },
  {
   "cell_type": "markdown",
   "metadata": {},
   "source": [
    "### Step 5. Discover the Male ratio per occupation and sort it from the most to the least"
   ]
  },
  {
   "cell_type": "code",
   "execution_count": 69,
   "metadata": {},
   "outputs": [
    {
     "output_type": "execute_result",
     "data": {
      "text/plain": [
       "               Total  Males  Ratio\n",
       "occupation                        \n",
       "doctor             7      7  1.000\n",
       "engineer          67     65  0.970\n",
       "technician        27     26  0.963\n",
       "retired           14     13  0.929\n",
       "programmer        66     60  0.909\n",
       "executive         32     29  0.906\n",
       "scientist         31     28  0.903\n",
       "entertainment     18     16  0.889\n",
       "lawyer            12     10  0.833\n",
       "salesman          12      9  0.750\n",
       "educator          95     69  0.726\n",
       "student          196    136  0.694\n",
       "other            105     69  0.657\n",
       "marketing         26     16  0.615\n",
       "writer            45     26  0.578\n",
       "none               9      5  0.556\n",
       "administrator     79     43  0.544\n",
       "artist            28     15  0.536\n",
       "librarian         51     22  0.431\n",
       "healthcare        16      5  0.312\n",
       "homemaker          7      1  0.143"
      ],
      "text/html": "<div>\n<style scoped>\n    .dataframe tbody tr th:only-of-type {\n        vertical-align: middle;\n    }\n\n    .dataframe tbody tr th {\n        vertical-align: top;\n    }\n\n    .dataframe thead th {\n        text-align: right;\n    }\n</style>\n<table border=\"1\" class=\"dataframe\">\n  <thead>\n    <tr style=\"text-align: right;\">\n      <th></th>\n      <th>Total</th>\n      <th>Males</th>\n      <th>Ratio</th>\n    </tr>\n    <tr>\n      <th>occupation</th>\n      <th></th>\n      <th></th>\n      <th></th>\n    </tr>\n  </thead>\n  <tbody>\n    <tr>\n      <th>doctor</th>\n      <td>7</td>\n      <td>7</td>\n      <td>1.000</td>\n    </tr>\n    <tr>\n      <th>engineer</th>\n      <td>67</td>\n      <td>65</td>\n      <td>0.970</td>\n    </tr>\n    <tr>\n      <th>technician</th>\n      <td>27</td>\n      <td>26</td>\n      <td>0.963</td>\n    </tr>\n    <tr>\n      <th>retired</th>\n      <td>14</td>\n      <td>13</td>\n      <td>0.929</td>\n    </tr>\n    <tr>\n      <th>programmer</th>\n      <td>66</td>\n      <td>60</td>\n      <td>0.909</td>\n    </tr>\n    <tr>\n      <th>executive</th>\n      <td>32</td>\n      <td>29</td>\n      <td>0.906</td>\n    </tr>\n    <tr>\n      <th>scientist</th>\n      <td>31</td>\n      <td>28</td>\n      <td>0.903</td>\n    </tr>\n    <tr>\n      <th>entertainment</th>\n      <td>18</td>\n      <td>16</td>\n      <td>0.889</td>\n    </tr>\n    <tr>\n      <th>lawyer</th>\n      <td>12</td>\n      <td>10</td>\n      <td>0.833</td>\n    </tr>\n    <tr>\n      <th>salesman</th>\n      <td>12</td>\n      <td>9</td>\n      <td>0.750</td>\n    </tr>\n    <tr>\n      <th>educator</th>\n      <td>95</td>\n      <td>69</td>\n      <td>0.726</td>\n    </tr>\n    <tr>\n      <th>student</th>\n      <td>196</td>\n      <td>136</td>\n      <td>0.694</td>\n    </tr>\n    <tr>\n      <th>other</th>\n      <td>105</td>\n      <td>69</td>\n      <td>0.657</td>\n    </tr>\n    <tr>\n      <th>marketing</th>\n      <td>26</td>\n      <td>16</td>\n      <td>0.615</td>\n    </tr>\n    <tr>\n      <th>writer</th>\n      <td>45</td>\n      <td>26</td>\n      <td>0.578</td>\n    </tr>\n    <tr>\n      <th>none</th>\n      <td>9</td>\n      <td>5</td>\n      <td>0.556</td>\n    </tr>\n    <tr>\n      <th>administrator</th>\n      <td>79</td>\n      <td>43</td>\n      <td>0.544</td>\n    </tr>\n    <tr>\n      <th>artist</th>\n      <td>28</td>\n      <td>15</td>\n      <td>0.536</td>\n    </tr>\n    <tr>\n      <th>librarian</th>\n      <td>51</td>\n      <td>22</td>\n      <td>0.431</td>\n    </tr>\n    <tr>\n      <th>healthcare</th>\n      <td>16</td>\n      <td>5</td>\n      <td>0.312</td>\n    </tr>\n    <tr>\n      <th>homemaker</th>\n      <td>7</td>\n      <td>1</td>\n      <td>0.143</td>\n    </tr>\n  </tbody>\n</table>\n</div>"
     },
     "metadata": {},
     "execution_count": 69
    }
   ],
   "source": [
    "MaleRatio = users.copy()\n",
    "MaleRatio = MaleRatio.drop(['age','zip_code'], axis=1)\n",
    "MaleRatio['Total'] = 1\n",
    "MaleRatio['Males'] = MaleRatio['gender'].apply(lambda x: 1 if x == 'M' else 0)\n",
    "MaleRatio = MaleRatio.groupby('occupation').sum()\n",
    "MaleRatio['Ratio'] = round(MaleRatio['Males']/MaleRatio['Total'],3)\n",
    "MaleRatio = MaleRatio.sort_values(by='Ratio', ascending=False) \n",
    "MaleRatio"
   ]
  },
  {
   "cell_type": "markdown",
   "metadata": {},
   "source": [
    "### Step 6. For each occupation, calculate the minimum and maximum ages"
   ]
  },
  {
   "cell_type": "code",
   "execution_count": 52,
   "metadata": {
    "jupyter": {
     "outputs_hidden": false
    }
   },
   "outputs": [
    {
     "output_type": "execute_result",
     "data": {
      "text/plain": [
       "              age    \n",
       "              min max\n",
       "occupation           \n",
       "administrator  21  70\n",
       "artist         19  48\n",
       "doctor         28  64\n",
       "educator       23  63\n",
       "engineer       22  70\n",
       "entertainment  15  50\n",
       "executive      22  69\n",
       "healthcare     22  62\n",
       "homemaker      20  50\n",
       "lawyer         21  53\n",
       "librarian      23  69\n",
       "marketing      24  55\n",
       "none           11  55\n",
       "other          13  64\n",
       "programmer     20  63\n",
       "retired        51  73\n",
       "salesman       18  66\n",
       "scientist      23  55\n",
       "student         7  42\n",
       "technician     21  55\n",
       "writer         18  60"
      ],
      "text/html": "<div>\n<style scoped>\n    .dataframe tbody tr th:only-of-type {\n        vertical-align: middle;\n    }\n\n    .dataframe tbody tr th {\n        vertical-align: top;\n    }\n\n    .dataframe thead tr th {\n        text-align: left;\n    }\n\n    .dataframe thead tr:last-of-type th {\n        text-align: right;\n    }\n</style>\n<table border=\"1\" class=\"dataframe\">\n  <thead>\n    <tr>\n      <th></th>\n      <th colspan=\"2\" halign=\"left\">age</th>\n    </tr>\n    <tr>\n      <th></th>\n      <th>min</th>\n      <th>max</th>\n    </tr>\n    <tr>\n      <th>occupation</th>\n      <th></th>\n      <th></th>\n    </tr>\n  </thead>\n  <tbody>\n    <tr>\n      <th>administrator</th>\n      <td>21</td>\n      <td>70</td>\n    </tr>\n    <tr>\n      <th>artist</th>\n      <td>19</td>\n      <td>48</td>\n    </tr>\n    <tr>\n      <th>doctor</th>\n      <td>28</td>\n      <td>64</td>\n    </tr>\n    <tr>\n      <th>educator</th>\n      <td>23</td>\n      <td>63</td>\n    </tr>\n    <tr>\n      <th>engineer</th>\n      <td>22</td>\n      <td>70</td>\n    </tr>\n    <tr>\n      <th>entertainment</th>\n      <td>15</td>\n      <td>50</td>\n    </tr>\n    <tr>\n      <th>executive</th>\n      <td>22</td>\n      <td>69</td>\n    </tr>\n    <tr>\n      <th>healthcare</th>\n      <td>22</td>\n      <td>62</td>\n    </tr>\n    <tr>\n      <th>homemaker</th>\n      <td>20</td>\n      <td>50</td>\n    </tr>\n    <tr>\n      <th>lawyer</th>\n      <td>21</td>\n      <td>53</td>\n    </tr>\n    <tr>\n      <th>librarian</th>\n      <td>23</td>\n      <td>69</td>\n    </tr>\n    <tr>\n      <th>marketing</th>\n      <td>24</td>\n      <td>55</td>\n    </tr>\n    <tr>\n      <th>none</th>\n      <td>11</td>\n      <td>55</td>\n    </tr>\n    <tr>\n      <th>other</th>\n      <td>13</td>\n      <td>64</td>\n    </tr>\n    <tr>\n      <th>programmer</th>\n      <td>20</td>\n      <td>63</td>\n    </tr>\n    <tr>\n      <th>retired</th>\n      <td>51</td>\n      <td>73</td>\n    </tr>\n    <tr>\n      <th>salesman</th>\n      <td>18</td>\n      <td>66</td>\n    </tr>\n    <tr>\n      <th>scientist</th>\n      <td>23</td>\n      <td>55</td>\n    </tr>\n    <tr>\n      <th>student</th>\n      <td>7</td>\n      <td>42</td>\n    </tr>\n    <tr>\n      <th>technician</th>\n      <td>21</td>\n      <td>55</td>\n    </tr>\n    <tr>\n      <th>writer</th>\n      <td>18</td>\n      <td>60</td>\n    </tr>\n  </tbody>\n</table>\n</div>"
     },
     "metadata": {},
     "execution_count": 52
    }
   ],
   "source": [
    "maxminocc = users.copy()\n",
    "maxminocc = maxminocc.drop(columns=['gender','zip_code'])\n",
    "maxminocc = maxminocc.groupby('occupation').agg(['min','max'])\n",
    "maxminocc"
   ]
  },
  {
   "cell_type": "markdown",
   "metadata": {},
   "source": [
    "### Step 7. For each combination of occupation and gender, calculate the mean age"
   ]
  },
  {
   "cell_type": "code",
   "execution_count": 67,
   "metadata": {},
   "outputs": [
    {
     "output_type": "execute_result",
     "data": {
      "text/plain": [
       "                        age\n",
       "occupation    gender       \n",
       "administrator F       40.64\n",
       "              M       37.16\n",
       "artist        F       30.31\n",
       "              M       32.33\n",
       "doctor        M       43.57\n",
       "educator      F       39.12\n",
       "              M       43.10\n",
       "engineer      F       29.50\n",
       "              M       36.60\n",
       "entertainment F       31.00\n",
       "              M       29.00\n",
       "executive     F       44.00\n",
       "              M       38.17\n",
       "healthcare    F       39.82\n",
       "              M       45.40\n",
       "homemaker     F       34.17\n",
       "              M       23.00\n",
       "lawyer        F       39.50\n",
       "              M       36.20\n",
       "librarian     F       40.00\n",
       "              M       40.00\n",
       "marketing     F       37.20\n",
       "              M       37.88\n",
       "none          F       36.50\n",
       "              M       18.60\n",
       "other         F       35.47\n",
       "              M       34.03\n",
       "programmer    F       32.17\n",
       "              M       33.22\n",
       "retired       F       70.00\n",
       "              M       62.54\n",
       "salesman      F       27.00\n",
       "              M       38.56\n",
       "scientist     F       28.33\n",
       "              M       36.32\n",
       "student       F       20.75\n",
       "              M       22.67\n",
       "technician    F       38.00\n",
       "              M       32.96\n",
       "writer        F       37.63\n",
       "              M       35.35"
      ],
      "text/html": "<div>\n<style scoped>\n    .dataframe tbody tr th:only-of-type {\n        vertical-align: middle;\n    }\n\n    .dataframe tbody tr th {\n        vertical-align: top;\n    }\n\n    .dataframe thead th {\n        text-align: right;\n    }\n</style>\n<table border=\"1\" class=\"dataframe\">\n  <thead>\n    <tr style=\"text-align: right;\">\n      <th></th>\n      <th></th>\n      <th>age</th>\n    </tr>\n    <tr>\n      <th>occupation</th>\n      <th>gender</th>\n      <th></th>\n    </tr>\n  </thead>\n  <tbody>\n    <tr>\n      <th rowspan=\"2\" valign=\"top\">administrator</th>\n      <th>F</th>\n      <td>40.64</td>\n    </tr>\n    <tr>\n      <th>M</th>\n      <td>37.16</td>\n    </tr>\n    <tr>\n      <th rowspan=\"2\" valign=\"top\">artist</th>\n      <th>F</th>\n      <td>30.31</td>\n    </tr>\n    <tr>\n      <th>M</th>\n      <td>32.33</td>\n    </tr>\n    <tr>\n      <th>doctor</th>\n      <th>M</th>\n      <td>43.57</td>\n    </tr>\n    <tr>\n      <th rowspan=\"2\" valign=\"top\">educator</th>\n      <th>F</th>\n      <td>39.12</td>\n    </tr>\n    <tr>\n      <th>M</th>\n      <td>43.10</td>\n    </tr>\n    <tr>\n      <th rowspan=\"2\" valign=\"top\">engineer</th>\n      <th>F</th>\n      <td>29.50</td>\n    </tr>\n    <tr>\n      <th>M</th>\n      <td>36.60</td>\n    </tr>\n    <tr>\n      <th rowspan=\"2\" valign=\"top\">entertainment</th>\n      <th>F</th>\n      <td>31.00</td>\n    </tr>\n    <tr>\n      <th>M</th>\n      <td>29.00</td>\n    </tr>\n    <tr>\n      <th rowspan=\"2\" valign=\"top\">executive</th>\n      <th>F</th>\n      <td>44.00</td>\n    </tr>\n    <tr>\n      <th>M</th>\n      <td>38.17</td>\n    </tr>\n    <tr>\n      <th rowspan=\"2\" valign=\"top\">healthcare</th>\n      <th>F</th>\n      <td>39.82</td>\n    </tr>\n    <tr>\n      <th>M</th>\n      <td>45.40</td>\n    </tr>\n    <tr>\n      <th rowspan=\"2\" valign=\"top\">homemaker</th>\n      <th>F</th>\n      <td>34.17</td>\n    </tr>\n    <tr>\n      <th>M</th>\n      <td>23.00</td>\n    </tr>\n    <tr>\n      <th rowspan=\"2\" valign=\"top\">lawyer</th>\n      <th>F</th>\n      <td>39.50</td>\n    </tr>\n    <tr>\n      <th>M</th>\n      <td>36.20</td>\n    </tr>\n    <tr>\n      <th rowspan=\"2\" valign=\"top\">librarian</th>\n      <th>F</th>\n      <td>40.00</td>\n    </tr>\n    <tr>\n      <th>M</th>\n      <td>40.00</td>\n    </tr>\n    <tr>\n      <th rowspan=\"2\" valign=\"top\">marketing</th>\n      <th>F</th>\n      <td>37.20</td>\n    </tr>\n    <tr>\n      <th>M</th>\n      <td>37.88</td>\n    </tr>\n    <tr>\n      <th rowspan=\"2\" valign=\"top\">none</th>\n      <th>F</th>\n      <td>36.50</td>\n    </tr>\n    <tr>\n      <th>M</th>\n      <td>18.60</td>\n    </tr>\n    <tr>\n      <th rowspan=\"2\" valign=\"top\">other</th>\n      <th>F</th>\n      <td>35.47</td>\n    </tr>\n    <tr>\n      <th>M</th>\n      <td>34.03</td>\n    </tr>\n    <tr>\n      <th rowspan=\"2\" valign=\"top\">programmer</th>\n      <th>F</th>\n      <td>32.17</td>\n    </tr>\n    <tr>\n      <th>M</th>\n      <td>33.22</td>\n    </tr>\n    <tr>\n      <th rowspan=\"2\" valign=\"top\">retired</th>\n      <th>F</th>\n      <td>70.00</td>\n    </tr>\n    <tr>\n      <th>M</th>\n      <td>62.54</td>\n    </tr>\n    <tr>\n      <th rowspan=\"2\" valign=\"top\">salesman</th>\n      <th>F</th>\n      <td>27.00</td>\n    </tr>\n    <tr>\n      <th>M</th>\n      <td>38.56</td>\n    </tr>\n    <tr>\n      <th rowspan=\"2\" valign=\"top\">scientist</th>\n      <th>F</th>\n      <td>28.33</td>\n    </tr>\n    <tr>\n      <th>M</th>\n      <td>36.32</td>\n    </tr>\n    <tr>\n      <th rowspan=\"2\" valign=\"top\">student</th>\n      <th>F</th>\n      <td>20.75</td>\n    </tr>\n    <tr>\n      <th>M</th>\n      <td>22.67</td>\n    </tr>\n    <tr>\n      <th rowspan=\"2\" valign=\"top\">technician</th>\n      <th>F</th>\n      <td>38.00</td>\n    </tr>\n    <tr>\n      <th>M</th>\n      <td>32.96</td>\n    </tr>\n    <tr>\n      <th rowspan=\"2\" valign=\"top\">writer</th>\n      <th>F</th>\n      <td>37.63</td>\n    </tr>\n    <tr>\n      <th>M</th>\n      <td>35.35</td>\n    </tr>\n  </tbody>\n</table>\n</div>"
     },
     "metadata": {},
     "execution_count": 67
    }
   ],
   "source": [
    "maxmingen = users.copy()\n",
    "maxmingen = maxmingen.drop(columns=['zip_code'])\n",
    "maxmingen = round(maxmingen.groupby(['occupation','gender']).agg('mean'),2)\n",
    "maxmingen"
   ]
  },
  {
   "cell_type": "markdown",
   "metadata": {},
   "source": [
    "### Step 8.  For each occupation present the percentage of women and men"
   ]
  },
  {
   "cell_type": "code",
   "execution_count": 72,
   "metadata": {},
   "outputs": [
    {
     "output_type": "execute_result",
     "data": {
      "text/plain": [
       "               Total  gendersM  gendersF  PerM_%  PerF_%\n",
       "occupation                                              \n",
       "administrator     79        43        36    54.0    46.0\n",
       "artist            28        15        13    54.0    46.0\n",
       "doctor             7         7         0   100.0     0.0\n",
       "educator          95        69        26    73.0    27.0\n",
       "engineer          67        65         2    97.0     3.0\n",
       "entertainment     18        16         2    89.0    11.0\n",
       "executive         32        29         3    91.0     9.0\n",
       "healthcare        16         5        11    31.0    69.0\n",
       "homemaker          7         1         6    14.0    86.0\n",
       "lawyer            12        10         2    83.0    17.0\n",
       "librarian         51        22        29    43.0    57.0\n",
       "marketing         26        16        10    62.0    38.0\n",
       "none               9         5         4    56.0    44.0\n",
       "other            105        69        36    66.0    34.0\n",
       "programmer        66        60         6    91.0     9.0\n",
       "retired           14        13         1    93.0     7.0\n",
       "salesman          12         9         3    75.0    25.0\n",
       "scientist         31        28         3    90.0    10.0\n",
       "student          196       136        60    69.0    31.0\n",
       "technician        27        26         1    96.0     4.0\n",
       "writer            45        26        19    58.0    42.0"
      ],
      "text/html": "<div>\n<style scoped>\n    .dataframe tbody tr th:only-of-type {\n        vertical-align: middle;\n    }\n\n    .dataframe tbody tr th {\n        vertical-align: top;\n    }\n\n    .dataframe thead th {\n        text-align: right;\n    }\n</style>\n<table border=\"1\" class=\"dataframe\">\n  <thead>\n    <tr style=\"text-align: right;\">\n      <th></th>\n      <th>Total</th>\n      <th>gendersM</th>\n      <th>gendersF</th>\n      <th>PerM_%</th>\n      <th>PerF_%</th>\n    </tr>\n    <tr>\n      <th>occupation</th>\n      <th></th>\n      <th></th>\n      <th></th>\n      <th></th>\n      <th></th>\n    </tr>\n  </thead>\n  <tbody>\n    <tr>\n      <th>administrator</th>\n      <td>79</td>\n      <td>43</td>\n      <td>36</td>\n      <td>54.0</td>\n      <td>46.0</td>\n    </tr>\n    <tr>\n      <th>artist</th>\n      <td>28</td>\n      <td>15</td>\n      <td>13</td>\n      <td>54.0</td>\n      <td>46.0</td>\n    </tr>\n    <tr>\n      <th>doctor</th>\n      <td>7</td>\n      <td>7</td>\n      <td>0</td>\n      <td>100.0</td>\n      <td>0.0</td>\n    </tr>\n    <tr>\n      <th>educator</th>\n      <td>95</td>\n      <td>69</td>\n      <td>26</td>\n      <td>73.0</td>\n      <td>27.0</td>\n    </tr>\n    <tr>\n      <th>engineer</th>\n      <td>67</td>\n      <td>65</td>\n      <td>2</td>\n      <td>97.0</td>\n      <td>3.0</td>\n    </tr>\n    <tr>\n      <th>entertainment</th>\n      <td>18</td>\n      <td>16</td>\n      <td>2</td>\n      <td>89.0</td>\n      <td>11.0</td>\n    </tr>\n    <tr>\n      <th>executive</th>\n      <td>32</td>\n      <td>29</td>\n      <td>3</td>\n      <td>91.0</td>\n      <td>9.0</td>\n    </tr>\n    <tr>\n      <th>healthcare</th>\n      <td>16</td>\n      <td>5</td>\n      <td>11</td>\n      <td>31.0</td>\n      <td>69.0</td>\n    </tr>\n    <tr>\n      <th>homemaker</th>\n      <td>7</td>\n      <td>1</td>\n      <td>6</td>\n      <td>14.0</td>\n      <td>86.0</td>\n    </tr>\n    <tr>\n      <th>lawyer</th>\n      <td>12</td>\n      <td>10</td>\n      <td>2</td>\n      <td>83.0</td>\n      <td>17.0</td>\n    </tr>\n    <tr>\n      <th>librarian</th>\n      <td>51</td>\n      <td>22</td>\n      <td>29</td>\n      <td>43.0</td>\n      <td>57.0</td>\n    </tr>\n    <tr>\n      <th>marketing</th>\n      <td>26</td>\n      <td>16</td>\n      <td>10</td>\n      <td>62.0</td>\n      <td>38.0</td>\n    </tr>\n    <tr>\n      <th>none</th>\n      <td>9</td>\n      <td>5</td>\n      <td>4</td>\n      <td>56.0</td>\n      <td>44.0</td>\n    </tr>\n    <tr>\n      <th>other</th>\n      <td>105</td>\n      <td>69</td>\n      <td>36</td>\n      <td>66.0</td>\n      <td>34.0</td>\n    </tr>\n    <tr>\n      <th>programmer</th>\n      <td>66</td>\n      <td>60</td>\n      <td>6</td>\n      <td>91.0</td>\n      <td>9.0</td>\n    </tr>\n    <tr>\n      <th>retired</th>\n      <td>14</td>\n      <td>13</td>\n      <td>1</td>\n      <td>93.0</td>\n      <td>7.0</td>\n    </tr>\n    <tr>\n      <th>salesman</th>\n      <td>12</td>\n      <td>9</td>\n      <td>3</td>\n      <td>75.0</td>\n      <td>25.0</td>\n    </tr>\n    <tr>\n      <th>scientist</th>\n      <td>31</td>\n      <td>28</td>\n      <td>3</td>\n      <td>90.0</td>\n      <td>10.0</td>\n    </tr>\n    <tr>\n      <th>student</th>\n      <td>196</td>\n      <td>136</td>\n      <td>60</td>\n      <td>69.0</td>\n      <td>31.0</td>\n    </tr>\n    <tr>\n      <th>technician</th>\n      <td>27</td>\n      <td>26</td>\n      <td>1</td>\n      <td>96.0</td>\n      <td>4.0</td>\n    </tr>\n    <tr>\n      <th>writer</th>\n      <td>45</td>\n      <td>26</td>\n      <td>19</td>\n      <td>58.0</td>\n      <td>42.0</td>\n    </tr>\n  </tbody>\n</table>\n</div>"
     },
     "metadata": {},
     "execution_count": 72
    }
   ],
   "source": [
    "genderPer = users.copy()\n",
    "genderPer = genderPer.drop(['age','zip_code'], axis=1)\n",
    "genderPer['Total'] = 1\n",
    "genderPer['gendersM'] = genderPer['gender'].apply(lambda x: 1 if x == 'M' else 0)\n",
    "genderPer['gendersF'] = genderPer['gender'].apply(lambda x: 1 if x == 'F' else 0)\n",
    "genderPer = genderPer.groupby('occupation').sum()\n",
    "genderPer['PerM_%'] = round(genderPer['gendersM']/genderPer['Total']*100)\n",
    "genderPer['PerF_%'] = round(genderPer['gendersF']/genderPer['Total']*100)\n",
    "genderPer"
   ]
  },
  {
   "cell_type": "code",
   "execution_count": null,
   "metadata": {},
   "outputs": [],
   "source": []
  }
 ],
 "metadata": {
  "kernelspec": {
   "name": "python374jvsc74a57bd05e19f5f9047d686051a4ffff3c57b5ca676552393775b324a4200bbd1a7317fa",
   "display_name": "Python 3.7.4 64-bit"
  },
  "language_info": {
   "codemirror_mode": {
    "name": "ipython",
    "version": 3
   },
   "file_extension": ".py",
   "mimetype": "text/x-python",
   "name": "python",
   "nbconvert_exporter": "python",
   "pygments_lexer": "ipython3",
   "version": "3.7.4"
  },
  "metadata": {
   "interpreter": {
    "hash": "5e19f5f9047d686051a4ffff3c57b5ca676552393775b324a4200bbd1a7317fa"
   }
  }
 },
 "nbformat": 4,
 "nbformat_minor": 4
}