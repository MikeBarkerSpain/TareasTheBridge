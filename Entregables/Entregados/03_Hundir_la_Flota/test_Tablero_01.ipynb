{
 "metadata": {
  "language_info": {
   "codemirror_mode": {
    "name": "ipython",
    "version": 3
   },
   "file_extension": ".py",
   "mimetype": "text/x-python",
   "name": "python",
   "nbconvert_exporter": "python",
   "pygments_lexer": "ipython3",
   "version": "3.7.4"
  },
  "orig_nbformat": 2,
  "kernelspec": {
   "name": "python374jvsc74a57bd05e19f5f9047d686051a4ffff3c57b5ca676552393775b324a4200bbd1a7317fa",
   "display_name": "Python 3.7.4 64-bit"
  },
  "metadata": {
   "interpreter": {
    "hash": "5e19f5f9047d686051a4ffff3c57b5ca676552393775b324a4200bbd1a7317fa"
   }
  }
 },
 "nbformat": 4,
 "nbformat_minor": 2,
 "cells": [
  {
   "cell_type": "code",
   "execution_count": 4,
   "metadata": {},
   "outputs": [
    {
     "output_type": "stream",
     "name": "stdout",
     "text": [
      "['~', '~', '~', '~', '~', '~', '~', '~', '~', '~']\n",
      "['#', '~', '~', '~', '~', '~', '~', '~', '~', '~']\n",
      "['#', '~', '~', '~', '~', '~', '~', '~', '~', '~']\n",
      "['~', '~', '~', '~', '~', '~', '~', '~', '~', '~']\n",
      "['~', '~', '~', '~', '#', '#', '~', '~', '~', '~']\n",
      "['~', '~', '~', '~', '~', '~', '~', '~', '~', '~']\n",
      "['~', '~', '~', '~', '~', '~', '~', '~', '~', '~']\n",
      "['~', '~', '~', '~', '~', '~', '~', '~', '~', '~']\n",
      "['~', '~', '~', '~', '~', '~', '~', '~', '~', '~']\n",
      "['~', '~', '~', '~', '~', '~', '~', '~', '~', '~']\n",
      "['~', '~', '~', '~', '~', '~', '~', '~', '~', '~']\n",
      "['#', '~', '~', '~', '~', '~', '~', '~', '~', '~']\n",
      "['#', '~', '~', '~', '~', '~', '~', '~', '~', '~']\n",
      "['~', '~', '~', '~', '~', '~', '~', '~', '~', '~']\n",
      "['~', '~', '~', '~', '#', '#', '~', '~', '~', '~']\n",
      "['~', '~', '~', '~', '~', '~', '~', '~', '~', '~']\n",
      "['~', '~', '~', '~', '#', '#', '~', '~', '~', '~']\n",
      "['~', '~', '~', '~', '~', '~', '~', '~', '~', '~']\n",
      "['~', '~', '~', '~', '~', '~', '~', '~', '~', '~']\n",
      "['~', '~', '~', '~', '~', '~', '~', '~', '~', '~']\n",
      "One of the positions of the boat is already taken.\n",
      "['~', '~', '~', '~', '~', '~', '~', '~', '~', '~']\n",
      "['#', '~', '~', '~', '~', '~', '~', '~', '~', '~']\n",
      "['#', '~', '~', '~', '#', '#', '~', '~', '~', '~']\n",
      "['~', '~', '~', '~', '~', '~', '~', '~', '~', '~']\n",
      "['~', '~', '~', '~', '#', '#', '~', '~', '~', '~']\n",
      "['~', '~', '~', '~', '~', '~', '~', '~', '~', '~']\n",
      "['#', '#', '#', '~', '#', '#', '~', '~', '~', '~']\n",
      "['~', '~', '~', '~', '~', '~', '~', '~', '~', '~']\n",
      "['~', '~', '~', '#', '#', '#', '~', '~', '~', '~']\n",
      "['~', '~', '~', '~', '~', '~', '~', '~', '~', '~']\n",
      "['~', '~', '~', '~', '~', '~', '#', '~', '~', '~']\n",
      "['#', '~', '~', '~', '~', '~', '#', '~', '~', '~']\n",
      "['#', '~', '~', '~', '#', '#', '#', '~', '~', '~']\n",
      "['~', '~', '~', '~', '~', '~', '~', '~', '~', '~']\n",
      "['~', '~', '~', '~', '#', '#', '~', '~', '~', '~']\n",
      "['~', '~', '~', '~', '~', '~', '~', '~', '~', '~']\n",
      "['#', '#', '#', '~', '#', '#', '#', '~', '~', '~']\n",
      "['~', '~', '~', '~', '~', '~', '#', '~', '~', '~']\n",
      "['~', '~', '~', '#', '#', '#', '#', '~', '~', '~']\n",
      "['~', '~', '~', '~', '~', '~', '#', '~', '~', '~']\n",
      "{'2x1_1': '1v2:3', '2x1_2': '5h5:6', '2x1_3': '7h5:6', '2x1_4': '3h5:6', '3x1_1': '9h4:6', '3x1_2': '7h1:3', '3x1_3': '7v1:3', '4x1_1': '7v7:10', '4x1_2': '10h1:4', '5x1_1': '9v3:7'}\n"
     ]
    },
    {
     "output_type": "execute_result",
     "data": {
      "text/plain": [
       "[['~', '~', '~', '~', '~', '~', '#', '~', '~', '~'],\n",
       " ['#', '~', '~', '~', '~', '~', '#', '~', '~', '~'],\n",
       " ['#', '~', '~', '~', '#', '#', '#', '~', '#', '~'],\n",
       " ['~', '~', '~', '~', '~', '~', '~', '~', '#', '~'],\n",
       " ['~', '~', '~', '~', '#', '#', '~', '~', '#', '~'],\n",
       " ['~', '~', '~', '~', '~', '~', '~', '~', '#', '~'],\n",
       " ['#', '#', '#', '~', '#', '#', '#', '~', '#', '~'],\n",
       " ['~', '~', '~', '~', '~', '~', '#', '~', '~', '~'],\n",
       " ['~', '~', '~', '#', '#', '#', '#', '~', '~', '~'],\n",
       " ['#', '#', '#', '#', '~', '~', '#', '~', '~', '~']]"
      ]
     },
     "metadata": {},
     "execution_count": 4
    }
   ],
   "source": [
    "import func2 as fc\n",
    "import barco as bc\n",
    "\n",
    "# Creación del tablero vacío\n",
    "Tablero = []\n",
    "for i in range (10):\n",
    "    Columnas = []\n",
    "    for j in range(10):\n",
    "        Columnas.append(\"~\")\n",
    "    Tablero.append(Columnas)\n",
    "\n",
    "# Inserción de los barcos en bucles FOR\n",
    "flota = {}\n",
    "\n",
    "# Bloque de inserción de los 4 barcos 2x1\n",
    "for i in range (4):\n",
    "    test_boat_type = 2\n",
    "    insert2x1 = False\n",
    "    while insert2x1 != True:\n",
    "        test_position = input(\"Please insert a 2x1 boat position (type 'BOARD' to display the current setting of the fleet):\")\n",
    "        if test_position == \"BOARD\":\n",
    "            fc.print_board(Tablero)\n",
    "        else:\n",
    "            insert2x1 = fc.insert_boat_check(test_position, test_boat_type, Tablero)\n",
    "    flota[\"2x1_\"+str(i+1)] = test_position\n",
    "\n",
    "# Bloque de inserción de los 3 barcos 3x1\n",
    "for i in range (3):\n",
    "    test_boat_type = 3\n",
    "    insert3x1 = False\n",
    "    while insert3x1 != True:\n",
    "        test_position = input(\"Please insert a 3x1 boat position (type 'BOARD' to display the current setting of the fleet):\")\n",
    "        if test_position == \"BOARD\":\n",
    "            fc.print_board(Tablero)\n",
    "        else:\n",
    "            insert3x1 = fc.insert_boat_check(test_position, test_boat_type, Tablero)\n",
    "    flota[\"3x1_\"+str(i+1)] = test_position\n",
    "\n",
    "# Bloque de inserción de los 2 barcos 4x1\n",
    "for i in range (2):\n",
    "    test_boat_type = 4\n",
    "    insert4x1 = False\n",
    "    while insert4x1 != True:\n",
    "        test_position = input(\"Please insert a 4x1 boat position (type 'BOARD' to display the current setting of the fleet):\")\n",
    "        if test_position == \"BOARD\":\n",
    "            fc.print_board(Tablero)\n",
    "        else:\n",
    "            insert4x1 = fc.insert_boat_check(test_position, test_boat_type, Tablero)\n",
    "    flota[\"4x1_\"+str(i+1)] = test_position\n",
    "        \n",
    "# Bloque de inserción del barco 5x1\n",
    "test_boat_type = 5\n",
    "insert5x1 = False\n",
    "while insert5x1 != True:\n",
    "    test_position = input(\"Please insert a 5x1 boat position (type 'BOARD' to display the current setting of the fleet):\")\n",
    "    if test_position == \"BOARD\":\n",
    "        fc.print_board(Tablero)\n",
    "    else:\n",
    "        insert5x1 = fc.insert_boat_check(test_position, test_boat_type, Tablero)\n",
    "flota[\"5x1_1\"] = test_position\n",
    "\n",
    "print(flota)\n",
    "Tablero\n"
   ]
  },
  {
   "cell_type": "code",
   "execution_count": null,
   "metadata": {},
   "outputs": [],
   "source": []
  }
 ]
}