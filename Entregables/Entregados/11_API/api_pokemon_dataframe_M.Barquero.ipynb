{
 "metadata": {
  "language_info": {
   "codemirror_mode": {
    "name": "ipython",
    "version": 3
   },
   "file_extension": ".py",
   "mimetype": "text/x-python",
   "name": "python",
   "nbconvert_exporter": "python",
   "pygments_lexer": "ipython3",
   "version": "3.7.4"
  },
  "orig_nbformat": 2,
  "kernelspec": {
   "name": "python374jvsc74a57bd05e19f5f9047d686051a4ffff3c57b5ca676552393775b324a4200bbd1a7317fa",
   "display_name": "Python 3.7.4 64-bit"
  },
  "metadata": {
   "interpreter": {
    "hash": "5e19f5f9047d686051a4ffff3c57b5ca676552393775b324a4200bbd1a7317fa"
   }
  }
 },
 "nbformat": 4,
 "nbformat_minor": 2,
 "cells": [
  {
   "source": [
    "### Ejercicio 1\n",
    "\n",
    "A partir de la API de Pokemon, se pide generar un DataFrame como el de la imagen con las columnas: \n",
    "\n",
    "- **\"height\",\"id\",\"order\",\"weight\",\"types\"**\n",
    "\n",
    "### Ejercicio 2\n",
    "\n",
    "¿Has visto que dentro del DataFrame la columna \"types\" hay diccionarios? Se pide agregar, por cada pokemon, las columnas necesarias al DataFrame para albergar toda la información de \"types\" (solo las keys)\n",
    "\n",
    "![](df_pk.PNG)"
   ],
   "cell_type": "markdown",
   "metadata": {}
  },
  {
   "source": [
    "## EJERCICIO 1"
   ],
   "cell_type": "markdown",
   "metadata": {}
  },
  {
   "cell_type": "code",
   "execution_count": 22,
   "metadata": {},
   "outputs": [
    {
     "output_type": "execute_result",
     "data": {
      "text/plain": [
       "[{'name': 'bulbasaur', 'url': 'https://pokeapi.co/api/v2/pokemon/1/'},\n",
       " {'name': 'ivysaur', 'url': 'https://pokeapi.co/api/v2/pokemon/2/'},\n",
       " {'name': 'venusaur', 'url': 'https://pokeapi.co/api/v2/pokemon/3/'},\n",
       " {'name': 'charmander', 'url': 'https://pokeapi.co/api/v2/pokemon/4/'},\n",
       " {'name': 'charmeleon', 'url': 'https://pokeapi.co/api/v2/pokemon/5/'}]"
      ]
     },
     "metadata": {},
     "execution_count": 22
    }
   ],
   "source": [
    "import json\n",
    "import requests\n",
    "\n",
    "import pandas as pd\n",
    "from pandas.io.json import json_normalize\n",
    "\n",
    "url = \"https://pokeapi.co/api/v2/pokemon?offset=0&limit=5\"\n",
    "poke_json = requests.get(url).json()\n",
    "df = pd.DataFrame(poke_json['results'])\n",
    "poke_json['results']"
   ]
  },
  {
   "cell_type": "code",
   "execution_count": 26,
   "metadata": {},
   "outputs": [
    {
     "output_type": "execute_result",
     "data": {
      "text/plain": [
       "         name                                   url  height  id  order  \\\n",
       "0   bulbasaur  https://pokeapi.co/api/v2/pokemon/1/       7   1      1   \n",
       "1     ivysaur  https://pokeapi.co/api/v2/pokemon/2/      10   2      2   \n",
       "2    venusaur  https://pokeapi.co/api/v2/pokemon/3/      20   3      3   \n",
       "3  charmander  https://pokeapi.co/api/v2/pokemon/4/       6   4      5   \n",
       "4  charmeleon  https://pokeapi.co/api/v2/pokemon/5/      11   5      6   \n",
       "\n",
       "   weight                                              types  \n",
       "0      69  [{'slot': 1, 'type': {'name': 'grass', 'url': ...  \n",
       "1     130  [{'slot': 1, 'type': {'name': 'grass', 'url': ...  \n",
       "2    1000  [{'slot': 1, 'type': {'name': 'grass', 'url': ...  \n",
       "3      85  [{'slot': 1, 'type': {'name': 'fire', 'url': '...  \n",
       "4     190  [{'slot': 1, 'type': {'name': 'fire', 'url': '...  "
      ],
      "text/html": "<div>\n<style scoped>\n    .dataframe tbody tr th:only-of-type {\n        vertical-align: middle;\n    }\n\n    .dataframe tbody tr th {\n        vertical-align: top;\n    }\n\n    .dataframe thead th {\n        text-align: right;\n    }\n</style>\n<table border=\"1\" class=\"dataframe\">\n  <thead>\n    <tr style=\"text-align: right;\">\n      <th></th>\n      <th>name</th>\n      <th>url</th>\n      <th>height</th>\n      <th>id</th>\n      <th>order</th>\n      <th>weight</th>\n      <th>types</th>\n    </tr>\n  </thead>\n  <tbody>\n    <tr>\n      <th>0</th>\n      <td>bulbasaur</td>\n      <td>https://pokeapi.co/api/v2/pokemon/1/</td>\n      <td>7</td>\n      <td>1</td>\n      <td>1</td>\n      <td>69</td>\n      <td>[{'slot': 1, 'type': {'name': 'grass', 'url': ...</td>\n    </tr>\n    <tr>\n      <th>1</th>\n      <td>ivysaur</td>\n      <td>https://pokeapi.co/api/v2/pokemon/2/</td>\n      <td>10</td>\n      <td>2</td>\n      <td>2</td>\n      <td>130</td>\n      <td>[{'slot': 1, 'type': {'name': 'grass', 'url': ...</td>\n    </tr>\n    <tr>\n      <th>2</th>\n      <td>venusaur</td>\n      <td>https://pokeapi.co/api/v2/pokemon/3/</td>\n      <td>20</td>\n      <td>3</td>\n      <td>3</td>\n      <td>1000</td>\n      <td>[{'slot': 1, 'type': {'name': 'grass', 'url': ...</td>\n    </tr>\n    <tr>\n      <th>3</th>\n      <td>charmander</td>\n      <td>https://pokeapi.co/api/v2/pokemon/4/</td>\n      <td>6</td>\n      <td>4</td>\n      <td>5</td>\n      <td>85</td>\n      <td>[{'slot': 1, 'type': {'name': 'fire', 'url': '...</td>\n    </tr>\n    <tr>\n      <th>4</th>\n      <td>charmeleon</td>\n      <td>https://pokeapi.co/api/v2/pokemon/5/</td>\n      <td>11</td>\n      <td>5</td>\n      <td>6</td>\n      <td>190</td>\n      <td>[{'slot': 1, 'type': {'name': 'fire', 'url': '...</td>\n    </tr>\n  </tbody>\n</table>\n</div>"
     },
     "metadata": {},
     "execution_count": 26
    }
   ],
   "source": [
    "# añadir los campos a los pokemons\n",
    "for pokemon in poke_json['results']:\n",
    "    p = requests.get(pokemon['url']).json()\n",
    "    pokemon['height'] = p['height']\n",
    "    pokemon['id'] = p['id']\n",
    "    pokemon['order'] = p['order']\n",
    "    pokemon['weight'] = p['weight']\n",
    "    pokemon['types'] = p['types']\n",
    "\n",
    "df_pokemons = pd.DataFrame(poke_json['results'])\n",
    "df_pokemons"
   ]
  },
  {
   "cell_type": "code",
   "execution_count": null,
   "metadata": {},
   "outputs": [],
   "source": []
  },
  {
   "source": [
    "## EJERCICIO 2\n"
   ],
   "cell_type": "markdown",
   "metadata": {}
  },
  {
   "cell_type": "code",
   "execution_count": 76,
   "metadata": {},
   "outputs": [
    {
     "output_type": "execute_result",
     "data": {
      "text/plain": [
       "[{'slot': 1,\n",
       "  'type': {'name': 'grass', 'url': 'https://pokeapi.co/api/v2/type/12/'}},\n",
       " {'slot': 2,\n",
       "  'type': {'name': 'poison', 'url': 'https://pokeapi.co/api/v2/type/4/'}}]"
      ]
     },
     "metadata": {},
     "execution_count": 76
    }
   ],
   "source": [
    "# Pruebas para ver como 'navegar' en el diccionario del pokemon\n",
    "df_pokemons_types = df_pokemons.copy()\n",
    "df_pokemons_types.drop(columns=['url', 'height', 'id', 'order', 'weight'],inplace=True)\n",
    "df_pokemons_types['types'][0][0]['type']['name']\n",
    "df_pokemons_types['types'][0]"
   ]
  },
  {
   "cell_type": "code",
   "execution_count": 118,
   "metadata": {},
   "outputs": [
    {
     "output_type": "execute_result",
     "data": {
      "text/plain": [
       "         name                                   url  height  id  order  \\\n",
       "0   bulbasaur  https://pokeapi.co/api/v2/pokemon/1/       7   1      1   \n",
       "1     ivysaur  https://pokeapi.co/api/v2/pokemon/2/      10   2      2   \n",
       "2    venusaur  https://pokeapi.co/api/v2/pokemon/3/      20   3      3   \n",
       "3  charmander  https://pokeapi.co/api/v2/pokemon/4/       6   4      5   \n",
       "4  charmeleon  https://pokeapi.co/api/v2/pokemon/5/      11   5      6   \n",
       "\n",
       "   weight type 1  type 2 type 3  \n",
       "0      69  grass  poison         \n",
       "1     130  grass  poison         \n",
       "2    1000  grass  poison         \n",
       "3      85   fire                 \n",
       "4     190   fire                 "
      ],
      "text/html": "<div>\n<style scoped>\n    .dataframe tbody tr th:only-of-type {\n        vertical-align: middle;\n    }\n\n    .dataframe tbody tr th {\n        vertical-align: top;\n    }\n\n    .dataframe thead th {\n        text-align: right;\n    }\n</style>\n<table border=\"1\" class=\"dataframe\">\n  <thead>\n    <tr style=\"text-align: right;\">\n      <th></th>\n      <th>name</th>\n      <th>url</th>\n      <th>height</th>\n      <th>id</th>\n      <th>order</th>\n      <th>weight</th>\n      <th>type 1</th>\n      <th>type 2</th>\n      <th>type 3</th>\n    </tr>\n  </thead>\n  <tbody>\n    <tr>\n      <th>0</th>\n      <td>bulbasaur</td>\n      <td>https://pokeapi.co/api/v2/pokemon/1/</td>\n      <td>7</td>\n      <td>1</td>\n      <td>1</td>\n      <td>69</td>\n      <td>grass</td>\n      <td>poison</td>\n      <td></td>\n    </tr>\n    <tr>\n      <th>1</th>\n      <td>ivysaur</td>\n      <td>https://pokeapi.co/api/v2/pokemon/2/</td>\n      <td>10</td>\n      <td>2</td>\n      <td>2</td>\n      <td>130</td>\n      <td>grass</td>\n      <td>poison</td>\n      <td></td>\n    </tr>\n    <tr>\n      <th>2</th>\n      <td>venusaur</td>\n      <td>https://pokeapi.co/api/v2/pokemon/3/</td>\n      <td>20</td>\n      <td>3</td>\n      <td>3</td>\n      <td>1000</td>\n      <td>grass</td>\n      <td>poison</td>\n      <td></td>\n    </tr>\n    <tr>\n      <th>3</th>\n      <td>charmander</td>\n      <td>https://pokeapi.co/api/v2/pokemon/4/</td>\n      <td>6</td>\n      <td>4</td>\n      <td>5</td>\n      <td>85</td>\n      <td>fire</td>\n      <td></td>\n      <td></td>\n    </tr>\n    <tr>\n      <th>4</th>\n      <td>charmeleon</td>\n      <td>https://pokeapi.co/api/v2/pokemon/5/</td>\n      <td>11</td>\n      <td>5</td>\n      <td>6</td>\n      <td>190</td>\n      <td>fire</td>\n      <td></td>\n      <td></td>\n    </tr>\n  </tbody>\n</table>\n</div>"
     },
     "metadata": {},
     "execution_count": 118
    }
   ],
   "source": [
    "df_pokemons_types2 = df_pokemons.copy()\n",
    "df_pokemons_types2['type 1'] = df_pokemons_types2['types'].apply(lambda x: x[0]['type']['name'])\n",
    "\n",
    "df_pokemons_types2['type 2'] = df_pokemons_types2['types'].apply(lambda x: x[1]['type']['name'] if len(x) == 2 else '')\n",
    "\n",
    "df_pokemons_types2['type 3'] = df_pokemons_types2['types'].apply(lambda x: x[2]['type']['name'] if len(df_pokemons_types2['types'][0]) == 3 else '')\n",
    "df_pokemons_types2.drop(columns=['types'], inplace=True)\n",
    "df_pokemons_types2\n",
    "# salida de los tipos de cada pokemon por columnas (fallo de lectura del enunciado)"
   ]
  },
  {
   "cell_type": "code",
   "execution_count": 97,
   "metadata": {},
   "outputs": [
    {
     "output_type": "execute_result",
     "data": {
      "text/plain": [
       "         name                                   url  height  id  order  \\\n",
       "0   bulbasaur  https://pokeapi.co/api/v2/pokemon/1/       7   1      1   \n",
       "1     ivysaur  https://pokeapi.co/api/v2/pokemon/2/      10   2      2   \n",
       "2    venusaur  https://pokeapi.co/api/v2/pokemon/3/      20   3      3   \n",
       "3  charmander  https://pokeapi.co/api/v2/pokemon/4/       6   4      5   \n",
       "4  charmeleon  https://pokeapi.co/api/v2/pokemon/5/      11   5      6   \n",
       "\n",
       "   weight            types  \n",
       "0      69  [grass, poison]  \n",
       "1     130  [grass, poison]  \n",
       "2    1000  [grass, poison]  \n",
       "3      85           [fire]  \n",
       "4     190           [fire]  "
      ],
      "text/html": "<div>\n<style scoped>\n    .dataframe tbody tr th:only-of-type {\n        vertical-align: middle;\n    }\n\n    .dataframe tbody tr th {\n        vertical-align: top;\n    }\n\n    .dataframe thead th {\n        text-align: right;\n    }\n</style>\n<table border=\"1\" class=\"dataframe\">\n  <thead>\n    <tr style=\"text-align: right;\">\n      <th></th>\n      <th>name</th>\n      <th>url</th>\n      <th>height</th>\n      <th>id</th>\n      <th>order</th>\n      <th>weight</th>\n      <th>types</th>\n    </tr>\n  </thead>\n  <tbody>\n    <tr>\n      <th>0</th>\n      <td>bulbasaur</td>\n      <td>https://pokeapi.co/api/v2/pokemon/1/</td>\n      <td>7</td>\n      <td>1</td>\n      <td>1</td>\n      <td>69</td>\n      <td>[grass, poison]</td>\n    </tr>\n    <tr>\n      <th>1</th>\n      <td>ivysaur</td>\n      <td>https://pokeapi.co/api/v2/pokemon/2/</td>\n      <td>10</td>\n      <td>2</td>\n      <td>2</td>\n      <td>130</td>\n      <td>[grass, poison]</td>\n    </tr>\n    <tr>\n      <th>2</th>\n      <td>venusaur</td>\n      <td>https://pokeapi.co/api/v2/pokemon/3/</td>\n      <td>20</td>\n      <td>3</td>\n      <td>3</td>\n      <td>1000</td>\n      <td>[grass, poison]</td>\n    </tr>\n    <tr>\n      <th>3</th>\n      <td>charmander</td>\n      <td>https://pokeapi.co/api/v2/pokemon/4/</td>\n      <td>6</td>\n      <td>4</td>\n      <td>5</td>\n      <td>85</td>\n      <td>[fire]</td>\n    </tr>\n    <tr>\n      <th>4</th>\n      <td>charmeleon</td>\n      <td>https://pokeapi.co/api/v2/pokemon/5/</td>\n      <td>11</td>\n      <td>5</td>\n      <td>6</td>\n      <td>190</td>\n      <td>[fire]</td>\n    </tr>\n  </tbody>\n</table>\n</div>"
     },
     "metadata": {},
     "execution_count": 97
    }
   ],
   "source": [
    "df_pokemons_types3 = df_pokemons.copy()\n",
    "df_pokemons_types3['types'] = df_pokemons_types3['types'].apply(lambda x: [y['type']['name'] for y in x])\n",
    "df_pokemons_types3\n",
    "# ídem"
   ]
  },
  {
   "cell_type": "code",
   "execution_count": 115,
   "metadata": {},
   "outputs": [
    {
     "output_type": "execute_result",
     "data": {
      "text/plain": [
       "         name                                   url  height  id  order  \\\n",
       "0   bulbasaur  https://pokeapi.co/api/v2/pokemon/1/       7   1      1   \n",
       "1   bulbasaur  https://pokeapi.co/api/v2/pokemon/1/       7   1      1   \n",
       "2     ivysaur  https://pokeapi.co/api/v2/pokemon/2/      10   2      2   \n",
       "3     ivysaur  https://pokeapi.co/api/v2/pokemon/2/      10   2      2   \n",
       "4    venusaur  https://pokeapi.co/api/v2/pokemon/3/      20   3      3   \n",
       "5    venusaur  https://pokeapi.co/api/v2/pokemon/3/      20   3      3   \n",
       "6  charmander  https://pokeapi.co/api/v2/pokemon/4/       6   4      5   \n",
       "7  charmeleon  https://pokeapi.co/api/v2/pokemon/5/      11   5      6   \n",
       "\n",
       "   weight                                            types_y  \n",
       "0      69  {'slot': 1, 'type': {'name': 'grass', 'url': '...  \n",
       "1      69  {'slot': 2, 'type': {'name': 'poison', 'url': ...  \n",
       "2     130  {'slot': 1, 'type': {'name': 'grass', 'url': '...  \n",
       "3     130  {'slot': 2, 'type': {'name': 'poison', 'url': ...  \n",
       "4    1000  {'slot': 1, 'type': {'name': 'grass', 'url': '...  \n",
       "5    1000  {'slot': 2, 'type': {'name': 'poison', 'url': ...  \n",
       "6      85  {'slot': 1, 'type': {'name': 'fire', 'url': 'h...  \n",
       "7     190  {'slot': 1, 'type': {'name': 'fire', 'url': 'h...  "
      ],
      "text/html": "<div>\n<style scoped>\n    .dataframe tbody tr th:only-of-type {\n        vertical-align: middle;\n    }\n\n    .dataframe tbody tr th {\n        vertical-align: top;\n    }\n\n    .dataframe thead th {\n        text-align: right;\n    }\n</style>\n<table border=\"1\" class=\"dataframe\">\n  <thead>\n    <tr style=\"text-align: right;\">\n      <th></th>\n      <th>name</th>\n      <th>url</th>\n      <th>height</th>\n      <th>id</th>\n      <th>order</th>\n      <th>weight</th>\n      <th>types_y</th>\n    </tr>\n  </thead>\n  <tbody>\n    <tr>\n      <th>0</th>\n      <td>bulbasaur</td>\n      <td>https://pokeapi.co/api/v2/pokemon/1/</td>\n      <td>7</td>\n      <td>1</td>\n      <td>1</td>\n      <td>69</td>\n      <td>{'slot': 1, 'type': {'name': 'grass', 'url': '...</td>\n    </tr>\n    <tr>\n      <th>1</th>\n      <td>bulbasaur</td>\n      <td>https://pokeapi.co/api/v2/pokemon/1/</td>\n      <td>7</td>\n      <td>1</td>\n      <td>1</td>\n      <td>69</td>\n      <td>{'slot': 2, 'type': {'name': 'poison', 'url': ...</td>\n    </tr>\n    <tr>\n      <th>2</th>\n      <td>ivysaur</td>\n      <td>https://pokeapi.co/api/v2/pokemon/2/</td>\n      <td>10</td>\n      <td>2</td>\n      <td>2</td>\n      <td>130</td>\n      <td>{'slot': 1, 'type': {'name': 'grass', 'url': '...</td>\n    </tr>\n    <tr>\n      <th>3</th>\n      <td>ivysaur</td>\n      <td>https://pokeapi.co/api/v2/pokemon/2/</td>\n      <td>10</td>\n      <td>2</td>\n      <td>2</td>\n      <td>130</td>\n      <td>{'slot': 2, 'type': {'name': 'poison', 'url': ...</td>\n    </tr>\n    <tr>\n      <th>4</th>\n      <td>venusaur</td>\n      <td>https://pokeapi.co/api/v2/pokemon/3/</td>\n      <td>20</td>\n      <td>3</td>\n      <td>3</td>\n      <td>1000</td>\n      <td>{'slot': 1, 'type': {'name': 'grass', 'url': '...</td>\n    </tr>\n    <tr>\n      <th>5</th>\n      <td>venusaur</td>\n      <td>https://pokeapi.co/api/v2/pokemon/3/</td>\n      <td>20</td>\n      <td>3</td>\n      <td>3</td>\n      <td>1000</td>\n      <td>{'slot': 2, 'type': {'name': 'poison', 'url': ...</td>\n    </tr>\n    <tr>\n      <th>6</th>\n      <td>charmander</td>\n      <td>https://pokeapi.co/api/v2/pokemon/4/</td>\n      <td>6</td>\n      <td>4</td>\n      <td>5</td>\n      <td>85</td>\n      <td>{'slot': 1, 'type': {'name': 'fire', 'url': 'h...</td>\n    </tr>\n    <tr>\n      <th>7</th>\n      <td>charmeleon</td>\n      <td>https://pokeapi.co/api/v2/pokemon/5/</td>\n      <td>11</td>\n      <td>5</td>\n      <td>6</td>\n      <td>190</td>\n      <td>{'slot': 1, 'type': {'name': 'fire', 'url': 'h...</td>\n    </tr>\n  </tbody>\n</table>\n</div>"
     },
     "metadata": {},
     "execution_count": 115
    }
   ],
   "source": [
    "# unión de las tablas 3 (con los datos de los pokemons) y 4 (slots 'explotados') \n",
    "df_pokemons_types4 = df_pokemons.copy()\n",
    "df_pokemons_types4 = pd.DataFrame(df_pokemons_types4['types'].explode())\n",
    "\n",
    "df_pokemons_types4['index'] = df_pokemons_types4.index\n",
    "df_pokemons_types3['index'] = df_pokemons_types3.index\n",
    "\n",
    "df_all = df_pokemons_types3.merge(df_pokemons_types4, on = 'index')\n",
    "df_all.drop(columns= ['types_x','index'], inplace=True)\n",
    "df_all"
   ]
  },
  {
   "cell_type": "code",
   "execution_count": 121,
   "metadata": {},
   "outputs": [
    {
     "output_type": "execute_result",
     "data": {
      "text/plain": [
       "         name                                   url  height  id  order  \\\n",
       "0   bulbasaur  https://pokeapi.co/api/v2/pokemon/1/       7   1      1   \n",
       "1   bulbasaur  https://pokeapi.co/api/v2/pokemon/1/       7   1      1   \n",
       "2     ivysaur  https://pokeapi.co/api/v2/pokemon/2/      10   2      2   \n",
       "3     ivysaur  https://pokeapi.co/api/v2/pokemon/2/      10   2      2   \n",
       "4    venusaur  https://pokeapi.co/api/v2/pokemon/3/      20   3      3   \n",
       "5    venusaur  https://pokeapi.co/api/v2/pokemon/3/      20   3      3   \n",
       "6  charmander  https://pokeapi.co/api/v2/pokemon/4/       6   4      5   \n",
       "7  charmeleon  https://pokeapi.co/api/v2/pokemon/5/      11   5      6   \n",
       "\n",
       "   weight                                              types  \n",
       "0      69  {'slot': 1, 'type': {'name': 'grass', 'url': '...  \n",
       "1      69  {'slot': 2, 'type': {'name': 'poison', 'url': ...  \n",
       "2     130  {'slot': 1, 'type': {'name': 'grass', 'url': '...  \n",
       "3     130  {'slot': 2, 'type': {'name': 'poison', 'url': ...  \n",
       "4    1000  {'slot': 1, 'type': {'name': 'grass', 'url': '...  \n",
       "5    1000  {'slot': 2, 'type': {'name': 'poison', 'url': ...  \n",
       "6      85  {'slot': 1, 'type': {'name': 'fire', 'url': 'h...  \n",
       "7     190  {'slot': 1, 'type': {'name': 'fire', 'url': 'h...  "
      ],
      "text/html": "<div>\n<style scoped>\n    .dataframe tbody tr th:only-of-type {\n        vertical-align: middle;\n    }\n\n    .dataframe tbody tr th {\n        vertical-align: top;\n    }\n\n    .dataframe thead th {\n        text-align: right;\n    }\n</style>\n<table border=\"1\" class=\"dataframe\">\n  <thead>\n    <tr style=\"text-align: right;\">\n      <th></th>\n      <th>name</th>\n      <th>url</th>\n      <th>height</th>\n      <th>id</th>\n      <th>order</th>\n      <th>weight</th>\n      <th>types</th>\n    </tr>\n  </thead>\n  <tbody>\n    <tr>\n      <th>0</th>\n      <td>bulbasaur</td>\n      <td>https://pokeapi.co/api/v2/pokemon/1/</td>\n      <td>7</td>\n      <td>1</td>\n      <td>1</td>\n      <td>69</td>\n      <td>{'slot': 1, 'type': {'name': 'grass', 'url': '...</td>\n    </tr>\n    <tr>\n      <th>1</th>\n      <td>bulbasaur</td>\n      <td>https://pokeapi.co/api/v2/pokemon/1/</td>\n      <td>7</td>\n      <td>1</td>\n      <td>1</td>\n      <td>69</td>\n      <td>{'slot': 2, 'type': {'name': 'poison', 'url': ...</td>\n    </tr>\n    <tr>\n      <th>2</th>\n      <td>ivysaur</td>\n      <td>https://pokeapi.co/api/v2/pokemon/2/</td>\n      <td>10</td>\n      <td>2</td>\n      <td>2</td>\n      <td>130</td>\n      <td>{'slot': 1, 'type': {'name': 'grass', 'url': '...</td>\n    </tr>\n    <tr>\n      <th>3</th>\n      <td>ivysaur</td>\n      <td>https://pokeapi.co/api/v2/pokemon/2/</td>\n      <td>10</td>\n      <td>2</td>\n      <td>2</td>\n      <td>130</td>\n      <td>{'slot': 2, 'type': {'name': 'poison', 'url': ...</td>\n    </tr>\n    <tr>\n      <th>4</th>\n      <td>venusaur</td>\n      <td>https://pokeapi.co/api/v2/pokemon/3/</td>\n      <td>20</td>\n      <td>3</td>\n      <td>3</td>\n      <td>1000</td>\n      <td>{'slot': 1, 'type': {'name': 'grass', 'url': '...</td>\n    </tr>\n    <tr>\n      <th>5</th>\n      <td>venusaur</td>\n      <td>https://pokeapi.co/api/v2/pokemon/3/</td>\n      <td>20</td>\n      <td>3</td>\n      <td>3</td>\n      <td>1000</td>\n      <td>{'slot': 2, 'type': {'name': 'poison', 'url': ...</td>\n    </tr>\n    <tr>\n      <th>6</th>\n      <td>charmander</td>\n      <td>https://pokeapi.co/api/v2/pokemon/4/</td>\n      <td>6</td>\n      <td>4</td>\n      <td>5</td>\n      <td>85</td>\n      <td>{'slot': 1, 'type': {'name': 'fire', 'url': 'h...</td>\n    </tr>\n    <tr>\n      <th>7</th>\n      <td>charmeleon</td>\n      <td>https://pokeapi.co/api/v2/pokemon/5/</td>\n      <td>11</td>\n      <td>5</td>\n      <td>6</td>\n      <td>190</td>\n      <td>{'slot': 1, 'type': {'name': 'fire', 'url': 'h...</td>\n    </tr>\n  </tbody>\n</table>\n</div>"
     },
     "metadata": {},
     "execution_count": 121
    }
   ],
   "source": [
    "# Solución más limpia\n",
    "df_pokemons_all2 = df_pokemons.copy().explode('types')\n",
    "df_pokemons_all2.reset_index(inplace=True)\n",
    "df_pokemons_all2.drop(columns=['index'], inplace=True)\n",
    "df_pokemons_all2\n",
    "# A partir se extraen los valores de la columna 'types' y se generan nuevas columnas"
   ]
  },
  {
   "cell_type": "code",
   "execution_count": 126,
   "metadata": {},
   "outputs": [
    {
     "output_type": "execute_result",
     "data": {
      "text/plain": [
       "         name                                   url  height  id  order  \\\n",
       "0   bulbasaur  https://pokeapi.co/api/v2/pokemon/1/       7   1      1   \n",
       "1   bulbasaur  https://pokeapi.co/api/v2/pokemon/1/       7   1      1   \n",
       "2     ivysaur  https://pokeapi.co/api/v2/pokemon/2/      10   2      2   \n",
       "3     ivysaur  https://pokeapi.co/api/v2/pokemon/2/      10   2      2   \n",
       "4    venusaur  https://pokeapi.co/api/v2/pokemon/3/      20   3      3   \n",
       "5    venusaur  https://pokeapi.co/api/v2/pokemon/3/      20   3      3   \n",
       "6  charmander  https://pokeapi.co/api/v2/pokemon/4/       6   4      5   \n",
       "7  charmeleon  https://pokeapi.co/api/v2/pokemon/5/      11   5      6   \n",
       "\n",
       "   weight  Slot    type                            url_type  \n",
       "0      69     1   grass  https://pokeapi.co/api/v2/type/12/  \n",
       "1      69     2  poison   https://pokeapi.co/api/v2/type/4/  \n",
       "2     130     1   grass  https://pokeapi.co/api/v2/type/12/  \n",
       "3     130     2  poison   https://pokeapi.co/api/v2/type/4/  \n",
       "4    1000     1   grass  https://pokeapi.co/api/v2/type/12/  \n",
       "5    1000     2  poison   https://pokeapi.co/api/v2/type/4/  \n",
       "6      85     1    fire  https://pokeapi.co/api/v2/type/10/  \n",
       "7     190     1    fire  https://pokeapi.co/api/v2/type/10/  "
      ],
      "text/html": "<div>\n<style scoped>\n    .dataframe tbody tr th:only-of-type {\n        vertical-align: middle;\n    }\n\n    .dataframe tbody tr th {\n        vertical-align: top;\n    }\n\n    .dataframe thead th {\n        text-align: right;\n    }\n</style>\n<table border=\"1\" class=\"dataframe\">\n  <thead>\n    <tr style=\"text-align: right;\">\n      <th></th>\n      <th>name</th>\n      <th>url</th>\n      <th>height</th>\n      <th>id</th>\n      <th>order</th>\n      <th>weight</th>\n      <th>Slot</th>\n      <th>type</th>\n      <th>url_type</th>\n    </tr>\n  </thead>\n  <tbody>\n    <tr>\n      <th>0</th>\n      <td>bulbasaur</td>\n      <td>https://pokeapi.co/api/v2/pokemon/1/</td>\n      <td>7</td>\n      <td>1</td>\n      <td>1</td>\n      <td>69</td>\n      <td>1</td>\n      <td>grass</td>\n      <td>https://pokeapi.co/api/v2/type/12/</td>\n    </tr>\n    <tr>\n      <th>1</th>\n      <td>bulbasaur</td>\n      <td>https://pokeapi.co/api/v2/pokemon/1/</td>\n      <td>7</td>\n      <td>1</td>\n      <td>1</td>\n      <td>69</td>\n      <td>2</td>\n      <td>poison</td>\n      <td>https://pokeapi.co/api/v2/type/4/</td>\n    </tr>\n    <tr>\n      <th>2</th>\n      <td>ivysaur</td>\n      <td>https://pokeapi.co/api/v2/pokemon/2/</td>\n      <td>10</td>\n      <td>2</td>\n      <td>2</td>\n      <td>130</td>\n      <td>1</td>\n      <td>grass</td>\n      <td>https://pokeapi.co/api/v2/type/12/</td>\n    </tr>\n    <tr>\n      <th>3</th>\n      <td>ivysaur</td>\n      <td>https://pokeapi.co/api/v2/pokemon/2/</td>\n      <td>10</td>\n      <td>2</td>\n      <td>2</td>\n      <td>130</td>\n      <td>2</td>\n      <td>poison</td>\n      <td>https://pokeapi.co/api/v2/type/4/</td>\n    </tr>\n    <tr>\n      <th>4</th>\n      <td>venusaur</td>\n      <td>https://pokeapi.co/api/v2/pokemon/3/</td>\n      <td>20</td>\n      <td>3</td>\n      <td>3</td>\n      <td>1000</td>\n      <td>1</td>\n      <td>grass</td>\n      <td>https://pokeapi.co/api/v2/type/12/</td>\n    </tr>\n    <tr>\n      <th>5</th>\n      <td>venusaur</td>\n      <td>https://pokeapi.co/api/v2/pokemon/3/</td>\n      <td>20</td>\n      <td>3</td>\n      <td>3</td>\n      <td>1000</td>\n      <td>2</td>\n      <td>poison</td>\n      <td>https://pokeapi.co/api/v2/type/4/</td>\n    </tr>\n    <tr>\n      <th>6</th>\n      <td>charmander</td>\n      <td>https://pokeapi.co/api/v2/pokemon/4/</td>\n      <td>6</td>\n      <td>4</td>\n      <td>5</td>\n      <td>85</td>\n      <td>1</td>\n      <td>fire</td>\n      <td>https://pokeapi.co/api/v2/type/10/</td>\n    </tr>\n    <tr>\n      <th>7</th>\n      <td>charmeleon</td>\n      <td>https://pokeapi.co/api/v2/pokemon/5/</td>\n      <td>11</td>\n      <td>5</td>\n      <td>6</td>\n      <td>190</td>\n      <td>1</td>\n      <td>fire</td>\n      <td>https://pokeapi.co/api/v2/type/10/</td>\n    </tr>\n  </tbody>\n</table>\n</div>"
     },
     "metadata": {},
     "execution_count": 126
    }
   ],
   "source": [
    "# hay que generar las columnas 'slot', 'type' y 'url_type'\n",
    "df_pokemons_all2['Slot'] = df_pokemons_all2['types'].apply(lambda x: x['slot'])\n",
    "df_pokemons_all2['type'] = df_pokemons_all2['types'].apply(lambda x: x['type']['name'])\n",
    "df_pokemons_all2['url_type'] = df_pokemons_all2['types'].apply(lambda x: x['type']['url'])\n",
    "df_pokemons_all2.drop(columns='types', inplace=True)\n",
    "\n",
    "df_pokemons_all2"
   ]
  },
  {
   "cell_type": "code",
   "execution_count": null,
   "metadata": {},
   "outputs": [],
   "source": []
  }
 ]
}