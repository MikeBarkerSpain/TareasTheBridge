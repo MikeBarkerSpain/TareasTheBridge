{
 "cells": [
  {
   "cell_type": "markdown",
   "metadata": {},
   "source": [
    "# Ejercicios Numpy I"
   ]
  },
  {
   "cell_type": "markdown",
   "metadata": {},
   "source": [
    "Sirvan estos ejercicios para que fortalezcáis aquellos conceptos más importantes."
   ]
  },
  {
   "cell_type": "markdown",
   "metadata": {},
   "source": [
    "## Ejercicio 1\n",
    "Importa el módulo de `numpy` y obtén su versión."
   ]
  },
  {
   "cell_type": "code",
   "execution_count": 1,
   "metadata": {},
   "outputs": [],
   "source": [
    "import numpy as np"
   ]
  },
  {
   "cell_type": "code",
   "execution_count": 4,
   "metadata": {},
   "outputs": [
    {
     "output_type": "execute_result",
     "data": {
      "text/plain": [
       "'1.20.2'"
      ]
     },
     "metadata": {},
     "execution_count": 4
    }
   ],
   "source": [
    "np.__version__"
   ]
  },
  {
   "cell_type": "code",
   "execution_count": 5,
   "metadata": {},
   "outputs": [
    {
     "output_type": "execute_result",
     "data": {
      "text/plain": [
       "'1.20.2'"
      ]
     },
     "metadata": {},
     "execution_count": 5
    }
   ],
   "source": [
    "np.version.version"
   ]
  },
  {
   "cell_type": "markdown",
   "metadata": {},
   "source": [
    "## Ejercicio 2\n",
    "Crea un array de una dimensión que vaya de 0 a 9. Llamalo `my_array`"
   ]
  },
  {
   "cell_type": "code",
   "execution_count": 2,
   "metadata": {},
   "outputs": [],
   "source": [
    "my_array = np.array([1,2,3,4,5,6,7,8,9])"
   ]
  },
  {
   "cell_type": "markdown",
   "metadata": {},
   "source": [
    "## Ejercicio 3\n",
    "Crea un array 3x3, que sea todo a True"
   ]
  },
  {
   "cell_type": "code",
   "execution_count": 3,
   "metadata": {},
   "outputs": [],
   "source": [
    "array_true = np.array([[True,True,True], [True,True,True], [True,True,True]])"
   ]
  },
  {
   "cell_type": "markdown",
   "metadata": {},
   "source": [
    "## Ejercicio 4\n",
    "Extrae todos los impares de `my_array`"
   ]
  },
  {
   "cell_type": "code",
   "execution_count": 5,
   "metadata": {},
   "outputs": [
    {
     "output_type": "execute_result",
     "data": {
      "text/plain": [
       "array([1, 3, 5, 7, 9])"
      ]
     },
     "metadata": {},
     "execution_count": 5
    }
   ],
   "source": [
    "odd = my_array[0::2]\n",
    "odd"
   ]
  },
  {
   "cell_type": "markdown",
   "metadata": {},
   "source": [
    "## Ejercicio 5\n",
    "En un nuevo array, sustituye todos los impares de `my_array` por -1"
   ]
  },
  {
   "cell_type": "code",
   "execution_count": 6,
   "metadata": {},
   "outputs": [
    {
     "output_type": "execute_result",
     "data": {
      "text/plain": [
       "array([ 0, -1,  2, -1,  4, -1,  6, -1,  8, -1])"
      ]
     },
     "metadata": {},
     "execution_count": 6
    }
   ],
   "source": [
    "minus_array = np.arange(10)\n",
    "for i in range(len(minus_array)):\n",
    "    if i % 2 == 1:\n",
    "        minus_array[i] = -1\n",
    "minus_array"
   ]
  },
  {
   "cell_type": "markdown",
   "metadata": {},
   "source": [
    "## Ejercicio 6\n",
    "En un nuevo array, sustituye todos los impares de `my_array` por -1. Esta vez usa `where`"
   ]
  },
  {
   "cell_type": "code",
   "execution_count": 11,
   "metadata": {},
   "outputs": [
    {
     "output_type": "execute_result",
     "data": {
      "text/plain": [
       "array([ 0, -1,  2, -1,  4, -1,  6, -1,  8, -1])"
      ]
     },
     "metadata": {},
     "execution_count": 11
    }
   ],
   "source": [
    "minus_array2 = np.arange(10)\n",
    "minus_array2_out = np.where (minus_array2 % 2 ==1, -1,minus_array2)\n",
    "minus_array2_out"
   ]
  },
  {
   "cell_type": "markdown",
   "metadata": {},
   "source": [
    "## Ejercicio 7\n",
    "Convierte `my_array` en un nuevo array de dos dimensiones mediante `reshape`."
   ]
  },
  {
   "cell_type": "code",
   "execution_count": 12,
   "metadata": {},
   "outputs": [
    {
     "output_type": "execute_result",
     "data": {
      "text/plain": [
       "array([[0, 1, 2, 3, 4],\n",
       "       [5, 6, 7, 8, 9]])"
      ]
     },
     "metadata": {},
     "execution_count": 12
    }
   ],
   "source": [
    "array = np.arange (10)\n",
    "array_reshape5x2 = np.reshape(array,(2,5))\n",
    "array_reshape5x2"
   ]
  },
  {
   "cell_type": "markdown",
   "metadata": {},
   "source": [
    "## Ejercicio 8\n",
    "Concatena los siguientes arrays verticamente\n",
    "\n",
    "```Python\n",
    "a = np.arange(10).reshape(2,-1)\n",
    "b = np.repeat(1, 10).reshape(2,-1)\n",
    "```"
   ]
  },
  {
   "cell_type": "code",
   "execution_count": 16,
   "metadata": {},
   "outputs": [
    {
     "output_type": "execute_result",
     "data": {
      "text/plain": [
       "array([[0, 1, 2, 3, 4],\n",
       "       [5, 6, 7, 8, 9],\n",
       "       [1, 1, 1, 1, 1],\n",
       "       [1, 1, 1, 1, 1]])"
      ]
     },
     "metadata": {},
     "execution_count": 16
    }
   ],
   "source": [
    "a = np.arange(10).reshape(2,-1)\n",
    "b = np.repeat(1, 10).reshape(2,-1)\n",
    "ab = np.concatenate((a,b), axis= 0)\n",
    "ab"
   ]
  },
  {
   "cell_type": "markdown",
   "metadata": {},
   "source": [
    "## Ejercicio 9\n",
    "Concatena los siguientes arrays horizontamente\n",
    "\n",
    "```Python\n",
    "a = np.arange(10).reshape(2,-1)\n",
    "b = np.repeat(1, 10).reshape(2,-1)\n",
    "```"
   ]
  },
  {
   "cell_type": "code",
   "execution_count": 18,
   "metadata": {},
   "outputs": [
    {
     "output_type": "execute_result",
     "data": {
      "text/plain": [
       "array([[0, 1, 2, 3, 4, 1, 1, 1, 1, 1],\n",
       "       [5, 6, 7, 8, 9, 1, 1, 1, 1, 1]])"
      ]
     },
     "metadata": {},
     "execution_count": 18
    }
   ],
   "source": [
    "a = np.arange(10).reshape(2,-1)\n",
    "b = np.repeat(1, 10).reshape(2,-1)\n",
    "ab_h = np.concatenate((a,b), axis=1)\n",
    "ab_h"
   ]
  },
  {
   "cell_type": "markdown",
   "metadata": {},
   "source": [
    "## Ejercicio 10\n",
    "Encuentra todos los elementos en común entre ambos arrays. [Para ello usa el método `intersect1d`](https://numpy.org/doc/stable/reference/generated/numpy.intersect1d.html)\n",
    "\n",
    "```Python\n",
    "a = np.array([1,2,3,2,3,4,3,4,5,6])\n",
    "b = np.array([7,2,10,2,7,4,9,4,9,8])\n",
    "```"
   ]
  },
  {
   "cell_type": "code",
   "execution_count": 21,
   "metadata": {},
   "outputs": [
    {
     "output_type": "execute_result",
     "data": {
      "text/plain": [
       "array([2, 4])"
      ]
     },
     "metadata": {},
     "execution_count": 21
    }
   ],
   "source": [
    "a = np.array([1,2,3,2,3,4,3,4,5,6])\n",
    "b = np.array([7,2,10,2,7,4,9,4,9,8])\n",
    "intab = np.intersect1d(a,b)\n",
    "intab"
   ]
  },
  {
   "cell_type": "markdown",
   "metadata": {},
   "source": [
    "## Ejercicio 11\n",
    "Obtén la documentación acerca de la función `concatenate`"
   ]
  },
  {
   "source": [
    "https://numpy.org/doc/stable/reference/generated/numpy.concatenate.html\n",
    "\n",
    "ya tengo numpy.org en favoritos de mi google profile  :)"
   ],
   "cell_type": "markdown",
   "metadata": {}
  },
  {
   "cell_type": "markdown",
   "metadata": {},
   "source": [
    "## Ejercicio 12\n",
    "Crea un array unidimensional que vaya del 0 al 9. Llámalo `my_array`. \n",
    "1. Multiplica cada uno de los elementos de `my_array` por 10, en un nuevo array\n",
    "2. Accede al primer elemento del array\n",
    "3. Accede al último elemento del array\n",
    "4. Imprime por pantalla los numeros del 1 al 7"
   ]
  },
  {
   "cell_type": "code",
   "execution_count": 23,
   "metadata": {},
   "outputs": [
    {
     "output_type": "stream",
     "name": "stdout",
     "text": [
      "[ 0 10 20 30 40 50 60 70 80 90]\n9\n[0 1 2 3 4 5 6 7]\n"
     ]
    }
   ],
   "source": [
    "my_array = np.arange (10)\n",
    "my_array2 = my_array*10\n",
    "print(my_array2)\n",
    "print(my_array[-1])\n",
    "print(my_array[:8:1])"
   ]
  },
  {
   "cell_type": "markdown",
   "metadata": {},
   "source": [
    "## Ejercicio 13\n",
    "Crea un array manualmente de tres filas por tres columnas. Llámalo `my_matrix`"
   ]
  },
  {
   "cell_type": "code",
   "execution_count": 24,
   "metadata": {},
   "outputs": [
    {
     "output_type": "stream",
     "name": "stdout",
     "text": [
      "[[1, 2, 3], [4, 5, 6], [7, 8, 9]]\n"
     ]
    }
   ],
   "source": [
    "my_matrix = [[1,2,3],[4,5,6],[7,8,9]]\n",
    "print(my_matrix)"
   ]
  },
  {
   "cell_type": "markdown",
   "metadata": {},
   "source": [
    "## Ejercicio 14\n",
    "Obtén la siguiente secuencia:\n",
    "\n",
    "```Python\n",
    "[ 1,  4,  7, 10, 13, 16, 19, 22, 25, 28, 31, 34, 37, 40, 43, 46, 49]\n",
    "```"
   ]
  },
  {
   "cell_type": "code",
   "execution_count": 27,
   "metadata": {},
   "outputs": [
    {
     "output_type": "stream",
     "name": "stdout",
     "text": [
      "[1, 4, 7, 10, 13, 16, 19, 22, 25, 28, 31, 34, 37, 40, 43, 46, 49]\n"
     ]
    }
   ],
   "source": [
    "\n",
    "acum = 1\n",
    "seq = []\n",
    "while acum <= 49:\n",
    "    seq.append(acum)\n",
    "    acum += 3\n",
    "print(seq)"
   ]
  },
  {
   "cell_type": "markdown",
   "metadata": {},
   "source": [
    "## Ejercicio 15\n",
    "Obtén la siguiente secuencia\n",
    "\n",
    "```Python\n",
    "[4., 3.75, 3.5 , 3.25, 3.  , 2.75, 2.5 , 2.25, 2., 1.75, 1.5 ,1.25]\n",
    "```"
   ]
  },
  {
   "cell_type": "code",
   "execution_count": 28,
   "metadata": {},
   "outputs": [
    {
     "output_type": "stream",
     "name": "stdout",
     "text": [
      "[4, 3.75, 3.5, 3.25, 3.0, 2.75, 2.5, 2.25, 2.0, 1.75, 1.5, 1.25]\n"
     ]
    }
   ],
   "source": [
    "acum = 4\n",
    "seq2 = []\n",
    "while acum >= 1.25:\n",
    "    seq2.append(acum)\n",
    "    acum -= 0.25\n",
    "print(seq2)"
   ]
  },
  {
   "cell_type": "markdown",
   "metadata": {},
   "source": [
    "## Ejercicio 16\n",
    "Lee la imagen `numpy.png` que encontrarás en la carpeta **img**"
   ]
  },
  {
   "cell_type": "code",
   "execution_count": 39,
   "metadata": {},
   "outputs": [
    {
     "output_type": "error",
     "ename": "SyntaxError",
     "evalue": "EOF while scanning triple-quoted string literal (<ipython-input-39-98e14100c7dc>, line 11)",
     "traceback": [
      "\u001b[1;36m  File \u001b[1;32m\"<ipython-input-39-98e14100c7dc>\"\u001b[1;36m, line \u001b[1;32m11\u001b[0m\n\u001b[1;33m    \"\"\" Intento acceder como con las librerías, llegando al directorio más arriba de ambos ficheros (el de carga y el que se quiere cargar), y no es capaz de 'bajar' para encontrar el fichero python.jpg\u001b[0m\n\u001b[1;37m                                                                                                                                                                                                          ^\u001b[0m\n\u001b[1;31mSyntaxError\u001b[0m\u001b[1;31m:\u001b[0m EOF while scanning triple-quoted string literal\n"
     ]
    }
   ],
   "source": [
    "from skimage.io import imread\n",
    "import matplotlib.pyplot as plt\n",
    "\n",
    "currentdir = os.getcwd()\n",
    "parentdir = os.path.dirname(currentdir) # Jump to Entregables\n",
    "parentdir = os.path.dirname(parentdir) # Jump to TareasTheBridge (parent to python.jpg)\n",
    "parentdir = os.path.dirname(parentdir) # Jump to TareasTheBridge (parent to python.jpg)\n",
    "\n",
    "imagen = imread(parentdir)\n",
    "\n",
    "\"\"\" Intento acceder como con las librerías, llegando al directorio más arriba de ambos ficheros (el de carga y el que se quiere cargar), y no es capaz de 'bajar' para encontrar el fichero python.jpg"
   ]
  },
  {
   "cell_type": "code",
   "execution_count": 45,
   "metadata": {},
   "outputs": [
    {
     "output_type": "execute_result",
     "data": {
      "text/plain": [
       "<matplotlib.image.AxesImage at 0xf693152a08>"
      ]
     },
     "metadata": {},
     "execution_count": 45
    },
    {
     "output_type": "display_data",
     "data": {
      "text/plain": "<Figure size 432x288 with 1 Axes>",
      "image/svg+xml": "<?xml version=\"1.0\" encoding=\"utf-8\" standalone=\"no\"?>\r\n<!DOCTYPE svg PUBLIC \"-//W3C//DTD SVG 1.1//EN\"\r\n  \"http://www.w3.org/Graphics/SVG/1.1/DTD/svg11.dtd\">\r\n<svg height=\"180.013144pt\" version=\"1.1\" viewBox=\"0 0 375.2875 180.013144\" width=\"375.2875pt\" xmlns=\"http://www.w3.org/2000/svg\" xmlns:xlink=\"http://www.w3.org/1999/xlink\">\r\n <metadata>\r\n  <rdf:RDF xmlns:cc=\"http://creativecommons.org/ns#\" xmlns:dc=\"http://purl.org/dc/elements/1.1/\" xmlns:rdf=\"http://www.w3.org/1999/02/22-rdf-syntax-ns#\">\r\n   <cc:Work>\r\n    <dc:type rdf:resource=\"http://purl.org/dc/dcmitype/StillImage\"/>\r\n    <dc:date>2021-05-05T18:01:51.988971</dc:date>\r\n    <dc:format>image/svg+xml</dc:format>\r\n    <dc:creator>\r\n     <cc:Agent>\r\n      <dc:title>Matplotlib v3.4.1, https://matplotlib.org/</dc:title>\r\n     </cc:Agent>\r\n    </dc:creator>\r\n   </cc:Work>\r\n  </rdf:RDF>\r\n </metadata>\r\n <defs>\r\n  <style type=\"text/css\">*{stroke-linecap:butt;stroke-linejoin:round;}</style>\r\n </defs>\r\n <g id=\"figure_1\">\r\n  <g id=\"patch_1\">\r\n   <path d=\"M 0 180.013144 \r\nL 375.2875 180.013144 \r\nL 375.2875 0 \r\nL 0 0 \r\nz\r\n\" style=\"fill:none;\"/>\r\n  </g>\r\n  <g id=\"axes_1\">\r\n   <g id=\"patch_2\">\r\n    <path d=\"M 33.2875 156.135019 \r\nL 368.0875 156.135019 \r\nL 368.0875 10.831819 \r\nL 33.2875 10.831819 \r\nz\r\n\" style=\"fill:#ffffff;\"/>\r\n   </g>\r\n   <g clip-path=\"url(#p5699eff8d5)\">\r\n    <image height=\"146\" id=\"imageb33e70db32\" transform=\"scale(1 -1)translate(0 -146)\" width=\"335\" x=\"33.2875\" xlink:href=\"data:image/png;base64,\r\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\" y=\"-10.135019\"/>\r\n   </g>\r\n   <g id=\"matplotlib.axis_1\">\r\n    <g id=\"xtick_1\">\r\n     <g id=\"line2d_1\">\r\n      <defs>\r\n       <path d=\"M 0 0 \r\nL 0 3.5 \r\n\" id=\"mf9433eda6a\" style=\"stroke:#000000;stroke-width:0.8;\"/>\r\n      </defs>\r\n      <g>\r\n       <use style=\"stroke:#000000;stroke-width:0.8;\" x=\"33.4549\" xlink:href=\"#mf9433eda6a\" y=\"156.135019\"/>\r\n      </g>\r\n     </g>\r\n     <g id=\"text_1\">\r\n      <!-- 0 -->\r\n      <g transform=\"translate(30.27365 170.733456)scale(0.1 -0.1)\">\r\n       <defs>\r\n        <path d=\"M 2034 4250 \r\nQ 1547 4250 1301 3770 \r\nQ 1056 3291 1056 2328 \r\nQ 1056 1369 1301 889 \r\nQ 1547 409 2034 409 \r\nQ 2525 409 2770 889 \r\nQ 3016 1369 3016 2328 \r\nQ 3016 3291 2770 3770 \r\nQ 2525 4250 2034 4250 \r\nz\r\nM 2034 4750 \r\nQ 2819 4750 3233 4129 \r\nQ 3647 3509 3647 2328 \r\nQ 3647 1150 3233 529 \r\nQ 2819 -91 2034 -91 \r\nQ 1250 -91 836 529 \r\nQ 422 1150 422 2328 \r\nQ 422 3509 836 4129 \r\nQ 1250 4750 2034 4750 \r\nz\r\n\" id=\"DejaVuSans-30\" transform=\"scale(0.015625)\"/>\r\n       </defs>\r\n       <use xlink:href=\"#DejaVuSans-30\"/>\r\n      </g>\r\n     </g>\r\n    </g>\r\n    <g id=\"xtick_2\">\r\n     <g id=\"line2d_2\">\r\n      <g>\r\n       <use style=\"stroke:#000000;stroke-width:0.8;\" x=\"100.4149\" xlink:href=\"#mf9433eda6a\" y=\"156.135019\"/>\r\n      </g>\r\n     </g>\r\n     <g id=\"text_2\">\r\n      <!-- 200 -->\r\n      <g transform=\"translate(90.87115 170.733456)scale(0.1 -0.1)\">\r\n       <defs>\r\n        <path d=\"M 1228 531 \r\nL 3431 531 \r\nL 3431 0 \r\nL 469 0 \r\nL 469 531 \r\nQ 828 903 1448 1529 \r\nQ 2069 2156 2228 2338 \r\nQ 2531 2678 2651 2914 \r\nQ 2772 3150 2772 3378 \r\nQ 2772 3750 2511 3984 \r\nQ 2250 4219 1831 4219 \r\nQ 1534 4219 1204 4116 \r\nQ 875 4013 500 3803 \r\nL 500 4441 \r\nQ 881 4594 1212 4672 \r\nQ 1544 4750 1819 4750 \r\nQ 2544 4750 2975 4387 \r\nQ 3406 4025 3406 3419 \r\nQ 3406 3131 3298 2873 \r\nQ 3191 2616 2906 2266 \r\nQ 2828 2175 2409 1742 \r\nQ 1991 1309 1228 531 \r\nz\r\n\" id=\"DejaVuSans-32\" transform=\"scale(0.015625)\"/>\r\n       </defs>\r\n       <use xlink:href=\"#DejaVuSans-32\"/>\r\n       <use x=\"63.623047\" xlink:href=\"#DejaVuSans-30\"/>\r\n       <use x=\"127.246094\" xlink:href=\"#DejaVuSans-30\"/>\r\n      </g>\r\n     </g>\r\n    </g>\r\n    <g id=\"xtick_3\">\r\n     <g id=\"line2d_3\">\r\n      <g>\r\n       <use style=\"stroke:#000000;stroke-width:0.8;\" x=\"167.3749\" xlink:href=\"#mf9433eda6a\" y=\"156.135019\"/>\r\n      </g>\r\n     </g>\r\n     <g id=\"text_3\">\r\n      <!-- 400 -->\r\n      <g transform=\"translate(157.83115 170.733456)scale(0.1 -0.1)\">\r\n       <defs>\r\n        <path d=\"M 2419 4116 \r\nL 825 1625 \r\nL 2419 1625 \r\nL 2419 4116 \r\nz\r\nM 2253 4666 \r\nL 3047 4666 \r\nL 3047 1625 \r\nL 3713 1625 \r\nL 3713 1100 \r\nL 3047 1100 \r\nL 3047 0 \r\nL 2419 0 \r\nL 2419 1100 \r\nL 313 1100 \r\nL 313 1709 \r\nL 2253 4666 \r\nz\r\n\" id=\"DejaVuSans-34\" transform=\"scale(0.015625)\"/>\r\n       </defs>\r\n       <use xlink:href=\"#DejaVuSans-34\"/>\r\n       <use x=\"63.623047\" xlink:href=\"#DejaVuSans-30\"/>\r\n       <use x=\"127.246094\" xlink:href=\"#DejaVuSans-30\"/>\r\n      </g>\r\n     </g>\r\n    </g>\r\n    <g id=\"xtick_4\">\r\n     <g id=\"line2d_4\">\r\n      <g>\r\n       <use style=\"stroke:#000000;stroke-width:0.8;\" x=\"234.3349\" xlink:href=\"#mf9433eda6a\" y=\"156.135019\"/>\r\n      </g>\r\n     </g>\r\n     <g id=\"text_4\">\r\n      <!-- 600 -->\r\n      <g transform=\"translate(224.79115 170.733456)scale(0.1 -0.1)\">\r\n       <defs>\r\n        <path d=\"M 2113 2584 \r\nQ 1688 2584 1439 2293 \r\nQ 1191 2003 1191 1497 \r\nQ 1191 994 1439 701 \r\nQ 1688 409 2113 409 \r\nQ 2538 409 2786 701 \r\nQ 3034 994 3034 1497 \r\nQ 3034 2003 2786 2293 \r\nQ 2538 2584 2113 2584 \r\nz\r\nM 3366 4563 \r\nL 3366 3988 \r\nQ 3128 4100 2886 4159 \r\nQ 2644 4219 2406 4219 \r\nQ 1781 4219 1451 3797 \r\nQ 1122 3375 1075 2522 \r\nQ 1259 2794 1537 2939 \r\nQ 1816 3084 2150 3084 \r\nQ 2853 3084 3261 2657 \r\nQ 3669 2231 3669 1497 \r\nQ 3669 778 3244 343 \r\nQ 2819 -91 2113 -91 \r\nQ 1303 -91 875 529 \r\nQ 447 1150 447 2328 \r\nQ 447 3434 972 4092 \r\nQ 1497 4750 2381 4750 \r\nQ 2619 4750 2861 4703 \r\nQ 3103 4656 3366 4563 \r\nz\r\n\" id=\"DejaVuSans-36\" transform=\"scale(0.015625)\"/>\r\n       </defs>\r\n       <use xlink:href=\"#DejaVuSans-36\"/>\r\n       <use x=\"63.623047\" xlink:href=\"#DejaVuSans-30\"/>\r\n       <use x=\"127.246094\" xlink:href=\"#DejaVuSans-30\"/>\r\n      </g>\r\n     </g>\r\n    </g>\r\n    <g id=\"xtick_5\">\r\n     <g id=\"line2d_5\">\r\n      <g>\r\n       <use style=\"stroke:#000000;stroke-width:0.8;\" x=\"301.2949\" xlink:href=\"#mf9433eda6a\" y=\"156.135019\"/>\r\n      </g>\r\n     </g>\r\n     <g id=\"text_5\">\r\n      <!-- 800 -->\r\n      <g transform=\"translate(291.75115 170.733456)scale(0.1 -0.1)\">\r\n       <defs>\r\n        <path d=\"M 2034 2216 \r\nQ 1584 2216 1326 1975 \r\nQ 1069 1734 1069 1313 \r\nQ 1069 891 1326 650 \r\nQ 1584 409 2034 409 \r\nQ 2484 409 2743 651 \r\nQ 3003 894 3003 1313 \r\nQ 3003 1734 2745 1975 \r\nQ 2488 2216 2034 2216 \r\nz\r\nM 1403 2484 \r\nQ 997 2584 770 2862 \r\nQ 544 3141 544 3541 \r\nQ 544 4100 942 4425 \r\nQ 1341 4750 2034 4750 \r\nQ 2731 4750 3128 4425 \r\nQ 3525 4100 3525 3541 \r\nQ 3525 3141 3298 2862 \r\nQ 3072 2584 2669 2484 \r\nQ 3125 2378 3379 2068 \r\nQ 3634 1759 3634 1313 \r\nQ 3634 634 3220 271 \r\nQ 2806 -91 2034 -91 \r\nQ 1263 -91 848 271 \r\nQ 434 634 434 1313 \r\nQ 434 1759 690 2068 \r\nQ 947 2378 1403 2484 \r\nz\r\nM 1172 3481 \r\nQ 1172 3119 1398 2916 \r\nQ 1625 2713 2034 2713 \r\nQ 2441 2713 2670 2916 \r\nQ 2900 3119 2900 3481 \r\nQ 2900 3844 2670 4047 \r\nQ 2441 4250 2034 4250 \r\nQ 1625 4250 1398 4047 \r\nQ 1172 3844 1172 3481 \r\nz\r\n\" id=\"DejaVuSans-38\" transform=\"scale(0.015625)\"/>\r\n       </defs>\r\n       <use xlink:href=\"#DejaVuSans-38\"/>\r\n       <use x=\"63.623047\" xlink:href=\"#DejaVuSans-30\"/>\r\n       <use x=\"127.246094\" xlink:href=\"#DejaVuSans-30\"/>\r\n      </g>\r\n     </g>\r\n    </g>\r\n   </g>\r\n   <g id=\"matplotlib.axis_2\">\r\n    <g id=\"ytick_1\">\r\n     <g id=\"line2d_6\">\r\n      <defs>\r\n       <path d=\"M 0 0 \r\nL -3.5 0 \r\n\" id=\"m4ff9232b73\" style=\"stroke:#000000;stroke-width:0.8;\"/>\r\n      </defs>\r\n      <g>\r\n       <use style=\"stroke:#000000;stroke-width:0.8;\" x=\"33.2875\" xlink:href=\"#m4ff9232b73\" y=\"10.999219\"/>\r\n      </g>\r\n     </g>\r\n     <g id=\"text_6\">\r\n      <!-- 0 -->\r\n      <g transform=\"translate(19.925 14.798437)scale(0.1 -0.1)\">\r\n       <use xlink:href=\"#DejaVuSans-30\"/>\r\n      </g>\r\n     </g>\r\n    </g>\r\n    <g id=\"ytick_2\">\r\n     <g id=\"line2d_7\">\r\n      <g>\r\n       <use style=\"stroke:#000000;stroke-width:0.8;\" x=\"33.2875\" xlink:href=\"#m4ff9232b73\" y=\"44.479219\"/>\r\n      </g>\r\n     </g>\r\n     <g id=\"text_7\">\r\n      <!-- 100 -->\r\n      <g transform=\"translate(7.2 48.278437)scale(0.1 -0.1)\">\r\n       <defs>\r\n        <path d=\"M 794 531 \r\nL 1825 531 \r\nL 1825 4091 \r\nL 703 3866 \r\nL 703 4441 \r\nL 1819 4666 \r\nL 2450 4666 \r\nL 2450 531 \r\nL 3481 531 \r\nL 3481 0 \r\nL 794 0 \r\nL 794 531 \r\nz\r\n\" id=\"DejaVuSans-31\" transform=\"scale(0.015625)\"/>\r\n       </defs>\r\n       <use xlink:href=\"#DejaVuSans-31\"/>\r\n       <use x=\"63.623047\" xlink:href=\"#DejaVuSans-30\"/>\r\n       <use x=\"127.246094\" xlink:href=\"#DejaVuSans-30\"/>\r\n      </g>\r\n     </g>\r\n    </g>\r\n    <g id=\"ytick_3\">\r\n     <g id=\"line2d_8\">\r\n      <g>\r\n       <use style=\"stroke:#000000;stroke-width:0.8;\" x=\"33.2875\" xlink:href=\"#m4ff9232b73\" y=\"77.959219\"/>\r\n      </g>\r\n     </g>\r\n     <g id=\"text_8\">\r\n      <!-- 200 -->\r\n      <g transform=\"translate(7.2 81.758437)scale(0.1 -0.1)\">\r\n       <use xlink:href=\"#DejaVuSans-32\"/>\r\n       <use x=\"63.623047\" xlink:href=\"#DejaVuSans-30\"/>\r\n       <use x=\"127.246094\" xlink:href=\"#DejaVuSans-30\"/>\r\n      </g>\r\n     </g>\r\n    </g>\r\n    <g id=\"ytick_4\">\r\n     <g id=\"line2d_9\">\r\n      <g>\r\n       <use style=\"stroke:#000000;stroke-width:0.8;\" x=\"33.2875\" xlink:href=\"#m4ff9232b73\" y=\"111.439219\"/>\r\n      </g>\r\n     </g>\r\n     <g id=\"text_9\">\r\n      <!-- 300 -->\r\n      <g transform=\"translate(7.2 115.238437)scale(0.1 -0.1)\">\r\n       <defs>\r\n        <path d=\"M 2597 2516 \r\nQ 3050 2419 3304 2112 \r\nQ 3559 1806 3559 1356 \r\nQ 3559 666 3084 287 \r\nQ 2609 -91 1734 -91 \r\nQ 1441 -91 1130 -33 \r\nQ 819 25 488 141 \r\nL 488 750 \r\nQ 750 597 1062 519 \r\nQ 1375 441 1716 441 \r\nQ 2309 441 2620 675 \r\nQ 2931 909 2931 1356 \r\nQ 2931 1769 2642 2001 \r\nQ 2353 2234 1838 2234 \r\nL 1294 2234 \r\nL 1294 2753 \r\nL 1863 2753 \r\nQ 2328 2753 2575 2939 \r\nQ 2822 3125 2822 3475 \r\nQ 2822 3834 2567 4026 \r\nQ 2313 4219 1838 4219 \r\nQ 1578 4219 1281 4162 \r\nQ 984 4106 628 3988 \r\nL 628 4550 \r\nQ 988 4650 1302 4700 \r\nQ 1616 4750 1894 4750 \r\nQ 2613 4750 3031 4423 \r\nQ 3450 4097 3450 3541 \r\nQ 3450 3153 3228 2886 \r\nQ 3006 2619 2597 2516 \r\nz\r\n\" id=\"DejaVuSans-33\" transform=\"scale(0.015625)\"/>\r\n       </defs>\r\n       <use xlink:href=\"#DejaVuSans-33\"/>\r\n       <use x=\"63.623047\" xlink:href=\"#DejaVuSans-30\"/>\r\n       <use x=\"127.246094\" xlink:href=\"#DejaVuSans-30\"/>\r\n      </g>\r\n     </g>\r\n    </g>\r\n    <g id=\"ytick_5\">\r\n     <g id=\"line2d_10\">\r\n      <g>\r\n       <use style=\"stroke:#000000;stroke-width:0.8;\" x=\"33.2875\" xlink:href=\"#m4ff9232b73\" y=\"144.919219\"/>\r\n      </g>\r\n     </g>\r\n     <g id=\"text_10\">\r\n      <!-- 400 -->\r\n      <g transform=\"translate(7.2 148.718437)scale(0.1 -0.1)\">\r\n       <use xlink:href=\"#DejaVuSans-34\"/>\r\n       <use x=\"63.623047\" xlink:href=\"#DejaVuSans-30\"/>\r\n       <use x=\"127.246094\" xlink:href=\"#DejaVuSans-30\"/>\r\n      </g>\r\n     </g>\r\n    </g>\r\n   </g>\r\n   <g id=\"patch_3\">\r\n    <path d=\"M 33.2875 156.135019 \r\nL 33.2875 10.831819 \r\n\" style=\"fill:none;stroke:#000000;stroke-linecap:square;stroke-linejoin:miter;stroke-width:0.8;\"/>\r\n   </g>\r\n   <g id=\"patch_4\">\r\n    <path d=\"M 368.0875 156.135019 \r\nL 368.0875 10.831819 \r\n\" style=\"fill:none;stroke:#000000;stroke-linecap:square;stroke-linejoin:miter;stroke-width:0.8;\"/>\r\n   </g>\r\n   <g id=\"patch_5\">\r\n    <path d=\"M 33.2875 156.135019 \r\nL 368.0875 156.135019 \r\n\" style=\"fill:none;stroke:#000000;stroke-linecap:square;stroke-linejoin:miter;stroke-width:0.8;\"/>\r\n   </g>\r\n   <g id=\"patch_6\">\r\n    <path d=\"M 33.2875 10.831819 \r\nL 368.0875 10.831819 \r\n\" style=\"fill:none;stroke:#000000;stroke-linecap:square;stroke-linejoin:miter;stroke-width:0.8;\"/>\r\n   </g>\r\n  </g>\r\n </g>\r\n <defs>\r\n  <clipPath id=\"p5699eff8d5\">\r\n   <rect height=\"145.3032\" width=\"334.8\" x=\"33.2875\" y=\"10.831819\"/>\r\n  </clipPath>\r\n </defs>\r\n</svg>\r\n",
      "image/png": "[encoded data removed]"
     },
     "metadata": {
      "needs_background": "light"
     }
    }
   ],
   "source": [
    "from skimage.io import imread\n",
    "import matplotlib.pyplot as plt\n",
    "\n",
    "currentdir = os.getcwd()\n",
    "parentdir = os.path.dirname(currentdir) # Jump to Entregables\n",
    "parentdir = os.path.dirname(parentdir) # Jump to TareasTheBridge (parent to python.jpg)\n",
    "parentdir = os.path.dirname(parentdir) # Jump to TareasTheBridge (parent to python.jpg)\n",
    "\n",
    "imagen = imread(\"C:\\\\Users\\\\miguel\\\\Desktop\\\\TheBridgeDataScientist\\\\TareasTheBridge\\\\week4_EDA_np_pd_json_apis_regex\\\\day1_numpy_pandas_I\\\\theory\\\\numpy\\\\img\\\\python.jpg\")\n",
    "\n",
    "plt.imshow(imagen)"
   ]
  },
  {
   "cell_type": "markdown",
   "metadata": {},
   "source": [
    "## Ejercicio 17\n",
    "Crea un array de 4x1. A continuación convierte el array a un 2x2"
   ]
  },
  {
   "cell_type": "code",
   "execution_count": 47,
   "metadata": {},
   "outputs": [
    {
     "output_type": "execute_result",
     "data": {
      "text/plain": [
       "array([[0, 1],\n",
       "       [2, 3]])"
      ]
     },
     "metadata": {},
     "execution_count": 47
    }
   ],
   "source": [
    "array4 = np.arange(4)\n",
    "array422 = np.reshape(array4, (2,2))\n",
    "array422"
   ]
  },
  {
   "cell_type": "markdown",
   "metadata": {},
   "source": [
    "## Ejercicio 18\n",
    "Crea una secuencia aleatoria. La secuencia se tiene que componer de 4 matrices de 5x3. Serían 3 dimensiones diferentes."
   ]
  },
  {
   "cell_type": "code",
   "execution_count": 49,
   "metadata": {},
   "outputs": [
    {
     "output_type": "execute_result",
     "data": {
      "text/plain": [
       "array([[[4, 3, 1, 7],\n",
       "        [3, 5, 4, 4],\n",
       "        [4, 8, 4, 8]],\n",
       "\n",
       "       [[0, 2, 2, 2],\n",
       "        [7, 5, 7, 6],\n",
       "        [7, 9, 7, 2]],\n",
       "\n",
       "       [[1, 1, 7, 0],\n",
       "        [7, 4, 5, 9],\n",
       "        [5, 1, 4, 3]],\n",
       "\n",
       "       [[8, 3, 6, 7],\n",
       "        [7, 6, 5, 4],\n",
       "        [6, 6, 9, 1]],\n",
       "\n",
       "       [[9, 5, 6, 0],\n",
       "        [2, 9, 8, 7],\n",
       "        [3, 3, 8, 0]]])"
      ]
     },
     "metadata": {},
     "execution_count": 49
    }
   ],
   "source": [
    "matrix534 = np.random.randint(10, size = (5,3,4))\n",
    "matrix534"
   ]
  },
  {
   "cell_type": "markdown",
   "metadata": {},
   "source": [
    "## Ejercicio 19\n",
    "Crea una matriz de 10x1, toda ella compuesta por `False`. Después transformalo en un 2x5"
   ]
  },
  {
   "cell_type": "code",
   "execution_count": 48,
   "metadata": {},
   "outputs": [
    {
     "output_type": "execute_result",
     "data": {
      "text/plain": [
       "array([[False, False, False, False, False],\n",
       "       [False, False, False, False, False]])"
      ]
     },
     "metadata": {},
     "execution_count": 48
    }
   ],
   "source": [
    "false_array = np.repeat(False, 10)\n",
    "false_array_out = np.reshape(false_array, (2,5))\n",
    "false_array_out"
   ]
  },
  {
   "cell_type": "markdown",
   "metadata": {},
   "source": [
    "## Ejercicio 20\n",
    "Dado el siguiente array\n",
    "\n",
    "```Python\n",
    "x =np.random.randint(10, 20, size = (5,2,6))\n",
    "```\n",
    "\n",
    "1. ¿Cuántos elementos tiene el array?\n",
    "2. ¿Cuántas dimensiones?\n",
    "3. ¿Cuántos elementos tiene cada dimensión?"
   ]
  },
  {
   "source": [
    "1.- el array tiene 60 elementos\n",
    "2.- tiene 3 dimensiones\n",
    "3.- hay 6 matrices de 2 vectores de 5 escalares cada uno"
   ],
   "cell_type": "markdown",
   "metadata": {}
  }
 ],
 "metadata": {
  "kernelspec": {
   "name": "python374jvsc74a57bd05e19f5f9047d686051a4ffff3c57b5ca676552393775b324a4200bbd1a7317fa",
   "display_name": "Python 3.7.4 64-bit"
  },
  "language_info": {
   "codemirror_mode": {
    "name": "ipython",
    "version": 3
   },
   "file_extension": ".py",
   "mimetype": "text/x-python",
   "name": "python",
   "nbconvert_exporter": "python",
   "pygments_lexer": "ipython3",
   "version": "3.7.4"
  },
  "metadata": {
   "interpreter": {
    "hash": "5e19f5f9047d686051a4ffff3c57b5ca676552393775b324a4200bbd1a7317fa"
   }
  }
 },
 "nbformat": 4,
 "nbformat_minor": 4
}