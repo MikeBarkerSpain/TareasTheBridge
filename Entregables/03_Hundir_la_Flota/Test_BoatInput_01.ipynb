{
 "metadata": {
  "language_info": {
   "codemirror_mode": {
    "name": "ipython",
    "version": 3
   },
   "file_extension": ".py",
   "mimetype": "text/x-python",
   "name": "python",
   "nbconvert_exporter": "python",
   "pygments_lexer": "ipython3",
   "version": "3.7.4"
  },
  "orig_nbformat": 2,
  "kernelspec": {
   "name": "python374jvsc74a57bd05e19f5f9047d686051a4ffff3c57b5ca676552393775b324a4200bbd1a7317fa",
   "display_name": "Python 3.7.4 64-bit"
  },
  "metadata": {
   "interpreter": {
    "hash": "5e19f5f9047d686051a4ffff3c57b5ca676552393775b324a4200bbd1a7317fa"
   }
  }
 },
 "nbformat": 4,
 "nbformat_minor": 2,
 "cells": [
  {
   "source": [
    "Inserte la posición del barco 1 (2x1). El usuario ha de escribir si se quiere insertar en la 4a fila, en horizontal y ocupando las últimas dos columnas: 4h9:10.\n",
    "\n",
    "Inserte la posición del barco 2 (2x1). El usuario ha de escribir si se quiere insertar en la 8a fila, en horizontal y ocupando las dos primeras columnas: 8h1:2.\n",
    "\n",
    "Inserte la posición del barco 3 (5x1). Si se quiere colocar en vertical empezando por la fila 1 a la 5 y columna 8: 8v1:5."
   ],
   "cell_type": "markdown",
   "metadata": {}
  },
  {
   "cell_type": "code",
   "execution_count": 46,
   "metadata": {},
   "outputs": [
    {
     "output_type": "stream",
     "name": "stdout",
     "text": [
      "h 2 3 8\nh 2 3 8\n['h', 2, 3, 8]\n"
     ]
    }
   ],
   "source": [
    "def insert_boat_check(pos_str, boat_len):\n",
    "\n",
    "    # lo primero es comprobar si el formato de insercion es el correcto\n",
    "    # los dos puntos son un elemento constante en la inserción de posición\n",
    "    if pos_str.count(':')==1:\n",
    "\n",
    "        # comprobación de elementos de una inserción vertical \n",
    "        if pos_str.count(\"v\")==1:   # Debe haber una única letra de orientación\n",
    "            if pos_str.count (\"h\") == 0:    # no puede ser horizontal\n",
    "                ori = \"v\"\n",
    "            else:\n",
    "                print(\"Position format error for this boat, type it again.\")\n",
    "                return False\n",
    "\n",
    "        # comprobación de elementos de una inserción horizontal \n",
    "        elif pos_str.count(\"h\")==1: # Debe haber una única letra de orientación\n",
    "            if pos_str.count (\"v\") == 0:    # no puede ser vertical\n",
    "                ori = \"h\"\n",
    "            else:\n",
    "                print(\"Position format error for this boat, type it again.\")\n",
    "                return False\n",
    "        else:\n",
    "            print(\"Position format error for this boat, type it again.\")\n",
    "            return False\n",
    "    else:\n",
    "        print(\"Position format error for this boat, type it again.\")\n",
    "        return False\n",
    "        \n",
    "    # A continuación se descompone el string para obtener los números\n",
    "    try:\n",
    "        list1 = pos_str.split(ori)\n",
    "        list2 = list1[-1].split(\":\")\n",
    "        num1 = int(list1[0])\n",
    "        num2 = int(list2[0])\n",
    "        num3 = int(list2[1])\n",
    "\n",
    "        # Se comprueban la coherencia de las coordenadas\n",
    "        coord_OK = False\n",
    "        if (num1 >= 1 and num1 <= 10) and  (num2 >= 1 and num2 <= 10) and (num3 >= 1 and num3 <= 10):\n",
    "            coord_OK = True\n",
    "\n",
    "        # Se comprueba que el largo del barco y las coordenadas coinciden\n",
    "        len_coord_OK = False\n",
    "        if num3-num2+1 == boat_len:\n",
    "            len_coord_OK = True\n",
    "        # Si no hay error de formato y la función prosigue, se devuelve una lista con la orientación y las coordenadas del barco\n",
    "        if coord_OK:\n",
    "            if len_coord_OK:\n",
    "                print (ori, num1, num2, num3)\n",
    "                return [ori, num1, num2, num3]\n",
    "            else:\n",
    "                print (\"Coordenates do not match with the boat lenght, type it again.\") \n",
    "                return False   \n",
    "        else:\n",
    "            print(\"A coordenate is out of range, type it again.\")\n",
    "            return False\n",
    "    except ValueError:\n",
    "        print(\"Position format error for this boat, type it again.\")\n",
    "        return False\n",
    "\n",
    "              "
   ]
  },
  {
   "cell_type": "code",
   "execution_count": null,
   "metadata": {},
   "outputs": [],
   "source": []
  }
 ]
}